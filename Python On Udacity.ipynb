{
 "cells": [
  {
   "cell_type": "markdown",
   "metadata": {
    "ExecuteTime": {
     "end_time": "2020-11-20T19:41:14.202613Z",
     "start_time": "2020-11-20T19:41:14.198801Z"
    }
   },
   "source": [
    "## Introduction\n",
    "#### Data Types & Operators"
   ]
  },
  {
   "cell_type": "code",
   "execution_count": 2,
   "metadata": {
    "ExecuteTime": {
     "end_time": "2020-11-20T19:48:14.965946Z",
     "start_time": "2020-11-20T19:48:14.962341Z"
    }
   },
   "outputs": [],
   "source": [
    "# Data Types: Integers, floats, Booleans, Strings\n",
    "# Operators: Arithmetic, Assignment, Comparison, Logical\n",
    "# Built-in functions, Type conversions\n",
    "# Whitespaces & Style Guidances"
   ]
  },
  {
   "cell_type": "code",
   "execution_count": 3,
   "metadata": {
    "ExecuteTime": {
     "end_time": "2020-11-20T19:54:54.301611Z",
     "start_time": "2020-11-20T19:54:54.294290Z"
    }
   },
   "outputs": [
    {
     "name": "stdout",
     "output_type": "stream",
     "text": [
      "11\n"
     ]
    }
   ],
   "source": [
    "# Addition +\n",
    "print(4+7)"
   ]
  },
  {
   "cell_type": "code",
   "execution_count": 4,
   "metadata": {
    "ExecuteTime": {
     "end_time": "2020-11-20T19:55:14.379354Z",
     "start_time": "2020-11-20T19:55:14.374401Z"
    }
   },
   "outputs": [
    {
     "name": "stdout",
     "output_type": "stream",
     "text": [
      "-3\n"
     ]
    }
   ],
   "source": [
    "# Subtraction\n",
    "print(4-7)"
   ]
  },
  {
   "cell_type": "code",
   "execution_count": 5,
   "metadata": {
    "ExecuteTime": {
     "end_time": "2020-11-20T19:55:40.644891Z",
     "start_time": "2020-11-20T19:55:40.639562Z"
    }
   },
   "outputs": [
    {
     "name": "stdout",
     "output_type": "stream",
     "text": [
      "28\n"
     ]
    }
   ],
   "source": [
    "# Multiplication *\n",
    "print(4*7)"
   ]
  },
  {
   "cell_type": "code",
   "execution_count": 6,
   "metadata": {
    "ExecuteTime": {
     "end_time": "2020-11-20T19:56:01.319255Z",
     "start_time": "2020-11-20T19:56:01.313301Z"
    }
   },
   "outputs": [
    {
     "name": "stdout",
     "output_type": "stream",
     "text": [
      "0.5714285714285714\n"
     ]
    }
   ],
   "source": [
    "# Division\n",
    "print(4/7)"
   ]
  },
  {
   "cell_type": "code",
   "execution_count": 7,
   "metadata": {
    "ExecuteTime": {
     "end_time": "2020-11-20T19:56:37.303181Z",
     "start_time": "2020-11-20T19:56:37.297982Z"
    }
   },
   "outputs": [
    {
     "name": "stdout",
     "output_type": "stream",
     "text": [
      "490\n"
     ]
    }
   ],
   "source": [
    "# Mathematical order of precedence\n",
    "# BODMAS or PEMDAS \n",
    "print(1+3+6*9*9)"
   ]
  },
  {
   "cell_type": "code",
   "execution_count": 8,
   "metadata": {
    "ExecuteTime": {
     "end_time": "2020-11-20T19:59:54.181038Z",
     "start_time": "2020-11-20T19:59:54.175420Z"
    }
   },
   "outputs": [
    {
     "name": "stdout",
     "output_type": "stream",
     "text": [
      "810\n"
     ]
    }
   ],
   "source": [
    "# Change the order of predence using parentheses\n",
    "print((1+3+6)*9*9)"
   ]
  },
  {
   "cell_type": "code",
   "execution_count": 9,
   "metadata": {
    "ExecuteTime": {
     "end_time": "2020-11-20T20:00:37.709492Z",
     "start_time": "2020-11-20T20:00:37.704481Z"
    }
   },
   "outputs": [
    {
     "name": "stdout",
     "output_type": "stream",
     "text": [
      "43046721\n"
     ]
    }
   ],
   "source": [
    "# Exponentiation; Raising to the power\n",
    "print(9**8)"
   ]
  },
  {
   "cell_type": "code",
   "execution_count": 1,
   "metadata": {
    "ExecuteTime": {
     "end_time": "2020-11-21T05:14:50.153273Z",
     "start_time": "2020-11-21T05:14:50.147048Z"
    }
   },
   "outputs": [
    {
     "name": "stdout",
     "output_type": "stream",
     "text": [
      "2\n"
     ]
    }
   ],
   "source": [
    "# Modulo; Outputs the remainder after the division operation\n",
    "print(98%8)"
   ]
  },
  {
   "cell_type": "code",
   "execution_count": 2,
   "metadata": {
    "ExecuteTime": {
     "end_time": "2020-11-21T05:22:20.432180Z",
     "start_time": "2020-11-21T05:22:20.427319Z"
    }
   },
   "outputs": [
    {
     "name": "stdout",
     "output_type": "stream",
     "text": [
      "3\n"
     ]
    }
   ],
   "source": [
    "# Integer division; A division operation that rounds down the output result to an integer\n",
    "print(19 // 6)"
   ]
  },
  {
   "cell_type": "markdown",
   "metadata": {},
   "source": [
    "**Quiz: Average Electricity Bill**\n",
    "\n",
    "*My electricity bills for the last three months have been $23, $32 and $64. What is the average monthly electricity bill over the three month period? Write an expression to calculate the mean, and use print() to view the result.*"
   ]
  },
  {
   "cell_type": "code",
   "execution_count": 3,
   "metadata": {
    "ExecuteTime": {
     "end_time": "2020-11-21T05:31:00.160660Z",
     "start_time": "2020-11-21T05:31:00.154487Z"
    }
   },
   "outputs": [
    {
     "name": "stdout",
     "output_type": "stream",
     "text": [
      "39.666666666666664\n"
     ]
    }
   ],
   "source": [
    "# The mean\n",
    "print((23+32+64)/3)"
   ]
  },
  {
   "cell_type": "code",
   "execution_count": 4,
   "metadata": {
    "ExecuteTime": {
     "end_time": "2020-11-21T05:32:01.924867Z",
     "start_time": "2020-11-21T05:32:01.919190Z"
    }
   },
   "outputs": [
    {
     "name": "stdout",
     "output_type": "stream",
     "text": [
      "39\n"
     ]
    }
   ],
   "source": [
    "# The mean rounded down to an integer\n",
    "print((23+32+64)//3)"
   ]
  },
  {
   "cell_type": "markdown",
   "metadata": {},
   "source": [
    "**Quiz: Calculate**\n",
    "\n",
    "*In this quiz you're going to do some calculations for a tiler. Two parts of a floor need tiling. One part is 9 tiles wide by 7 tiles long, the other is 5 tiles wide by 7 tiles long. Tiles come in packages of 6.*\n",
    "\n",
    "*How many tiles are needed?*\n",
    "\n",
    "*You buy 17 packages of tiles containing 6 tiles each. How many tiles will be left over?*\n"
   ]
  },
  {
   "cell_type": "code",
   "execution_count": 5,
   "metadata": {
    "ExecuteTime": {
     "end_time": "2020-11-21T05:42:51.066544Z",
     "start_time": "2020-11-21T05:42:51.060924Z"
    }
   },
   "outputs": [
    {
     "name": "stdout",
     "output_type": "stream",
     "text": [
      "98\n"
     ]
    }
   ],
   "source": [
    "# Fill this in with an expression that calculates how many tiles are needed.\n",
    "print((9*7) + (5*7))"
   ]
  },
  {
   "cell_type": "code",
   "execution_count": 7,
   "metadata": {
    "ExecuteTime": {
     "end_time": "2020-11-21T05:45:49.193747Z",
     "start_time": "2020-11-21T05:45:49.188636Z"
    }
   },
   "outputs": [
    {
     "name": "stdout",
     "output_type": "stream",
     "text": [
      "4\n"
     ]
    }
   ],
   "source": [
    "# Fill this in with an expression that calculates how many tiles will be left over.\n",
    "print((17*6) - (9*7 + 5*7))"
   ]
  },
  {
   "cell_type": "markdown",
   "metadata": {},
   "source": [
    "**Variables and Assignment Operators**"
   ]
  },
  {
   "cell_type": "code",
   "execution_count": 10,
   "metadata": {
    "ExecuteTime": {
     "end_time": "2020-11-21T06:06:41.159425Z",
     "start_time": "2020-11-21T06:06:41.155437Z"
    }
   },
   "outputs": [],
   "source": [
    "# Variables 1\n",
    "mv_population = 74728\n",
    "\n",
    "# mv_population - variable name\n",
    "# = assignment operator\n",
    "# 74728 is the value of the variable"
   ]
  },
  {
   "cell_type": "markdown",
   "metadata": {},
   "source": [
    "*This 👆🏼 assigns the item on the right to the name on the left, which is actually a little different than mathematical equality, as 74728 does not hold the value of mv_population*\n",
    "\n",
    "*In any case, whatever term is on the left side, is now a name for whatever value is on the right side. Once a value has been assigned to a variable name, you can access the value from the variable name.*"
   ]
  },
  {
   "cell_type": "code",
   "execution_count": 11,
   "metadata": {
    "ExecuteTime": {
     "end_time": "2020-11-21T08:08:26.248539Z",
     "start_time": "2020-11-21T08:08:26.243334Z"
    }
   },
   "outputs": [
    {
     "name": "stdout",
     "output_type": "stream",
     "text": [
      "2\n"
     ]
    }
   ],
   "source": [
    "x = 2 # 2 is assigned to x\n",
    "y = x # x is assigned to y\n",
    "print(y) # y bears the value of x i.e 2"
   ]
  },
  {
   "cell_type": "code",
   "execution_count": 12,
   "metadata": {
    "ExecuteTime": {
     "end_time": "2020-11-21T08:10:51.414491Z",
     "start_time": "2020-11-21T08:10:51.217312Z"
    }
   },
   "outputs": [
    {
     "ename": "NameError",
     "evalue": "name 'z' is not defined",
     "output_type": "error",
     "traceback": [
      "\u001b[0;31m---------------------------------------------------------------------------\u001b[0m",
      "\u001b[0;31mNameError\u001b[0m                                 Traceback (most recent call last)",
      "\u001b[0;32m<ipython-input-12-0259cd2df82e>\u001b[0m in \u001b[0;36m<module>\u001b[0;34m\u001b[0m\n\u001b[1;32m      1\u001b[0m \u001b[0;31m# Trying to access a variable that isn't defined, you get this👇🏽 error\u001b[0m\u001b[0;34m\u001b[0m\u001b[0;34m\u001b[0m\u001b[0;34m\u001b[0m\u001b[0m\n\u001b[0;32m----> 2\u001b[0;31m \u001b[0mprint\u001b[0m\u001b[0;34m(\u001b[0m\u001b[0mz\u001b[0m\u001b[0;34m)\u001b[0m\u001b[0;34m\u001b[0m\u001b[0;34m\u001b[0m\u001b[0m\n\u001b[0m",
      "\u001b[0;31mNameError\u001b[0m: name 'z' is not defined"
     ]
    }
   ],
   "source": [
    "# Trying to access a variable that isn't defined, you get this👇🏽 error\n",
    "print(z)"
   ]
  },
  {
   "cell_type": "markdown",
   "metadata": {},
   "source": [
    "**Variables II**"
   ]
  },
  {
   "cell_type": "code",
   "execution_count": 13,
   "metadata": {
    "ExecuteTime": {
     "end_time": "2020-11-21T09:10:07.105350Z",
     "start_time": "2020-11-21T09:10:07.101289Z"
    }
   },
   "outputs": [],
   "source": [
    "# Assigning multiple variables at ones\n",
    "x,y,z = 2,3,5"
   ]
  },
  {
   "cell_type": "markdown",
   "metadata": {},
   "source": [
    "For example, if you are computing the population density of a mountain view by dividing the population by the land area, here is one way to compute the correct answer:"
   ]
  },
  {
   "cell_type": "code",
   "execution_count": 14,
   "metadata": {
    "ExecuteTime": {
     "end_time": "2020-11-21T09:19:35.566060Z",
     "start_time": "2020-11-21T09:19:35.559213Z"
    }
   },
   "outputs": [
    {
     "name": "stdout",
     "output_type": "stream",
     "text": [
      "6250.773734838979\n"
     ]
    }
   ],
   "source": [
    "x = 74728\n",
    "y = 11.955\n",
    "z = x/y\n",
    "print(z)"
   ]
  },
  {
   "cell_type": "code",
   "execution_count": 15,
   "metadata": {
    "ExecuteTime": {
     "end_time": "2020-11-21T09:21:25.441907Z",
     "start_time": "2020-11-21T09:21:25.436162Z"
    }
   },
   "outputs": [
    {
     "name": "stdout",
     "output_type": "stream",
     "text": [
      "6250.773734838979\n"
     ]
    }
   ],
   "source": [
    "# But with descriptive names, it is clearer\n",
    "mv_population = 74728\n",
    "mv_area = 11.955\n",
    "mv_density = mv_population/mv_area\n",
    "print(mv_density)"
   ]
  },
  {
   "cell_type": "markdown",
   "metadata": {},
   "source": [
    "Besides writing variable names that are descriptive, there are a few things to watch out for when naming variables in Python.\n",
    "\n",
    "1. Only use ordinary letters, numbers and underscores in your variable names. They can’t have spaces, and need to start with a letter or underscore.\n",
    "\n",
    "\n",
    "2. You can’t use reserved words or built-in identifiers that have important purposes in Python, which you’ll learn about throughout this course. A list of python reserved words is described here. Creating names that are descriptive of the values often will help you avoid using any of these words. A quick table of these words is also available below.\n",
    "\n",
    "\n",
    "3. The pythonic way to name variables is to use all lowercase letters and underscores to separate words."
   ]
  },
  {
   "cell_type": "markdown",
   "metadata": {},
   "source": [
    "**Variables III**"
   ]
  },
  {
   "cell_type": "code",
   "execution_count": 16,
   "metadata": {
    "ExecuteTime": {
     "end_time": "2020-11-21T15:27:11.363333Z",
     "start_time": "2020-11-21T15:27:11.359821Z"
    }
   },
   "outputs": [],
   "source": [
    "# What if we need to make changes to mv_population as it changes?\n",
    "# mv_population = mv_population + 4000 - 600 is not sustainable or efficient\n",
    "# So what is efficient? This👇🏽"
   ]
  },
  {
   "cell_type": "code",
   "execution_count": 18,
   "metadata": {
    "ExecuteTime": {
     "end_time": "2020-11-21T15:30:10.065581Z",
     "start_time": "2020-11-21T15:30:10.059719Z"
    }
   },
   "outputs": [
    {
     "name": "stdout",
     "output_type": "stream",
     "text": [
      "81528\n"
     ]
    }
   ],
   "source": [
    "# The plus equals operator +=\n",
    "# We can use this operator to tell python\n",
    "#we are incrementing the variable on the left\n",
    "#by the value on the right.\n",
    "mv_population += 4000 - 600\n",
    "print(mv_population)"
   ]
  },
  {
   "cell_type": "code",
   "execution_count": 19,
   "metadata": {
    "ExecuteTime": {
     "end_time": "2020-11-21T15:32:39.654359Z",
     "start_time": "2020-11-21T15:32:39.649853Z"
    }
   },
   "outputs": [],
   "source": [
    "# Operators include: -=, *=\n",
    "# It makes code more conscise"
   ]
  },
  {
   "cell_type": "markdown",
   "metadata": {},
   "source": [
    "Check out this link for more operators and practices: https://www.programiz.com/python-programming/operators"
   ]
  },
  {
   "cell_type": "markdown",
   "metadata": {},
   "source": [
    "**Quiz: Assign and Modify Variables**\n",
    "\n",
    "*The comments in this quiz (the lines that begin with #) have instructions for creating and modifying variables. After each comment write a line of code that implements the instruction.*"
   ]
  },
  {
   "cell_type": "code",
   "execution_count": 3,
   "metadata": {
    "ExecuteTime": {
     "end_time": "2020-11-21T16:33:55.562512Z",
     "start_time": "2020-11-21T16:33:55.557228Z"
    }
   },
   "outputs": [],
   "source": [
    "# The current volume of a water reservoir (in cubic metres)\n",
    "reservoir_volume = 4.445e8\n",
    "# The amount of rainfall from a storm (in cubic metres)\n",
    "rainfall = 5e6\n",
    "\n",
    "# decrease the rainfall variable by 10% to account for runoff\n",
    "rainfall *= .9 \n",
    "# add the rainfall variable to the reservoir_volume variable\n",
    "reservoir_volume += rainfall\n",
    "# increase reservoir_volume by 5% to account for stormwater that flows\n",
    "# into the reservoir in the days following the storm\n",
    "reservoir_volume *= 1.05 \n",
    "# decrease reservoir_volume by 5% to account for evaporation\n",
    "reservoir_volume *= .95 \n",
    "# subtract 2.5e5 cubic metres from reservoir_volume to account for water\n",
    "# that's piped to arid regions.\n",
    "reservoir_volume -= 2.5e5\n",
    "# print the new value of the reservoir_volume variable"
   ]
  },
  {
   "cell_type": "code",
   "execution_count": 4,
   "metadata": {
    "ExecuteTime": {
     "end_time": "2020-11-21T16:33:57.663965Z",
     "start_time": "2020-11-21T16:33:57.656207Z"
    }
   },
   "outputs": [
    {
     "name": "stdout",
     "output_type": "stream",
     "text": [
      "447627500.0\n"
     ]
    }
   ],
   "source": [
    "print(reservoir_volume)"
   ]
  },
  {
   "cell_type": "markdown",
   "metadata": {},
   "source": [
    "**Quiz: Changing Variable Values**\n",
    "\n",
    "*How does changing the value of a variable affect another variable that was defined in terms of it? Let's look at an example.*"
   ]
  },
  {
   "cell_type": "code",
   "execution_count": 8,
   "metadata": {
    "ExecuteTime": {
     "end_time": "2020-11-21T16:39:05.713774Z",
     "start_time": "2020-11-21T16:39:05.708533Z"
    }
   },
   "outputs": [],
   "source": [
    "# Each line of code executes in order, one at a time, with control going from one line to the next.\n",
    "carrots = 24\n",
    "rabbits = 8\n",
    "crs_per_rab = carrots/rabbits"
   ]
  },
  {
   "cell_type": "code",
   "execution_count": 9,
   "metadata": {
    "ExecuteTime": {
     "end_time": "2020-11-21T16:39:06.443523Z",
     "start_time": "2020-11-21T16:39:06.433132Z"
    }
   },
   "outputs": [],
   "source": [
    "# Now we add a new 4th line to this code, that assigns a new value to the rabbits variable:\n",
    "rabbits = 12"
   ]
  },
  {
   "cell_type": "code",
   "execution_count": 10,
   "metadata": {
    "ExecuteTime": {
     "end_time": "2020-11-21T16:39:07.005925Z",
     "start_time": "2020-11-21T16:39:07.000624Z"
    }
   },
   "outputs": [
    {
     "name": "stdout",
     "output_type": "stream",
     "text": [
      "3.0\n"
     ]
    }
   ],
   "source": [
    "# If we now add this new 5th line of code to the above, what will the output be?\n",
    "print(crs_per_rab)\n",
    "# Apparently nothing changed in the variable crs_per_rab"
   ]
  },
  {
   "cell_type": "markdown",
   "metadata": {},
   "source": [
    "For the first multiple choice quiz, the correct answer is that the value of crs_per_rab has not changed. That is, it is still 3.0.\n",
    "\n",
    "This is because when a variable is assigned, it is assigned to the value of the expression on the right-hand-side, not to the expression itself. In the line:"
   ]
  },
  {
   "cell_type": "markdown",
   "metadata": {},
   "source": [
    "Here is a list of U.S. states in order of the date they entered the Union (https://en.wikipedia.org/wiki/List_of_U.S._states_by_date_of_admission_to_the_Union). Say you wanted to create a variable for Delaware and assign it a value to signify that it joined the Union first. Which of the following are valid variable names and assignments in Python?"
   ]
  },
  {
   "cell_type": "code",
   "execution_count": null,
   "metadata": {},
   "outputs": [],
   "source": [
    "#1 del = 1\n",
    "#2 delaware = 1\n",
    "#3 1 de = 1\n",
    "#4 de = 1\n",
    "\n",
    "# Answer is 2 & 4"
   ]
  }
 ],
 "metadata": {
  "kernelspec": {
   "display_name": "Python 3",
   "language": "python",
   "name": "python3"
  },
  "language_info": {
   "codemirror_mode": {
    "name": "ipython",
    "version": 3
   },
   "file_extension": ".py",
   "mimetype": "text/x-python",
   "name": "python",
   "nbconvert_exporter": "python",
   "pygments_lexer": "ipython3",
   "version": "3.8.6"
  }
 },
 "nbformat": 4,
 "nbformat_minor": 4
}
