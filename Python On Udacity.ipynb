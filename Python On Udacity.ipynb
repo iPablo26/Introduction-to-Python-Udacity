{
 "cells": [
  {
   "cell_type": "markdown",
   "metadata": {
    "ExecuteTime": {
     "end_time": "2020-11-20T19:41:14.202613Z",
     "start_time": "2020-11-20T19:41:14.198801Z"
    }
   },
   "source": [
    "## Introduction to Python\n",
    "#### Data Types & Operators"
   ]
  },
  {
   "cell_type": "code",
   "execution_count": 2,
   "metadata": {
    "ExecuteTime": {
     "end_time": "2020-11-20T19:48:14.965946Z",
     "start_time": "2020-11-20T19:48:14.962341Z"
    }
   },
   "outputs": [],
   "source": [
    "# Data Types: Integers, floats, Booleans, Strings\n",
    "# Operators: Arithmetic, Assignment, Comparison, Logical\n",
    "# Built-in functions, Type conversions\n",
    "# Whitespaces & Style Guidances"
   ]
  },
  {
   "cell_type": "code",
   "execution_count": 3,
   "metadata": {
    "ExecuteTime": {
     "end_time": "2020-11-20T19:54:54.301611Z",
     "start_time": "2020-11-20T19:54:54.294290Z"
    }
   },
   "outputs": [
    {
     "name": "stdout",
     "output_type": "stream",
     "text": [
      "11\n"
     ]
    }
   ],
   "source": [
    "# Addition +\n",
    "print(4+7)"
   ]
  },
  {
   "cell_type": "code",
   "execution_count": 4,
   "metadata": {
    "ExecuteTime": {
     "end_time": "2020-11-20T19:55:14.379354Z",
     "start_time": "2020-11-20T19:55:14.374401Z"
    }
   },
   "outputs": [
    {
     "name": "stdout",
     "output_type": "stream",
     "text": [
      "-3\n"
     ]
    }
   ],
   "source": [
    "# Subtraction\n",
    "print(4-7)"
   ]
  },
  {
   "cell_type": "code",
   "execution_count": 5,
   "metadata": {
    "ExecuteTime": {
     "end_time": "2020-11-20T19:55:40.644891Z",
     "start_time": "2020-11-20T19:55:40.639562Z"
    }
   },
   "outputs": [
    {
     "name": "stdout",
     "output_type": "stream",
     "text": [
      "28\n"
     ]
    }
   ],
   "source": [
    "# Multiplication *\n",
    "print(4*7)"
   ]
  },
  {
   "cell_type": "code",
   "execution_count": 6,
   "metadata": {
    "ExecuteTime": {
     "end_time": "2020-11-20T19:56:01.319255Z",
     "start_time": "2020-11-20T19:56:01.313301Z"
    }
   },
   "outputs": [
    {
     "name": "stdout",
     "output_type": "stream",
     "text": [
      "0.5714285714285714\n"
     ]
    }
   ],
   "source": [
    "# Division\n",
    "print(4/7)"
   ]
  },
  {
   "cell_type": "code",
   "execution_count": 7,
   "metadata": {
    "ExecuteTime": {
     "end_time": "2020-11-20T19:56:37.303181Z",
     "start_time": "2020-11-20T19:56:37.297982Z"
    }
   },
   "outputs": [
    {
     "name": "stdout",
     "output_type": "stream",
     "text": [
      "490\n"
     ]
    }
   ],
   "source": [
    "# Mathematical order of precedence\n",
    "# BODMAS or PEMDAS \n",
    "print(1+3+6*9*9)"
   ]
  },
  {
   "cell_type": "code",
   "execution_count": 8,
   "metadata": {
    "ExecuteTime": {
     "end_time": "2020-11-20T19:59:54.181038Z",
     "start_time": "2020-11-20T19:59:54.175420Z"
    }
   },
   "outputs": [
    {
     "name": "stdout",
     "output_type": "stream",
     "text": [
      "810\n"
     ]
    }
   ],
   "source": [
    "# Change the order of predence using parentheses\n",
    "print((1+3+6)*9*9)"
   ]
  },
  {
   "cell_type": "code",
   "execution_count": 9,
   "metadata": {
    "ExecuteTime": {
     "end_time": "2020-11-20T20:00:37.709492Z",
     "start_time": "2020-11-20T20:00:37.704481Z"
    }
   },
   "outputs": [
    {
     "name": "stdout",
     "output_type": "stream",
     "text": [
      "43046721\n"
     ]
    }
   ],
   "source": [
    "# Exponentiation; Raising to the power\n",
    "print(9**8)"
   ]
  },
  {
   "cell_type": "code",
   "execution_count": 1,
   "metadata": {
    "ExecuteTime": {
     "end_time": "2020-11-21T05:14:50.153273Z",
     "start_time": "2020-11-21T05:14:50.147048Z"
    }
   },
   "outputs": [
    {
     "name": "stdout",
     "output_type": "stream",
     "text": [
      "2\n"
     ]
    }
   ],
   "source": [
    "# Modulo; Outputs the remainder after the division operation\n",
    "print(98%8)"
   ]
  },
  {
   "cell_type": "code",
   "execution_count": 2,
   "metadata": {
    "ExecuteTime": {
     "end_time": "2020-11-21T05:22:20.432180Z",
     "start_time": "2020-11-21T05:22:20.427319Z"
    }
   },
   "outputs": [
    {
     "name": "stdout",
     "output_type": "stream",
     "text": [
      "3\n"
     ]
    }
   ],
   "source": [
    "# Integer division; A division operation that rounds down the output result to an integer\n",
    "print(19 // 6)"
   ]
  },
  {
   "cell_type": "markdown",
   "metadata": {},
   "source": [
    "**Quiz: Average Electricity Bill**\n",
    "\n",
    "*My electricity bills for the last three months have been $23, $32 and $64. What is the average monthly electricity bill over the three month period? Write an expression to calculate the mean, and use print() to view the result.*"
   ]
  },
  {
   "cell_type": "code",
   "execution_count": 3,
   "metadata": {
    "ExecuteTime": {
     "end_time": "2020-11-21T05:31:00.160660Z",
     "start_time": "2020-11-21T05:31:00.154487Z"
    }
   },
   "outputs": [
    {
     "name": "stdout",
     "output_type": "stream",
     "text": [
      "39.666666666666664\n"
     ]
    }
   ],
   "source": [
    "# The mean\n",
    "print((23+32+64)/3)"
   ]
  },
  {
   "cell_type": "code",
   "execution_count": 4,
   "metadata": {
    "ExecuteTime": {
     "end_time": "2020-11-21T05:32:01.924867Z",
     "start_time": "2020-11-21T05:32:01.919190Z"
    }
   },
   "outputs": [
    {
     "name": "stdout",
     "output_type": "stream",
     "text": [
      "39\n"
     ]
    }
   ],
   "source": [
    "# The mean rounded down to an integer\n",
    "print((23+32+64)//3)"
   ]
  },
  {
   "cell_type": "markdown",
   "metadata": {},
   "source": [
    "**Quiz: Calculate**\n",
    "\n",
    "*In this quiz you're going to do some calculations for a tiler. Two parts of a floor need tiling. One part is 9 tiles wide by 7 tiles long, the other is 5 tiles wide by 7 tiles long. Tiles come in packages of 6.*\n",
    "\n",
    "*How many tiles are needed?*\n",
    "\n",
    "*You buy 17 packages of tiles containing 6 tiles each. How many tiles will be left over?*\n"
   ]
  },
  {
   "cell_type": "code",
   "execution_count": 5,
   "metadata": {
    "ExecuteTime": {
     "end_time": "2020-11-21T05:42:51.066544Z",
     "start_time": "2020-11-21T05:42:51.060924Z"
    }
   },
   "outputs": [
    {
     "name": "stdout",
     "output_type": "stream",
     "text": [
      "98\n"
     ]
    }
   ],
   "source": [
    "# Fill this in with an expression that calculates how many tiles are needed.\n",
    "print((9*7) + (5*7))"
   ]
  },
  {
   "cell_type": "code",
   "execution_count": 7,
   "metadata": {
    "ExecuteTime": {
     "end_time": "2020-11-21T05:45:49.193747Z",
     "start_time": "2020-11-21T05:45:49.188636Z"
    }
   },
   "outputs": [
    {
     "name": "stdout",
     "output_type": "stream",
     "text": [
      "4\n"
     ]
    }
   ],
   "source": [
    "# Fill this in with an expression that calculates how many tiles will be left over.\n",
    "print((17*6) - (9*7 + 5*7))"
   ]
  },
  {
   "cell_type": "markdown",
   "metadata": {},
   "source": [
    "**Variables and Assignment Operators**"
   ]
  },
  {
   "cell_type": "code",
   "execution_count": 10,
   "metadata": {
    "ExecuteTime": {
     "end_time": "2020-11-21T06:06:41.159425Z",
     "start_time": "2020-11-21T06:06:41.155437Z"
    }
   },
   "outputs": [],
   "source": [
    "# Variables 1\n",
    "mv_population = 74728\n",
    "\n",
    "# mv_population - variable name\n",
    "# = assignment operator\n",
    "# 74728 is the value of the variable"
   ]
  },
  {
   "cell_type": "markdown",
   "metadata": {},
   "source": [
    "*This 👆🏼 assigns the item on the right to the name on the left, which is actually a little different than mathematical equality, as 74728 does not hold the value of mv_population*\n",
    "\n",
    "*In any case, whatever term is on the left side, is now a name for whatever value is on the right side. Once a value has been assigned to a variable name, you can access the value from the variable name.*"
   ]
  },
  {
   "cell_type": "code",
   "execution_count": 11,
   "metadata": {
    "ExecuteTime": {
     "end_time": "2020-11-21T08:08:26.248539Z",
     "start_time": "2020-11-21T08:08:26.243334Z"
    }
   },
   "outputs": [
    {
     "name": "stdout",
     "output_type": "stream",
     "text": [
      "2\n"
     ]
    }
   ],
   "source": [
    "x = 2 # 2 is assigned to x\n",
    "y = x # x is assigned to y\n",
    "print(y) # y bears the value of x i.e 2"
   ]
  },
  {
   "cell_type": "code",
   "execution_count": 12,
   "metadata": {
    "ExecuteTime": {
     "end_time": "2020-11-21T08:10:51.414491Z",
     "start_time": "2020-11-21T08:10:51.217312Z"
    }
   },
   "outputs": [
    {
     "ename": "NameError",
     "evalue": "name 'z' is not defined",
     "output_type": "error",
     "traceback": [
      "\u001b[0;31m---------------------------------------------------------------------------\u001b[0m",
      "\u001b[0;31mNameError\u001b[0m                                 Traceback (most recent call last)",
      "\u001b[0;32m<ipython-input-12-0259cd2df82e>\u001b[0m in \u001b[0;36m<module>\u001b[0;34m\u001b[0m\n\u001b[1;32m      1\u001b[0m \u001b[0;31m# Trying to access a variable that isn't defined, you get this👇🏽 error\u001b[0m\u001b[0;34m\u001b[0m\u001b[0;34m\u001b[0m\u001b[0;34m\u001b[0m\u001b[0m\n\u001b[0;32m----> 2\u001b[0;31m \u001b[0mprint\u001b[0m\u001b[0;34m(\u001b[0m\u001b[0mz\u001b[0m\u001b[0;34m)\u001b[0m\u001b[0;34m\u001b[0m\u001b[0;34m\u001b[0m\u001b[0m\n\u001b[0m",
      "\u001b[0;31mNameError\u001b[0m: name 'z' is not defined"
     ]
    }
   ],
   "source": [
    "# Trying to access a variable that isn't defined, you get this👇🏽 error\n",
    "print(z)"
   ]
  },
  {
   "cell_type": "markdown",
   "metadata": {},
   "source": [
    "**Variables II**"
   ]
  },
  {
   "cell_type": "code",
   "execution_count": 13,
   "metadata": {
    "ExecuteTime": {
     "end_time": "2020-11-21T09:10:07.105350Z",
     "start_time": "2020-11-21T09:10:07.101289Z"
    }
   },
   "outputs": [],
   "source": [
    "# Assigning multiple variables at ones\n",
    "x,y,z = 2,3,5"
   ]
  },
  {
   "cell_type": "markdown",
   "metadata": {},
   "source": [
    "For example, if you are computing the population density of a mountain view by dividing the population by the land area, here is one way to compute the correct answer:"
   ]
  },
  {
   "cell_type": "code",
   "execution_count": 14,
   "metadata": {
    "ExecuteTime": {
     "end_time": "2020-11-21T09:19:35.566060Z",
     "start_time": "2020-11-21T09:19:35.559213Z"
    }
   },
   "outputs": [
    {
     "name": "stdout",
     "output_type": "stream",
     "text": [
      "6250.773734838979\n"
     ]
    }
   ],
   "source": [
    "x = 74728\n",
    "y = 11.955\n",
    "z = x/y\n",
    "print(z)"
   ]
  },
  {
   "cell_type": "code",
   "execution_count": 15,
   "metadata": {
    "ExecuteTime": {
     "end_time": "2020-11-21T09:21:25.441907Z",
     "start_time": "2020-11-21T09:21:25.436162Z"
    }
   },
   "outputs": [
    {
     "name": "stdout",
     "output_type": "stream",
     "text": [
      "6250.773734838979\n"
     ]
    }
   ],
   "source": [
    "# But with descriptive names, it is clearer\n",
    "mv_population = 74728\n",
    "mv_area = 11.955\n",
    "mv_density = mv_population/mv_area\n",
    "print(mv_density)"
   ]
  },
  {
   "cell_type": "markdown",
   "metadata": {},
   "source": [
    "Besides writing variable names that are descriptive, there are a few things to watch out for when naming variables in Python.\n",
    "\n",
    "1. Only use ordinary letters, numbers and underscores in your variable names. They can’t have spaces, and need to start with a letter or underscore.\n",
    "\n",
    "\n",
    "2. You can’t use reserved words or built-in identifiers that have important purposes in Python, which you’ll learn about throughout this course. A list of python reserved words is described here. Creating names that are descriptive of the values often will help you avoid using any of these words. A quick table of these words is also available below.\n",
    "\n",
    "\n",
    "3. The pythonic way to name variables is to use all lowercase letters and underscores to separate words."
   ]
  },
  {
   "cell_type": "markdown",
   "metadata": {},
   "source": [
    "**Variables III**"
   ]
  },
  {
   "cell_type": "code",
   "execution_count": 16,
   "metadata": {
    "ExecuteTime": {
     "end_time": "2020-11-21T15:27:11.363333Z",
     "start_time": "2020-11-21T15:27:11.359821Z"
    }
   },
   "outputs": [],
   "source": [
    "# What if we need to make changes to mv_population as it changes?\n",
    "# mv_population = mv_population + 4000 - 600 is not sustainable or efficient\n",
    "# So what is efficient? This👇🏽"
   ]
  },
  {
   "cell_type": "code",
   "execution_count": 18,
   "metadata": {
    "ExecuteTime": {
     "end_time": "2020-11-21T15:30:10.065581Z",
     "start_time": "2020-11-21T15:30:10.059719Z"
    }
   },
   "outputs": [
    {
     "name": "stdout",
     "output_type": "stream",
     "text": [
      "81528\n"
     ]
    }
   ],
   "source": [
    "# The plus equals operator +=\n",
    "# We can use this operator to tell python\n",
    "#we are incrementing the variable on the left\n",
    "#by the value on the right.\n",
    "mv_population += 4000 - 600\n",
    "print(mv_population)"
   ]
  },
  {
   "cell_type": "code",
   "execution_count": 19,
   "metadata": {
    "ExecuteTime": {
     "end_time": "2020-11-21T15:32:39.654359Z",
     "start_time": "2020-11-21T15:32:39.649853Z"
    }
   },
   "outputs": [],
   "source": [
    "# Operators include: -=, *=\n",
    "# It makes code more conscise"
   ]
  },
  {
   "cell_type": "markdown",
   "metadata": {},
   "source": [
    "Check out this link for more operators and practices: https://www.programiz.com/python-programming/operators"
   ]
  },
  {
   "cell_type": "markdown",
   "metadata": {},
   "source": [
    "**Quiz: Assign and Modify Variables**\n",
    "\n",
    "*The comments in this quiz (the lines that begin with #) have instructions for creating and modifying variables. After each comment write a line of code that implements the instruction.*"
   ]
  },
  {
   "cell_type": "code",
   "execution_count": 3,
   "metadata": {
    "ExecuteTime": {
     "end_time": "2020-11-21T16:33:55.562512Z",
     "start_time": "2020-11-21T16:33:55.557228Z"
    }
   },
   "outputs": [],
   "source": [
    "# The current volume of a water reservoir (in cubic metres)\n",
    "reservoir_volume = 4.445e8\n",
    "# The amount of rainfall from a storm (in cubic metres)\n",
    "rainfall = 5e6\n",
    "\n",
    "# decrease the rainfall variable by 10% to account for runoff\n",
    "rainfall *= .9 \n",
    "# add the rainfall variable to the reservoir_volume variable\n",
    "reservoir_volume += rainfall\n",
    "# increase reservoir_volume by 5% to account for stormwater that flows\n",
    "# into the reservoir in the days following the storm\n",
    "reservoir_volume *= 1.05 \n",
    "# decrease reservoir_volume by 5% to account for evaporation\n",
    "reservoir_volume *= .95 \n",
    "# subtract 2.5e5 cubic metres from reservoir_volume to account for water\n",
    "# that's piped to arid regions.\n",
    "reservoir_volume -= 2.5e5\n",
    "# print the new value of the reservoir_volume variable"
   ]
  },
  {
   "cell_type": "code",
   "execution_count": 4,
   "metadata": {
    "ExecuteTime": {
     "end_time": "2020-11-21T16:33:57.663965Z",
     "start_time": "2020-11-21T16:33:57.656207Z"
    }
   },
   "outputs": [
    {
     "name": "stdout",
     "output_type": "stream",
     "text": [
      "447627500.0\n"
     ]
    }
   ],
   "source": [
    "print(reservoir_volume)"
   ]
  },
  {
   "cell_type": "markdown",
   "metadata": {},
   "source": [
    "**Quiz: Changing Variable Values**\n",
    "\n",
    "*How does changing the value of a variable affect another variable that was defined in terms of it? Let's look at an example.*"
   ]
  },
  {
   "cell_type": "code",
   "execution_count": 8,
   "metadata": {
    "ExecuteTime": {
     "end_time": "2020-11-21T16:39:05.713774Z",
     "start_time": "2020-11-21T16:39:05.708533Z"
    }
   },
   "outputs": [],
   "source": [
    "# Each line of code executes in order, one at a time, with control going from one line to the next.\n",
    "carrots = 24\n",
    "rabbits = 8\n",
    "crs_per_rab = carrots/rabbits"
   ]
  },
  {
   "cell_type": "code",
   "execution_count": 9,
   "metadata": {
    "ExecuteTime": {
     "end_time": "2020-11-21T16:39:06.443523Z",
     "start_time": "2020-11-21T16:39:06.433132Z"
    }
   },
   "outputs": [],
   "source": [
    "# Now we add a new 4th line to this code, that assigns a new value to the rabbits variable:\n",
    "rabbits = 12"
   ]
  },
  {
   "cell_type": "code",
   "execution_count": 10,
   "metadata": {
    "ExecuteTime": {
     "end_time": "2020-11-21T16:39:07.005925Z",
     "start_time": "2020-11-21T16:39:07.000624Z"
    }
   },
   "outputs": [
    {
     "name": "stdout",
     "output_type": "stream",
     "text": [
      "3.0\n"
     ]
    }
   ],
   "source": [
    "# If we now add this new 5th line of code to the above, what will the output be?\n",
    "print(crs_per_rab)\n",
    "# Apparently nothing changed in the variable crs_per_rab"
   ]
  },
  {
   "cell_type": "markdown",
   "metadata": {},
   "source": [
    "For the first multiple choice quiz, the correct answer is that the value of crs_per_rab has not changed. That is, it is still 3.0.\n",
    "\n",
    "This is because when a variable is assigned, it is assigned to the value of the expression on the right-hand-side, not to the expression itself. In the line:"
   ]
  },
  {
   "cell_type": "markdown",
   "metadata": {},
   "source": [
    "Here is a list of U.S. states in order of the date they entered the Union (https://en.wikipedia.org/wiki/List_of_U.S._states_by_date_of_admission_to_the_Union). Say you wanted to create a variable for Delaware and assign it a value to signify that it joined the Union first. Which of the following are valid variable names and assignments in Python?"
   ]
  },
  {
   "cell_type": "code",
   "execution_count": null,
   "metadata": {},
   "outputs": [],
   "source": [
    "#1 del = 1\n",
    "#2 delaware = 1\n",
    "#3 1 de = 1\n",
    "#4 de = 1\n",
    "\n",
    "# Answer is 2 & 4"
   ]
  },
  {
   "cell_type": "markdown",
   "metadata": {},
   "source": [
    "**Integers and Floats**"
   ]
  },
  {
   "cell_type": "code",
   "execution_count": 1,
   "metadata": {
    "ExecuteTime": {
     "end_time": "2020-11-22T16:06:26.949962Z",
     "start_time": "2020-11-22T16:06:26.946133Z"
    }
   },
   "outputs": [],
   "source": [
    "#There are two Python data types that could be used for numeric values:\n",
    "\n",
    "#int - for integer values\n",
    "#float - for decimal or floating point values"
   ]
  },
  {
   "cell_type": "code",
   "execution_count": 2,
   "metadata": {
    "ExecuteTime": {
     "end_time": "2020-11-22T16:07:48.206535Z",
     "start_time": "2020-11-22T16:07:48.201947Z"
    }
   },
   "outputs": [],
   "source": [
    "# You can create a value that follows the data type by using the following syntax:\n",
    "x = int(4.7) # x is now an integer 4\n",
    "y = float(4) # y is now a float 4.0"
   ]
  },
  {
   "cell_type": "code",
   "execution_count": 4,
   "metadata": {
    "ExecuteTime": {
     "end_time": "2020-11-22T16:08:30.081768Z",
     "start_time": "2020-11-22T16:08:30.075119Z"
    }
   },
   "outputs": [
    {
     "data": {
      "text/plain": [
       "int"
      ]
     },
     "execution_count": 4,
     "metadata": {},
     "output_type": "execute_result"
    }
   ],
   "source": [
    "# You can check the type by using the type function:\n",
    "type(x)"
   ]
  },
  {
   "cell_type": "code",
   "execution_count": 5,
   "metadata": {
    "ExecuteTime": {
     "end_time": "2020-11-22T16:08:33.018811Z",
     "start_time": "2020-11-22T16:08:33.011382Z"
    }
   },
   "outputs": [
    {
     "data": {
      "text/plain": [
       "float"
      ]
     },
     "execution_count": 5,
     "metadata": {},
     "output_type": "execute_result"
    }
   ],
   "source": [
    "type(y)"
   ]
  },
  {
   "cell_type": "markdown",
   "metadata": {},
   "source": [
    "Because the float, or approximation, for 0.1 is actually slightly more than 0.1, when we add several of them together we can see the difference between the mathematically correct answer and the one that Python creates."
   ]
  },
  {
   "cell_type": "code",
   "execution_count": 6,
   "metadata": {
    "ExecuteTime": {
     "end_time": "2020-11-22T16:09:27.960857Z",
     "start_time": "2020-11-22T16:09:27.954560Z"
    }
   },
   "outputs": [
    {
     "name": "stdout",
     "output_type": "stream",
     "text": [
      "False\n"
     ]
    }
   ],
   "source": [
    "print(.1 + .1 + .1 == .3)"
   ]
  },
  {
   "cell_type": "markdown",
   "metadata": {},
   "source": [
    "**Whitespace**"
   ]
  },
  {
   "cell_type": "code",
   "execution_count": 7,
   "metadata": {
    "ExecuteTime": {
     "end_time": "2020-11-22T16:25:32.305546Z",
     "start_time": "2020-11-22T16:25:32.301581Z"
    }
   },
   "outputs": [],
   "source": [
    "# Whitepaces might not affect how a single line of code works,\n",
    "#but learning how to write clear and readable code is critical"
   ]
  },
  {
   "cell_type": "markdown",
   "metadata": {},
   "source": [
    "**Best Practices**"
   ]
  },
  {
   "cell_type": "code",
   "execution_count": 8,
   "metadata": {
    "ExecuteTime": {
     "end_time": "2020-11-22T16:26:50.256804Z",
     "start_time": "2020-11-22T16:26:50.251451Z"
    }
   },
   "outputs": [
    {
     "name": "stdout",
     "output_type": "stream",
     "text": [
      "8\n"
     ]
    }
   ],
   "source": [
    "# Ensure you do this👇🏽\n",
    "print(8)"
   ]
  },
  {
   "cell_type": "code",
   "execution_count": 9,
   "metadata": {
    "ExecuteTime": {
     "end_time": "2020-11-22T16:27:21.972129Z",
     "start_time": "2020-11-22T16:27:21.966656Z"
    }
   },
   "outputs": [
    {
     "name": "stdout",
     "output_type": "stream",
     "text": [
      "8\n"
     ]
    }
   ],
   "source": [
    "# Not this👇🏽\n",
    "print (8)"
   ]
  },
  {
   "cell_type": "code",
   "execution_count": 11,
   "metadata": {
    "ExecuteTime": {
     "end_time": "2020-11-22T16:29:50.819633Z",
     "start_time": "2020-11-22T16:29:50.814281Z"
    }
   },
   "outputs": [
    {
     "name": "stdout",
     "output_type": "stream",
     "text": [
      "20\n"
     ]
    }
   ],
   "source": [
    "# If you're mixing mathematical operators with different\n",
    "#priorities, you might like to add a space around the lower\n",
    "#priority, to make the code easier to read\n",
    "print(3*7 - 1)"
   ]
  },
  {
   "cell_type": "code",
   "execution_count": 12,
   "metadata": {
    "ExecuteTime": {
     "end_time": "2020-11-22T16:36:10.590572Z",
     "start_time": "2020-11-22T16:36:10.586800Z"
    }
   },
   "outputs": [],
   "source": [
    "# Don't write extremely long lines of code\n",
    "# It makes the code hard to understand\n",
    "# Common best practice: 79 - 99 characters long"
   ]
  },
  {
   "cell_type": "code",
   "execution_count": null,
   "metadata": {},
   "outputs": [],
   "source": [
    "# If you must write long lines of code\n",
    "# Consider rewriting, simplifying & separating \n",
    "# your code into multiple lines"
   ]
  },
  {
   "cell_type": "markdown",
   "metadata": {},
   "source": [
    "For all the best practices, see the https://www.python.org/dev/peps/pep-0008/"
   ]
  },
  {
   "cell_type": "markdown",
   "metadata": {},
   "source": [
    "**Booleans, Comparison Operators, and Logical Operators**"
   ]
  },
  {
   "cell_type": "code",
   "execution_count": 1,
   "metadata": {
    "ExecuteTime": {
     "end_time": "2020-11-23T04:50:13.716623Z",
     "start_time": "2020-11-23T04:50:13.712687Z"
    }
   },
   "outputs": [],
   "source": [
    "# Bool is a data type that can have a value of True or False\n",
    "# Bool is an abbreviation of Boolean\n",
    "# Boolean algebra is a branch of algebra dealing with variables\n",
    "#whose values are True or False\n",
    "# Boolean logic underpins all digital devices existing in almost\n",
    "#every line of computer code."
   ]
  },
  {
   "cell_type": "code",
   "execution_count": 2,
   "metadata": {
    "ExecuteTime": {
     "end_time": "2020-11-23T04:51:10.556055Z",
     "start_time": "2020-11-23T04:51:10.547242Z"
    }
   },
   "outputs": [],
   "source": [
    "# We can assign boolean values like this:\n",
    "the_sun_is_up = True \n",
    "the_sun_is_blue = False"
   ]
  },
  {
   "cell_type": "code",
   "execution_count": 3,
   "metadata": {
    "ExecuteTime": {
     "end_time": "2020-11-23T04:54:03.795523Z",
     "start_time": "2020-11-23T04:54:03.786669Z"
    }
   },
   "outputs": [
    {
     "name": "stdout",
     "output_type": "stream",
     "text": [
      "False\n"
     ]
    }
   ],
   "source": [
    "# We can use comparison operators like less than <\n",
    "#and greater than > to compare values and produce a boolean result\n",
    "x = 42 > 43\n",
    "print(x)"
   ]
  },
  {
   "cell_type": "markdown",
   "metadata": {},
   "source": [
    "**Comparison Operators**"
   ]
  },
  {
   "cell_type": "markdown",
   "metadata": {},
   "source": [
    "**< -- less than**\n",
    "\n",
    "**> -- greater than**\n",
    "\n",
    "**<= -- less than equal to**\n",
    "\n",
    "**>= -- greater than equal to**\n",
    "\n",
    "**== -- equal to**\n",
    "\n",
    "**!= -- not equal to**"
   ]
  },
  {
   "cell_type": "markdown",
   "metadata": {},
   "source": [
    "**Logical Operators**"
   ]
  },
  {
   "cell_type": "code",
   "execution_count": 4,
   "metadata": {
    "ExecuteTime": {
     "end_time": "2020-11-23T05:05:35.677489Z",
     "start_time": "2020-11-23T05:05:35.672299Z"
    }
   },
   "outputs": [],
   "source": [
    "# AND == Evaluates if both sides are\n",
    "# OR == Evaluates if atleast on side is true\n",
    "# NOT == Inverses a boolean type"
   ]
  },
  {
   "cell_type": "code",
   "execution_count": 5,
   "metadata": {
    "ExecuteTime": {
     "end_time": "2020-11-23T05:06:40.592210Z",
     "start_time": "2020-11-23T05:06:40.583245Z"
    }
   },
   "outputs": [
    {
     "name": "stdout",
     "output_type": "stream",
     "text": [
      "True\n"
     ]
    }
   ],
   "source": [
    "# Example of the AND logical Operator\n",
    "age = 14\n",
    "is_teen = age > 12 and age < 20\n",
    "print(is_teen)"
   ]
  },
  {
   "cell_type": "code",
   "execution_count": 6,
   "metadata": {
    "ExecuteTime": {
     "end_time": "2020-11-23T05:08:23.570157Z",
     "start_time": "2020-11-23T05:08:23.563772Z"
    }
   },
   "outputs": [
    {
     "name": "stdout",
     "output_type": "stream",
     "text": [
      "False\n"
     ]
    }
   ],
   "source": [
    "# Example of the NOT logical Operator\n",
    "age = 14\n",
    "is_teen = not (age > 12 and age < 20)\n",
    "print(is_teen)"
   ]
  },
  {
   "cell_type": "code",
   "execution_count": 7,
   "metadata": {
    "ExecuteTime": {
     "end_time": "2020-11-23T05:08:52.102247Z",
     "start_time": "2020-11-23T05:08:52.095197Z"
    }
   },
   "outputs": [
    {
     "name": "stdout",
     "output_type": "stream",
     "text": [
      "True\n"
     ]
    }
   ],
   "source": [
    "# Example of the OR logical Operator\n",
    "age = 14\n",
    "is_teen = age > 12 or age < 20\n",
    "print(is_teen)"
   ]
  },
  {
   "cell_type": "markdown",
   "metadata": {},
   "source": [
    "**Quiz: Which is denser, Rio or San Francisco?**"
   ]
  },
  {
   "cell_type": "markdown",
   "metadata": {},
   "source": [
    "Try comparison operators in this quiz! This code calculates the population densities of Rio de Janeiro and San Francisco.\n",
    "\n",
    "Write code to compare these densities. Is the population of San Francisco more dense than that of Rio de Janeiro? Print True if it is and False if not."
   ]
  },
  {
   "cell_type": "code",
   "execution_count": 8,
   "metadata": {
    "ExecuteTime": {
     "end_time": "2020-11-23T05:11:16.154208Z",
     "start_time": "2020-11-23T05:11:16.149102Z"
    }
   },
   "outputs": [],
   "source": [
    "sf_population, sf_area = 864816, 231.89\n",
    "rio_population, rio_area = 6453682, 486.5\n",
    "\n",
    "san_francisco_pop_density = sf_population/sf_area\n",
    "rio_de_janeiro_pop_density = rio_population/rio_area\n",
    "\n",
    "# Write code that prints True if San Francisco is denser than Rio, and False otherwise"
   ]
  },
  {
   "cell_type": "code",
   "execution_count": 10,
   "metadata": {
    "ExecuteTime": {
     "end_time": "2020-11-23T05:16:34.155964Z",
     "start_time": "2020-11-23T05:16:34.150958Z"
    }
   },
   "outputs": [
    {
     "name": "stdout",
     "output_type": "stream",
     "text": [
      "False\n"
     ]
    }
   ],
   "source": [
    "is_sf_denser = san_francisco_pop_density > rio_de_janeiro_pop_density\n",
    "print(is_sf_denser)"
   ]
  },
  {
   "cell_type": "code",
   "execution_count": 11,
   "metadata": {
    "ExecuteTime": {
     "end_time": "2020-11-23T05:19:01.377661Z",
     "start_time": "2020-11-23T05:19:01.373625Z"
    }
   },
   "outputs": [],
   "source": [
    "# Why do you think Python uses == for checking equality rather than =?\n",
    "# Answer: Because the = is an assignment token"
   ]
  },
  {
   "cell_type": "markdown",
   "metadata": {},
   "source": [
    "**String**"
   ]
  },
  {
   "cell_type": "code",
   "execution_count": 12,
   "metadata": {
    "ExecuteTime": {
     "end_time": "2020-11-23T05:43:27.940721Z",
     "start_time": "2020-11-23T05:43:27.937182Z"
    }
   },
   "outputs": [],
   "source": [
    "# Programming involves more than numbers amd arithmetics\n",
    "# They may be situations where you need to work with text\n",
    "# To work with text in Python, you'll need to use a STRING"
   ]
  },
  {
   "cell_type": "code",
   "execution_count": 13,
   "metadata": {
    "ExecuteTime": {
     "end_time": "2020-11-23T05:44:25.406279Z",
     "start_time": "2020-11-23T05:44:25.401741Z"
    }
   },
   "outputs": [],
   "source": [
    "# String is a datatype for immutable ordered sequence of characters"
   ]
  },
  {
   "cell_type": "code",
   "execution_count": 14,
   "metadata": {
    "ExecuteTime": {
     "end_time": "2020-11-23T05:46:46.527830Z",
     "start_time": "2020-11-23T05:46:46.522173Z"
    }
   },
   "outputs": [
    {
     "name": "stdout",
     "output_type": "stream",
     "text": [
      "Hello\n",
      "Hello\n"
     ]
    }
   ],
   "source": [
    "# You an create a string using quotes\n",
    "print(\"Hello\") # Double quotes\n",
    "print('Hello') # Single quotes"
   ]
  },
  {
   "cell_type": "code",
   "execution_count": 15,
   "metadata": {
    "ExecuteTime": {
     "end_time": "2020-11-23T05:59:02.115284Z",
     "start_time": "2020-11-23T05:59:02.105745Z"
    }
   },
   "outputs": [],
   "source": [
    "# We can set a variable to be a string\n",
    "#the same way we did with numbbers\n",
    "# Strings can include characters,\n",
    "#even spaces, punctuations and numbers"
   ]
  },
  {
   "cell_type": "code",
   "execution_count": 20,
   "metadata": {
    "ExecuteTime": {
     "end_time": "2020-11-23T06:03:04.818315Z",
     "start_time": "2020-11-23T06:03:04.813098Z"
    }
   },
   "outputs": [
    {
     "name": "stdout",
     "output_type": "stream",
     "text": [
      "Hello, Welcome to Python Learning!\n"
     ]
    }
   ],
   "source": [
    "welcome_message = \"Hello, Welcome to Python Learning!\"\n",
    "print(welcome_message)"
   ]
  },
  {
   "cell_type": "code",
   "execution_count": 21,
   "metadata": {
    "ExecuteTime": {
     "end_time": "2020-11-23T06:03:14.395296Z",
     "start_time": "2020-11-23T06:03:14.388934Z"
    }
   },
   "outputs": [
    {
     "ename": "SyntaxError",
     "evalue": "invalid syntax (<ipython-input-21-ff45d31d39b7>, line 2)",
     "output_type": "error",
     "traceback": [
      "\u001b[0;36m  File \u001b[0;32m\"<ipython-input-21-ff45d31d39b7>\"\u001b[0;36m, line \u001b[0;32m2\u001b[0m\n\u001b[0;31m    pet_halibut = \"why should I be tarred with epithet \"loony\" merely because I have a pet halibut\"\u001b[0m\n\u001b[0m                                                        ^\u001b[0m\n\u001b[0;31mSyntaxError\u001b[0m\u001b[0;31m:\u001b[0m invalid syntax\n"
     ]
    }
   ],
   "source": [
    "# What to do when we want quotation marks in our string\"\n",
    "pet_halibut = \"why should I be tarred with epithet \"loony\" merely because I have a pet halibut\"\n",
    "print(pet_halibut)"
   ]
  },
  {
   "cell_type": "code",
   "execution_count": 22,
   "metadata": {
    "ExecuteTime": {
     "end_time": "2020-11-23T06:09:39.457149Z",
     "start_time": "2020-11-23T06:09:39.452152Z"
    }
   },
   "outputs": [
    {
     "name": "stdout",
     "output_type": "stream",
     "text": [
      "why should I be tarred with epithet \"loony\" merely because I have a pet halibut\n"
     ]
    }
   ],
   "source": [
    "# Python offers two solutions to the problem of using quotation marks\n",
    "# 1st: Place strings in single quoatation rather than double quotation\n",
    "pet_halibut = 'why should I be tarred with epithet \"loony\" merely because I have a pet halibut'\n",
    "print(pet_halibut)"
   ]
  },
  {
   "cell_type": "code",
   "execution_count": 27,
   "metadata": {
    "ExecuteTime": {
     "end_time": "2020-11-23T06:19:10.937305Z",
     "start_time": "2020-11-23T06:19:10.930391Z"
    }
   },
   "outputs": [
    {
     "name": "stdout",
     "output_type": "stream",
     "text": [
      " I think you're an encyclopaedia salesman \n"
     ]
    }
   ],
   "source": [
    "# 2nd: What to do to define both single and double quotes\n",
    "# Use a backslash \\\n",
    "salesman = ''' I think you\\'re an encyclopaedia salesman '''\n",
    "print(salesman)\n",
    "\n",
    "# The single quote is preceded by a \\ so that Python knows that it should be \n",
    "#interpreted as part of the string rather than the quote that ends the string"
   ]
  },
  {
   "cell_type": "code",
   "execution_count": 28,
   "metadata": {
    "ExecuteTime": {
     "end_time": "2020-11-23T06:30:10.386965Z",
     "start_time": "2020-11-23T06:30:10.383550Z"
    }
   },
   "outputs": [],
   "source": [
    "# There are a few operations that are used for integers & floats\n",
    "#that can be used for strings\n",
    "\n",
    "# + to put strings together\n",
    "# * to repeat strings"
   ]
  },
  {
   "cell_type": "code",
   "execution_count": 32,
   "metadata": {
    "ExecuteTime": {
     "end_time": "2020-11-23T06:34:11.477504Z",
     "start_time": "2020-11-23T06:34:11.470404Z"
    }
   },
   "outputs": [
    {
     "name": "stdout",
     "output_type": "stream",
     "text": [
      "Hello World\n"
     ]
    }
   ],
   "source": [
    "# + to put strings together\n",
    "first_word = 'Hello'\n",
    "second_word = 'World'\n",
    "print(first_word + \" \" + second_word)\n",
    "\n",
    "# + is used to concatenate two variables\n",
    "# Whitespace is also used to add space between both variables"
   ]
  },
  {
   "cell_type": "code",
   "execution_count": 33,
   "metadata": {
    "ExecuteTime": {
     "end_time": "2020-11-23T06:45:52.770275Z",
     "start_time": "2020-11-23T06:45:52.764625Z"
    }
   },
   "outputs": [
    {
     "name": "stdout",
     "output_type": "stream",
     "text": [
      "HelloHelloHelloHelloHello\n"
     ]
    }
   ],
   "source": [
    "# * to repeat strings\n",
    "word = \"Hello\"\n",
    "print(word * 5)"
   ]
  },
  {
   "cell_type": "markdown",
   "metadata": {},
   "source": [
    "**len function**\n",
    "\n",
    "A buit-in function that can tell us the length of a string"
   ]
  },
  {
   "cell_type": "code",
   "execution_count": 34,
   "metadata": {
    "ExecuteTime": {
     "end_time": "2020-11-23T06:51:56.304470Z",
     "start_time": "2020-11-23T06:51:56.298708Z"
    }
   },
   "outputs": [
    {
     "name": "stdout",
     "output_type": "stream",
     "text": [
      "23\n"
     ]
    }
   ],
   "source": [
    "# It takes in a value in parentheses to perform an action\n",
    "data_science_fellowship_length = len('data science fellowship')\n",
    "print(data_science_fellowship_length)"
   ]
  },
  {
   "cell_type": "code",
   "execution_count": 35,
   "metadata": {
    "ExecuteTime": {
     "end_time": "2020-11-23T06:52:34.200186Z",
     "start_time": "2020-11-23T06:52:34.196376Z"
    }
   },
   "outputs": [],
   "source": [
    "# len differs from print in that it returns a value that be stored in a variable"
   ]
  },
  {
   "cell_type": "markdown",
   "metadata": {},
   "source": [
    "**Quiz: Fix the Quote**\n",
    "\n",
    "The line of code in the following quiz will cause a SyntaxError, thanks to the misuse of quotation marks. \n",
    "\n",
    "First run it with Test Run to view the error message. Then resolve the problem so that the quote (from Henry Ford) is correctly assigned to the variable ford_quote."
   ]
  },
  {
   "cell_type": "code",
   "execution_count": 36,
   "metadata": {
    "ExecuteTime": {
     "end_time": "2020-11-23T06:54:10.740736Z",
     "start_time": "2020-11-23T06:54:10.734284Z"
    }
   },
   "outputs": [
    {
     "ename": "SyntaxError",
     "evalue": "invalid syntax (<ipython-input-36-47d11273e814>, line 2)",
     "output_type": "error",
     "traceback": [
      "\u001b[0;36m  File \u001b[0;32m\"<ipython-input-36-47d11273e814>\"\u001b[0;36m, line \u001b[0;32m2\u001b[0m\n\u001b[0;31m    ford_quote = 'Whether you think you can, or you think you can't--you're right.'\u001b[0m\n\u001b[0m                                                                  ^\u001b[0m\n\u001b[0;31mSyntaxError\u001b[0m\u001b[0;31m:\u001b[0m invalid syntax\n"
     ]
    }
   ],
   "source": [
    "# TODO: Fix this string!\n",
    "ford_quote = 'Whether you think you can, or you think you can't--you're right.'"
   ]
  },
  {
   "cell_type": "code",
   "execution_count": 42,
   "metadata": {
    "ExecuteTime": {
     "end_time": "2020-11-23T06:58:02.833447Z",
     "start_time": "2020-11-23T06:58:02.825695Z"
    }
   },
   "outputs": [
    {
     "name": "stdout",
     "output_type": "stream",
     "text": [
      " Whether you think you can, or you think you can't--you're right. \n"
     ]
    }
   ],
   "source": [
    "# With double or triple quote\n",
    "ford_quote = ''' Whether you think you can, or you think you can't--you're right. '''\n",
    "print(ford_quote)"
   ]
  },
  {
   "cell_type": "code",
   "execution_count": 48,
   "metadata": {
    "ExecuteTime": {
     "end_time": "2020-11-23T07:00:53.257934Z",
     "start_time": "2020-11-23T07:00:53.252541Z"
    }
   },
   "outputs": [
    {
     "name": "stdout",
     "output_type": "stream",
     "text": [
      "Whether you think you can, or you think you can't--you're right.\n"
     ]
    }
   ],
   "source": [
    "# With backslash\n",
    "ford_quote = 'Whether you think you can, or you think you can\\'t--you\\'re right.'\n",
    "print(ford_quote)"
   ]
  },
  {
   "cell_type": "markdown",
   "metadata": {},
   "source": [
    "**Quiz: Write a Server Log Message**\n",
    "\n",
    "In this programming quiz, you’re going to use what you’ve learned about strings to write a logging message for a server.\n",
    "\n",
    "You’ll be provided with example data for a user, the time of their visit and the site they accessed. You should use the variables provided and the techniques you’ve learned to print a log message like this one (with the username, url, and timestamp replaced with values from the appropriate variables):\n",
    "\n",
    "Yogesh accessed the site http://petshop.com/pets/reptiles/pythons at 16:20."
   ]
  },
  {
   "cell_type": "code",
   "execution_count": 49,
   "metadata": {
    "ExecuteTime": {
     "end_time": "2020-11-23T07:06:14.742929Z",
     "start_time": "2020-11-23T07:06:14.737960Z"
    }
   },
   "outputs": [],
   "source": [
    "username = \"Kinari\"\n",
    "timestamp = \"04:50\"\n",
    "url = \"http://petshop.com/pets/mammals/cats\"\n",
    "\n",
    "# TODO: print a log message using the variables above.\n",
    "# The message should have the same format as this one:\n",
    "# \"Yogesh accessed the site http://petshop.com/pets/reptiles/pythons at 16:20.\""
   ]
  },
  {
   "cell_type": "code",
   "execution_count": 55,
   "metadata": {
    "ExecuteTime": {
     "end_time": "2020-11-23T07:11:53.528837Z",
     "start_time": "2020-11-23T07:11:53.523063Z"
    }
   },
   "outputs": [
    {
     "name": "stdout",
     "output_type": "stream",
     "text": [
      "Kinari accessed the site http://petshop.com/pets/mammals/cats at 04:50.\n"
     ]
    }
   ],
   "source": [
    "# Answer\n",
    "print(username + \" \" + 'accessed the site' + \" \" + url + \" \" + 'at' + \" \" + timestamp + '.')"
   ]
  },
  {
   "cell_type": "markdown",
   "metadata": {},
   "source": [
    "**Quiz: len()**\n",
    "\n",
    "Use string concatenation and the len() function to find the length of a certain movie star's actual full name. Store that length in the name_length variable. Don't forget that there are spaces in between the different parts of a name!"
   ]
  },
  {
   "cell_type": "code",
   "execution_count": 58,
   "metadata": {
    "ExecuteTime": {
     "end_time": "2020-11-23T07:17:33.718736Z",
     "start_time": "2020-11-23T07:17:33.711962Z"
    }
   },
   "outputs": [
    {
     "name": "stdout",
     "output_type": "stream",
     "text": [
      "True\n"
     ]
    }
   ],
   "source": [
    "given_name = \"William\"\n",
    "middle_names = \"Bradley\"\n",
    "family_name = \"Pitt\"\n",
    "\n",
    "name_length = len(given_name + ' ' + middle_names + ' ' + family_name)\n",
    "\n",
    "# Now we check to make sure that the name fits within the driving license character limit\n",
    "# Nothing you need to do here\n",
    "driving_license_character_limit = 28\n",
    "print(name_length <= driving_license_character_limit)"
   ]
  },
  {
   "cell_type": "markdown",
   "metadata": {},
   "source": [
    "Quiz: We've just used the len function to find the length of strings. What does the len function return when we give it the integer 835 instead of a string?"
   ]
  },
  {
   "cell_type": "code",
   "execution_count": 59,
   "metadata": {
    "ExecuteTime": {
     "end_time": "2020-11-23T07:18:25.244589Z",
     "start_time": "2020-11-23T07:18:25.080904Z"
    }
   },
   "outputs": [
    {
     "ename": "TypeError",
     "evalue": "object of type 'int' has no len()",
     "output_type": "error",
     "traceback": [
      "\u001b[0;31m---------------------------------------------------------------------------\u001b[0m",
      "\u001b[0;31mTypeError\u001b[0m                                 Traceback (most recent call last)",
      "\u001b[0;32m<ipython-input-59-10644a69da31>\u001b[0m in \u001b[0;36m<module>\u001b[0;34m\u001b[0m\n\u001b[0;32m----> 1\u001b[0;31m \u001b[0mlen\u001b[0m\u001b[0;34m(\u001b[0m\u001b[0;36m835\u001b[0m\u001b[0;34m)\u001b[0m\u001b[0;34m\u001b[0m\u001b[0;34m\u001b[0m\u001b[0m\n\u001b[0m",
      "\u001b[0;31mTypeError\u001b[0m: object of type 'int' has no len()"
     ]
    }
   ],
   "source": [
    "len(835)"
   ]
  },
  {
   "cell_type": "markdown",
   "metadata": {},
   "source": [
    "**Type and Type Conversion**"
   ]
  },
  {
   "cell_type": "code",
   "execution_count": 60,
   "metadata": {
    "ExecuteTime": {
     "end_time": "2020-11-23T12:03:54.076507Z",
     "start_time": "2020-11-23T12:03:54.063356Z"
    }
   },
   "outputs": [],
   "source": [
    "# Using the type function, we can observe that the same\n",
    "#number can be coded in different types, each with their own set of behaviors"
   ]
  },
  {
   "cell_type": "code",
   "execution_count": 61,
   "metadata": {
    "ExecuteTime": {
     "end_time": "2020-11-23T12:05:34.340506Z",
     "start_time": "2020-11-23T12:05:34.329190Z"
    }
   },
   "outputs": [
    {
     "name": "stdout",
     "output_type": "stream",
     "text": [
      "<class 'int'>\n",
      "<class 'str'>\n",
      "<class 'float'>\n"
     ]
    }
   ],
   "source": [
    "print(type(633))\n",
    "print(type('633'))\n",
    "print(type(633.0))\n",
    "\n",
    "# Note: The type function is evealuated first before\n",
    "#the output is printed by the print function"
   ]
  },
  {
   "cell_type": "code",
   "execution_count": 69,
   "metadata": {
    "ExecuteTime": {
     "end_time": "2020-11-23T12:22:34.858147Z",
     "start_time": "2020-11-23T12:22:34.853023Z"
    }
   },
   "outputs": [
    {
     "name": "stdout",
     "output_type": "stream",
     "text": [
      "<class 'int'>\n"
     ]
    }
   ],
   "source": [
    "# Building a string from an int\n",
    "# Create an int value\n",
    "house_number = 13\n",
    "print(type(house_number))"
   ]
  },
  {
   "cell_type": "code",
   "execution_count": 70,
   "metadata": {
    "ExecuteTime": {
     "end_time": "2020-11-23T12:22:36.549071Z",
     "start_time": "2020-11-23T12:22:36.545321Z"
    }
   },
   "outputs": [],
   "source": [
    "# Create string value\n",
    "street_name = \"The crescent\"\n",
    "town_name = \"Belmont\""
   ]
  },
  {
   "cell_type": "code",
   "execution_count": 71,
   "metadata": {
    "ExecuteTime": {
     "end_time": "2020-11-23T12:22:37.121274Z",
     "start_time": "2020-11-23T12:22:37.115885Z"
    }
   },
   "outputs": [
    {
     "name": "stdout",
     "output_type": "stream",
     "text": [
      "13 The crescent, Belmont\n"
     ]
    }
   ],
   "source": [
    "# Type conversion\n",
    "address = str(house_number) + \" \" + street_name + \", \" + town_name\n",
    "print(address)"
   ]
  },
  {
   "cell_type": "code",
   "execution_count": 72,
   "metadata": {
    "ExecuteTime": {
     "end_time": "2020-11-23T12:22:46.266780Z",
     "start_time": "2020-11-23T12:22:46.261742Z"
    }
   },
   "outputs": [
    {
     "name": "stdout",
     "output_type": "stream",
     "text": [
      "<class 'str'>\n"
     ]
    }
   ],
   "source": [
    "# Building a number from a string\n",
    "grams = \"35.0\"\n",
    "print(type(grams))"
   ]
  },
  {
   "cell_type": "code",
   "execution_count": 73,
   "metadata": {
    "ExecuteTime": {
     "end_time": "2020-11-23T12:23:42.421093Z",
     "start_time": "2020-11-23T12:23:42.416127Z"
    }
   },
   "outputs": [
    {
     "name": "stdout",
     "output_type": "stream",
     "text": [
      "<class 'float'>\n"
     ]
    }
   ],
   "source": [
    "grams = float(grams)\n",
    "print(type(grams))"
   ]
  },
  {
   "cell_type": "markdown",
   "metadata": {},
   "source": [
    "**Quiz: Total Sales**\n",
    "\n",
    "In this quiz, you’ll need to change the types of the input and output data in order to get the result you want.\n",
    "\n",
    "Calculate and print the total sales for the week from the data provided. Print out a string of the form \"This week's total sales: xxx\", where xxx will be the actual total of all the numbers. You’ll need to change the type of the input data in order to calculate that total.  "
   ]
  },
  {
   "cell_type": "code",
   "execution_count": 74,
   "metadata": {
    "ExecuteTime": {
     "end_time": "2020-11-23T12:26:47.697280Z",
     "start_time": "2020-11-23T12:26:47.692151Z"
    }
   },
   "outputs": [],
   "source": [
    "mon_sales = \"121\"\n",
    "tues_sales = \"105\"\n",
    "wed_sales = \"110\"\n",
    "thurs_sales = \"98\"\n",
    "fri_sales = \"95\"\n",
    "\n",
    "#TODO: Print a string with this format: This week's total sales: xxx\n",
    "# You will probably need to write some lines of code before the print statement."
   ]
  },
  {
   "cell_type": "code",
   "execution_count": 75,
   "metadata": {
    "ExecuteTime": {
     "end_time": "2020-11-23T12:29:20.555983Z",
     "start_time": "2020-11-23T12:29:20.548174Z"
    }
   },
   "outputs": [
    {
     "name": "stdout",
     "output_type": "stream",
     "text": [
      "529\n"
     ]
    }
   ],
   "source": [
    "total_sales = int(mon_sales) + int(tues_sales) + int(wed_sales) + int(thurs_sales) + int(fri_sales)\n",
    "print(total_sales)"
   ]
  },
  {
   "cell_type": "code",
   "execution_count": 77,
   "metadata": {
    "ExecuteTime": {
     "end_time": "2020-11-23T12:30:27.912340Z",
     "start_time": "2020-11-23T12:30:27.906502Z"
    }
   },
   "outputs": [
    {
     "name": "stdout",
     "output_type": "stream",
     "text": [
      "This week's total sales: 529\n"
     ]
    }
   ],
   "source": [
    "print(\"This week's total sales:\", total_sales)"
   ]
  },
  {
   "cell_type": "code",
   "execution_count": 78,
   "metadata": {
    "ExecuteTime": {
     "end_time": "2020-11-23T12:31:38.771287Z",
     "start_time": "2020-11-23T12:31:38.764544Z"
    }
   },
   "outputs": [
    {
     "name": "stdout",
     "output_type": "stream",
     "text": [
      "This week's total sales: 529\n"
     ]
    }
   ],
   "source": [
    "# Another solution\n",
    "weekly_sales = int(mon_sales) + int(tues_sales) + int(wed_sales) + int(thurs_sales) + int(fri_sales)\n",
    "weekly_sales = str(weekly_sales)  #convert the type back!!\n",
    "print(\"This week's total sales: \" + weekly_sales)"
   ]
  },
  {
   "cell_type": "markdown",
   "metadata": {},
   "source": [
    "**String Methods**"
   ]
  },
  {
   "cell_type": "code",
   "execution_count": 79,
   "metadata": {
    "ExecuteTime": {
     "end_time": "2020-11-23T13:56:30.851516Z",
     "start_time": "2020-11-23T13:56:30.847324Z"
    }
   },
   "outputs": [],
   "source": [
    "# Methods are related to functions, but unlike functions,\n",
    "#methods are associated with specific types of objects\n",
    "\n",
    "# They are different methods depending on the type of data\n",
    "#you're working with"
   ]
  },
  {
   "cell_type": "code",
   "execution_count": 82,
   "metadata": {
    "ExecuteTime": {
     "end_time": "2020-11-23T14:01:23.011717Z",
     "start_time": "2020-11-23T14:01:23.006054Z"
    }
   },
   "outputs": [
    {
     "name": "stdout",
     "output_type": "stream",
     "text": [
      "Sebastian Thrun\n"
     ]
    }
   ],
   "source": [
    "# The title method:\n",
    "print(\"sebastian thrun\".title())\n",
    "\n",
    "# This methodreturns the string value in title case.\n",
    "#i.e each first letter in capital case."
   ]
  },
  {
   "cell_type": "code",
   "execution_count": 84,
   "metadata": {
    "ExecuteTime": {
     "end_time": "2020-11-23T14:10:56.605450Z",
     "start_time": "2020-11-23T14:10:56.600337Z"
    }
   },
   "outputs": [
    {
     "name": "stdout",
     "output_type": "stream",
     "text": [
      "True\n"
     ]
    }
   ],
   "source": [
    "# The islower() method\n",
    "full_name = \"sebastian thrun\"\n",
    "print(full_name.islower())\n",
    "\n",
    "# This method returns a boolean value if there are no uppercase characters"
   ]
  },
  {
   "cell_type": "code",
   "execution_count": 85,
   "metadata": {
    "ExecuteTime": {
     "end_time": "2020-11-23T14:13:23.110262Z",
     "start_time": "2020-11-23T14:13:23.106617Z"
    }
   },
   "outputs": [],
   "source": [
    "# The difference between a method and a function\n",
    "# Funtions take arguments in their parentheses,\n",
    "# While methods are functions that belong to an object,\n",
    "#so it takes the object as it's argument,"
   ]
  },
  {
   "cell_type": "code",
   "execution_count": 87,
   "metadata": {
    "ExecuteTime": {
     "end_time": "2020-11-23T14:17:27.011242Z",
     "start_time": "2020-11-23T14:17:27.005522Z"
    }
   },
   "outputs": [
    {
     "name": "stdout",
     "output_type": "stream",
     "text": [
      "4\n"
     ]
    }
   ],
   "source": [
    "# However, there's a method that takes more than the object as argument, Count!\n",
    "print(\"one fish, two fish, red fish, blue fish\".count('fish'))\n",
    "\n",
    "# Here the count method takes a substring of the object and returns the amount \n",
    "#of times it occurs in the object"
   ]
  },
  {
   "cell_type": "markdown",
   "metadata": {},
   "source": [
    "*No professional has all the methods memorized, which is why understanding how to use documentation and find answers is so important. Gaining a strong grasp of the foundations of programming will allow you to use those foundations to use documentation to build so much more than someone who tries to memorize all the built-in methods in Python*"
   ]
  },
  {
   "cell_type": "markdown",
   "metadata": {},
   "source": [
    "**One important string method: format()**"
   ]
  },
  {
   "cell_type": "code",
   "execution_count": 88,
   "metadata": {
    "ExecuteTime": {
     "end_time": "2020-11-23T14:21:55.636824Z",
     "start_time": "2020-11-23T14:21:55.632339Z"
    }
   },
   "outputs": [
    {
     "name": "stdout",
     "output_type": "stream",
     "text": [
      "Mohammed has 27 balloons\n"
     ]
    }
   ],
   "source": [
    "# Works with the print function\n",
    "print(\"Mohammed has {} balloons\".format(27))"
   ]
  },
  {
   "cell_type": "code",
   "execution_count": 89,
   "metadata": {
    "ExecuteTime": {
     "end_time": "2020-11-23T14:22:06.592580Z",
     "start_time": "2020-11-23T14:22:06.586513Z"
    }
   },
   "outputs": [
    {
     "name": "stdout",
     "output_type": "stream",
     "text": [
      "Does your dog bite?\n"
     ]
    }
   ],
   "source": [
    "animal = \"dog\"\n",
    "action = \"bite\"\n",
    "print(\"Does your {} {}?\".format(animal, action))"
   ]
  },
  {
   "cell_type": "code",
   "execution_count": 90,
   "metadata": {
    "ExecuteTime": {
     "end_time": "2020-11-23T14:22:41.638226Z",
     "start_time": "2020-11-23T14:22:41.633030Z"
    }
   },
   "outputs": [
    {
     "name": "stdout",
     "output_type": "stream",
     "text": [
      "Maria loves math and statistics\n"
     ]
    }
   ],
   "source": [
    "maria_string = \"Maria loves {} and {}\"\n",
    "print(maria_string.format(\"math\", \"statistics\"))"
   ]
  },
  {
   "cell_type": "markdown",
   "metadata": {},
   "source": [
    "**Another String Method - Split**\n",
    "\n",
    "*A helpful string method when working with strings is the .split method. This function or method returns a data container called a list that contains the words from the input string.*\n",
    "\n",
    "*The split method has two additional arguments (sep and maxsplit). The sep argument stands for \"separator\". It can be used to identify how the string should be split up (e.g., whitespace characters like space, tab, return, newline; specific punctuation (e.g., comma, dashes)). If the sep argument is not provided, the default separator is whitespace*\n",
    "\n",
    "*The maxsplit argument provides the maximum number of splits. The argument gives maxsplit + 1 number of elements in the new list, with the remaining string being returned as the last element in the list*"
   ]
  },
  {
   "cell_type": "code",
   "execution_count": 91,
   "metadata": {
    "ExecuteTime": {
     "end_time": "2020-11-23T15:02:48.504908Z",
     "start_time": "2020-11-23T15:02:48.497678Z"
    }
   },
   "outputs": [
    {
     "data": {
      "text/plain": [
       "['The', 'cow', 'jumped', 'over', 'the', 'moon.']"
      ]
     },
     "execution_count": 91,
     "metadata": {},
     "output_type": "execute_result"
    }
   ],
   "source": [
    "# A basic split method:\n",
    "new_str = \"The cow jumped over the moon.\"\n",
    "new_str.split()"
   ]
  },
  {
   "cell_type": "code",
   "execution_count": 92,
   "metadata": {
    "ExecuteTime": {
     "end_time": "2020-11-23T15:03:21.135815Z",
     "start_time": "2020-11-23T15:03:21.128325Z"
    }
   },
   "outputs": [
    {
     "data": {
      "text/plain": [
       "['The', 'cow', 'jumped', 'over the moon.']"
      ]
     },
     "execution_count": 92,
     "metadata": {},
     "output_type": "execute_result"
    }
   ],
   "source": [
    "# Here the separator is space, and the maxsplit argument is set to 3.\n",
    "new_str.split(' ', 3)"
   ]
  },
  {
   "cell_type": "code",
   "execution_count": 93,
   "metadata": {
    "ExecuteTime": {
     "end_time": "2020-11-23T15:04:05.356715Z",
     "start_time": "2020-11-23T15:04:05.350283Z"
    }
   },
   "outputs": [
    {
     "data": {
      "text/plain": [
       "['The cow jumped over the moon', '']"
      ]
     },
     "execution_count": 93,
     "metadata": {},
     "output_type": "execute_result"
    }
   ],
   "source": [
    "# Using '.' or period as a separator.\n",
    "new_str.split('.')"
   ]
  },
  {
   "cell_type": "code",
   "execution_count": 94,
   "metadata": {
    "ExecuteTime": {
     "end_time": "2020-11-23T15:04:47.546054Z",
     "start_time": "2020-11-23T15:04:47.540207Z"
    }
   },
   "outputs": [
    {
     "data": {
      "text/plain": [
       "['The', 'cow', 'jumped', 'over the moon.']"
      ]
     },
     "execution_count": 94,
     "metadata": {},
     "output_type": "execute_result"
    }
   ],
   "source": [
    "# Using no separators but having a maxsplit argument of 3.\n",
    "new_str.split(None, 3)"
   ]
  },
  {
   "cell_type": "markdown",
   "metadata": {},
   "source": [
    "**Quiz: String Methods Coding Practice**\n",
    "\n",
    "*Below, we have a string variable that contains the first verse of the poem, If by Rudyard Kipling. Remember, \\n is a special sequence of characters that causes a line break (a new line).*"
   ]
  },
  {
   "cell_type": "code",
   "execution_count": 95,
   "metadata": {
    "ExecuteTime": {
     "end_time": "2020-11-23T15:06:26.345675Z",
     "start_time": "2020-11-23T15:06:26.341410Z"
    }
   },
   "outputs": [],
   "source": [
    "verse = \"If you can keep your head when all about you\\n  Are losing theirs and blaming it on you,\\nIf you can trust yourself when all men doubt you,\\n  But make allowance for their doubting too;\\nIf you can wait and not be tired by waiting,\\n  Or being lied about, don’t deal in lies,\\nOr being hated, don’t give way to hating,\\n  And yet don’t look too good, nor talk too wise:\""
   ]
  },
  {
   "cell_type": "code",
   "execution_count": 96,
   "metadata": {
    "ExecuteTime": {
     "end_time": "2020-11-23T15:06:37.316319Z",
     "start_time": "2020-11-23T15:06:37.308003Z"
    }
   },
   "outputs": [
    {
     "name": "stdout",
     "output_type": "stream",
     "text": [
      "If you can keep your head when all about you\n",
      "  Are losing theirs and blaming it on you,\n",
      "If you can trust yourself when all men doubt you,\n",
      "  But make allowance for their doubting too;\n",
      "If you can wait and not be tired by waiting,\n",
      "  Or being lied about, don’t deal in lies,\n",
      "Or being hated, don’t give way to hating,\n",
      "  And yet don’t look too good, nor talk too wise:\n"
     ]
    }
   ],
   "source": [
    "print(verse)"
   ]
  },
  {
   "cell_type": "code",
   "execution_count": 101,
   "metadata": {
    "ExecuteTime": {
     "end_time": "2020-11-23T15:20:12.109187Z",
     "start_time": "2020-11-23T15:20:12.101779Z"
    }
   },
   "outputs": [
    {
     "name": "stdout",
     "output_type": "stream",
     "text": [
      "Verse has a length of 362 characters.\n"
     ]
    }
   ],
   "source": [
    "# What is the length of the string variable verse?\n",
    "print(\"Verse has a length of {} characters.\".format(len(verse)))"
   ]
  },
  {
   "cell_type": "code",
   "execution_count": 102,
   "metadata": {
    "ExecuteTime": {
     "end_time": "2020-11-23T15:20:45.915871Z",
     "start_time": "2020-11-23T15:20:45.910613Z"
    }
   },
   "outputs": [
    {
     "name": "stdout",
     "output_type": "stream",
     "text": [
      "The first occurence of the word 'and' occurs at the 65th index.\n"
     ]
    }
   ],
   "source": [
    "# What is the index of the first occurrence of the word 'and' in verse\n",
    "print(\"The first occurence of the word 'and' occurs at the {}th index.\".format(verse.find('and')))"
   ]
  },
  {
   "cell_type": "code",
   "execution_count": 104,
   "metadata": {
    "ExecuteTime": {
     "end_time": "2020-11-23T15:22:24.866060Z",
     "start_time": "2020-11-23T15:22:24.860295Z"
    }
   },
   "outputs": [
    {
     "name": "stdout",
     "output_type": "stream",
     "text": [
      "The last occurence of the word 'you' occurs at the 186th index.\n"
     ]
    }
   ],
   "source": [
    "# What is the index of the last occurrence of the word 'you' in verse?\n",
    "print(\"The last occurence of the word 'you' occurs at the {}th index.\".format(verse.rfind('you')))"
   ]
  },
  {
   "cell_type": "code",
   "execution_count": 105,
   "metadata": {
    "ExecuteTime": {
     "end_time": "2020-11-23T15:23:26.284187Z",
     "start_time": "2020-11-23T15:23:26.278628Z"
    }
   },
   "outputs": [
    {
     "name": "stdout",
     "output_type": "stream",
     "text": [
      "The word 'you' occurs 8 times in the verse.\n"
     ]
    }
   ],
   "source": [
    "# What is the count of occurrences of the word 'you' in the verse\n",
    "print(\"The word 'you' occurs {} times in the verse.\".format(verse.count('you')))"
   ]
  },
  {
   "cell_type": "code",
   "execution_count": 106,
   "metadata": {
    "ExecuteTime": {
     "end_time": "2020-11-23T15:24:35.645525Z",
     "start_time": "2020-11-23T15:24:35.637001Z"
    }
   },
   "outputs": [
    {
     "name": "stdout",
     "output_type": "stream",
     "text": [
      "If you can keep your head when all about you\n",
      "  Are losing theirs and blaming it on you,\n",
      "If you can trust yourself when all men doubt you,\n",
      "  But make allowance for their doubting too;\n",
      "If you can wait and not be tired by waiting,\n",
      "  Or being lied about, don’t deal in lies,\n",
      "Or being hated, don’t give way to hating,\n",
      "  And yet don’t look too good, nor talk too wise: \n",
      "\n",
      "Verse has a length of 362 characters.\n",
      "The first occurence of the word 'and' occurs at the 65th index.\n",
      "The last occurence of the word 'you' occurs at the 186th index.\n",
      "The word 'you' occurs 8 times in the verse.\n"
     ]
    }
   ],
   "source": [
    "# Another Solution\n",
    "verse = \"If you can keep your head when all about you\\n  Are losing theirs and blaming it on you,\\nIf you can trust yourself when all men doubt you,\\n  But make allowance for their doubting too;\\nIf you can wait and not be tired by waiting,\\n  Or being lied about, don’t deal in lies,\\nOr being hated, don’t give way to hating,\\n  And yet don’t look too good, nor talk too wise:\"\n",
    "print(verse, \"\\n\")\n",
    "\n",
    "message = \"Verse has a length of {} characters.\\nThe first occurence of the \\\n",
    "word 'and' occurs at the {}th index.\\nThe last occurence of the word 'you' \\\n",
    "occurs at the {}th index.\\nThe word 'you' occurs {} times in the verse.\"\n",
    "\n",
    "length = len(verse)\n",
    "first_idx = verse.find('and')\n",
    "last_idx = verse.rfind('you')\n",
    "count = verse.count('you')\n",
    "\n",
    "print(message.format(length, first_idx, last_idx, count))"
   ]
  },
  {
   "cell_type": "markdown",
   "metadata": {},
   "source": [
    "**Debugging Code**"
   ]
  },
  {
   "cell_type": "markdown",
   "metadata": {},
   "source": [
    "Everyone gets \"bugs,\" or unexpected errors, in their code, and this is a normal and expected part of software development. We all say at one time or another, \"Why isn't this computer doing what I want it to do?!\"\n",
    "\n",
    "So an important part of coding is \"debugging\" your code, to remove these bugs. This can often take a long time, and cause you frustration, but developing effective coding habits and mental calmness will help you address these issues. With determined persistence, you can prevail over these bugs!\n",
    "\n",
    "Here are some tips on successful debugging that we'll discuss in more detail below:\n",
    "\n",
    "- Understand common error messages you might receive and what to do about them.\n",
    "\n",
    "- Search for your error message, using the Web community.\n",
    "\n",
    "- Use print statements."
   ]
  },
  {
   "cell_type": "markdown",
   "metadata": {},
   "source": [
    "**Understanding Common Error Messages**"
   ]
  },
  {
   "cell_type": "markdown",
   "metadata": {},
   "source": [
    "There are many different error messages that you can receive in Python, and learning how to interpret what they're telling you can be very helpful. Here are some common ones for starters:\n",
    "\n",
    "- \"ZeroDivisionError: division by zero.\" This is an error message that you saw earlier in this lesson. What did this error message indicate to us? You can look back in the Quiz: Arithmetic Operators section to review it if needed.\n",
    "\n",
    "- \"SyntaxError: unexpected EOF while parsing\" Take a look at the two lines of code below. Executing these lines produces this syntax error message - do you see why?\n"
   ]
  },
  {
   "cell_type": "code",
   "execution_count": 107,
   "metadata": {
    "ExecuteTime": {
     "end_time": "2020-11-23T15:32:04.675447Z",
     "start_time": "2020-11-23T15:32:04.669330Z"
    }
   },
   "outputs": [
    {
     "ename": "SyntaxError",
     "evalue": "unexpected EOF while parsing (<ipython-input-107-33e58bfdccd7>, line 2)",
     "output_type": "error",
     "traceback": [
      "\u001b[0;36m  File \u001b[0;32m\"<ipython-input-107-33e58bfdccd7>\"\u001b[0;36m, line \u001b[0;32m2\u001b[0m\n\u001b[0;31m    print(greeting.upper\u001b[0m\n\u001b[0m                        ^\u001b[0m\n\u001b[0;31mSyntaxError\u001b[0m\u001b[0;31m:\u001b[0m unexpected EOF while parsing\n"
     ]
    }
   ],
   "source": [
    "greeting = \"hello\"\n",
    "print(greeting.upper"
   ]
  },
  {
   "cell_type": "markdown",
   "metadata": {},
   "source": [
    "This👆🏼message is often produced when you have accidentally left out something, like a parenthesis. The message is saying it has unexpectedly reached the end of file (\"EOF\") and it still didn't find that right parenthesis. This can easily happen with code syntax involving pairs, like beginning and ending quotes also."
   ]
  },
  {
   "cell_type": "markdown",
   "metadata": {},
   "source": [
    "- \"TypeError: len() takes exactly one argument (0 given)\" This kind of message could be given for many functions, like len in this case, if I accidentally do not include the required number of arguments when I'm calling a function, as below. This message tells me how many arguments the function requires (one in this case), compared with how many I gave it (0). I meant to use len(chars) to count the number of characters in this long word, but I forgot the argument."
   ]
  },
  {
   "cell_type": "code",
   "execution_count": 108,
   "metadata": {
    "ExecuteTime": {
     "end_time": "2020-11-23T15:34:57.525241Z",
     "start_time": "2020-11-23T15:34:57.513561Z"
    }
   },
   "outputs": [
    {
     "ename": "TypeError",
     "evalue": "len() takes exactly one argument (0 given)",
     "output_type": "error",
     "traceback": [
      "\u001b[0;31m---------------------------------------------------------------------------\u001b[0m",
      "\u001b[0;31mTypeError\u001b[0m                                 Traceback (most recent call last)",
      "\u001b[0;32m<ipython-input-108-0ec823a3d899>\u001b[0m in \u001b[0;36m<module>\u001b[0;34m\u001b[0m\n\u001b[1;32m      1\u001b[0m \u001b[0mchars\u001b[0m \u001b[0;34m=\u001b[0m \u001b[0;34m\"supercalifragilisticexpialidocious\"\u001b[0m\u001b[0;34m\u001b[0m\u001b[0;34m\u001b[0m\u001b[0m\n\u001b[0;32m----> 2\u001b[0;31m \u001b[0mlen\u001b[0m\u001b[0;34m(\u001b[0m\u001b[0;34m)\u001b[0m\u001b[0;34m\u001b[0m\u001b[0;34m\u001b[0m\u001b[0m\n\u001b[0m",
      "\u001b[0;31mTypeError\u001b[0m: len() takes exactly one argument (0 given)"
     ]
    }
   ],
   "source": [
    "chars = \"supercalifragilisticexpialidocious\"\n",
    "len()"
   ]
  },
  {
   "cell_type": "markdown",
   "metadata": {},
   "source": [
    "**There are other kinds of error messages that you'll certainly begin experiencing soon in your Python work. Learning what they mean and how to address them will help you debug your code. You might keep an ongoing page of notes on them.**"
   ]
  },
  {
   "cell_type": "markdown",
   "metadata": {},
   "source": [
    "**Search for Your Error Message**"
   ]
  },
  {
   "cell_type": "markdown",
   "metadata": {},
   "source": [
    "Software developers like to share their problems and solutions with each other on the web, so using Google search, or searching in StackOverflow, or searching in Udacity's Knowledge forum are all good ways to get ideas on how to address a particular error message you're getting.\n",
    "\n",
    "- Copy and paste the error message into your web browser search tab, or in Knowledge, and see what others suggest about what might be causing it.\n",
    "\n",
    "- You can copy and paste the whole error message, with or without quotes around it.\n",
    "\n",
    "- Or you can search using just key words from the error message or situation you're facing, along with some other helpful words that describe your context, like Python and Mac."
   ]
  },
  {
   "cell_type": "markdown",
   "metadata": {},
   "source": [
    "**Use Print Statements to Help Debugging**"
   ]
  },
  {
   "cell_type": "markdown",
   "metadata": {},
   "source": [
    "Adding print statements temporarily into your code can help you see which code lines have been executed before the error occurs, and see the values of any variables that might be important. This approach to debugging can also be helpful even if you're not receiving an error message, but things just aren't working the way you want."
   ]
  },
  {
   "cell_type": "code",
   "execution_count": null,
   "metadata": {},
   "outputs": [],
   "source": []
  },
  {
   "cell_type": "markdown",
   "metadata": {},
   "source": [
    "**Data Structures**\n",
    "\n",
    "Data structures are containers that organize and group data types together in different ways.\n",
    "\n",
    "Here, we will learn about data structures: Lists, Tuples, Sets, Dictionaries, Compounds Data Structures.\n",
    "\n",
    "Also, we would learn about the last two data types in Python: Membership & Identity"
   ]
  },
  {
   "cell_type": "markdown",
   "metadata": {},
   "source": [
    "**List and Membership Operators**"
   ]
  },
  {
   "cell_type": "code",
   "execution_count": 1,
   "metadata": {
    "ExecuteTime": {
     "end_time": "2020-11-24T06:11:02.566474Z",
     "start_time": "2020-11-24T06:11:02.559111Z"
    }
   },
   "outputs": [],
   "source": [
    "# First Python container: List\n",
    "# A list is a data structure in Python that is a mutable\n",
    "#ordered sequence of elements"
   ]
  },
  {
   "cell_type": "code",
   "execution_count": 11,
   "metadata": {
    "ExecuteTime": {
     "end_time": "2020-11-24T07:17:08.463973Z",
     "start_time": "2020-11-24T07:17:08.458159Z"
    }
   },
   "outputs": [],
   "source": [
    "months = ['January', 'February', 'March', 'April', 'May', 'June',\n",
    "         'July', 'August', 'September', 'October', 'November', 'December']\n",
    "\n",
    "# The variable month, contains a list strings with each element in the list\n",
    "#being year"
   ]
  },
  {
   "cell_type": "code",
   "execution_count": 12,
   "metadata": {
    "ExecuteTime": {
     "end_time": "2020-11-24T07:17:12.082403Z",
     "start_time": "2020-11-24T07:17:12.078266Z"
    }
   },
   "outputs": [],
   "source": [
    "# A list is defined using square brackets [], and always holds other data \n",
    "#which are separated by commas.\n",
    "\n",
    "# The data in a list could be a mix of any other data types you've already seen\n",
    "list_of_random_things = [1, 3.4, 'a string', True]\n",
    "# Lists have an order or most appropriately are ordered\n",
    "# We can lookup individual elements in the list by their index"
   ]
  },
  {
   "cell_type": "code",
   "execution_count": 13,
   "metadata": {
    "ExecuteTime": {
     "end_time": "2020-11-24T07:17:18.086721Z",
     "start_time": "2020-11-24T07:17:18.080773Z"
    }
   },
   "outputs": [
    {
     "name": "stdout",
     "output_type": "stream",
     "text": [
      "January\n",
      "March\n"
     ]
    }
   ],
   "source": [
    "# Looking up elements in a list from the beginning\n",
    "# Using the zero based indexing\n",
    "print(months[0])\n",
    "print(months[2])"
   ]
  },
  {
   "cell_type": "code",
   "execution_count": 14,
   "metadata": {
    "ExecuteTime": {
     "end_time": "2020-11-24T07:17:24.742653Z",
     "start_time": "2020-11-24T07:17:24.737084Z"
    }
   },
   "outputs": [
    {
     "name": "stdout",
     "output_type": "stream",
     "text": [
      "December\n",
      "October\n"
     ]
    }
   ],
   "source": [
    "# We can also lookup elements from the end of the list\n",
    "# To do this, we use negative indexes\n",
    "print(months[-1])\n",
    "print(months[-3])"
   ]
  },
  {
   "cell_type": "code",
   "execution_count": 15,
   "metadata": {
    "ExecuteTime": {
     "end_time": "2020-11-24T07:17:27.830067Z",
     "start_time": "2020-11-24T07:17:27.815802Z"
    }
   },
   "outputs": [
    {
     "ename": "IndexError",
     "evalue": "list index out of range",
     "output_type": "error",
     "traceback": [
      "\u001b[0;31m---------------------------------------------------------------------------\u001b[0m",
      "\u001b[0;31mIndexError\u001b[0m                                Traceback (most recent call last)",
      "\u001b[0;32m<ipython-input-15-99d01a5f273a>\u001b[0m in \u001b[0;36m<module>\u001b[0;34m\u001b[0m\n\u001b[1;32m      1\u001b[0m \u001b[0;31m# If you try to lookup a list with an index that does not exist\u001b[0m\u001b[0;34m\u001b[0m\u001b[0;34m\u001b[0m\u001b[0;34m\u001b[0m\u001b[0m\n\u001b[1;32m      2\u001b[0m \u001b[0;31m# You'll get a list index exception\u001b[0m\u001b[0;34m\u001b[0m\u001b[0;34m\u001b[0m\u001b[0;34m\u001b[0m\u001b[0m\n\u001b[0;32m----> 3\u001b[0;31m \u001b[0mprint\u001b[0m\u001b[0;34m(\u001b[0m\u001b[0mmonths\u001b[0m\u001b[0;34m[\u001b[0m\u001b[0;36m13\u001b[0m\u001b[0;34m]\u001b[0m\u001b[0;34m)\u001b[0m\u001b[0;34m\u001b[0m\u001b[0;34m\u001b[0m\u001b[0m\n\u001b[0m",
      "\u001b[0;31mIndexError\u001b[0m: list index out of range"
     ]
    }
   ],
   "source": [
    "# If you try to lookup a list with an index that does not exist\n",
    "# You'll get a list index exception\n",
    "print(months[13])"
   ]
  },
  {
   "cell_type": "markdown",
   "metadata": {},
   "source": [
    "**Slice and Dice with Lists**"
   ]
  },
  {
   "cell_type": "code",
   "execution_count": 8,
   "metadata": {
    "ExecuteTime": {
     "end_time": "2020-11-24T07:10:47.783812Z",
     "start_time": "2020-11-24T07:10:47.780072Z"
    }
   },
   "outputs": [],
   "source": [
    "# We can use Python's slicing notation to access a subsequence\n",
    "#of a list\n",
    "\n",
    "# Slicing means using indices to slice off parts of an object\n",
    "#like a string or a list"
   ]
  },
  {
   "cell_type": "code",
   "execution_count": 16,
   "metadata": {
    "ExecuteTime": {
     "end_time": "2020-11-24T07:17:32.248574Z",
     "start_time": "2020-11-24T07:17:32.243529Z"
    }
   },
   "outputs": [
    {
     "name": "stdout",
     "output_type": "stream",
     "text": [
      "['July', 'August', 'September']\n"
     ]
    }
   ],
   "source": [
    "# We can slice the third quarter of the year from this list:\n",
    "q3 = months[6:9]\n",
    "print(q3)"
   ]
  },
  {
   "cell_type": "code",
   "execution_count": 10,
   "metadata": {
    "ExecuteTime": {
     "end_time": "2020-11-24T07:15:50.661384Z",
     "start_time": "2020-11-24T07:15:50.657941Z"
    }
   },
   "outputs": [],
   "source": [
    "# The index to the left of the column 6, is where the slice begins\n",
    "# The index continues until the second index 9. Notice that 9 is the\n",
    "#index of October.\n",
    "# The lower bound is inclusive and the higher bound is exclusive"
   ]
  },
  {
   "cell_type": "code",
   "execution_count": 17,
   "metadata": {
    "ExecuteTime": {
     "end_time": "2020-11-24T07:17:51.432939Z",
     "start_time": "2020-11-24T07:17:51.427409Z"
    }
   },
   "outputs": [
    {
     "name": "stdout",
     "output_type": "stream",
     "text": [
      "['January', 'February', 'March', 'April', 'May', 'June']\n"
     ]
    }
   ],
   "source": [
    "# There are a couple of slicing shortcuts that simplify common situations:\n",
    "first_half = months[:6]\n",
    "print(first_half)"
   ]
  },
  {
   "cell_type": "code",
   "execution_count": 18,
   "metadata": {
    "ExecuteTime": {
     "end_time": "2020-11-24T07:21:23.677471Z",
     "start_time": "2020-11-24T07:21:23.673354Z"
    }
   },
   "outputs": [],
   "source": [
    "# If you would like to make a slice that begins at the very beginning\n",
    "#of the original list, you can do this👆🏼"
   ]
  },
  {
   "cell_type": "code",
   "execution_count": 19,
   "metadata": {
    "ExecuteTime": {
     "end_time": "2020-11-24T07:27:50.280791Z",
     "start_time": "2020-11-24T07:27:50.275142Z"
    }
   },
   "outputs": [
    {
     "name": "stdout",
     "output_type": "stream",
     "text": [
      "['July', 'August', 'September', 'October', 'November', 'December']\n"
     ]
    }
   ],
   "source": [
    "# Or if you would like to make a slice that ends at the very end of the original list:\n",
    "# You can omit the ending index like this:👇🏽\n",
    "second_half = months[6:]\n",
    "print(second_half)"
   ]
  },
  {
   "cell_type": "code",
   "execution_count": 20,
   "metadata": {
    "ExecuteTime": {
     "end_time": "2020-11-24T07:38:10.280980Z",
     "start_time": "2020-11-24T07:38:10.277357Z"
    }
   },
   "outputs": [],
   "source": [
    "# List is a data type like strings, ints & floats\n",
    "# Of the types we've seen, lists are most similar to strings\n",
    "# Both types support the len function, indexing, and slicing"
   ]
  },
  {
   "cell_type": "code",
   "execution_count": 21,
   "metadata": {
    "ExecuteTime": {
     "end_time": "2020-11-24T07:38:46.275235Z",
     "start_time": "2020-11-24T07:38:46.270658Z"
    }
   },
   "outputs": [],
   "source": [
    "# Example of the len function\n",
    "greetings = \"Hello There\"\n",
    "months = ['January', 'February', 'March', 'April', 'May', 'June',\n",
    "         'July', 'August', 'September', 'October', 'November', 'December']"
   ]
  },
  {
   "cell_type": "code",
   "execution_count": 22,
   "metadata": {
    "ExecuteTime": {
     "end_time": "2020-11-24T07:39:18.994742Z",
     "start_time": "2020-11-24T07:39:18.987738Z"
    }
   },
   "outputs": [
    {
     "name": "stdout",
     "output_type": "stream",
     "text": [
      "11 12\n"
     ]
    }
   ],
   "source": [
    "print(len(greetings), len(months))"
   ]
  },
  {
   "cell_type": "code",
   "execution_count": 23,
   "metadata": {
    "ExecuteTime": {
     "end_time": "2020-11-24T07:41:08.218555Z",
     "start_time": "2020-11-24T07:41:08.212592Z"
    }
   },
   "outputs": [
    {
     "name": "stdout",
     "output_type": "stream",
     "text": [
      "The ['July', 'August', 'September']\n"
     ]
    }
   ],
   "source": [
    "# Example of the law of slicing\n",
    "print(greetings[6:9], months[6:9])"
   ]
  },
  {
   "cell_type": "markdown",
   "metadata": {},
   "source": [
    "**Are you in OR not in?**"
   ]
  },
  {
   "cell_type": "code",
   "execution_count": 24,
   "metadata": {
    "ExecuteTime": {
     "end_time": "2020-11-24T07:47:29.130197Z",
     "start_time": "2020-11-24T07:47:29.126547Z"
    }
   },
   "outputs": [],
   "source": [
    "# Another thing they support are membership operators: IN and NOT IN\n",
    "# IN evaluates if the object on the left side is included in the object\n",
    "#on the right side\n",
    "\n",
    "# NOT IN evaluates if the object on the left side is not included on the \n",
    "#object on the right side"
   ]
  },
  {
   "cell_type": "code",
   "execution_count": 25,
   "metadata": {
    "ExecuteTime": {
     "end_time": "2020-11-24T07:49:22.060959Z",
     "start_time": "2020-11-24T07:49:22.055113Z"
    }
   },
   "outputs": [
    {
     "name": "stdout",
     "output_type": "stream",
     "text": [
      "True False\n"
     ]
    }
   ],
   "source": [
    "# Here we can check if the string 'her' is in the string:\n",
    "greetings = \"Hello There\"\n",
    "print('her' in greetings, 'her' not in greetings)"
   ]
  },
  {
   "cell_type": "code",
   "execution_count": 26,
   "metadata": {
    "ExecuteTime": {
     "end_time": "2020-11-24T07:52:23.302836Z",
     "start_time": "2020-11-24T07:52:23.297477Z"
    }
   },
   "outputs": [
    {
     "name": "stdout",
     "output_type": "stream",
     "text": [
      "False True\n"
     ]
    }
   ],
   "source": [
    "# Here we can check if the string 'Sunday' is the list 'months'\n",
    "print('Sunday' in months, 'Sunday' not in months)"
   ]
  },
  {
   "cell_type": "markdown",
   "metadata": {},
   "source": [
    "**Mutability and Order**"
   ]
  },
  {
   "cell_type": "code",
   "execution_count": 27,
   "metadata": {
    "ExecuteTime": {
     "end_time": "2020-11-24T08:11:00.842990Z",
     "start_time": "2020-11-24T08:11:00.839111Z"
    }
   },
   "outputs": [],
   "source": [
    "# How are lists different from strings?\n",
    "# Both support indexing, slicing, and the IN operator."
   ]
  },
  {
   "cell_type": "code",
   "execution_count": 28,
   "metadata": {
    "ExecuteTime": {
     "end_time": "2020-11-24T08:12:00.164638Z",
     "start_time": "2020-11-24T08:12:00.161012Z"
    }
   },
   "outputs": [],
   "source": [
    "# The most obvious difference is that strings are sequences of\n",
    "#letters, while list elements can be any type of object."
   ]
  },
  {
   "cell_type": "code",
   "execution_count": 30,
   "metadata": {
    "ExecuteTime": {
     "end_time": "2020-11-24T08:15:08.190473Z",
     "start_time": "2020-11-24T08:15:08.184153Z"
    }
   },
   "outputs": [
    {
     "name": "stdout",
     "output_type": "stream",
     "text": [
      "['January', 'February', 'March', 'Friday', 'May', 'June', 'July', 'August', 'September', 'October', 'November', 'December']\n"
     ]
    }
   ],
   "source": [
    "# More subtle difference is that lists can be modified but strings can't\n",
    "# Example of modifying a list\n",
    "months = ['January', 'February', 'March', 'April', 'May', 'June',\n",
    "         'July', 'August', 'September', 'October', 'November', 'December']\n",
    "months[3] = 'Friday'\n",
    "print(months)\n",
    "\n",
    "# Here👆🏼, we changed the 3rd element of the list from 'April' to 'Friday'"
   ]
  },
  {
   "cell_type": "code",
   "execution_count": 31,
   "metadata": {
    "ExecuteTime": {
     "end_time": "2020-11-24T08:16:06.433740Z",
     "start_time": "2020-11-24T08:16:06.421368Z"
    }
   },
   "outputs": [
    {
     "ename": "TypeError",
     "evalue": "'str' object does not support item assignment",
     "output_type": "error",
     "traceback": [
      "\u001b[0;31m---------------------------------------------------------------------------\u001b[0m",
      "\u001b[0;31mTypeError\u001b[0m                                 Traceback (most recent call last)",
      "\u001b[0;32m<ipython-input-31-50ae523d72ba>\u001b[0m in \u001b[0;36m<module>\u001b[0;34m\u001b[0m\n\u001b[1;32m      1\u001b[0m \u001b[0;31m# Here if we try to change an element in greetings:\u001b[0m\u001b[0;34m\u001b[0m\u001b[0;34m\u001b[0m\u001b[0;34m\u001b[0m\u001b[0m\n\u001b[1;32m      2\u001b[0m \u001b[0mgreetings\u001b[0m \u001b[0;34m=\u001b[0m \u001b[0;34m\"Hello There\"\u001b[0m\u001b[0;34m\u001b[0m\u001b[0;34m\u001b[0m\u001b[0m\n\u001b[0;32m----> 3\u001b[0;31m \u001b[0mgreetings\u001b[0m\u001b[0;34m[\u001b[0m\u001b[0;36m3\u001b[0m\u001b[0;34m]\u001b[0m \u001b[0;34m=\u001b[0m \u001b[0;34m'i'\u001b[0m\u001b[0;34m\u001b[0m\u001b[0;34m\u001b[0m\u001b[0m\n\u001b[0m\u001b[1;32m      4\u001b[0m \u001b[0mprint\u001b[0m\u001b[0;34m(\u001b[0m\u001b[0mgreetings\u001b[0m\u001b[0;34m)\u001b[0m\u001b[0;34m\u001b[0m\u001b[0;34m\u001b[0m\u001b[0m\n",
      "\u001b[0;31mTypeError\u001b[0m: 'str' object does not support item assignment"
     ]
    }
   ],
   "source": [
    "# Here if we try to change an element in greetings:\n",
    "greetings = \"Hello There\"\n",
    "greetings[3] = 'i'\n",
    "print(greetings)"
   ]
  },
  {
   "cell_type": "code",
   "execution_count": 32,
   "metadata": {
    "ExecuteTime": {
     "end_time": "2020-11-24T08:20:04.837271Z",
     "start_time": "2020-11-24T08:20:04.833762Z"
    }
   },
   "outputs": [],
   "source": [
    "# The technical term for whether an object can be modified after creation is Mutability\n",
    "# Lists can be modified, so it is a mutable data type\n",
    "# Strings can't be modified, so it is an immutable data type"
   ]
  },
  {
   "cell_type": "markdown",
   "metadata": {},
   "source": [
    "- There are two factors to consider, one is mutability and the other is order.\n",
    "\n",
    "- Order is where the order of contents for an object matters, and whether or not part of the object can be accessed using this order.\n",
    "\n",
    "- Both strings and lists are ordered, that's why indexing works well for them\n",
    "\n",
    "- However, one is mutable(lists) and the other is not(strings)"
   ]
  },
  {
   "cell_type": "markdown",
   "metadata": {},
   "source": [
    "**Quiz: List Indexing**\n",
    "\n",
    "Use list indexing to determine how many days are in a particular month based on the integer variable month, and store that value in the integer variable num_days. For example, if month is 8, num_days should be set to 31, since the eighth month, August, has 31 days.\n",
    "\n",
    "Remember to account for zero-based indexing!"
   ]
  },
  {
   "cell_type": "code",
   "execution_count": 34,
   "metadata": {
    "ExecuteTime": {
     "end_time": "2020-11-24T09:05:19.944602Z",
     "start_time": "2020-11-24T09:05:19.938012Z"
    }
   },
   "outputs": [
    {
     "name": "stdout",
     "output_type": "stream",
     "text": [
      "31\n"
     ]
    }
   ],
   "source": [
    "# Solution\n",
    "month = 8\n",
    "days_in_month = [31,28,31,30,31,30,31,31,30,31,30,31]\n",
    "\n",
    "# use list indexing to determine the number of days in month\n",
    "num_days = days_in_month[7]\n",
    "\n",
    "print(num_days)"
   ]
  },
  {
   "cell_type": "code",
   "execution_count": 35,
   "metadata": {
    "ExecuteTime": {
     "end_time": "2020-11-24T09:06:41.540788Z",
     "start_time": "2020-11-24T09:06:41.532191Z"
    }
   },
   "outputs": [
    {
     "name": "stdout",
     "output_type": "stream",
     "text": [
      "31\n"
     ]
    }
   ],
   "source": [
    "# Another Solution\n",
    "month = 8\n",
    "days_in_month = [31,28,31,30,31,30,31,31,30,31,30,31]\n",
    "\n",
    "# use list indexing to determine the number of days in month\n",
    "num_days = days_in_month[month - 1]\n",
    "\n",
    "print(num_days)"
   ]
  },
  {
   "cell_type": "markdown",
   "metadata": {},
   "source": [
    "**Quiz: Slicing Lists**\n",
    "\n",
    "Select the three most recent dates from this list using list slicing notation. \n",
    "\n",
    "Hint: negative indexes work in slices!"
   ]
  },
  {
   "cell_type": "code",
   "execution_count": 40,
   "metadata": {
    "ExecuteTime": {
     "end_time": "2020-11-24T09:14:16.062602Z",
     "start_time": "2020-11-24T09:14:16.056074Z"
    }
   },
   "outputs": [
    {
     "name": "stdout",
     "output_type": "stream",
     "text": [
      "['November 13, 2012', 'March 20, 2015', 'March 9, 2016']\n"
     ]
    }
   ],
   "source": [
    "# Solution\n",
    "eclipse_dates = ['June 21, 2001', 'December 4, 2002', 'November 23, 2003',\n",
    "                 'March 29, 2006', 'August 1, 2008', 'July 22, 2009',\n",
    "                 'July 11, 2010', 'November 13, 2012', 'March 20, 2015',\n",
    "                 'March 9, 2016']\n",
    "                 \n",
    "                 \n",
    "# TODO: Modify this line so it prints the last three elements of the list\n",
    "print(eclipse_dates[-3:])\n",
    "\n",
    "# Note: Inside the square bracket, on the left before the colon, extracts from the end of the list\n",
    "# On the right, after the the colon, extracts from the beginning of the list"
   ]
  },
  {
   "cell_type": "code",
   "execution_count": 4,
   "metadata": {
    "ExecuteTime": {
     "end_time": "2020-11-24T09:18:12.068168Z",
     "start_time": "2020-11-24T09:18:12.063859Z"
    }
   },
   "outputs": [],
   "source": [
    "# Suppose we have the following two expressions, sentence1 and sentence2:\n",
    "sentence1 = \"I wish to register a complaint.\"\n",
    "sentence2 = [\"I\", \"wish\", \"to\", \"register\", \"a\", \"complaint\", \".\"]"
   ]
  },
  {
   "cell_type": "code",
   "execution_count": 5,
   "metadata": {
    "ExecuteTime": {
     "end_time": "2020-11-24T09:37:30.305718Z",
     "start_time": "2020-11-24T09:37:30.301972Z"
    }
   },
   "outputs": [],
   "source": [
    "# What does this do: sentence2[6]=\"!\"\n",
    "# What does this do: sentence2[0]= \"Our Majesty\"\n",
    "# What does this do: sentence1[30]=\"!\"\n",
    "# What does this do: sentence2[0:2] = [\"We\", \"want\"]"
   ]
  },
  {
   "cell_type": "markdown",
   "metadata": {},
   "source": [
    "**Why Do We Need Lists?**\n",
    "\n",
    "Let's talk about why we need a data structure like a list or when to use it. We will borrow an example from the world of Wall Street for this discussion.\n",
    "\n",
    "Companies listed on the NASDAQ exchange have ticker symbols or abbreviations for each company name. For e.g., the ticker symbol for Alphabet, Inc. is GOOGL.\n",
    "\n",
    "Imagine now that you own stocks for one company, say Microsoft, and want to be able to print out the ticker symbol of your stock. Since it is one value, you can store it in the variable microsoft, and assign it the value of MSFT. Like this:"
   ]
  },
  {
   "cell_type": "code",
   "execution_count": 10,
   "metadata": {
    "ExecuteTime": {
     "end_time": "2020-11-24T09:39:34.368680Z",
     "start_time": "2020-11-24T09:39:34.363442Z"
    }
   },
   "outputs": [
    {
     "name": "stdout",
     "output_type": "stream",
     "text": [
      "MSFT\n"
     ]
    }
   ],
   "source": [
    "microsoft = 'MSFT'\n",
    "print(microsoft)\n",
    "\n",
    "# That's convenient"
   ]
  },
  {
   "cell_type": "markdown",
   "metadata": {},
   "source": [
    "Let's now consider that you are an investment fund manager, and you want to print out the stocks (or holdings) you own in an index fund: https://www.marketwatch.com/investing/fund/vinix/holdings\n",
    "\n",
    "An index fund includes stocks (also called holdings) for a large number of companies. Turns out Vanguard Institutional Index Fund has 506 holdings!\n",
    "\n",
    "Printing the tickets for all 506 holdings using individual strings would require 506 strings. Not ideal! Because we'll need to remember the name of each string to print it.\n",
    "You also have to think about how to group the 506 strings under the same index fund. Not convenient at all!"
   ]
  },
  {
   "cell_type": "markdown",
   "metadata": {},
   "source": [
    "**This is where the beauty of data structures comes into play! You can use a list.**\n",
    "\n",
    "Since index funds have ticker symbols too, you use that as the name for the list, here VINIX, and add the ticker symbols for all the holdings into that list. Let's populate the list with the top holdings listed for Vanguard Institutional Index Fund ."
   ]
  },
  {
   "cell_type": "code",
   "execution_count": 11,
   "metadata": {
    "ExecuteTime": {
     "end_time": "2020-11-24T09:41:41.685554Z",
     "start_time": "2020-11-24T09:41:41.679406Z"
    }
   },
   "outputs": [],
   "source": [
    "VINIX = ['C', 'MA', 'BA', 'PG', 'CSCO', 'VZ', 'PFE', 'HD', 'INTC', 'T', 'V', 'UNH', 'WFC',\n",
    "         'CVX', 'BAC', 'JNJ', 'GOOGL', 'GOOG', 'BRK.B', 'XOM', 'JPM', 'FB', 'AMZN', 'MSFT', 'AAPL']"
   ]
  },
  {
   "cell_type": "code",
   "execution_count": 12,
   "metadata": {
    "ExecuteTime": {
     "end_time": "2020-11-24T09:42:17.973970Z",
     "start_time": "2020-11-24T09:42:17.968315Z"
    }
   },
   "outputs": [
    {
     "name": "stdout",
     "output_type": "stream",
     "text": [
      "C\n"
     ]
    }
   ],
   "source": [
    "# Now, printing the tickers becomes slightly easier. \n",
    "# And you don't have to remember the names of the strings!\n",
    "print(VINIX[0])"
   ]
  },
  {
   "cell_type": "code",
   "execution_count": 13,
   "metadata": {
    "ExecuteTime": {
     "end_time": "2020-11-24T09:42:54.975912Z",
     "start_time": "2020-11-24T09:42:54.928731Z"
    }
   },
   "outputs": [
    {
     "data": {
      "text/plain": [
       "False"
      ]
     },
     "execution_count": 13,
     "metadata": {},
     "output_type": "execute_result"
    }
   ],
   "source": [
    "# You can even use the list to see if a particular stock is in the index fund VINIX or not. Like this:\n",
    "'GE' in VINIX"
   ]
  },
  {
   "cell_type": "code",
   "execution_count": 14,
   "metadata": {
    "ExecuteTime": {
     "end_time": "2020-11-24T09:43:12.246963Z",
     "start_time": "2020-11-24T09:43:12.240613Z"
    }
   },
   "outputs": [
    {
     "data": {
      "text/plain": [
       "True"
      ]
     },
     "execution_count": 14,
     "metadata": {},
     "output_type": "execute_result"
    }
   ],
   "source": [
    "'GOOGL' in VINIX"
   ]
  },
  {
   "cell_type": "markdown",
   "metadata": {},
   "source": [
    "**List Methods**"
   ]
  },
  {
   "cell_type": "markdown",
   "metadata": {},
   "source": [
    "Previously, when we created a variable that held an immutable object, it was saved in memory. Here👇🏽we create a name with value Jim, and assign it to another variable student. It is the value Jim that is assigned to student.\n",
    "\n",
    "So when we reassin name to update it to Tim, this change is not reflected in the value of student"
   ]
  },
  {
   "cell_type": "code",
   "execution_count": 23,
   "metadata": {
    "ExecuteTime": {
     "end_time": "2020-11-24T16:25:26.755285Z",
     "start_time": "2020-11-24T16:25:26.751465Z"
    }
   },
   "outputs": [],
   "source": [
    "name = 'Jim'\n",
    "student = name\n",
    "name = 'Tim'"
   ]
  },
  {
   "cell_type": "code",
   "execution_count": 24,
   "metadata": {
    "ExecuteTime": {
     "end_time": "2020-11-24T16:25:28.541611Z",
     "start_time": "2020-11-24T16:25:28.534456Z"
    }
   },
   "outputs": [
    {
     "name": "stdout",
     "output_type": "stream",
     "text": [
      "Tim\n",
      "Jim\n"
     ]
    }
   ],
   "source": [
    "print(name)\n",
    "print(student)"
   ]
  },
  {
   "cell_type": "markdown",
   "metadata": {},
   "source": [
    "Lists are different from strings as they are mutable.\n",
    "\n",
    "Here👇🏽 we create a list of scores and assign the same list to the variable grades, and when we change and mutate the scores list and making the 4th grade B instead of D, this affects both scores and grades."
   ]
  },
  {
   "cell_type": "code",
   "execution_count": 17,
   "metadata": {
    "ExecuteTime": {
     "end_time": "2020-11-24T16:05:49.509259Z",
     "start_time": "2020-11-24T16:05:49.505164Z"
    }
   },
   "outputs": [],
   "source": [
    "scores = ['B', 'C', 'A', 'D', 'B', 'A']\n",
    "grades = scores"
   ]
  },
  {
   "cell_type": "code",
   "execution_count": 19,
   "metadata": {
    "ExecuteTime": {
     "end_time": "2020-11-24T16:08:22.614267Z",
     "start_time": "2020-11-24T16:08:22.608595Z"
    }
   },
   "outputs": [
    {
     "name": "stdout",
     "output_type": "stream",
     "text": [
      "scores: ['B', 'C', 'A', 'D', 'B', 'A']\n",
      "grades: ['B', 'C', 'A', 'D', 'B', 'A']\n"
     ]
    }
   ],
   "source": [
    "print(\"scores: \" + str(scores))\n",
    "print(\"grades: \" + str(grades))"
   ]
  },
  {
   "cell_type": "code",
   "execution_count": 20,
   "metadata": {
    "ExecuteTime": {
     "end_time": "2020-11-24T16:08:59.997524Z",
     "start_time": "2020-11-24T16:08:59.993498Z"
    }
   },
   "outputs": [],
   "source": [
    "scores[3] = 'B'"
   ]
  },
  {
   "cell_type": "markdown",
   "metadata": {},
   "source": [
    "Both scores and grades are variable names for the same underkying list, and either names can be used to access and change that list."
   ]
  },
  {
   "cell_type": "code",
   "execution_count": 21,
   "metadata": {
    "ExecuteTime": {
     "end_time": "2020-11-24T16:09:14.848379Z",
     "start_time": "2020-11-24T16:09:14.842350Z"
    }
   },
   "outputs": [
    {
     "name": "stdout",
     "output_type": "stream",
     "text": [
      "scores: ['B', 'C', 'A', 'B', 'B', 'A']\n",
      "grades: ['B', 'C', 'A', 'B', 'B', 'A']\n"
     ]
    }
   ],
   "source": [
    "print(\"scores: \" + str(scores))\n",
    "print(\"grades: \" + str(grades))"
   ]
  },
  {
   "cell_type": "markdown",
   "metadata": {},
   "source": [
    "The behavior of variables containing mutable and immutable objects are very different and might even seem surprising at times.\n",
    "\n",
    "Experiment, use the print functions and double-check your work where you can to make sure that your programs correctly keep track of their data.\n",
    "\n",
    "While you experiment with lists, there some useful functions you should get familiar with.\n",
    "\n",
    "- Len returns how many elements are in a list\n",
    "\n",
    "- Max returns the greatest element of a list"
   ]
  },
  {
   "cell_type": "markdown",
   "metadata": {},
   "source": [
    "How the greatest elements are determined depends on what type of objects are in your list.\n",
    "\n",
    "- The maximum element in a list of numbers is the largest number.\n",
    "\n",
    "- The maximum element in a list of strings is the element that will occur last if it was sorted alphabetically\n",
    "\n",
    "Here👇🏽 is an example"
   ]
  },
  {
   "cell_type": "code",
   "execution_count": 25,
   "metadata": {
    "ExecuteTime": {
     "end_time": "2020-11-24T16:50:07.946695Z",
     "start_time": "2020-11-24T16:50:07.939924Z"
    }
   },
   "outputs": [
    {
     "name": "stdout",
     "output_type": "stream",
     "text": [
      "Recticulated Python\n"
     ]
    }
   ],
   "source": [
    "python_varieties = ['Burmese Python', 'African Rock Python',\n",
    "                    'Ball Python', 'Recticulated Python', 'Angola Python']\n",
    "print(max(python_varieties))\n",
    "\n",
    "# R is the largest word alphabetically. Greater than 'B', and 'A'"
   ]
  },
  {
   "cell_type": "markdown",
   "metadata": {},
   "source": [
    "This👆🏼 works because the Max function is defined in terms of the greater than comparison operator.\n",
    "\n",
    "The greater than comparison operator is defined for many non-numeric types. If you're working with objects that can be compared with this, then you can use max on the list of the objects.\n",
    "\n",
    "For strings, the standard comparison is alphabetical. So the maximum of this list is the element that appears last alphabetically.\n",
    "\n",
    "Although you can create lists that hold a mix of elements of many types, as you can see here👇🏽, integers and texts, the max function is undefined for lists that contain element from different incomparable types."
   ]
  },
  {
   "cell_type": "code",
   "execution_count": 26,
   "metadata": {
    "ExecuteTime": {
     "end_time": "2020-11-24T16:57:56.098897Z",
     "start_time": "2020-11-24T16:57:56.084302Z"
    }
   },
   "outputs": [
    {
     "ename": "TypeError",
     "evalue": "'>' not supported between instances of 'str' and 'int'",
     "output_type": "error",
     "traceback": [
      "\u001b[0;31m---------------------------------------------------------------------------\u001b[0m",
      "\u001b[0;31mTypeError\u001b[0m                                 Traceback (most recent call last)",
      "\u001b[0;32m<ipython-input-26-0d7b808cbb83>\u001b[0m in \u001b[0;36m<module>\u001b[0;34m\u001b[0m\n\u001b[0;32m----> 1\u001b[0;31m \u001b[0mmax\u001b[0m\u001b[0;34m(\u001b[0m\u001b[0;36m42\u001b[0m\u001b[0;34m,\u001b[0m \u001b[0;34m'African Swallow'\u001b[0m\u001b[0;34m)\u001b[0m\u001b[0;34m\u001b[0m\u001b[0;34m\u001b[0m\u001b[0m\n\u001b[0m",
      "\u001b[0;31mTypeError\u001b[0m: '>' not supported between instances of 'str' and 'int'"
     ]
    }
   ],
   "source": [
    "max(42, 'African Swallow')"
   ]
  },
  {
   "cell_type": "markdown",
   "metadata": {},
   "source": [
    "Here👆🏼 you can see it breaks with this mix of data types.\n",
    "\n",
    "Min is the opposite of Max and returns the smallest element in the list.\n",
    "\n",
    "Sorted returns a copy of a list in order from smallest to largest leaving the original list unchanged"
   ]
  },
  {
   "cell_type": "code",
   "execution_count": 27,
   "metadata": {
    "ExecuteTime": {
     "end_time": "2020-11-24T17:08:30.925250Z",
     "start_time": "2020-11-24T17:08:30.919539Z"
    }
   },
   "outputs": [
    {
     "name": "stdout",
     "output_type": "stream",
     "text": [
      "[6, 15, 34, 35, 65, 89]\n"
     ]
    }
   ],
   "source": [
    "# Order in ascending\n",
    "sizes = [15,6,89,34,65,35]\n",
    "print(sorted(sizes))"
   ]
  },
  {
   "cell_type": "code",
   "execution_count": 30,
   "metadata": {
    "ExecuteTime": {
     "end_time": "2020-11-24T17:09:39.752211Z",
     "start_time": "2020-11-24T17:09:39.746493Z"
    }
   },
   "outputs": [
    {
     "name": "stdout",
     "output_type": "stream",
     "text": [
      "[89, 65, 35, 34, 15, 6]\n"
     ]
    }
   ],
   "source": [
    "# In descending Order Using reverse=True\n",
    "sizes = [15,6,89,34,65,35]\n",
    "print(sorted(sizes, reverse=True))"
   ]
  },
  {
   "cell_type": "markdown",
   "metadata": {},
   "source": [
    "**List Method II**\n",
    "\n",
    "A new string method that works with lists; Join()\n",
    "\n",
    "Join takes a list as an argument and restores a string consisting of the list elements joined by separator string"
   ]
  },
  {
   "cell_type": "code",
   "execution_count": 31,
   "metadata": {
    "ExecuteTime": {
     "end_time": "2020-11-24T22:38:08.604716Z",
     "start_time": "2020-11-24T22:38:08.598541Z"
    }
   },
   "outputs": [
    {
     "name": "stdout",
     "output_type": "stream",
     "text": [
      "fore\n",
      "aft\n",
      "starboard\n",
      "port\n"
     ]
    }
   ],
   "source": [
    "nautical_directions = \"\\n\".join([\"fore\", \"aft\", \"starboard\", \"port\"])\n",
    "print(nautical_directions)"
   ]
  },
  {
   "cell_type": "markdown",
   "metadata": {},
   "source": [
    "Here👆🏼we use a string backslash n as a separator, so that there's a newline between each element"
   ]
  },
  {
   "cell_type": "markdown",
   "metadata": {},
   "source": [
    "We can also use other strings as separators with join.\n",
    "Here👇🏽 we use a hyphen."
   ]
  },
  {
   "cell_type": "code",
   "execution_count": 32,
   "metadata": {
    "ExecuteTime": {
     "end_time": "2020-11-24T22:43:55.584055Z",
     "start_time": "2020-11-24T22:43:55.577307Z"
    }
   },
   "outputs": [
    {
     "name": "stdout",
     "output_type": "stream",
     "text": [
      "Garcia-O'Kelly-Davis\n"
     ]
    }
   ],
   "source": [
    "names = [\"Garcia\", \"O'Kelly\", \"Davis\"]\n",
    "print(\"-\".join(names))"
   ]
  },
  {
   "cell_type": "markdown",
   "metadata": {},
   "source": [
    "It is important to remember to separate each of the items in the list you're joining with a comma.\n",
    "\n",
    "Forgetting to do so will not trigger an error, but will also give you unexpected results"
   ]
  },
  {
   "cell_type": "code",
   "execution_count": 1,
   "metadata": {
    "ExecuteTime": {
     "end_time": "2020-11-25T07:04:09.005373Z",
     "start_time": "2020-11-25T07:04:08.997309Z"
    }
   },
   "outputs": [
    {
     "name": "stdout",
     "output_type": "stream",
     "text": [
      "GarciaO'KellyDavis\n"
     ]
    }
   ],
   "source": [
    "names = [\"Garcia\" \"O'Kelly\" \"Davis\"]\n",
    "print(\"-\".join(names))"
   ]
  },
  {
   "cell_type": "markdown",
   "metadata": {},
   "source": [
    "This👆🏼 happens because of pythons string literal appending.\n",
    "\n",
    "If joins returns unexpected results, check for missing commas.\n",
    "\n",
    "Join will trigger an error👇🏽 if we try to join anything other than strings"
   ]
  },
  {
   "cell_type": "code",
   "execution_count": 2,
   "metadata": {
    "ExecuteTime": {
     "end_time": "2020-11-25T07:22:29.960100Z",
     "start_time": "2020-11-25T07:22:29.797927Z"
    }
   },
   "outputs": [
    {
     "ename": "TypeError",
     "evalue": "sequence item 1: expected str instance, int found",
     "output_type": "error",
     "traceback": [
      "\u001b[0;31m---------------------------------------------------------------------------\u001b[0m",
      "\u001b[0;31mTypeError\u001b[0m                                 Traceback (most recent call last)",
      "\u001b[0;32m<ipython-input-2-5cc1880708fc>\u001b[0m in \u001b[0;36m<module>\u001b[0;34m\u001b[0m\n\u001b[1;32m      1\u001b[0m \u001b[0mstuff\u001b[0m \u001b[0;34m=\u001b[0m \u001b[0;34m[\u001b[0m\u001b[0;34m\"thing\"\u001b[0m\u001b[0;34m,\u001b[0m \u001b[0;36m42\u001b[0m\u001b[0;34m,\u001b[0m \u001b[0;34m\"nope\"\u001b[0m\u001b[0;34m]\u001b[0m\u001b[0;34m\u001b[0m\u001b[0;34m\u001b[0m\u001b[0m\n\u001b[0;32m----> 2\u001b[0;31m \u001b[0mprint\u001b[0m\u001b[0;34m(\u001b[0m\u001b[0;34m\"and\"\u001b[0m\u001b[0;34m.\u001b[0m\u001b[0mjoin\u001b[0m\u001b[0;34m(\u001b[0m\u001b[0mstuff\u001b[0m\u001b[0;34m)\u001b[0m\u001b[0;34m)\u001b[0m\u001b[0;34m\u001b[0m\u001b[0;34m\u001b[0m\u001b[0m\n\u001b[0m",
      "\u001b[0;31mTypeError\u001b[0m: sequence item 1: expected str instance, int found"
     ]
    }
   ],
   "source": [
    "stuff = [\"thing\", 42, \"nope\"]\n",
    "print(\"and\".join(stuff))"
   ]
  },
  {
   "cell_type": "markdown",
   "metadata": {},
   "source": [
    "Lastly, a helpful method called append adds an element to the end of the list"
   ]
  },
  {
   "cell_type": "code",
   "execution_count": 3,
   "metadata": {
    "ExecuteTime": {
     "end_time": "2020-11-25T07:26:20.199018Z",
     "start_time": "2020-11-25T07:26:20.194589Z"
    }
   },
   "outputs": [],
   "source": [
    "python_varieties = ['Burmese Python', 'African Rock Python',\n",
    "                    'Ball Python', 'Recticulated Python', 'Angola Python']"
   ]
  },
  {
   "cell_type": "code",
   "execution_count": 4,
   "metadata": {
    "ExecuteTime": {
     "end_time": "2020-11-25T07:26:32.769694Z",
     "start_time": "2020-11-25T07:26:32.762746Z"
    }
   },
   "outputs": [
    {
     "name": "stdout",
     "output_type": "stream",
     "text": [
      "['Burmese Python', 'African Rock Python', 'Ball Python', 'Recticulated Python', 'Angola Python']\n"
     ]
    }
   ],
   "source": [
    "print(python_varieties)"
   ]
  },
  {
   "cell_type": "code",
   "execution_count": 5,
   "metadata": {
    "ExecuteTime": {
     "end_time": "2020-11-25T07:27:05.864224Z",
     "start_time": "2020-11-25T07:27:05.860353Z"
    }
   },
   "outputs": [],
   "source": [
    "python_varieties.append('Blood Python')"
   ]
  },
  {
   "cell_type": "code",
   "execution_count": 6,
   "metadata": {
    "ExecuteTime": {
     "end_time": "2020-11-25T07:27:14.377525Z",
     "start_time": "2020-11-25T07:27:14.372062Z"
    }
   },
   "outputs": [
    {
     "name": "stdout",
     "output_type": "stream",
     "text": [
      "['Burmese Python', 'African Rock Python', 'Ball Python', 'Recticulated Python', 'Angola Python', 'Blood Python']\n"
     ]
    }
   ],
   "source": [
    "print(python_varieties)"
   ]
  },
  {
   "cell_type": "markdown",
   "metadata": {},
   "source": [
    "**Quiz: len, max, min, and Lists**\n",
    "\n",
    "What would the output of the following code be? (Treat the comma in the multiple choice answers as newlines.)"
   ]
  },
  {
   "cell_type": "code",
   "execution_count": null,
   "metadata": {},
   "outputs": [],
   "source": [
    "a = [1, 5, 8]\n",
    "b = [2, 6, 9, 10]\n",
    "c = [100, 200]\n",
    "\n",
    "print(max([len(a), len(b), len(c)]))\n",
    "print(min([len(a), len(b), len(c)]))"
   ]
  },
  {
   "cell_type": "markdown",
   "metadata": {},
   "source": [
    "**Quiz: sorted, join, and Lists**\n",
    "    \n",
    "What would the output of the following code be? (Treat the comma in the multiple choice answers as newlines.)"
   ]
  },
  {
   "cell_type": "code",
   "execution_count": null,
   "metadata": {},
   "outputs": [],
   "source": [
    "names = [\"Carol\", \"Albert\", \"Ben\", \"Donna\"]\n",
    "print(\" & \".join(sorted(names)))"
   ]
  },
  {
   "cell_type": "markdown",
   "metadata": {},
   "source": [
    "**Quiz: append and Lists**\n",
    "\n",
    "What would the output of the following code be? (Treat the commas in the multiple choice answers as newlines.)"
   ]
  },
  {
   "cell_type": "code",
   "execution_count": null,
   "metadata": {},
   "outputs": [],
   "source": [
    "names = [\"Carol\", \"Albert\", \"Ben\", \"Donna\"]\n",
    "names.append(\"Eugenia\")\n",
    "print(sorted(names))"
   ]
  },
  {
   "cell_type": "markdown",
   "metadata": {},
   "source": [
    "**Expert tips on data structures and data types**\n",
    "\n",
    "A data type is just a type that classifies data. This can include primitive (basic) data types like integers, booleans, and strings, as well as data structures, such as lists.\n",
    "\n",
    "Data structures are containers that organize and group data types together in different ways. For example, some of the elements that a list can contain are integers, strings, and even other lists!"
   ]
  },
  {
   "cell_type": "markdown",
   "metadata": {},
   "source": [
    "**Tuples**\n",
    "\n",
    "Python provides another useful container TUPLES\n",
    "\n",
    "Tuples are used to store related pieces of information.\n",
    "\n",
    "A tuple is a data structure in Python that is an immutable ordered sequence of elements\n",
    "\n",
    "An example👇🏽"
   ]
  },
  {
   "cell_type": "code",
   "execution_count": 7,
   "metadata": {
    "ExecuteTime": {
     "end_time": "2020-11-25T08:15:48.498152Z",
     "start_time": "2020-11-25T08:15:48.492725Z"
    }
   },
   "outputs": [
    {
     "name": "stdout",
     "output_type": "stream",
     "text": [
      "<class 'tuple'>\n"
     ]
    }
   ],
   "source": [
    "AngKorWat = (13.4125, 103.866667)\n",
    "print(type(AngKorWat))"
   ]
  },
  {
   "cell_type": "code",
   "execution_count": 8,
   "metadata": {
    "ExecuteTime": {
     "end_time": "2020-11-25T08:22:27.918140Z",
     "start_time": "2020-11-25T08:22:27.901790Z"
    }
   },
   "outputs": [
    {
     "name": "stdout",
     "output_type": "stream",
     "text": [
      "AngKor Wat is at latitude: 13.4125\n",
      "AngKor Wat is at longitude: 103.866667\n"
     ]
    }
   ],
   "source": [
    "print(\"AngKor Wat is at latitude: {}\".format(AngKorWat[0]))\n",
    "print(\"AngKor Wat is at longitude: {}\".format(AngKorWat[1]))"
   ]
  },
  {
   "cell_type": "markdown",
   "metadata": {},
   "source": [
    "Tuples are similar to lists in that they store an ordered collection of objects which can be accessed by their indices.\n",
    "\n",
    "An example is in the print statement in the above👆🏼cell"
   ]
  },
  {
   "cell_type": "markdown",
   "metadata": {},
   "source": [
    "**Unlike lists, Tuples are immutable.**\n",
    "\n",
    "You cannot add or remove items from tuples or sort them in place.\n",
    "\n",
    "**Why do we have Tuples if they are lists with fewer features?**\n",
    "\n",
    "Tuples are useful when you have two or more values that are so closely related that they will always be together like longitude and latitude.\n",
    "\n",
    "Tuples can also be used to assign multiple variables in a compact way\n",
    "\n",
    "An example👇🏽"
   ]
  },
  {
   "cell_type": "code",
   "execution_count": 9,
   "metadata": {
    "ExecuteTime": {
     "end_time": "2020-11-25T08:46:55.181099Z",
     "start_time": "2020-11-25T08:46:55.174509Z"
    }
   },
   "outputs": [
    {
     "name": "stdout",
     "output_type": "stream",
     "text": [
      "The dimensions are 52*40*100\n"
     ]
    }
   ],
   "source": [
    "dimensions = 52, 40, 100\n",
    "length, width, height = dimensions\n",
    "print(\"The dimensions are {}*{}*{}\".format(length, width, height))"
   ]
  },
  {
   "cell_type": "markdown",
   "metadata": {},
   "source": [
    "**Notice** that the values assigned to the tuple 'dimensions' aren't surrounded by parentheses as previous examples.\n",
    "\n",
    "The parentheses are optional when making tuples and programmers frequently omit them if parenthese don't clarify the code.\n",
    "\n",
    "**In the second line of the example code**👆🏼 three variables are assigned from the contents of the tuple 'dimensions'.\n",
    "\n",
    "**This is called tuple unpacking**\n",
    "\n",
    "You can use tuple unpacking to assign the information from a tuple into multiple variables without having to access them one by one, and make multiple assignment statements."
   ]
  },
  {
   "cell_type": "code",
   "execution_count": 10,
   "metadata": {
    "ExecuteTime": {
     "end_time": "2020-11-25T08:59:01.597258Z",
     "start_time": "2020-11-25T08:59:01.591433Z"
    }
   },
   "outputs": [
    {
     "name": "stdout",
     "output_type": "stream",
     "text": [
      "The dimensions are 52*40*100\n"
     ]
    }
   ],
   "source": [
    "dimensions = 52, 40, 100\n",
    "print(\"The dimensions are {}*{}*{}\".format(length, width, height))"
   ]
  },
  {
   "cell_type": "markdown",
   "metadata": {},
   "source": [
    "**In this example**👆🏼 if we won't need to use 'dimensions' directly, we could shorten those two lines of code into a single line that assigns 3 variables in one go."
   ]
  },
  {
   "cell_type": "markdown",
   "metadata": {},
   "source": [
    "**Quiz: Tuples**\n",
    "    \n",
    "What would the output of the following code be? (Treat the comma in the multiple choice answers as newlines.)"
   ]
  },
  {
   "cell_type": "code",
   "execution_count": null,
   "metadata": {},
   "outputs": [],
   "source": [
    "tuple_a = 1, 2\n",
    "tuple_b = (1, 2)\n",
    "\n",
    "print(tuple_a == tuple_b)\n",
    "print(tuple_a[1])"
   ]
  },
  {
   "cell_type": "markdown",
   "metadata": {},
   "source": [
    "**Sets**\n",
    "\n",
    "Imagine that you run a popuar search engine and you've surveyed your users to see where they are browsing from.\n",
    "\n",
    "You've collected the 785 responses and have assembled them into a list of countries.\n",
    "\n",
    "They aren't 785 countries in the world, which means that there are duplicate entries in the country's list.\n",
    "\n",
    "Sicing the list to see the first few elements confirms this.\n",
    "\n",
    "It will be useful to remove the duplicates to produce a list of all the countries that users browse from.\n",
    "\n",
    "**A set in Python does exactly that**\n"
   ]
  },
  {
   "cell_type": "markdown",
   "metadata": {},
   "source": [
    "**Sets are containers of unique elements without particular ordering.**\n",
    "\n",
    "We can create a set from a list like this👇🏽"
   ]
  },
  {
   "cell_type": "code",
   "execution_count": 14,
   "metadata": {
    "ExecuteTime": {
     "end_time": "2020-11-25T14:51:21.942264Z",
     "start_time": "2020-11-25T14:51:21.935699Z"
    }
   },
   "outputs": [
    {
     "name": "stdout",
     "output_type": "stream",
     "text": [
      "14\n"
     ]
    }
   ],
   "source": [
    "countries = [\n",
    "    'Angola', 'Maldives', 'India', 'United States', 'India', 'Denmark',\n",
    "    'Sweden', 'Ghana', 'Angola', 'Nigeria', 'Sweden', 'India', 'Congo', 'Ghana'\n",
    "]\n",
    "print(len(countries))"
   ]
  },
  {
   "cell_type": "code",
   "execution_count": 15,
   "metadata": {
    "ExecuteTime": {
     "end_time": "2020-11-25T14:51:26.425306Z",
     "start_time": "2020-11-25T14:51:26.419579Z"
    }
   },
   "outputs": [
    {
     "name": "stdout",
     "output_type": "stream",
     "text": [
      "9\n"
     ]
    }
   ],
   "source": [
    "# Set removes the duplicates\n",
    "country_set = set(countries)\n",
    "print(len(country_set))"
   ]
  },
  {
   "cell_type": "code",
   "execution_count": 16,
   "metadata": {
    "ExecuteTime": {
     "end_time": "2020-11-25T14:57:42.934344Z",
     "start_time": "2020-11-25T14:57:42.928726Z"
    }
   },
   "outputs": [
    {
     "name": "stdout",
     "output_type": "stream",
     "text": [
      "True\n",
      "True\n"
     ]
    }
   ],
   "source": [
    "# Set supports the in-operator, the way lists do\n",
    "print(\"India\" in countries)\n",
    "print(\"India\" in country_set)"
   ]
  },
  {
   "cell_type": "code",
   "execution_count": 18,
   "metadata": {
    "ExecuteTime": {
     "end_time": "2020-11-25T15:02:54.113451Z",
     "start_time": "2020-11-25T15:02:54.108910Z"
    }
   },
   "outputs": [
    {
     "name": "stdout",
     "output_type": "stream",
     "text": [
      "{'Maldives', 'Ghana', 'Sweden', 'Congo', 'India', 'United States', 'Nigeria', 'Italy', 'Angola', 'Denmark'}\n"
     ]
    }
   ],
   "source": [
    "# You can add elements to sets where you don't use the append method like you do with lists\n",
    "# Instead, sets have the add method.\n",
    "# Here👇🏽, Italy is added\n",
    "country_set.add(\"Italy\")\n",
    "print(country_set)"
   ]
  },
  {
   "cell_type": "code",
   "execution_count": 19,
   "metadata": {
    "ExecuteTime": {
     "end_time": "2020-11-25T15:12:20.758195Z",
     "start_time": "2020-11-25T15:12:20.752316Z"
    }
   },
   "outputs": [
    {
     "name": "stdout",
     "output_type": "stream",
     "text": [
      "{'Maldives', 'Ghana', 'Sweden', 'Congo', 'India', 'United States', 'Nigeria', 'Italy', 'Angola', 'Denmark'}\n"
     ]
    }
   ],
   "source": [
    "# Sets have a pop method just like lists. When you pop an element from a set\n",
    "#a random element is removed\n",
    "print(country_set)"
   ]
  },
  {
   "cell_type": "code",
   "execution_count": 20,
   "metadata": {
    "ExecuteTime": {
     "end_time": "2020-11-25T15:12:51.462447Z",
     "start_time": "2020-11-25T15:12:51.457045Z"
    }
   },
   "outputs": [
    {
     "name": "stdout",
     "output_type": "stream",
     "text": [
      "Maldives\n",
      "{'Ghana', 'Sweden', 'Congo', 'India', 'United States', 'Nigeria', 'Italy', 'Angola', 'Denmark'}\n"
     ]
    }
   ],
   "source": [
    "print(country_set.pop())\n",
    "print(country_set)\n",
    "# Maldives was randomly removed"
   ]
  },
  {
   "cell_type": "markdown",
   "metadata": {},
   "source": [
    "**Quiz: list to set**\n",
    "\n",
    "What would the output of the following code be?"
   ]
  },
  {
   "cell_type": "code",
   "execution_count": null,
   "metadata": {},
   "outputs": [],
   "source": [
    "a = [1, 2, 2, 3, 3, 3, 4, 4, 4, 4]\n",
    "b = set(a)\n",
    "print(len(a) - len(b))"
   ]
  },
  {
   "cell_type": "markdown",
   "metadata": {},
   "source": [
    "**Quiz: add and pop**\n",
    "\n",
    "Consider the following code:\n",
    "\n",
    "After executing this code, will the number 5 be a part of the set b?"
   ]
  },
  {
   "cell_type": "code",
   "execution_count": null,
   "metadata": {},
   "outputs": [],
   "source": [
    "a = [1, 2, 2, 3, 3, 3, 4, 4, 4, 4]\n",
    "b = set(a)\n",
    "b.add(5)\n",
    "b.pop()"
   ]
  },
  {
   "cell_type": "markdown",
   "metadata": {},
   "source": [
    "**Dictionaries and Identity Operators**\n",
    "\n",
    "Sets are simple data structures and they have one main use, collecting unique elements.\n",
    "\n",
    "However, dictionaries are more flexible. Rather than storing single objects like lists and sets do,\n",
    "dictionaries store pairs of elements in keys an values."
   ]
  },
  {
   "cell_type": "code",
   "execution_count": 23,
   "metadata": {
    "ExecuteTime": {
     "end_time": "2020-11-25T15:33:17.969617Z",
     "start_time": "2020-11-25T15:33:17.963604Z"
    }
   },
   "outputs": [
    {
     "name": "stdout",
     "output_type": "stream",
     "text": [
      "6\n"
     ]
    }
   ],
   "source": [
    "# In this👇🏽 example, we define a dictionary where the \n",
    "#keys and element names nad their values are corresponding\n",
    "#atomic numbers\n",
    "elements ={'hydrogen': 1, 'helium': 2, 'carbon': 6}\n",
    "print(elements['carbon'])"
   ]
  },
  {
   "cell_type": "code",
   "execution_count": 24,
   "metadata": {
    "ExecuteTime": {
     "end_time": "2020-11-25T15:34:54.366303Z",
     "start_time": "2020-11-25T15:34:54.361407Z"
    }
   },
   "outputs": [],
   "source": [
    "# We can lookup👆🏼 square values in the dictionary by using\n",
    "#square brackets enclosing a key"
   ]
  },
  {
   "cell_type": "code",
   "execution_count": 25,
   "metadata": {
    "ExecuteTime": {
     "end_time": "2020-11-25T15:38:34.862184Z",
     "start_time": "2020-11-25T15:38:34.856694Z"
    }
   },
   "outputs": [
    {
     "name": "stdout",
     "output_type": "stream",
     "text": [
      "{'hydrogen': 1, 'helium': 2, 'carbon': 6, 'lithium': 3}\n"
     ]
    }
   ],
   "source": [
    "# We can insert new values in the dictionary with square brackets\n",
    "# Here👇🏽 we adding 'lithium' and giving it a value of 3\n",
    "elements['lithium'] = 3\n",
    "print(elements)"
   ]
  },
  {
   "cell_type": "markdown",
   "metadata": {},
   "source": [
    "Dictionary keys are similar to list indices, we can select elements from the data structures by putting\n",
    "the key in square brackets\n",
    "\n",
    "Unlike lists, dictionaries can have keys of any immutable type, not just integers.\n",
    "\n",
    "The element dictionary uses strings for its keys.\n",
    "\n",
    "However, it is not necessary for every key to have the same type."
   ]
  }
 ],
 "metadata": {
  "kernelspec": {
   "display_name": "Python 3",
   "language": "python",
   "name": "python3"
  },
  "language_info": {
   "codemirror_mode": {
    "name": "ipython",
    "version": 3
   },
   "file_extension": ".py",
   "mimetype": "text/x-python",
   "name": "python",
   "nbconvert_exporter": "python",
   "pygments_lexer": "ipython3",
   "version": "3.8.6"
  }
 },
 "nbformat": 4,
 "nbformat_minor": 4
}
