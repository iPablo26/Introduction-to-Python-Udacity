{
 "cells": [
  {
   "cell_type": "markdown",
   "metadata": {
    "ExecuteTime": {
     "end_time": "2020-11-20T19:41:14.202613Z",
     "start_time": "2020-11-20T19:41:14.198801Z"
    }
   },
   "source": [
    "## Introduction to Python\n",
    "#### Data Types & Operators"
   ]
  },
  {
   "cell_type": "code",
   "execution_count": 2,
   "metadata": {
    "ExecuteTime": {
     "end_time": "2020-11-20T19:48:14.965946Z",
     "start_time": "2020-11-20T19:48:14.962341Z"
    }
   },
   "outputs": [],
   "source": [
    "# Data Types: Integers, floats, Booleans, Strings\n",
    "# Operators: Arithmetic, Assignment, Comparison, Logical\n",
    "# Built-in functions, Type conversions\n",
    "# Whitespaces & Style Guidances"
   ]
  },
  {
   "cell_type": "code",
   "execution_count": 3,
   "metadata": {
    "ExecuteTime": {
     "end_time": "2020-11-20T19:54:54.301611Z",
     "start_time": "2020-11-20T19:54:54.294290Z"
    }
   },
   "outputs": [
    {
     "name": "stdout",
     "output_type": "stream",
     "text": [
      "11\n"
     ]
    }
   ],
   "source": [
    "# Addition +\n",
    "print(4+7)"
   ]
  },
  {
   "cell_type": "code",
   "execution_count": 4,
   "metadata": {
    "ExecuteTime": {
     "end_time": "2020-11-20T19:55:14.379354Z",
     "start_time": "2020-11-20T19:55:14.374401Z"
    }
   },
   "outputs": [
    {
     "name": "stdout",
     "output_type": "stream",
     "text": [
      "-3\n"
     ]
    }
   ],
   "source": [
    "# Subtraction\n",
    "print(4-7)"
   ]
  },
  {
   "cell_type": "code",
   "execution_count": 5,
   "metadata": {
    "ExecuteTime": {
     "end_time": "2020-11-20T19:55:40.644891Z",
     "start_time": "2020-11-20T19:55:40.639562Z"
    }
   },
   "outputs": [
    {
     "name": "stdout",
     "output_type": "stream",
     "text": [
      "28\n"
     ]
    }
   ],
   "source": [
    "# Multiplication *\n",
    "print(4*7)"
   ]
  },
  {
   "cell_type": "code",
   "execution_count": 6,
   "metadata": {
    "ExecuteTime": {
     "end_time": "2020-11-20T19:56:01.319255Z",
     "start_time": "2020-11-20T19:56:01.313301Z"
    }
   },
   "outputs": [
    {
     "name": "stdout",
     "output_type": "stream",
     "text": [
      "0.5714285714285714\n"
     ]
    }
   ],
   "source": [
    "# Division\n",
    "print(4/7)"
   ]
  },
  {
   "cell_type": "code",
   "execution_count": 7,
   "metadata": {
    "ExecuteTime": {
     "end_time": "2020-11-20T19:56:37.303181Z",
     "start_time": "2020-11-20T19:56:37.297982Z"
    }
   },
   "outputs": [
    {
     "name": "stdout",
     "output_type": "stream",
     "text": [
      "490\n"
     ]
    }
   ],
   "source": [
    "# Mathematical order of precedence\n",
    "# BODMAS or PEMDAS \n",
    "print(1+3+6*9*9)"
   ]
  },
  {
   "cell_type": "code",
   "execution_count": 8,
   "metadata": {
    "ExecuteTime": {
     "end_time": "2020-11-20T19:59:54.181038Z",
     "start_time": "2020-11-20T19:59:54.175420Z"
    }
   },
   "outputs": [
    {
     "name": "stdout",
     "output_type": "stream",
     "text": [
      "810\n"
     ]
    }
   ],
   "source": [
    "# Change the order of predence using parentheses\n",
    "print((1+3+6)*9*9)"
   ]
  },
  {
   "cell_type": "code",
   "execution_count": 9,
   "metadata": {
    "ExecuteTime": {
     "end_time": "2020-11-20T20:00:37.709492Z",
     "start_time": "2020-11-20T20:00:37.704481Z"
    }
   },
   "outputs": [
    {
     "name": "stdout",
     "output_type": "stream",
     "text": [
      "43046721\n"
     ]
    }
   ],
   "source": [
    "# Exponentiation; Raising to the power\n",
    "print(9**8)"
   ]
  },
  {
   "cell_type": "code",
   "execution_count": 1,
   "metadata": {
    "ExecuteTime": {
     "end_time": "2020-11-21T05:14:50.153273Z",
     "start_time": "2020-11-21T05:14:50.147048Z"
    }
   },
   "outputs": [
    {
     "name": "stdout",
     "output_type": "stream",
     "text": [
      "2\n"
     ]
    }
   ],
   "source": [
    "# Modulo; Outputs the remainder after the division operation\n",
    "print(98%8)"
   ]
  },
  {
   "cell_type": "code",
   "execution_count": 2,
   "metadata": {
    "ExecuteTime": {
     "end_time": "2020-11-21T05:22:20.432180Z",
     "start_time": "2020-11-21T05:22:20.427319Z"
    }
   },
   "outputs": [
    {
     "name": "stdout",
     "output_type": "stream",
     "text": [
      "3\n"
     ]
    }
   ],
   "source": [
    "# Integer division; A division operation that rounds down the output result to an integer\n",
    "print(19 // 6)"
   ]
  },
  {
   "cell_type": "markdown",
   "metadata": {},
   "source": [
    "**Quiz: Average Electricity Bill**\n",
    "\n",
    "*My electricity bills for the last three months have been $23, $32 and $64. What is the average monthly electricity bill over the three month period? Write an expression to calculate the mean, and use print() to view the result.*"
   ]
  },
  {
   "cell_type": "code",
   "execution_count": 3,
   "metadata": {
    "ExecuteTime": {
     "end_time": "2020-11-21T05:31:00.160660Z",
     "start_time": "2020-11-21T05:31:00.154487Z"
    }
   },
   "outputs": [
    {
     "name": "stdout",
     "output_type": "stream",
     "text": [
      "39.666666666666664\n"
     ]
    }
   ],
   "source": [
    "# The mean\n",
    "print((23+32+64)/3)"
   ]
  },
  {
   "cell_type": "code",
   "execution_count": 4,
   "metadata": {
    "ExecuteTime": {
     "end_time": "2020-11-21T05:32:01.924867Z",
     "start_time": "2020-11-21T05:32:01.919190Z"
    }
   },
   "outputs": [
    {
     "name": "stdout",
     "output_type": "stream",
     "text": [
      "39\n"
     ]
    }
   ],
   "source": [
    "# The mean rounded down to an integer\n",
    "print((23+32+64)//3)"
   ]
  },
  {
   "cell_type": "markdown",
   "metadata": {},
   "source": [
    "**Quiz: Calculate**\n",
    "\n",
    "*In this quiz you're going to do some calculations for a tiler. Two parts of a floor need tiling. One part is 9 tiles wide by 7 tiles long, the other is 5 tiles wide by 7 tiles long. Tiles come in packages of 6.*\n",
    "\n",
    "*How many tiles are needed?*\n",
    "\n",
    "*You buy 17 packages of tiles containing 6 tiles each. How many tiles will be left over?*\n"
   ]
  },
  {
   "cell_type": "code",
   "execution_count": 5,
   "metadata": {
    "ExecuteTime": {
     "end_time": "2020-11-21T05:42:51.066544Z",
     "start_time": "2020-11-21T05:42:51.060924Z"
    }
   },
   "outputs": [
    {
     "name": "stdout",
     "output_type": "stream",
     "text": [
      "98\n"
     ]
    }
   ],
   "source": [
    "# Fill this in with an expression that calculates how many tiles are needed.\n",
    "print((9*7) + (5*7))"
   ]
  },
  {
   "cell_type": "code",
   "execution_count": 7,
   "metadata": {
    "ExecuteTime": {
     "end_time": "2020-11-21T05:45:49.193747Z",
     "start_time": "2020-11-21T05:45:49.188636Z"
    }
   },
   "outputs": [
    {
     "name": "stdout",
     "output_type": "stream",
     "text": [
      "4\n"
     ]
    }
   ],
   "source": [
    "# Fill this in with an expression that calculates how many tiles will be left over.\n",
    "print((17*6) - (9*7 + 5*7))"
   ]
  },
  {
   "cell_type": "markdown",
   "metadata": {},
   "source": [
    "**Variables and Assignment Operators**"
   ]
  },
  {
   "cell_type": "code",
   "execution_count": 10,
   "metadata": {
    "ExecuteTime": {
     "end_time": "2020-11-21T06:06:41.159425Z",
     "start_time": "2020-11-21T06:06:41.155437Z"
    }
   },
   "outputs": [],
   "source": [
    "# Variables 1\n",
    "mv_population = 74728\n",
    "\n",
    "# mv_population - variable name\n",
    "# = assignment operator\n",
    "# 74728 is the value of the variable"
   ]
  },
  {
   "cell_type": "markdown",
   "metadata": {},
   "source": [
    "*This 👆🏼 assigns the item on the right to the name on the left, which is actually a little different than mathematical equality, as 74728 does not hold the value of mv_population*\n",
    "\n",
    "*In any case, whatever term is on the left side, is now a name for whatever value is on the right side. Once a value has been assigned to a variable name, you can access the value from the variable name.*"
   ]
  },
  {
   "cell_type": "code",
   "execution_count": 11,
   "metadata": {
    "ExecuteTime": {
     "end_time": "2020-11-21T08:08:26.248539Z",
     "start_time": "2020-11-21T08:08:26.243334Z"
    }
   },
   "outputs": [
    {
     "name": "stdout",
     "output_type": "stream",
     "text": [
      "2\n"
     ]
    }
   ],
   "source": [
    "x = 2 # 2 is assigned to x\n",
    "y = x # x is assigned to y\n",
    "print(y) # y bears the value of x i.e 2"
   ]
  },
  {
   "cell_type": "code",
   "execution_count": 12,
   "metadata": {
    "ExecuteTime": {
     "end_time": "2020-11-21T08:10:51.414491Z",
     "start_time": "2020-11-21T08:10:51.217312Z"
    }
   },
   "outputs": [
    {
     "ename": "NameError",
     "evalue": "name 'z' is not defined",
     "output_type": "error",
     "traceback": [
      "\u001b[0;31m---------------------------------------------------------------------------\u001b[0m",
      "\u001b[0;31mNameError\u001b[0m                                 Traceback (most recent call last)",
      "\u001b[0;32m<ipython-input-12-0259cd2df82e>\u001b[0m in \u001b[0;36m<module>\u001b[0;34m\u001b[0m\n\u001b[1;32m      1\u001b[0m \u001b[0;31m# Trying to access a variable that isn't defined, you get this👇🏽 error\u001b[0m\u001b[0;34m\u001b[0m\u001b[0;34m\u001b[0m\u001b[0;34m\u001b[0m\u001b[0m\n\u001b[0;32m----> 2\u001b[0;31m \u001b[0mprint\u001b[0m\u001b[0;34m(\u001b[0m\u001b[0mz\u001b[0m\u001b[0;34m)\u001b[0m\u001b[0;34m\u001b[0m\u001b[0;34m\u001b[0m\u001b[0m\n\u001b[0m",
      "\u001b[0;31mNameError\u001b[0m: name 'z' is not defined"
     ]
    }
   ],
   "source": [
    "# Trying to access a variable that isn't defined, you get this👇🏽 error\n",
    "print(z)"
   ]
  },
  {
   "cell_type": "markdown",
   "metadata": {},
   "source": [
    "**Variables II**"
   ]
  },
  {
   "cell_type": "code",
   "execution_count": 13,
   "metadata": {
    "ExecuteTime": {
     "end_time": "2020-11-21T09:10:07.105350Z",
     "start_time": "2020-11-21T09:10:07.101289Z"
    }
   },
   "outputs": [],
   "source": [
    "# Assigning multiple variables at ones\n",
    "x,y,z = 2,3,5"
   ]
  },
  {
   "cell_type": "markdown",
   "metadata": {},
   "source": [
    "For example, if you are computing the population density of a mountain view by dividing the population by the land area, here is one way to compute the correct answer:"
   ]
  },
  {
   "cell_type": "code",
   "execution_count": 14,
   "metadata": {
    "ExecuteTime": {
     "end_time": "2020-11-21T09:19:35.566060Z",
     "start_time": "2020-11-21T09:19:35.559213Z"
    }
   },
   "outputs": [
    {
     "name": "stdout",
     "output_type": "stream",
     "text": [
      "6250.773734838979\n"
     ]
    }
   ],
   "source": [
    "x = 74728\n",
    "y = 11.955\n",
    "z = x/y\n",
    "print(z)"
   ]
  },
  {
   "cell_type": "code",
   "execution_count": 15,
   "metadata": {
    "ExecuteTime": {
     "end_time": "2020-11-21T09:21:25.441907Z",
     "start_time": "2020-11-21T09:21:25.436162Z"
    }
   },
   "outputs": [
    {
     "name": "stdout",
     "output_type": "stream",
     "text": [
      "6250.773734838979\n"
     ]
    }
   ],
   "source": [
    "# But with descriptive names, it is clearer\n",
    "mv_population = 74728\n",
    "mv_area = 11.955\n",
    "mv_density = mv_population/mv_area\n",
    "print(mv_density)"
   ]
  },
  {
   "cell_type": "markdown",
   "metadata": {},
   "source": [
    "Besides writing variable names that are descriptive, there are a few things to watch out for when naming variables in Python.\n",
    "\n",
    "1. Only use ordinary letters, numbers and underscores in your variable names. They can’t have spaces, and need to start with a letter or underscore.\n",
    "\n",
    "\n",
    "2. You can’t use reserved words or built-in identifiers that have important purposes in Python, which you’ll learn about throughout this course. A list of python reserved words is described here. Creating names that are descriptive of the values often will help you avoid using any of these words. A quick table of these words is also available below.\n",
    "\n",
    "\n",
    "3. The pythonic way to name variables is to use all lowercase letters and underscores to separate words."
   ]
  },
  {
   "cell_type": "markdown",
   "metadata": {},
   "source": [
    "**Variables III**"
   ]
  },
  {
   "cell_type": "code",
   "execution_count": 16,
   "metadata": {
    "ExecuteTime": {
     "end_time": "2020-11-21T15:27:11.363333Z",
     "start_time": "2020-11-21T15:27:11.359821Z"
    }
   },
   "outputs": [],
   "source": [
    "# What if we need to make changes to mv_population as it changes?\n",
    "# mv_population = mv_population + 4000 - 600 is not sustainable or efficient\n",
    "# So what is efficient? This👇🏽"
   ]
  },
  {
   "cell_type": "code",
   "execution_count": 18,
   "metadata": {
    "ExecuteTime": {
     "end_time": "2020-11-21T15:30:10.065581Z",
     "start_time": "2020-11-21T15:30:10.059719Z"
    }
   },
   "outputs": [
    {
     "name": "stdout",
     "output_type": "stream",
     "text": [
      "81528\n"
     ]
    }
   ],
   "source": [
    "# The plus equals operator +=\n",
    "# We can use this operator to tell python\n",
    "#we are incrementing the variable on the left\n",
    "#by the value on the right.\n",
    "mv_population += 4000 - 600\n",
    "print(mv_population)"
   ]
  },
  {
   "cell_type": "code",
   "execution_count": 19,
   "metadata": {
    "ExecuteTime": {
     "end_time": "2020-11-21T15:32:39.654359Z",
     "start_time": "2020-11-21T15:32:39.649853Z"
    }
   },
   "outputs": [],
   "source": [
    "# Operators include: -=, *=\n",
    "# It makes code more conscise"
   ]
  },
  {
   "cell_type": "markdown",
   "metadata": {},
   "source": [
    "Check out this link for more operators and practices: https://www.programiz.com/python-programming/operators"
   ]
  },
  {
   "cell_type": "markdown",
   "metadata": {},
   "source": [
    "**Quiz: Assign and Modify Variables**\n",
    "\n",
    "*The comments in this quiz (the lines that begin with #) have instructions for creating and modifying variables. After each comment write a line of code that implements the instruction.*"
   ]
  },
  {
   "cell_type": "code",
   "execution_count": 3,
   "metadata": {
    "ExecuteTime": {
     "end_time": "2020-11-21T16:33:55.562512Z",
     "start_time": "2020-11-21T16:33:55.557228Z"
    }
   },
   "outputs": [],
   "source": [
    "# The current volume of a water reservoir (in cubic metres)\n",
    "reservoir_volume = 4.445e8\n",
    "# The amount of rainfall from a storm (in cubic metres)\n",
    "rainfall = 5e6\n",
    "\n",
    "# decrease the rainfall variable by 10% to account for runoff\n",
    "rainfall *= .9 \n",
    "# add the rainfall variable to the reservoir_volume variable\n",
    "reservoir_volume += rainfall\n",
    "# increase reservoir_volume by 5% to account for stormwater that flows\n",
    "# into the reservoir in the days following the storm\n",
    "reservoir_volume *= 1.05 \n",
    "# decrease reservoir_volume by 5% to account for evaporation\n",
    "reservoir_volume *= .95 \n",
    "# subtract 2.5e5 cubic metres from reservoir_volume to account for water\n",
    "# that's piped to arid regions.\n",
    "reservoir_volume -= 2.5e5\n",
    "# print the new value of the reservoir_volume variable"
   ]
  },
  {
   "cell_type": "code",
   "execution_count": 4,
   "metadata": {
    "ExecuteTime": {
     "end_time": "2020-11-21T16:33:57.663965Z",
     "start_time": "2020-11-21T16:33:57.656207Z"
    }
   },
   "outputs": [
    {
     "name": "stdout",
     "output_type": "stream",
     "text": [
      "447627500.0\n"
     ]
    }
   ],
   "source": [
    "print(reservoir_volume)"
   ]
  },
  {
   "cell_type": "markdown",
   "metadata": {},
   "source": [
    "**Quiz: Changing Variable Values**\n",
    "\n",
    "*How does changing the value of a variable affect another variable that was defined in terms of it? Let's look at an example.*"
   ]
  },
  {
   "cell_type": "code",
   "execution_count": 8,
   "metadata": {
    "ExecuteTime": {
     "end_time": "2020-11-21T16:39:05.713774Z",
     "start_time": "2020-11-21T16:39:05.708533Z"
    }
   },
   "outputs": [],
   "source": [
    "# Each line of code executes in order, one at a time, with control going from one line to the next.\n",
    "carrots = 24\n",
    "rabbits = 8\n",
    "crs_per_rab = carrots/rabbits"
   ]
  },
  {
   "cell_type": "code",
   "execution_count": 9,
   "metadata": {
    "ExecuteTime": {
     "end_time": "2020-11-21T16:39:06.443523Z",
     "start_time": "2020-11-21T16:39:06.433132Z"
    }
   },
   "outputs": [],
   "source": [
    "# Now we add a new 4th line to this code, that assigns a new value to the rabbits variable:\n",
    "rabbits = 12"
   ]
  },
  {
   "cell_type": "code",
   "execution_count": 10,
   "metadata": {
    "ExecuteTime": {
     "end_time": "2020-11-21T16:39:07.005925Z",
     "start_time": "2020-11-21T16:39:07.000624Z"
    }
   },
   "outputs": [
    {
     "name": "stdout",
     "output_type": "stream",
     "text": [
      "3.0\n"
     ]
    }
   ],
   "source": [
    "# If we now add this new 5th line of code to the above, what will the output be?\n",
    "print(crs_per_rab)\n",
    "# Apparently nothing changed in the variable crs_per_rab"
   ]
  },
  {
   "cell_type": "markdown",
   "metadata": {},
   "source": [
    "For the first multiple choice quiz, the correct answer is that the value of crs_per_rab has not changed. That is, it is still 3.0.\n",
    "\n",
    "This is because when a variable is assigned, it is assigned to the value of the expression on the right-hand-side, not to the expression itself. In the line:"
   ]
  },
  {
   "cell_type": "markdown",
   "metadata": {},
   "source": [
    "Here is a list of U.S. states in order of the date they entered the Union (https://en.wikipedia.org/wiki/List_of_U.S._states_by_date_of_admission_to_the_Union). Say you wanted to create a variable for Delaware and assign it a value to signify that it joined the Union first. Which of the following are valid variable names and assignments in Python?"
   ]
  },
  {
   "cell_type": "code",
   "execution_count": null,
   "metadata": {},
   "outputs": [],
   "source": [
    "#1 del = 1\n",
    "#2 delaware = 1\n",
    "#3 1 de = 1\n",
    "#4 de = 1\n",
    "\n",
    "# Answer is 2 & 4"
   ]
  },
  {
   "cell_type": "markdown",
   "metadata": {},
   "source": [
    "**Integers and Floats**"
   ]
  },
  {
   "cell_type": "code",
   "execution_count": 1,
   "metadata": {
    "ExecuteTime": {
     "end_time": "2020-11-22T16:06:26.949962Z",
     "start_time": "2020-11-22T16:06:26.946133Z"
    }
   },
   "outputs": [],
   "source": [
    "#There are two Python data types that could be used for numeric values:\n",
    "\n",
    "#int - for integer values\n",
    "#float - for decimal or floating point values"
   ]
  },
  {
   "cell_type": "code",
   "execution_count": 2,
   "metadata": {
    "ExecuteTime": {
     "end_time": "2020-11-22T16:07:48.206535Z",
     "start_time": "2020-11-22T16:07:48.201947Z"
    }
   },
   "outputs": [],
   "source": [
    "# You can create a value that follows the data type by using the following syntax:\n",
    "x = int(4.7) # x is now an integer 4\n",
    "y = float(4) # y is now a float 4.0"
   ]
  },
  {
   "cell_type": "code",
   "execution_count": 4,
   "metadata": {
    "ExecuteTime": {
     "end_time": "2020-11-22T16:08:30.081768Z",
     "start_time": "2020-11-22T16:08:30.075119Z"
    }
   },
   "outputs": [
    {
     "data": {
      "text/plain": [
       "int"
      ]
     },
     "execution_count": 4,
     "metadata": {},
     "output_type": "execute_result"
    }
   ],
   "source": [
    "# You can check the type by using the type function:\n",
    "type(x)"
   ]
  },
  {
   "cell_type": "code",
   "execution_count": 5,
   "metadata": {
    "ExecuteTime": {
     "end_time": "2020-11-22T16:08:33.018811Z",
     "start_time": "2020-11-22T16:08:33.011382Z"
    }
   },
   "outputs": [
    {
     "data": {
      "text/plain": [
       "float"
      ]
     },
     "execution_count": 5,
     "metadata": {},
     "output_type": "execute_result"
    }
   ],
   "source": [
    "type(y)"
   ]
  },
  {
   "cell_type": "markdown",
   "metadata": {},
   "source": [
    "Because the float, or approximation, for 0.1 is actually slightly more than 0.1, when we add several of them together we can see the difference between the mathematically correct answer and the one that Python creates."
   ]
  },
  {
   "cell_type": "code",
   "execution_count": 6,
   "metadata": {
    "ExecuteTime": {
     "end_time": "2020-11-22T16:09:27.960857Z",
     "start_time": "2020-11-22T16:09:27.954560Z"
    }
   },
   "outputs": [
    {
     "name": "stdout",
     "output_type": "stream",
     "text": [
      "False\n"
     ]
    }
   ],
   "source": [
    "print(.1 + .1 + .1 == .3)"
   ]
  },
  {
   "cell_type": "markdown",
   "metadata": {},
   "source": [
    "**Whitespace**"
   ]
  },
  {
   "cell_type": "code",
   "execution_count": 7,
   "metadata": {
    "ExecuteTime": {
     "end_time": "2020-11-22T16:25:32.305546Z",
     "start_time": "2020-11-22T16:25:32.301581Z"
    }
   },
   "outputs": [],
   "source": [
    "# Whitepaces might not affect how a single line of code works,\n",
    "#but learning how to write clear and readable code is critical"
   ]
  },
  {
   "cell_type": "markdown",
   "metadata": {},
   "source": [
    "**Best Practices**"
   ]
  },
  {
   "cell_type": "code",
   "execution_count": 8,
   "metadata": {
    "ExecuteTime": {
     "end_time": "2020-11-22T16:26:50.256804Z",
     "start_time": "2020-11-22T16:26:50.251451Z"
    }
   },
   "outputs": [
    {
     "name": "stdout",
     "output_type": "stream",
     "text": [
      "8\n"
     ]
    }
   ],
   "source": [
    "# Ensure you do this👇🏽\n",
    "print(8)"
   ]
  },
  {
   "cell_type": "code",
   "execution_count": 9,
   "metadata": {
    "ExecuteTime": {
     "end_time": "2020-11-22T16:27:21.972129Z",
     "start_time": "2020-11-22T16:27:21.966656Z"
    }
   },
   "outputs": [
    {
     "name": "stdout",
     "output_type": "stream",
     "text": [
      "8\n"
     ]
    }
   ],
   "source": [
    "# Not this👇🏽\n",
    "print (8)"
   ]
  },
  {
   "cell_type": "code",
   "execution_count": 11,
   "metadata": {
    "ExecuteTime": {
     "end_time": "2020-11-22T16:29:50.819633Z",
     "start_time": "2020-11-22T16:29:50.814281Z"
    }
   },
   "outputs": [
    {
     "name": "stdout",
     "output_type": "stream",
     "text": [
      "20\n"
     ]
    }
   ],
   "source": [
    "# If you're mixing mathematical operators with different\n",
    "#priorities, you might like to add a space around the lower\n",
    "#priority, to make the code easier to read\n",
    "print(3*7 - 1)"
   ]
  },
  {
   "cell_type": "code",
   "execution_count": 12,
   "metadata": {
    "ExecuteTime": {
     "end_time": "2020-11-22T16:36:10.590572Z",
     "start_time": "2020-11-22T16:36:10.586800Z"
    }
   },
   "outputs": [],
   "source": [
    "# Don't write extremely long lines of code\n",
    "# It makes the code hard to understand\n",
    "# Common best practice: 79 - 99 characters long"
   ]
  },
  {
   "cell_type": "code",
   "execution_count": null,
   "metadata": {},
   "outputs": [],
   "source": [
    "# If you must write long lines of code\n",
    "# Consider rewriting, simplifying & separating \n",
    "# your code into multiple lines"
   ]
  },
  {
   "cell_type": "markdown",
   "metadata": {},
   "source": [
    "For all the best practices, see the https://www.python.org/dev/peps/pep-0008/"
   ]
  },
  {
   "cell_type": "markdown",
   "metadata": {},
   "source": [
    "**Booleans, Comparison Operators, and Logical Operators**"
   ]
  },
  {
   "cell_type": "code",
   "execution_count": 1,
   "metadata": {
    "ExecuteTime": {
     "end_time": "2020-11-23T04:50:13.716623Z",
     "start_time": "2020-11-23T04:50:13.712687Z"
    }
   },
   "outputs": [],
   "source": [
    "# Bool is a data type that can have a value of True or False\n",
    "# Bool is an abbreviation of Boolean\n",
    "# Boolean algebra is a branch of algebra dealing with variables\n",
    "#whose values are True or False\n",
    "# Boolean logic underpins all digital devices existing in almost\n",
    "#every line of computer code."
   ]
  },
  {
   "cell_type": "code",
   "execution_count": 2,
   "metadata": {
    "ExecuteTime": {
     "end_time": "2020-11-23T04:51:10.556055Z",
     "start_time": "2020-11-23T04:51:10.547242Z"
    }
   },
   "outputs": [],
   "source": [
    "# We can assign boolean values like this:\n",
    "the_sun_is_up = True \n",
    "the_sun_is_blue = False"
   ]
  },
  {
   "cell_type": "code",
   "execution_count": 3,
   "metadata": {
    "ExecuteTime": {
     "end_time": "2020-11-23T04:54:03.795523Z",
     "start_time": "2020-11-23T04:54:03.786669Z"
    }
   },
   "outputs": [
    {
     "name": "stdout",
     "output_type": "stream",
     "text": [
      "False\n"
     ]
    }
   ],
   "source": [
    "# We can use comparison operators like less than <\n",
    "#and greater than > to compare values and produce a boolean result\n",
    "x = 42 > 43\n",
    "print(x)"
   ]
  },
  {
   "cell_type": "markdown",
   "metadata": {},
   "source": [
    "**Comparison Operators**"
   ]
  },
  {
   "cell_type": "markdown",
   "metadata": {},
   "source": [
    "**< -- less than**\n",
    "\n",
    "**> -- greater than**\n",
    "\n",
    "**<= -- less than equal to**\n",
    "\n",
    "**>= -- greater than equal to**\n",
    "\n",
    "**== -- equal to**\n",
    "\n",
    "**!= -- not equal to**"
   ]
  },
  {
   "cell_type": "markdown",
   "metadata": {},
   "source": [
    "**Logical Operators**"
   ]
  },
  {
   "cell_type": "code",
   "execution_count": 4,
   "metadata": {
    "ExecuteTime": {
     "end_time": "2020-11-23T05:05:35.677489Z",
     "start_time": "2020-11-23T05:05:35.672299Z"
    }
   },
   "outputs": [],
   "source": [
    "# AND == Evaluates if both sides are\n",
    "# OR == Evaluates if atleast on side is true\n",
    "# NOT == Inverses a boolean type"
   ]
  },
  {
   "cell_type": "code",
   "execution_count": 5,
   "metadata": {
    "ExecuteTime": {
     "end_time": "2020-11-23T05:06:40.592210Z",
     "start_time": "2020-11-23T05:06:40.583245Z"
    }
   },
   "outputs": [
    {
     "name": "stdout",
     "output_type": "stream",
     "text": [
      "True\n"
     ]
    }
   ],
   "source": [
    "# Example of the AND logical Operator\n",
    "age = 14\n",
    "is_teen = age > 12 and age < 20\n",
    "print(is_teen)"
   ]
  },
  {
   "cell_type": "code",
   "execution_count": 6,
   "metadata": {
    "ExecuteTime": {
     "end_time": "2020-11-23T05:08:23.570157Z",
     "start_time": "2020-11-23T05:08:23.563772Z"
    }
   },
   "outputs": [
    {
     "name": "stdout",
     "output_type": "stream",
     "text": [
      "False\n"
     ]
    }
   ],
   "source": [
    "# Example of the NOT logical Operator\n",
    "age = 14\n",
    "is_teen = not (age > 12 and age < 20)\n",
    "print(is_teen)"
   ]
  },
  {
   "cell_type": "code",
   "execution_count": 7,
   "metadata": {
    "ExecuteTime": {
     "end_time": "2020-11-23T05:08:52.102247Z",
     "start_time": "2020-11-23T05:08:52.095197Z"
    }
   },
   "outputs": [
    {
     "name": "stdout",
     "output_type": "stream",
     "text": [
      "True\n"
     ]
    }
   ],
   "source": [
    "# Example of the OR logical Operator\n",
    "age = 14\n",
    "is_teen = age > 12 or age < 20\n",
    "print(is_teen)"
   ]
  },
  {
   "cell_type": "markdown",
   "metadata": {},
   "source": [
    "**Quiz: Which is denser, Rio or San Francisco?**"
   ]
  },
  {
   "cell_type": "markdown",
   "metadata": {},
   "source": [
    "Try comparison operators in this quiz! This code calculates the population densities of Rio de Janeiro and San Francisco.\n",
    "\n",
    "Write code to compare these densities. Is the population of San Francisco more dense than that of Rio de Janeiro? Print True if it is and False if not."
   ]
  },
  {
   "cell_type": "code",
   "execution_count": 8,
   "metadata": {
    "ExecuteTime": {
     "end_time": "2020-11-23T05:11:16.154208Z",
     "start_time": "2020-11-23T05:11:16.149102Z"
    }
   },
   "outputs": [],
   "source": [
    "sf_population, sf_area = 864816, 231.89\n",
    "rio_population, rio_area = 6453682, 486.5\n",
    "\n",
    "san_francisco_pop_density = sf_population/sf_area\n",
    "rio_de_janeiro_pop_density = rio_population/rio_area\n",
    "\n",
    "# Write code that prints True if San Francisco is denser than Rio, and False otherwise"
   ]
  },
  {
   "cell_type": "code",
   "execution_count": 10,
   "metadata": {
    "ExecuteTime": {
     "end_time": "2020-11-23T05:16:34.155964Z",
     "start_time": "2020-11-23T05:16:34.150958Z"
    }
   },
   "outputs": [
    {
     "name": "stdout",
     "output_type": "stream",
     "text": [
      "False\n"
     ]
    }
   ],
   "source": [
    "is_sf_denser = san_francisco_pop_density > rio_de_janeiro_pop_density\n",
    "print(is_sf_denser)"
   ]
  },
  {
   "cell_type": "code",
   "execution_count": 11,
   "metadata": {
    "ExecuteTime": {
     "end_time": "2020-11-23T05:19:01.377661Z",
     "start_time": "2020-11-23T05:19:01.373625Z"
    }
   },
   "outputs": [],
   "source": [
    "# Why do you think Python uses == for checking equality rather than =?\n",
    "# Answer: Because the = is an assignment token"
   ]
  },
  {
   "cell_type": "markdown",
   "metadata": {},
   "source": [
    "**String**"
   ]
  },
  {
   "cell_type": "code",
   "execution_count": 12,
   "metadata": {
    "ExecuteTime": {
     "end_time": "2020-11-23T05:43:27.940721Z",
     "start_time": "2020-11-23T05:43:27.937182Z"
    }
   },
   "outputs": [],
   "source": [
    "# Programming involves more than numbers amd arithmetics\n",
    "# They may be situations where you need to work with text\n",
    "# To work with text in Python, you'll need to use a STRING"
   ]
  },
  {
   "cell_type": "code",
   "execution_count": 13,
   "metadata": {
    "ExecuteTime": {
     "end_time": "2020-11-23T05:44:25.406279Z",
     "start_time": "2020-11-23T05:44:25.401741Z"
    }
   },
   "outputs": [],
   "source": [
    "# String is a datatype for immutable ordered sequence of characters"
   ]
  },
  {
   "cell_type": "code",
   "execution_count": 14,
   "metadata": {
    "ExecuteTime": {
     "end_time": "2020-11-23T05:46:46.527830Z",
     "start_time": "2020-11-23T05:46:46.522173Z"
    }
   },
   "outputs": [
    {
     "name": "stdout",
     "output_type": "stream",
     "text": [
      "Hello\n",
      "Hello\n"
     ]
    }
   ],
   "source": [
    "# You an create a string using quotes\n",
    "print(\"Hello\") # Double quotes\n",
    "print('Hello') # Single quotes"
   ]
  },
  {
   "cell_type": "code",
   "execution_count": 15,
   "metadata": {
    "ExecuteTime": {
     "end_time": "2020-11-23T05:59:02.115284Z",
     "start_time": "2020-11-23T05:59:02.105745Z"
    }
   },
   "outputs": [],
   "source": [
    "# We can set a variable to be a string\n",
    "#the same way we did with numbbers\n",
    "# Strings can include characters,\n",
    "#even spaces, punctuations and numbers"
   ]
  },
  {
   "cell_type": "code",
   "execution_count": 20,
   "metadata": {
    "ExecuteTime": {
     "end_time": "2020-11-23T06:03:04.818315Z",
     "start_time": "2020-11-23T06:03:04.813098Z"
    }
   },
   "outputs": [
    {
     "name": "stdout",
     "output_type": "stream",
     "text": [
      "Hello, Welcome to Python Learning!\n"
     ]
    }
   ],
   "source": [
    "welcome_message = \"Hello, Welcome to Python Learning!\"\n",
    "print(welcome_message)"
   ]
  },
  {
   "cell_type": "code",
   "execution_count": 21,
   "metadata": {
    "ExecuteTime": {
     "end_time": "2020-11-23T06:03:14.395296Z",
     "start_time": "2020-11-23T06:03:14.388934Z"
    }
   },
   "outputs": [
    {
     "ename": "SyntaxError",
     "evalue": "invalid syntax (<ipython-input-21-ff45d31d39b7>, line 2)",
     "output_type": "error",
     "traceback": [
      "\u001b[0;36m  File \u001b[0;32m\"<ipython-input-21-ff45d31d39b7>\"\u001b[0;36m, line \u001b[0;32m2\u001b[0m\n\u001b[0;31m    pet_halibut = \"why should I be tarred with epithet \"loony\" merely because I have a pet halibut\"\u001b[0m\n\u001b[0m                                                        ^\u001b[0m\n\u001b[0;31mSyntaxError\u001b[0m\u001b[0;31m:\u001b[0m invalid syntax\n"
     ]
    }
   ],
   "source": [
    "# What to do when we want quotation marks in our string\"\n",
    "pet_halibut = \"why should I be tarred with epithet \"loony\" merely because I have a pet halibut\"\n",
    "print(pet_halibut)"
   ]
  },
  {
   "cell_type": "code",
   "execution_count": 22,
   "metadata": {
    "ExecuteTime": {
     "end_time": "2020-11-23T06:09:39.457149Z",
     "start_time": "2020-11-23T06:09:39.452152Z"
    }
   },
   "outputs": [
    {
     "name": "stdout",
     "output_type": "stream",
     "text": [
      "why should I be tarred with epithet \"loony\" merely because I have a pet halibut\n"
     ]
    }
   ],
   "source": [
    "# Python offers two solutions to the problem of using quotation marks\n",
    "# 1st: Place strings in single quoatation rather than double quotation\n",
    "pet_halibut = 'why should I be tarred with epithet \"loony\" merely because I have a pet halibut'\n",
    "print(pet_halibut)"
   ]
  },
  {
   "cell_type": "code",
   "execution_count": 27,
   "metadata": {
    "ExecuteTime": {
     "end_time": "2020-11-23T06:19:10.937305Z",
     "start_time": "2020-11-23T06:19:10.930391Z"
    }
   },
   "outputs": [
    {
     "name": "stdout",
     "output_type": "stream",
     "text": [
      " I think you're an encyclopaedia salesman \n"
     ]
    }
   ],
   "source": [
    "# 2nd: What to do to define both single and double quotes\n",
    "# Use a backslash \\\n",
    "salesman = ''' I think you\\'re an encyclopaedia salesman '''\n",
    "print(salesman)\n",
    "\n",
    "# The single quote is preceded by a \\ so that Python knows that it should be \n",
    "#interpreted as part of the string rather than the quote that ends the string"
   ]
  },
  {
   "cell_type": "code",
   "execution_count": 28,
   "metadata": {
    "ExecuteTime": {
     "end_time": "2020-11-23T06:30:10.386965Z",
     "start_time": "2020-11-23T06:30:10.383550Z"
    }
   },
   "outputs": [],
   "source": [
    "# There are a few operations that are used for integers & floats\n",
    "#that can be used for strings\n",
    "\n",
    "# + to put strings together\n",
    "# * to repeat strings"
   ]
  },
  {
   "cell_type": "code",
   "execution_count": 32,
   "metadata": {
    "ExecuteTime": {
     "end_time": "2020-11-23T06:34:11.477504Z",
     "start_time": "2020-11-23T06:34:11.470404Z"
    }
   },
   "outputs": [
    {
     "name": "stdout",
     "output_type": "stream",
     "text": [
      "Hello World\n"
     ]
    }
   ],
   "source": [
    "# + to put strings together\n",
    "first_word = 'Hello'\n",
    "second_word = 'World'\n",
    "print(first_word + \" \" + second_word)\n",
    "\n",
    "# + is used to concatenate two variables\n",
    "# Whitespace is also used to add space between both variables"
   ]
  },
  {
   "cell_type": "code",
   "execution_count": 33,
   "metadata": {
    "ExecuteTime": {
     "end_time": "2020-11-23T06:45:52.770275Z",
     "start_time": "2020-11-23T06:45:52.764625Z"
    }
   },
   "outputs": [
    {
     "name": "stdout",
     "output_type": "stream",
     "text": [
      "HelloHelloHelloHelloHello\n"
     ]
    }
   ],
   "source": [
    "# * to repeat strings\n",
    "word = \"Hello\"\n",
    "print(word * 5)"
   ]
  },
  {
   "cell_type": "markdown",
   "metadata": {},
   "source": [
    "**len function**\n",
    "\n",
    "A buit-in function that can tell us the length of a string"
   ]
  },
  {
   "cell_type": "code",
   "execution_count": 34,
   "metadata": {
    "ExecuteTime": {
     "end_time": "2020-11-23T06:51:56.304470Z",
     "start_time": "2020-11-23T06:51:56.298708Z"
    }
   },
   "outputs": [
    {
     "name": "stdout",
     "output_type": "stream",
     "text": [
      "23\n"
     ]
    }
   ],
   "source": [
    "# It takes in a value in parentheses to perform an action\n",
    "data_science_fellowship_length = len('data science fellowship')\n",
    "print(data_science_fellowship_length)"
   ]
  },
  {
   "cell_type": "code",
   "execution_count": 35,
   "metadata": {
    "ExecuteTime": {
     "end_time": "2020-11-23T06:52:34.200186Z",
     "start_time": "2020-11-23T06:52:34.196376Z"
    }
   },
   "outputs": [],
   "source": [
    "# len differs from print in that it returns a value that be stored in a variable"
   ]
  },
  {
   "cell_type": "markdown",
   "metadata": {},
   "source": [
    "**Quiz: Fix the Quote**\n",
    "\n",
    "The line of code in the following quiz will cause a SyntaxError, thanks to the misuse of quotation marks. \n",
    "\n",
    "First run it with Test Run to view the error message. Then resolve the problem so that the quote (from Henry Ford) is correctly assigned to the variable ford_quote."
   ]
  },
  {
   "cell_type": "code",
   "execution_count": 36,
   "metadata": {
    "ExecuteTime": {
     "end_time": "2020-11-23T06:54:10.740736Z",
     "start_time": "2020-11-23T06:54:10.734284Z"
    }
   },
   "outputs": [
    {
     "ename": "SyntaxError",
     "evalue": "invalid syntax (<ipython-input-36-47d11273e814>, line 2)",
     "output_type": "error",
     "traceback": [
      "\u001b[0;36m  File \u001b[0;32m\"<ipython-input-36-47d11273e814>\"\u001b[0;36m, line \u001b[0;32m2\u001b[0m\n\u001b[0;31m    ford_quote = 'Whether you think you can, or you think you can't--you're right.'\u001b[0m\n\u001b[0m                                                                  ^\u001b[0m\n\u001b[0;31mSyntaxError\u001b[0m\u001b[0;31m:\u001b[0m invalid syntax\n"
     ]
    }
   ],
   "source": [
    "# TODO: Fix this string!\n",
    "ford_quote = 'Whether you think you can, or you think you can't--you're right.'"
   ]
  },
  {
   "cell_type": "code",
   "execution_count": 42,
   "metadata": {
    "ExecuteTime": {
     "end_time": "2020-11-23T06:58:02.833447Z",
     "start_time": "2020-11-23T06:58:02.825695Z"
    }
   },
   "outputs": [
    {
     "name": "stdout",
     "output_type": "stream",
     "text": [
      " Whether you think you can, or you think you can't--you're right. \n"
     ]
    }
   ],
   "source": [
    "# With double or triple quote\n",
    "ford_quote = ''' Whether you think you can, or you think you can't--you're right. '''\n",
    "print(ford_quote)"
   ]
  },
  {
   "cell_type": "code",
   "execution_count": 48,
   "metadata": {
    "ExecuteTime": {
     "end_time": "2020-11-23T07:00:53.257934Z",
     "start_time": "2020-11-23T07:00:53.252541Z"
    }
   },
   "outputs": [
    {
     "name": "stdout",
     "output_type": "stream",
     "text": [
      "Whether you think you can, or you think you can't--you're right.\n"
     ]
    }
   ],
   "source": [
    "# With backslash\n",
    "ford_quote = 'Whether you think you can, or you think you can\\'t--you\\'re right.'\n",
    "print(ford_quote)"
   ]
  },
  {
   "cell_type": "markdown",
   "metadata": {},
   "source": [
    "**Quiz: Write a Server Log Message**\n",
    "\n",
    "In this programming quiz, you’re going to use what you’ve learned about strings to write a logging message for a server.\n",
    "\n",
    "You’ll be provided with example data for a user, the time of their visit and the site they accessed. You should use the variables provided and the techniques you’ve learned to print a log message like this one (with the username, url, and timestamp replaced with values from the appropriate variables):\n",
    "\n",
    "Yogesh accessed the site http://petshop.com/pets/reptiles/pythons at 16:20."
   ]
  },
  {
   "cell_type": "code",
   "execution_count": 49,
   "metadata": {
    "ExecuteTime": {
     "end_time": "2020-11-23T07:06:14.742929Z",
     "start_time": "2020-11-23T07:06:14.737960Z"
    }
   },
   "outputs": [],
   "source": [
    "username = \"Kinari\"\n",
    "timestamp = \"04:50\"\n",
    "url = \"http://petshop.com/pets/mammals/cats\"\n",
    "\n",
    "# TODO: print a log message using the variables above.\n",
    "# The message should have the same format as this one:\n",
    "# \"Yogesh accessed the site http://petshop.com/pets/reptiles/pythons at 16:20.\""
   ]
  },
  {
   "cell_type": "code",
   "execution_count": 55,
   "metadata": {
    "ExecuteTime": {
     "end_time": "2020-11-23T07:11:53.528837Z",
     "start_time": "2020-11-23T07:11:53.523063Z"
    }
   },
   "outputs": [
    {
     "name": "stdout",
     "output_type": "stream",
     "text": [
      "Kinari accessed the site http://petshop.com/pets/mammals/cats at 04:50.\n"
     ]
    }
   ],
   "source": [
    "# Answer\n",
    "print(username + \" \" + 'accessed the site' + \" \" + url + \" \" + 'at' + \" \" + timestamp + '.')"
   ]
  },
  {
   "cell_type": "markdown",
   "metadata": {},
   "source": [
    "**Quiz: len()**\n",
    "\n",
    "Use string concatenation and the len() function to find the length of a certain movie star's actual full name. Store that length in the name_length variable. Don't forget that there are spaces in between the different parts of a name!"
   ]
  },
  {
   "cell_type": "code",
   "execution_count": 58,
   "metadata": {
    "ExecuteTime": {
     "end_time": "2020-11-23T07:17:33.718736Z",
     "start_time": "2020-11-23T07:17:33.711962Z"
    }
   },
   "outputs": [
    {
     "name": "stdout",
     "output_type": "stream",
     "text": [
      "True\n"
     ]
    }
   ],
   "source": [
    "given_name = \"William\"\n",
    "middle_names = \"Bradley\"\n",
    "family_name = \"Pitt\"\n",
    "\n",
    "name_length = len(given_name + ' ' + middle_names + ' ' + family_name)\n",
    "\n",
    "# Now we check to make sure that the name fits within the driving license character limit\n",
    "# Nothing you need to do here\n",
    "driving_license_character_limit = 28\n",
    "print(name_length <= driving_license_character_limit)"
   ]
  },
  {
   "cell_type": "markdown",
   "metadata": {},
   "source": [
    "Quiz: We've just used the len function to find the length of strings. What does the len function return when we give it the integer 835 instead of a string?"
   ]
  },
  {
   "cell_type": "code",
   "execution_count": 59,
   "metadata": {
    "ExecuteTime": {
     "end_time": "2020-11-23T07:18:25.244589Z",
     "start_time": "2020-11-23T07:18:25.080904Z"
    }
   },
   "outputs": [
    {
     "ename": "TypeError",
     "evalue": "object of type 'int' has no len()",
     "output_type": "error",
     "traceback": [
      "\u001b[0;31m---------------------------------------------------------------------------\u001b[0m",
      "\u001b[0;31mTypeError\u001b[0m                                 Traceback (most recent call last)",
      "\u001b[0;32m<ipython-input-59-10644a69da31>\u001b[0m in \u001b[0;36m<module>\u001b[0;34m\u001b[0m\n\u001b[0;32m----> 1\u001b[0;31m \u001b[0mlen\u001b[0m\u001b[0;34m(\u001b[0m\u001b[0;36m835\u001b[0m\u001b[0;34m)\u001b[0m\u001b[0;34m\u001b[0m\u001b[0;34m\u001b[0m\u001b[0m\n\u001b[0m",
      "\u001b[0;31mTypeError\u001b[0m: object of type 'int' has no len()"
     ]
    }
   ],
   "source": [
    "len(835)"
   ]
  },
  {
   "cell_type": "markdown",
   "metadata": {},
   "source": [
    "**Type and Type Conversion**"
   ]
  },
  {
   "cell_type": "code",
   "execution_count": 60,
   "metadata": {
    "ExecuteTime": {
     "end_time": "2020-11-23T12:03:54.076507Z",
     "start_time": "2020-11-23T12:03:54.063356Z"
    }
   },
   "outputs": [],
   "source": [
    "# Using the type function, we can observe that the same\n",
    "#number can be coded in different types, each with their own set of behaviors"
   ]
  },
  {
   "cell_type": "code",
   "execution_count": 61,
   "metadata": {
    "ExecuteTime": {
     "end_time": "2020-11-23T12:05:34.340506Z",
     "start_time": "2020-11-23T12:05:34.329190Z"
    }
   },
   "outputs": [
    {
     "name": "stdout",
     "output_type": "stream",
     "text": [
      "<class 'int'>\n",
      "<class 'str'>\n",
      "<class 'float'>\n"
     ]
    }
   ],
   "source": [
    "print(type(633))\n",
    "print(type('633'))\n",
    "print(type(633.0))\n",
    "\n",
    "# Note: The type function is evealuated first before\n",
    "#the output is printed by the print function"
   ]
  },
  {
   "cell_type": "code",
   "execution_count": 69,
   "metadata": {
    "ExecuteTime": {
     "end_time": "2020-11-23T12:22:34.858147Z",
     "start_time": "2020-11-23T12:22:34.853023Z"
    }
   },
   "outputs": [
    {
     "name": "stdout",
     "output_type": "stream",
     "text": [
      "<class 'int'>\n"
     ]
    }
   ],
   "source": [
    "# Building a string from an int\n",
    "# Create an int value\n",
    "house_number = 13\n",
    "print(type(house_number))"
   ]
  },
  {
   "cell_type": "code",
   "execution_count": 70,
   "metadata": {
    "ExecuteTime": {
     "end_time": "2020-11-23T12:22:36.549071Z",
     "start_time": "2020-11-23T12:22:36.545321Z"
    }
   },
   "outputs": [],
   "source": [
    "# Create string value\n",
    "street_name = \"The crescent\"\n",
    "town_name = \"Belmont\""
   ]
  },
  {
   "cell_type": "code",
   "execution_count": 71,
   "metadata": {
    "ExecuteTime": {
     "end_time": "2020-11-23T12:22:37.121274Z",
     "start_time": "2020-11-23T12:22:37.115885Z"
    }
   },
   "outputs": [
    {
     "name": "stdout",
     "output_type": "stream",
     "text": [
      "13 The crescent, Belmont\n"
     ]
    }
   ],
   "source": [
    "# Type conversion\n",
    "address = str(house_number) + \" \" + street_name + \", \" + town_name\n",
    "print(address)"
   ]
  },
  {
   "cell_type": "code",
   "execution_count": 72,
   "metadata": {
    "ExecuteTime": {
     "end_time": "2020-11-23T12:22:46.266780Z",
     "start_time": "2020-11-23T12:22:46.261742Z"
    }
   },
   "outputs": [
    {
     "name": "stdout",
     "output_type": "stream",
     "text": [
      "<class 'str'>\n"
     ]
    }
   ],
   "source": [
    "# Building a number from a string\n",
    "grams = \"35.0\"\n",
    "print(type(grams))"
   ]
  },
  {
   "cell_type": "code",
   "execution_count": 73,
   "metadata": {
    "ExecuteTime": {
     "end_time": "2020-11-23T12:23:42.421093Z",
     "start_time": "2020-11-23T12:23:42.416127Z"
    }
   },
   "outputs": [
    {
     "name": "stdout",
     "output_type": "stream",
     "text": [
      "<class 'float'>\n"
     ]
    }
   ],
   "source": [
    "grams = float(grams)\n",
    "print(type(grams))"
   ]
  },
  {
   "cell_type": "markdown",
   "metadata": {},
   "source": [
    "**Quiz: Total Sales**\n",
    "\n",
    "In this quiz, you’ll need to change the types of the input and output data in order to get the result you want.\n",
    "\n",
    "Calculate and print the total sales for the week from the data provided. Print out a string of the form \"This week's total sales: xxx\", where xxx will be the actual total of all the numbers. You’ll need to change the type of the input data in order to calculate that total.  "
   ]
  },
  {
   "cell_type": "code",
   "execution_count": 74,
   "metadata": {
    "ExecuteTime": {
     "end_time": "2020-11-23T12:26:47.697280Z",
     "start_time": "2020-11-23T12:26:47.692151Z"
    }
   },
   "outputs": [],
   "source": [
    "mon_sales = \"121\"\n",
    "tues_sales = \"105\"\n",
    "wed_sales = \"110\"\n",
    "thurs_sales = \"98\"\n",
    "fri_sales = \"95\"\n",
    "\n",
    "#TODO: Print a string with this format: This week's total sales: xxx\n",
    "# You will probably need to write some lines of code before the print statement."
   ]
  },
  {
   "cell_type": "code",
   "execution_count": 75,
   "metadata": {
    "ExecuteTime": {
     "end_time": "2020-11-23T12:29:20.555983Z",
     "start_time": "2020-11-23T12:29:20.548174Z"
    }
   },
   "outputs": [
    {
     "name": "stdout",
     "output_type": "stream",
     "text": [
      "529\n"
     ]
    }
   ],
   "source": [
    "total_sales = int(mon_sales) + int(tues_sales) + int(wed_sales) + int(thurs_sales) + int(fri_sales)\n",
    "print(total_sales)"
   ]
  },
  {
   "cell_type": "code",
   "execution_count": 77,
   "metadata": {
    "ExecuteTime": {
     "end_time": "2020-11-23T12:30:27.912340Z",
     "start_time": "2020-11-23T12:30:27.906502Z"
    }
   },
   "outputs": [
    {
     "name": "stdout",
     "output_type": "stream",
     "text": [
      "This week's total sales: 529\n"
     ]
    }
   ],
   "source": [
    "print(\"This week's total sales:\", total_sales)"
   ]
  },
  {
   "cell_type": "code",
   "execution_count": 78,
   "metadata": {
    "ExecuteTime": {
     "end_time": "2020-11-23T12:31:38.771287Z",
     "start_time": "2020-11-23T12:31:38.764544Z"
    }
   },
   "outputs": [
    {
     "name": "stdout",
     "output_type": "stream",
     "text": [
      "This week's total sales: 529\n"
     ]
    }
   ],
   "source": [
    "# Another solution\n",
    "weekly_sales = int(mon_sales) + int(tues_sales) + int(wed_sales) + int(thurs_sales) + int(fri_sales)\n",
    "weekly_sales = str(weekly_sales)  #convert the type back!!\n",
    "print(\"This week's total sales: \" + weekly_sales)"
   ]
  },
  {
   "cell_type": "markdown",
   "metadata": {},
   "source": [
    "**String Methods**"
   ]
  },
  {
   "cell_type": "code",
   "execution_count": 79,
   "metadata": {
    "ExecuteTime": {
     "end_time": "2020-11-23T13:56:30.851516Z",
     "start_time": "2020-11-23T13:56:30.847324Z"
    }
   },
   "outputs": [],
   "source": [
    "# Methods are related to functions, but unlike functions,\n",
    "#methods are associated with specific types of objects\n",
    "\n",
    "# They are different methods depending on the type of data\n",
    "#you're working with"
   ]
  },
  {
   "cell_type": "code",
   "execution_count": 82,
   "metadata": {
    "ExecuteTime": {
     "end_time": "2020-11-23T14:01:23.011717Z",
     "start_time": "2020-11-23T14:01:23.006054Z"
    }
   },
   "outputs": [
    {
     "name": "stdout",
     "output_type": "stream",
     "text": [
      "Sebastian Thrun\n"
     ]
    }
   ],
   "source": [
    "# The title method:\n",
    "print(\"sebastian thrun\".title())\n",
    "\n",
    "# This methodreturns the string value in title case.\n",
    "#i.e each first letter in capital case."
   ]
  },
  {
   "cell_type": "code",
   "execution_count": 84,
   "metadata": {
    "ExecuteTime": {
     "end_time": "2020-11-23T14:10:56.605450Z",
     "start_time": "2020-11-23T14:10:56.600337Z"
    }
   },
   "outputs": [
    {
     "name": "stdout",
     "output_type": "stream",
     "text": [
      "True\n"
     ]
    }
   ],
   "source": [
    "# The islower() method\n",
    "full_name = \"sebastian thrun\"\n",
    "print(full_name.islower())\n",
    "\n",
    "# This method returns a boolean value if there are no uppercase characters"
   ]
  },
  {
   "cell_type": "code",
   "execution_count": 85,
   "metadata": {
    "ExecuteTime": {
     "end_time": "2020-11-23T14:13:23.110262Z",
     "start_time": "2020-11-23T14:13:23.106617Z"
    }
   },
   "outputs": [],
   "source": [
    "# The difference between a method and a function\n",
    "# Funtions take arguments in their parentheses,\n",
    "# While methods are functions that belong to an object,\n",
    "#so it takes the object as it's argument,"
   ]
  },
  {
   "cell_type": "code",
   "execution_count": 87,
   "metadata": {
    "ExecuteTime": {
     "end_time": "2020-11-23T14:17:27.011242Z",
     "start_time": "2020-11-23T14:17:27.005522Z"
    }
   },
   "outputs": [
    {
     "name": "stdout",
     "output_type": "stream",
     "text": [
      "4\n"
     ]
    }
   ],
   "source": [
    "# However, there's a method that takes more than the object as argument, Count!\n",
    "print(\"one fish, two fish, red fish, blue fish\".count('fish'))\n",
    "\n",
    "# Here the count method takes a substring of the object and returns the amount \n",
    "#of times it occurs in the object"
   ]
  },
  {
   "cell_type": "markdown",
   "metadata": {},
   "source": [
    "*No professional has all the methods memorized, which is why understanding how to use documentation and find answers is so important. Gaining a strong grasp of the foundations of programming will allow you to use those foundations to use documentation to build so much more than someone who tries to memorize all the built-in methods in Python*"
   ]
  },
  {
   "cell_type": "markdown",
   "metadata": {},
   "source": [
    "**One important string method: format()**"
   ]
  },
  {
   "cell_type": "code",
   "execution_count": 88,
   "metadata": {
    "ExecuteTime": {
     "end_time": "2020-11-23T14:21:55.636824Z",
     "start_time": "2020-11-23T14:21:55.632339Z"
    }
   },
   "outputs": [
    {
     "name": "stdout",
     "output_type": "stream",
     "text": [
      "Mohammed has 27 balloons\n"
     ]
    }
   ],
   "source": [
    "# Works with the print function\n",
    "print(\"Mohammed has {} balloons\".format(27))"
   ]
  },
  {
   "cell_type": "code",
   "execution_count": 89,
   "metadata": {
    "ExecuteTime": {
     "end_time": "2020-11-23T14:22:06.592580Z",
     "start_time": "2020-11-23T14:22:06.586513Z"
    }
   },
   "outputs": [
    {
     "name": "stdout",
     "output_type": "stream",
     "text": [
      "Does your dog bite?\n"
     ]
    }
   ],
   "source": [
    "animal = \"dog\"\n",
    "action = \"bite\"\n",
    "print(\"Does your {} {}?\".format(animal, action))"
   ]
  },
  {
   "cell_type": "code",
   "execution_count": 90,
   "metadata": {
    "ExecuteTime": {
     "end_time": "2020-11-23T14:22:41.638226Z",
     "start_time": "2020-11-23T14:22:41.633030Z"
    }
   },
   "outputs": [
    {
     "name": "stdout",
     "output_type": "stream",
     "text": [
      "Maria loves math and statistics\n"
     ]
    }
   ],
   "source": [
    "maria_string = \"Maria loves {} and {}\"\n",
    "print(maria_string.format(\"math\", \"statistics\"))"
   ]
  },
  {
   "cell_type": "markdown",
   "metadata": {},
   "source": [
    "**Another String Method - Split**\n",
    "\n",
    "*A helpful string method when working with strings is the .split method. This function or method returns a data container called a list that contains the words from the input string.*\n",
    "\n",
    "*The split method has two additional arguments (sep and maxsplit). The sep argument stands for \"separator\". It can be used to identify how the string should be split up (e.g., whitespace characters like space, tab, return, newline; specific punctuation (e.g., comma, dashes)). If the sep argument is not provided, the default separator is whitespace*\n",
    "\n",
    "*The maxsplit argument provides the maximum number of splits. The argument gives maxsplit + 1 number of elements in the new list, with the remaining string being returned as the last element in the list*"
   ]
  },
  {
   "cell_type": "code",
   "execution_count": 91,
   "metadata": {
    "ExecuteTime": {
     "end_time": "2020-11-23T15:02:48.504908Z",
     "start_time": "2020-11-23T15:02:48.497678Z"
    }
   },
   "outputs": [
    {
     "data": {
      "text/plain": [
       "['The', 'cow', 'jumped', 'over', 'the', 'moon.']"
      ]
     },
     "execution_count": 91,
     "metadata": {},
     "output_type": "execute_result"
    }
   ],
   "source": [
    "# A basic split method:\n",
    "new_str = \"The cow jumped over the moon.\"\n",
    "new_str.split()"
   ]
  },
  {
   "cell_type": "code",
   "execution_count": 92,
   "metadata": {
    "ExecuteTime": {
     "end_time": "2020-11-23T15:03:21.135815Z",
     "start_time": "2020-11-23T15:03:21.128325Z"
    }
   },
   "outputs": [
    {
     "data": {
      "text/plain": [
       "['The', 'cow', 'jumped', 'over the moon.']"
      ]
     },
     "execution_count": 92,
     "metadata": {},
     "output_type": "execute_result"
    }
   ],
   "source": [
    "# Here the separator is space, and the maxsplit argument is set to 3.\n",
    "new_str.split(' ', 3)"
   ]
  },
  {
   "cell_type": "code",
   "execution_count": 93,
   "metadata": {
    "ExecuteTime": {
     "end_time": "2020-11-23T15:04:05.356715Z",
     "start_time": "2020-11-23T15:04:05.350283Z"
    }
   },
   "outputs": [
    {
     "data": {
      "text/plain": [
       "['The cow jumped over the moon', '']"
      ]
     },
     "execution_count": 93,
     "metadata": {},
     "output_type": "execute_result"
    }
   ],
   "source": [
    "# Using '.' or period as a separator.\n",
    "new_str.split('.')"
   ]
  },
  {
   "cell_type": "code",
   "execution_count": 94,
   "metadata": {
    "ExecuteTime": {
     "end_time": "2020-11-23T15:04:47.546054Z",
     "start_time": "2020-11-23T15:04:47.540207Z"
    }
   },
   "outputs": [
    {
     "data": {
      "text/plain": [
       "['The', 'cow', 'jumped', 'over the moon.']"
      ]
     },
     "execution_count": 94,
     "metadata": {},
     "output_type": "execute_result"
    }
   ],
   "source": [
    "# Using no separators but having a maxsplit argument of 3.\n",
    "new_str.split(None, 3)"
   ]
  },
  {
   "cell_type": "markdown",
   "metadata": {},
   "source": [
    "**Quiz: String Methods Coding Practice**\n",
    "\n",
    "*Below, we have a string variable that contains the first verse of the poem, If by Rudyard Kipling. Remember, \\n is a special sequence of characters that causes a line break (a new line).*"
   ]
  },
  {
   "cell_type": "code",
   "execution_count": 95,
   "metadata": {
    "ExecuteTime": {
     "end_time": "2020-11-23T15:06:26.345675Z",
     "start_time": "2020-11-23T15:06:26.341410Z"
    }
   },
   "outputs": [],
   "source": [
    "verse = \"If you can keep your head when all about you\\n  Are losing theirs and blaming it on you,\\nIf you can trust yourself when all men doubt you,\\n  But make allowance for their doubting too;\\nIf you can wait and not be tired by waiting,\\n  Or being lied about, don’t deal in lies,\\nOr being hated, don’t give way to hating,\\n  And yet don’t look too good, nor talk too wise:\""
   ]
  },
  {
   "cell_type": "code",
   "execution_count": 96,
   "metadata": {
    "ExecuteTime": {
     "end_time": "2020-11-23T15:06:37.316319Z",
     "start_time": "2020-11-23T15:06:37.308003Z"
    }
   },
   "outputs": [
    {
     "name": "stdout",
     "output_type": "stream",
     "text": [
      "If you can keep your head when all about you\n",
      "  Are losing theirs and blaming it on you,\n",
      "If you can trust yourself when all men doubt you,\n",
      "  But make allowance for their doubting too;\n",
      "If you can wait and not be tired by waiting,\n",
      "  Or being lied about, don’t deal in lies,\n",
      "Or being hated, don’t give way to hating,\n",
      "  And yet don’t look too good, nor talk too wise:\n"
     ]
    }
   ],
   "source": [
    "print(verse)"
   ]
  },
  {
   "cell_type": "code",
   "execution_count": 101,
   "metadata": {
    "ExecuteTime": {
     "end_time": "2020-11-23T15:20:12.109187Z",
     "start_time": "2020-11-23T15:20:12.101779Z"
    }
   },
   "outputs": [
    {
     "name": "stdout",
     "output_type": "stream",
     "text": [
      "Verse has a length of 362 characters.\n"
     ]
    }
   ],
   "source": [
    "# What is the length of the string variable verse?\n",
    "print(\"Verse has a length of {} characters.\".format(len(verse)))"
   ]
  },
  {
   "cell_type": "code",
   "execution_count": 102,
   "metadata": {
    "ExecuteTime": {
     "end_time": "2020-11-23T15:20:45.915871Z",
     "start_time": "2020-11-23T15:20:45.910613Z"
    }
   },
   "outputs": [
    {
     "name": "stdout",
     "output_type": "stream",
     "text": [
      "The first occurence of the word 'and' occurs at the 65th index.\n"
     ]
    }
   ],
   "source": [
    "# What is the index of the first occurrence of the word 'and' in verse\n",
    "print(\"The first occurence of the word 'and' occurs at the {}th index.\".format(verse.find('and')))"
   ]
  },
  {
   "cell_type": "code",
   "execution_count": 104,
   "metadata": {
    "ExecuteTime": {
     "end_time": "2020-11-23T15:22:24.866060Z",
     "start_time": "2020-11-23T15:22:24.860295Z"
    }
   },
   "outputs": [
    {
     "name": "stdout",
     "output_type": "stream",
     "text": [
      "The last occurence of the word 'you' occurs at the 186th index.\n"
     ]
    }
   ],
   "source": [
    "# What is the index of the last occurrence of the word 'you' in verse?\n",
    "print(\"The last occurence of the word 'you' occurs at the {}th index.\".format(verse.rfind('you')))"
   ]
  },
  {
   "cell_type": "code",
   "execution_count": 105,
   "metadata": {
    "ExecuteTime": {
     "end_time": "2020-11-23T15:23:26.284187Z",
     "start_time": "2020-11-23T15:23:26.278628Z"
    }
   },
   "outputs": [
    {
     "name": "stdout",
     "output_type": "stream",
     "text": [
      "The word 'you' occurs 8 times in the verse.\n"
     ]
    }
   ],
   "source": [
    "# What is the count of occurrences of the word 'you' in the verse\n",
    "print(\"The word 'you' occurs {} times in the verse.\".format(verse.count('you')))"
   ]
  },
  {
   "cell_type": "code",
   "execution_count": 106,
   "metadata": {
    "ExecuteTime": {
     "end_time": "2020-11-23T15:24:35.645525Z",
     "start_time": "2020-11-23T15:24:35.637001Z"
    }
   },
   "outputs": [
    {
     "name": "stdout",
     "output_type": "stream",
     "text": [
      "If you can keep your head when all about you\n",
      "  Are losing theirs and blaming it on you,\n",
      "If you can trust yourself when all men doubt you,\n",
      "  But make allowance for their doubting too;\n",
      "If you can wait and not be tired by waiting,\n",
      "  Or being lied about, don’t deal in lies,\n",
      "Or being hated, don’t give way to hating,\n",
      "  And yet don’t look too good, nor talk too wise: \n",
      "\n",
      "Verse has a length of 362 characters.\n",
      "The first occurence of the word 'and' occurs at the 65th index.\n",
      "The last occurence of the word 'you' occurs at the 186th index.\n",
      "The word 'you' occurs 8 times in the verse.\n"
     ]
    }
   ],
   "source": [
    "# Another Solution\n",
    "verse = \"If you can keep your head when all about you\\n  Are losing theirs and blaming it on you,\\nIf you can trust yourself when all men doubt you,\\n  But make allowance for their doubting too;\\nIf you can wait and not be tired by waiting,\\n  Or being lied about, don’t deal in lies,\\nOr being hated, don’t give way to hating,\\n  And yet don’t look too good, nor talk too wise:\"\n",
    "print(verse, \"\\n\")\n",
    "\n",
    "message = \"Verse has a length of {} characters.\\nThe first occurence of the \\\n",
    "word 'and' occurs at the {}th index.\\nThe last occurence of the word 'you' \\\n",
    "occurs at the {}th index.\\nThe word 'you' occurs {} times in the verse.\"\n",
    "\n",
    "length = len(verse)\n",
    "first_idx = verse.find('and')\n",
    "last_idx = verse.rfind('you')\n",
    "count = verse.count('you')\n",
    "\n",
    "print(message.format(length, first_idx, last_idx, count))"
   ]
  },
  {
   "cell_type": "markdown",
   "metadata": {},
   "source": [
    "**Debugging Code**"
   ]
  },
  {
   "cell_type": "markdown",
   "metadata": {},
   "source": [
    "Everyone gets \"bugs,\" or unexpected errors, in their code, and this is a normal and expected part of software development. We all say at one time or another, \"Why isn't this computer doing what I want it to do?!\"\n",
    "\n",
    "So an important part of coding is \"debugging\" your code, to remove these bugs. This can often take a long time, and cause you frustration, but developing effective coding habits and mental calmness will help you address these issues. With determined persistence, you can prevail over these bugs!\n",
    "\n",
    "Here are some tips on successful debugging that we'll discuss in more detail below:\n",
    "\n",
    "- Understand common error messages you might receive and what to do about them.\n",
    "\n",
    "- Search for your error message, using the Web community.\n",
    "\n",
    "- Use print statements."
   ]
  },
  {
   "cell_type": "markdown",
   "metadata": {},
   "source": [
    "**Understanding Common Error Messages**"
   ]
  },
  {
   "cell_type": "markdown",
   "metadata": {},
   "source": [
    "There are many different error messages that you can receive in Python, and learning how to interpret what they're telling you can be very helpful. Here are some common ones for starters:\n",
    "\n",
    "- \"ZeroDivisionError: division by zero.\" This is an error message that you saw earlier in this lesson. What did this error message indicate to us? You can look back in the Quiz: Arithmetic Operators section to review it if needed.\n",
    "\n",
    "- \"SyntaxError: unexpected EOF while parsing\" Take a look at the two lines of code below. Executing these lines produces this syntax error message - do you see why?\n"
   ]
  },
  {
   "cell_type": "code",
   "execution_count": 107,
   "metadata": {
    "ExecuteTime": {
     "end_time": "2020-11-23T15:32:04.675447Z",
     "start_time": "2020-11-23T15:32:04.669330Z"
    }
   },
   "outputs": [
    {
     "ename": "SyntaxError",
     "evalue": "unexpected EOF while parsing (<ipython-input-107-33e58bfdccd7>, line 2)",
     "output_type": "error",
     "traceback": [
      "\u001b[0;36m  File \u001b[0;32m\"<ipython-input-107-33e58bfdccd7>\"\u001b[0;36m, line \u001b[0;32m2\u001b[0m\n\u001b[0;31m    print(greeting.upper\u001b[0m\n\u001b[0m                        ^\u001b[0m\n\u001b[0;31mSyntaxError\u001b[0m\u001b[0;31m:\u001b[0m unexpected EOF while parsing\n"
     ]
    }
   ],
   "source": [
    "greeting = \"hello\"\n",
    "print(greeting.upper"
   ]
  },
  {
   "cell_type": "markdown",
   "metadata": {},
   "source": [
    "This👆🏼message is often produced when you have accidentally left out something, like a parenthesis. The message is saying it has unexpectedly reached the end of file (\"EOF\") and it still didn't find that right parenthesis. This can easily happen with code syntax involving pairs, like beginning and ending quotes also."
   ]
  },
  {
   "cell_type": "markdown",
   "metadata": {},
   "source": [
    "- \"TypeError: len() takes exactly one argument (0 given)\" This kind of message could be given for many functions, like len in this case, if I accidentally do not include the required number of arguments when I'm calling a function, as below. This message tells me how many arguments the function requires (one in this case), compared with how many I gave it (0). I meant to use len(chars) to count the number of characters in this long word, but I forgot the argument."
   ]
  },
  {
   "cell_type": "code",
   "execution_count": 108,
   "metadata": {
    "ExecuteTime": {
     "end_time": "2020-11-23T15:34:57.525241Z",
     "start_time": "2020-11-23T15:34:57.513561Z"
    }
   },
   "outputs": [
    {
     "ename": "TypeError",
     "evalue": "len() takes exactly one argument (0 given)",
     "output_type": "error",
     "traceback": [
      "\u001b[0;31m---------------------------------------------------------------------------\u001b[0m",
      "\u001b[0;31mTypeError\u001b[0m                                 Traceback (most recent call last)",
      "\u001b[0;32m<ipython-input-108-0ec823a3d899>\u001b[0m in \u001b[0;36m<module>\u001b[0;34m\u001b[0m\n\u001b[1;32m      1\u001b[0m \u001b[0mchars\u001b[0m \u001b[0;34m=\u001b[0m \u001b[0;34m\"supercalifragilisticexpialidocious\"\u001b[0m\u001b[0;34m\u001b[0m\u001b[0;34m\u001b[0m\u001b[0m\n\u001b[0;32m----> 2\u001b[0;31m \u001b[0mlen\u001b[0m\u001b[0;34m(\u001b[0m\u001b[0;34m)\u001b[0m\u001b[0;34m\u001b[0m\u001b[0;34m\u001b[0m\u001b[0m\n\u001b[0m",
      "\u001b[0;31mTypeError\u001b[0m: len() takes exactly one argument (0 given)"
     ]
    }
   ],
   "source": [
    "chars = \"supercalifragilisticexpialidocious\"\n",
    "len()"
   ]
  },
  {
   "cell_type": "markdown",
   "metadata": {},
   "source": [
    "**There are other kinds of error messages that you'll certainly begin experiencing soon in your Python work. Learning what they mean and how to address them will help you debug your code. You might keep an ongoing page of notes on them.**"
   ]
  },
  {
   "cell_type": "markdown",
   "metadata": {},
   "source": [
    "**Search for Your Error Message**"
   ]
  },
  {
   "cell_type": "markdown",
   "metadata": {},
   "source": [
    "Software developers like to share their problems and solutions with each other on the web, so using Google search, or searching in StackOverflow, or searching in Udacity's Knowledge forum are all good ways to get ideas on how to address a particular error message you're getting.\n",
    "\n",
    "- Copy and paste the error message into your web browser search tab, or in Knowledge, and see what others suggest about what might be causing it.\n",
    "\n",
    "- You can copy and paste the whole error message, with or without quotes around it.\n",
    "\n",
    "- Or you can search using just key words from the error message or situation you're facing, along with some other helpful words that describe your context, like Python and Mac."
   ]
  },
  {
   "cell_type": "markdown",
   "metadata": {},
   "source": [
    "**Use Print Statements to Help Debugging**"
   ]
  },
  {
   "cell_type": "markdown",
   "metadata": {},
   "source": [
    "Adding print statements temporarily into your code can help you see which code lines have been executed before the error occurs, and see the values of any variables that might be important. This approach to debugging can also be helpful even if you're not receiving an error message, but things just aren't working the way you want."
   ]
  },
  {
   "cell_type": "code",
   "execution_count": null,
   "metadata": {},
   "outputs": [],
   "source": []
  },
  {
   "cell_type": "markdown",
   "metadata": {},
   "source": [
    "**Data Structures**\n",
    "\n",
    "Data structures are containers that organize and group data types together in different ways.\n",
    "\n",
    "Here, we will learn about data structures: Lists, Tuples, Sets, Dictionaries, Compounds Data Structures.\n",
    "\n",
    "Also, we would learn about the last two data types in Python: Membership & Identity"
   ]
  },
  {
   "cell_type": "markdown",
   "metadata": {},
   "source": [
    "**List and Membership Operators**"
   ]
  },
  {
   "cell_type": "code",
   "execution_count": 1,
   "metadata": {
    "ExecuteTime": {
     "end_time": "2020-11-24T06:11:02.566474Z",
     "start_time": "2020-11-24T06:11:02.559111Z"
    }
   },
   "outputs": [],
   "source": [
    "# First Python container: List\n",
    "# A list is a data structure in Python that is a mutable\n",
    "#ordered sequence of elements"
   ]
  },
  {
   "cell_type": "code",
   "execution_count": 11,
   "metadata": {
    "ExecuteTime": {
     "end_time": "2020-11-24T07:17:08.463973Z",
     "start_time": "2020-11-24T07:17:08.458159Z"
    }
   },
   "outputs": [],
   "source": [
    "months = ['January', 'February', 'March', 'April', 'May', 'June',\n",
    "         'July', 'August', 'September', 'October', 'November', 'December']\n",
    "\n",
    "# The variable month, contains a list strings with each element in the list\n",
    "#being year"
   ]
  },
  {
   "cell_type": "code",
   "execution_count": 12,
   "metadata": {
    "ExecuteTime": {
     "end_time": "2020-11-24T07:17:12.082403Z",
     "start_time": "2020-11-24T07:17:12.078266Z"
    }
   },
   "outputs": [],
   "source": [
    "# A list is defined using square brackets [], and always holds other data \n",
    "#which are separated by commas.\n",
    "\n",
    "# The data in a list could be a mix of any other data types you've already seen\n",
    "list_of_random_things = [1, 3.4, 'a string', True]\n",
    "# Lists have an order or most appropriately are ordered\n",
    "# We can lookup individual elements in the list by their index"
   ]
  },
  {
   "cell_type": "code",
   "execution_count": 13,
   "metadata": {
    "ExecuteTime": {
     "end_time": "2020-11-24T07:17:18.086721Z",
     "start_time": "2020-11-24T07:17:18.080773Z"
    }
   },
   "outputs": [
    {
     "name": "stdout",
     "output_type": "stream",
     "text": [
      "January\n",
      "March\n"
     ]
    }
   ],
   "source": [
    "# Looking up elements in a list from the beginning\n",
    "# Using the zero based indexing\n",
    "print(months[0])\n",
    "print(months[2])"
   ]
  },
  {
   "cell_type": "code",
   "execution_count": 14,
   "metadata": {
    "ExecuteTime": {
     "end_time": "2020-11-24T07:17:24.742653Z",
     "start_time": "2020-11-24T07:17:24.737084Z"
    }
   },
   "outputs": [
    {
     "name": "stdout",
     "output_type": "stream",
     "text": [
      "December\n",
      "October\n"
     ]
    }
   ],
   "source": [
    "# We can also lookup elements from the end of the list\n",
    "# To do this, we use negative indexes\n",
    "print(months[-1])\n",
    "print(months[-3])"
   ]
  },
  {
   "cell_type": "code",
   "execution_count": 15,
   "metadata": {
    "ExecuteTime": {
     "end_time": "2020-11-24T07:17:27.830067Z",
     "start_time": "2020-11-24T07:17:27.815802Z"
    }
   },
   "outputs": [
    {
     "ename": "IndexError",
     "evalue": "list index out of range",
     "output_type": "error",
     "traceback": [
      "\u001b[0;31m---------------------------------------------------------------------------\u001b[0m",
      "\u001b[0;31mIndexError\u001b[0m                                Traceback (most recent call last)",
      "\u001b[0;32m<ipython-input-15-99d01a5f273a>\u001b[0m in \u001b[0;36m<module>\u001b[0;34m\u001b[0m\n\u001b[1;32m      1\u001b[0m \u001b[0;31m# If you try to lookup a list with an index that does not exist\u001b[0m\u001b[0;34m\u001b[0m\u001b[0;34m\u001b[0m\u001b[0;34m\u001b[0m\u001b[0m\n\u001b[1;32m      2\u001b[0m \u001b[0;31m# You'll get a list index exception\u001b[0m\u001b[0;34m\u001b[0m\u001b[0;34m\u001b[0m\u001b[0;34m\u001b[0m\u001b[0m\n\u001b[0;32m----> 3\u001b[0;31m \u001b[0mprint\u001b[0m\u001b[0;34m(\u001b[0m\u001b[0mmonths\u001b[0m\u001b[0;34m[\u001b[0m\u001b[0;36m13\u001b[0m\u001b[0;34m]\u001b[0m\u001b[0;34m)\u001b[0m\u001b[0;34m\u001b[0m\u001b[0;34m\u001b[0m\u001b[0m\n\u001b[0m",
      "\u001b[0;31mIndexError\u001b[0m: list index out of range"
     ]
    }
   ],
   "source": [
    "# If you try to lookup a list with an index that does not exist\n",
    "# You'll get a list index exception\n",
    "print(months[13])"
   ]
  },
  {
   "cell_type": "markdown",
   "metadata": {},
   "source": [
    "**Slice and Dice with Lists**"
   ]
  },
  {
   "cell_type": "code",
   "execution_count": 8,
   "metadata": {
    "ExecuteTime": {
     "end_time": "2020-11-24T07:10:47.783812Z",
     "start_time": "2020-11-24T07:10:47.780072Z"
    }
   },
   "outputs": [],
   "source": [
    "# We can use Python's slicing notation to access a subsequence\n",
    "#of a list\n",
    "\n",
    "# Slicing means using indices to slice off parts of an object\n",
    "#like a string or a list"
   ]
  },
  {
   "cell_type": "code",
   "execution_count": 16,
   "metadata": {
    "ExecuteTime": {
     "end_time": "2020-11-24T07:17:32.248574Z",
     "start_time": "2020-11-24T07:17:32.243529Z"
    }
   },
   "outputs": [
    {
     "name": "stdout",
     "output_type": "stream",
     "text": [
      "['July', 'August', 'September']\n"
     ]
    }
   ],
   "source": [
    "# We can slice the third quarter of the year from this list:\n",
    "q3 = months[6:9]\n",
    "print(q3)"
   ]
  },
  {
   "cell_type": "code",
   "execution_count": 10,
   "metadata": {
    "ExecuteTime": {
     "end_time": "2020-11-24T07:15:50.661384Z",
     "start_time": "2020-11-24T07:15:50.657941Z"
    }
   },
   "outputs": [],
   "source": [
    "# The index to the left of the column 6, is where the slice begins\n",
    "# The index continues until the second index 9. Notice that 9 is the\n",
    "#index of October.\n",
    "# The lower bound is inclusive and the higher bound is exclusive"
   ]
  },
  {
   "cell_type": "code",
   "execution_count": 17,
   "metadata": {
    "ExecuteTime": {
     "end_time": "2020-11-24T07:17:51.432939Z",
     "start_time": "2020-11-24T07:17:51.427409Z"
    }
   },
   "outputs": [
    {
     "name": "stdout",
     "output_type": "stream",
     "text": [
      "['January', 'February', 'March', 'April', 'May', 'June']\n"
     ]
    }
   ],
   "source": [
    "# There are a couple of slicing shortcuts that simplify common situations:\n",
    "first_half = months[:6]\n",
    "print(first_half)"
   ]
  },
  {
   "cell_type": "code",
   "execution_count": 18,
   "metadata": {
    "ExecuteTime": {
     "end_time": "2020-11-24T07:21:23.677471Z",
     "start_time": "2020-11-24T07:21:23.673354Z"
    }
   },
   "outputs": [],
   "source": [
    "# If you would like to make a slice that begins at the very beginning\n",
    "#of the original list, you can do this👆🏼"
   ]
  },
  {
   "cell_type": "code",
   "execution_count": 19,
   "metadata": {
    "ExecuteTime": {
     "end_time": "2020-11-24T07:27:50.280791Z",
     "start_time": "2020-11-24T07:27:50.275142Z"
    }
   },
   "outputs": [
    {
     "name": "stdout",
     "output_type": "stream",
     "text": [
      "['July', 'August', 'September', 'October', 'November', 'December']\n"
     ]
    }
   ],
   "source": [
    "# Or if you would like to make a slice that ends at the very end of the original list:\n",
    "# You can omit the ending index like this:👇🏽\n",
    "second_half = months[6:]\n",
    "print(second_half)"
   ]
  },
  {
   "cell_type": "code",
   "execution_count": 20,
   "metadata": {
    "ExecuteTime": {
     "end_time": "2020-11-24T07:38:10.280980Z",
     "start_time": "2020-11-24T07:38:10.277357Z"
    }
   },
   "outputs": [],
   "source": [
    "# List is a data type like strings, ints & floats\n",
    "# Of the types we've seen, lists are most similar to strings\n",
    "# Both types support the len function, indexing, and slicing"
   ]
  },
  {
   "cell_type": "code",
   "execution_count": 21,
   "metadata": {
    "ExecuteTime": {
     "end_time": "2020-11-24T07:38:46.275235Z",
     "start_time": "2020-11-24T07:38:46.270658Z"
    }
   },
   "outputs": [],
   "source": [
    "# Example of the len function\n",
    "greetings = \"Hello There\"\n",
    "months = ['January', 'February', 'March', 'April', 'May', 'June',\n",
    "         'July', 'August', 'September', 'October', 'November', 'December']"
   ]
  },
  {
   "cell_type": "code",
   "execution_count": 22,
   "metadata": {
    "ExecuteTime": {
     "end_time": "2020-11-24T07:39:18.994742Z",
     "start_time": "2020-11-24T07:39:18.987738Z"
    }
   },
   "outputs": [
    {
     "name": "stdout",
     "output_type": "stream",
     "text": [
      "11 12\n"
     ]
    }
   ],
   "source": [
    "print(len(greetings), len(months))"
   ]
  },
  {
   "cell_type": "code",
   "execution_count": 23,
   "metadata": {
    "ExecuteTime": {
     "end_time": "2020-11-24T07:41:08.218555Z",
     "start_time": "2020-11-24T07:41:08.212592Z"
    }
   },
   "outputs": [
    {
     "name": "stdout",
     "output_type": "stream",
     "text": [
      "The ['July', 'August', 'September']\n"
     ]
    }
   ],
   "source": [
    "# Example of the law of slicing\n",
    "print(greetings[6:9], months[6:9])"
   ]
  },
  {
   "cell_type": "markdown",
   "metadata": {},
   "source": [
    "**Are you in OR not in?**"
   ]
  },
  {
   "cell_type": "code",
   "execution_count": 24,
   "metadata": {
    "ExecuteTime": {
     "end_time": "2020-11-24T07:47:29.130197Z",
     "start_time": "2020-11-24T07:47:29.126547Z"
    }
   },
   "outputs": [],
   "source": [
    "# Another thing they support are membership operators: IN and NOT IN\n",
    "# IN evaluates if the object on the left side is included in the object\n",
    "#on the right side\n",
    "\n",
    "# NOT IN evaluates if the object on the left side is not included on the \n",
    "#object on the right side"
   ]
  },
  {
   "cell_type": "code",
   "execution_count": 25,
   "metadata": {
    "ExecuteTime": {
     "end_time": "2020-11-24T07:49:22.060959Z",
     "start_time": "2020-11-24T07:49:22.055113Z"
    }
   },
   "outputs": [
    {
     "name": "stdout",
     "output_type": "stream",
     "text": [
      "True False\n"
     ]
    }
   ],
   "source": [
    "# Here we can check if the string 'her' is in the string:\n",
    "greetings = \"Hello There\"\n",
    "print('her' in greetings, 'her' not in greetings)"
   ]
  },
  {
   "cell_type": "code",
   "execution_count": 26,
   "metadata": {
    "ExecuteTime": {
     "end_time": "2020-11-24T07:52:23.302836Z",
     "start_time": "2020-11-24T07:52:23.297477Z"
    }
   },
   "outputs": [
    {
     "name": "stdout",
     "output_type": "stream",
     "text": [
      "False True\n"
     ]
    }
   ],
   "source": [
    "# Here we can check if the string 'Sunday' is the list 'months'\n",
    "print('Sunday' in months, 'Sunday' not in months)"
   ]
  },
  {
   "cell_type": "markdown",
   "metadata": {},
   "source": [
    "**Mutability and Order**"
   ]
  },
  {
   "cell_type": "code",
   "execution_count": 27,
   "metadata": {
    "ExecuteTime": {
     "end_time": "2020-11-24T08:11:00.842990Z",
     "start_time": "2020-11-24T08:11:00.839111Z"
    }
   },
   "outputs": [],
   "source": [
    "# How are lists different from strings?\n",
    "# Both support indexing, slicing, and the IN operator."
   ]
  },
  {
   "cell_type": "code",
   "execution_count": 28,
   "metadata": {
    "ExecuteTime": {
     "end_time": "2020-11-24T08:12:00.164638Z",
     "start_time": "2020-11-24T08:12:00.161012Z"
    }
   },
   "outputs": [],
   "source": [
    "# The most obvious difference is that strings are sequences of\n",
    "#letters, while list elements can be any type of object."
   ]
  },
  {
   "cell_type": "code",
   "execution_count": 30,
   "metadata": {
    "ExecuteTime": {
     "end_time": "2020-11-24T08:15:08.190473Z",
     "start_time": "2020-11-24T08:15:08.184153Z"
    }
   },
   "outputs": [
    {
     "name": "stdout",
     "output_type": "stream",
     "text": [
      "['January', 'February', 'March', 'Friday', 'May', 'June', 'July', 'August', 'September', 'October', 'November', 'December']\n"
     ]
    }
   ],
   "source": [
    "# More subtle difference is that lists can be modified but strings can't\n",
    "# Example of modifying a list\n",
    "months = ['January', 'February', 'March', 'April', 'May', 'June',\n",
    "         'July', 'August', 'September', 'October', 'November', 'December']\n",
    "months[3] = 'Friday'\n",
    "print(months)\n",
    "\n",
    "# Here👆🏼, we changed the 3rd element of the list from 'April' to 'Friday'"
   ]
  },
  {
   "cell_type": "code",
   "execution_count": 31,
   "metadata": {
    "ExecuteTime": {
     "end_time": "2020-11-24T08:16:06.433740Z",
     "start_time": "2020-11-24T08:16:06.421368Z"
    }
   },
   "outputs": [
    {
     "ename": "TypeError",
     "evalue": "'str' object does not support item assignment",
     "output_type": "error",
     "traceback": [
      "\u001b[0;31m---------------------------------------------------------------------------\u001b[0m",
      "\u001b[0;31mTypeError\u001b[0m                                 Traceback (most recent call last)",
      "\u001b[0;32m<ipython-input-31-50ae523d72ba>\u001b[0m in \u001b[0;36m<module>\u001b[0;34m\u001b[0m\n\u001b[1;32m      1\u001b[0m \u001b[0;31m# Here if we try to change an element in greetings:\u001b[0m\u001b[0;34m\u001b[0m\u001b[0;34m\u001b[0m\u001b[0;34m\u001b[0m\u001b[0m\n\u001b[1;32m      2\u001b[0m \u001b[0mgreetings\u001b[0m \u001b[0;34m=\u001b[0m \u001b[0;34m\"Hello There\"\u001b[0m\u001b[0;34m\u001b[0m\u001b[0;34m\u001b[0m\u001b[0m\n\u001b[0;32m----> 3\u001b[0;31m \u001b[0mgreetings\u001b[0m\u001b[0;34m[\u001b[0m\u001b[0;36m3\u001b[0m\u001b[0;34m]\u001b[0m \u001b[0;34m=\u001b[0m \u001b[0;34m'i'\u001b[0m\u001b[0;34m\u001b[0m\u001b[0;34m\u001b[0m\u001b[0m\n\u001b[0m\u001b[1;32m      4\u001b[0m \u001b[0mprint\u001b[0m\u001b[0;34m(\u001b[0m\u001b[0mgreetings\u001b[0m\u001b[0;34m)\u001b[0m\u001b[0;34m\u001b[0m\u001b[0;34m\u001b[0m\u001b[0m\n",
      "\u001b[0;31mTypeError\u001b[0m: 'str' object does not support item assignment"
     ]
    }
   ],
   "source": [
    "# Here if we try to change an element in greetings:\n",
    "greetings = \"Hello There\"\n",
    "greetings[3] = 'i'\n",
    "print(greetings)"
   ]
  },
  {
   "cell_type": "code",
   "execution_count": 32,
   "metadata": {
    "ExecuteTime": {
     "end_time": "2020-11-24T08:20:04.837271Z",
     "start_time": "2020-11-24T08:20:04.833762Z"
    }
   },
   "outputs": [],
   "source": [
    "# The technical term for whether an object can be modified after creation is Mutability\n",
    "# Lists can be modified, so it is a mutable data type\n",
    "# Strings can't be modified, so it is an immutable data type"
   ]
  },
  {
   "cell_type": "markdown",
   "metadata": {},
   "source": [
    "- There are two factors to consider, one is mutability and the other is order.\n",
    "\n",
    "- Order is where the order of contents for an object matters, and whether or not part of the object can be accessed using this order.\n",
    "\n",
    "- Both strings and lists are ordered, that's why indexing works well for them\n",
    "\n",
    "- However, one is mutable(lists) and the other is not(strings)"
   ]
  },
  {
   "cell_type": "markdown",
   "metadata": {},
   "source": [
    "**Quiz: List Indexing**\n",
    "\n",
    "Use list indexing to determine how many days are in a particular month based on the integer variable month, and store that value in the integer variable num_days. For example, if month is 8, num_days should be set to 31, since the eighth month, August, has 31 days.\n",
    "\n",
    "Remember to account for zero-based indexing!"
   ]
  },
  {
   "cell_type": "code",
   "execution_count": 34,
   "metadata": {
    "ExecuteTime": {
     "end_time": "2020-11-24T09:05:19.944602Z",
     "start_time": "2020-11-24T09:05:19.938012Z"
    }
   },
   "outputs": [
    {
     "name": "stdout",
     "output_type": "stream",
     "text": [
      "31\n"
     ]
    }
   ],
   "source": [
    "# Solution\n",
    "month = 8\n",
    "days_in_month = [31,28,31,30,31,30,31,31,30,31,30,31]\n",
    "\n",
    "# use list indexing to determine the number of days in month\n",
    "num_days = days_in_month[7]\n",
    "\n",
    "print(num_days)"
   ]
  },
  {
   "cell_type": "code",
   "execution_count": 35,
   "metadata": {
    "ExecuteTime": {
     "end_time": "2020-11-24T09:06:41.540788Z",
     "start_time": "2020-11-24T09:06:41.532191Z"
    }
   },
   "outputs": [
    {
     "name": "stdout",
     "output_type": "stream",
     "text": [
      "31\n"
     ]
    }
   ],
   "source": [
    "# Another Solution\n",
    "month = 8\n",
    "days_in_month = [31,28,31,30,31,30,31,31,30,31,30,31]\n",
    "\n",
    "# use list indexing to determine the number of days in month\n",
    "num_days = days_in_month[month - 1]\n",
    "\n",
    "print(num_days)"
   ]
  },
  {
   "cell_type": "markdown",
   "metadata": {},
   "source": [
    "**Quiz: Slicing Lists**\n",
    "\n",
    "Select the three most recent dates from this list using list slicing notation. \n",
    "\n",
    "Hint: negative indexes work in slices!"
   ]
  },
  {
   "cell_type": "code",
   "execution_count": 40,
   "metadata": {
    "ExecuteTime": {
     "end_time": "2020-11-24T09:14:16.062602Z",
     "start_time": "2020-11-24T09:14:16.056074Z"
    }
   },
   "outputs": [
    {
     "name": "stdout",
     "output_type": "stream",
     "text": [
      "['November 13, 2012', 'March 20, 2015', 'March 9, 2016']\n"
     ]
    }
   ],
   "source": [
    "# Solution\n",
    "eclipse_dates = ['June 21, 2001', 'December 4, 2002', 'November 23, 2003',\n",
    "                 'March 29, 2006', 'August 1, 2008', 'July 22, 2009',\n",
    "                 'July 11, 2010', 'November 13, 2012', 'March 20, 2015',\n",
    "                 'March 9, 2016']\n",
    "                 \n",
    "                 \n",
    "# TODO: Modify this line so it prints the last three elements of the list\n",
    "print(eclipse_dates[-3:])\n",
    "\n",
    "# Note: Inside the square bracket, on the left before the colon, extracts from the end of the list\n",
    "# On the right, after the the colon, extracts from the beginning of the list"
   ]
  },
  {
   "cell_type": "code",
   "execution_count": 4,
   "metadata": {
    "ExecuteTime": {
     "end_time": "2020-11-24T09:18:12.068168Z",
     "start_time": "2020-11-24T09:18:12.063859Z"
    }
   },
   "outputs": [],
   "source": [
    "# Suppose we have the following two expressions, sentence1 and sentence2:\n",
    "sentence1 = \"I wish to register a complaint.\"\n",
    "sentence2 = [\"I\", \"wish\", \"to\", \"register\", \"a\", \"complaint\", \".\"]"
   ]
  },
  {
   "cell_type": "code",
   "execution_count": 5,
   "metadata": {
    "ExecuteTime": {
     "end_time": "2020-11-24T09:37:30.305718Z",
     "start_time": "2020-11-24T09:37:30.301972Z"
    }
   },
   "outputs": [],
   "source": [
    "# What does this do: sentence2[6]=\"!\"\n",
    "# What does this do: sentence2[0]= \"Our Majesty\"\n",
    "# What does this do: sentence1[30]=\"!\"\n",
    "# What does this do: sentence2[0:2] = [\"We\", \"want\"]"
   ]
  },
  {
   "cell_type": "markdown",
   "metadata": {},
   "source": [
    "**Why Do We Need Lists?**\n",
    "\n",
    "Let's talk about why we need a data structure like a list or when to use it. We will borrow an example from the world of Wall Street for this discussion.\n",
    "\n",
    "Companies listed on the NASDAQ exchange have ticker symbols or abbreviations for each company name. For e.g., the ticker symbol for Alphabet, Inc. is GOOGL.\n",
    "\n",
    "Imagine now that you own stocks for one company, say Microsoft, and want to be able to print out the ticker symbol of your stock. Since it is one value, you can store it in the variable microsoft, and assign it the value of MSFT. Like this:"
   ]
  },
  {
   "cell_type": "code",
   "execution_count": 10,
   "metadata": {
    "ExecuteTime": {
     "end_time": "2020-11-24T09:39:34.368680Z",
     "start_time": "2020-11-24T09:39:34.363442Z"
    }
   },
   "outputs": [
    {
     "name": "stdout",
     "output_type": "stream",
     "text": [
      "MSFT\n"
     ]
    }
   ],
   "source": [
    "microsoft = 'MSFT'\n",
    "print(microsoft)\n",
    "\n",
    "# That's convenient"
   ]
  },
  {
   "cell_type": "markdown",
   "metadata": {},
   "source": [
    "Let's now consider that you are an investment fund manager, and you want to print out the stocks (or holdings) you own in an index fund: https://www.marketwatch.com/investing/fund/vinix/holdings\n",
    "\n",
    "An index fund includes stocks (also called holdings) for a large number of companies. Turns out Vanguard Institutional Index Fund has 506 holdings!\n",
    "\n",
    "Printing the tickets for all 506 holdings using individual strings would require 506 strings. Not ideal! Because we'll need to remember the name of each string to print it.\n",
    "You also have to think about how to group the 506 strings under the same index fund. Not convenient at all!"
   ]
  },
  {
   "cell_type": "markdown",
   "metadata": {},
   "source": [
    "**This is where the beauty of data structures comes into play! You can use a list.**\n",
    "\n",
    "Since index funds have ticker symbols too, you use that as the name for the list, here VINIX, and add the ticker symbols for all the holdings into that list. Let's populate the list with the top holdings listed for Vanguard Institutional Index Fund ."
   ]
  },
  {
   "cell_type": "code",
   "execution_count": 11,
   "metadata": {
    "ExecuteTime": {
     "end_time": "2020-11-24T09:41:41.685554Z",
     "start_time": "2020-11-24T09:41:41.679406Z"
    }
   },
   "outputs": [],
   "source": [
    "VINIX = ['C', 'MA', 'BA', 'PG', 'CSCO', 'VZ', 'PFE', 'HD', 'INTC', 'T', 'V', 'UNH', 'WFC',\n",
    "         'CVX', 'BAC', 'JNJ', 'GOOGL', 'GOOG', 'BRK.B', 'XOM', 'JPM', 'FB', 'AMZN', 'MSFT', 'AAPL']"
   ]
  },
  {
   "cell_type": "code",
   "execution_count": 12,
   "metadata": {
    "ExecuteTime": {
     "end_time": "2020-11-24T09:42:17.973970Z",
     "start_time": "2020-11-24T09:42:17.968315Z"
    }
   },
   "outputs": [
    {
     "name": "stdout",
     "output_type": "stream",
     "text": [
      "C\n"
     ]
    }
   ],
   "source": [
    "# Now, printing the tickers becomes slightly easier. \n",
    "# And you don't have to remember the names of the strings!\n",
    "print(VINIX[0])"
   ]
  },
  {
   "cell_type": "code",
   "execution_count": 13,
   "metadata": {
    "ExecuteTime": {
     "end_time": "2020-11-24T09:42:54.975912Z",
     "start_time": "2020-11-24T09:42:54.928731Z"
    }
   },
   "outputs": [
    {
     "data": {
      "text/plain": [
       "False"
      ]
     },
     "execution_count": 13,
     "metadata": {},
     "output_type": "execute_result"
    }
   ],
   "source": [
    "# You can even use the list to see if a particular stock is in the index fund VINIX or not. Like this:\n",
    "'GE' in VINIX"
   ]
  },
  {
   "cell_type": "code",
   "execution_count": 14,
   "metadata": {
    "ExecuteTime": {
     "end_time": "2020-11-24T09:43:12.246963Z",
     "start_time": "2020-11-24T09:43:12.240613Z"
    }
   },
   "outputs": [
    {
     "data": {
      "text/plain": [
       "True"
      ]
     },
     "execution_count": 14,
     "metadata": {},
     "output_type": "execute_result"
    }
   ],
   "source": [
    "'GOOGL' in VINIX"
   ]
  },
  {
   "cell_type": "markdown",
   "metadata": {},
   "source": [
    "**List Methods**"
   ]
  },
  {
   "cell_type": "markdown",
   "metadata": {},
   "source": [
    "Previously, when we created a variable that held an immutable object, it was saved in memory. Here👇🏽we create a name with value Jim, and assign it to another variable student. It is the value Jim that is assigned to student.\n",
    "\n",
    "So when we reassin name to update it to Tim, this change is not reflected in the value of student"
   ]
  },
  {
   "cell_type": "code",
   "execution_count": 23,
   "metadata": {
    "ExecuteTime": {
     "end_time": "2020-11-24T16:25:26.755285Z",
     "start_time": "2020-11-24T16:25:26.751465Z"
    }
   },
   "outputs": [],
   "source": [
    "name = 'Jim'\n",
    "student = name\n",
    "name = 'Tim'"
   ]
  },
  {
   "cell_type": "code",
   "execution_count": 24,
   "metadata": {
    "ExecuteTime": {
     "end_time": "2020-11-24T16:25:28.541611Z",
     "start_time": "2020-11-24T16:25:28.534456Z"
    }
   },
   "outputs": [
    {
     "name": "stdout",
     "output_type": "stream",
     "text": [
      "Tim\n",
      "Jim\n"
     ]
    }
   ],
   "source": [
    "print(name)\n",
    "print(student)"
   ]
  },
  {
   "cell_type": "markdown",
   "metadata": {},
   "source": [
    "Lists are different from strings as they are mutable.\n",
    "\n",
    "Here👇🏽 we create a list of scores and assign the same list to the variable grades, and when we change and mutate the scores list and making the 4th grade B instead of D, this affects both scores and grades."
   ]
  },
  {
   "cell_type": "code",
   "execution_count": 17,
   "metadata": {
    "ExecuteTime": {
     "end_time": "2020-11-24T16:05:49.509259Z",
     "start_time": "2020-11-24T16:05:49.505164Z"
    }
   },
   "outputs": [],
   "source": [
    "scores = ['B', 'C', 'A', 'D', 'B', 'A']\n",
    "grades = scores"
   ]
  },
  {
   "cell_type": "code",
   "execution_count": 19,
   "metadata": {
    "ExecuteTime": {
     "end_time": "2020-11-24T16:08:22.614267Z",
     "start_time": "2020-11-24T16:08:22.608595Z"
    }
   },
   "outputs": [
    {
     "name": "stdout",
     "output_type": "stream",
     "text": [
      "scores: ['B', 'C', 'A', 'D', 'B', 'A']\n",
      "grades: ['B', 'C', 'A', 'D', 'B', 'A']\n"
     ]
    }
   ],
   "source": [
    "print(\"scores: \" + str(scores))\n",
    "print(\"grades: \" + str(grades))"
   ]
  },
  {
   "cell_type": "code",
   "execution_count": 20,
   "metadata": {
    "ExecuteTime": {
     "end_time": "2020-11-24T16:08:59.997524Z",
     "start_time": "2020-11-24T16:08:59.993498Z"
    }
   },
   "outputs": [],
   "source": [
    "scores[3] = 'B'"
   ]
  },
  {
   "cell_type": "markdown",
   "metadata": {},
   "source": [
    "Both scores and grades are variable names for the same underkying list, and either names can be used to access and change that list."
   ]
  },
  {
   "cell_type": "code",
   "execution_count": 21,
   "metadata": {
    "ExecuteTime": {
     "end_time": "2020-11-24T16:09:14.848379Z",
     "start_time": "2020-11-24T16:09:14.842350Z"
    }
   },
   "outputs": [
    {
     "name": "stdout",
     "output_type": "stream",
     "text": [
      "scores: ['B', 'C', 'A', 'B', 'B', 'A']\n",
      "grades: ['B', 'C', 'A', 'B', 'B', 'A']\n"
     ]
    }
   ],
   "source": [
    "print(\"scores: \" + str(scores))\n",
    "print(\"grades: \" + str(grades))"
   ]
  },
  {
   "cell_type": "markdown",
   "metadata": {},
   "source": [
    "The behavior of variables containing mutable and immutable objects are very different and might even seem surprising at times.\n",
    "\n",
    "Experiment, use the print functions and double-check your work where you can to make sure that your programs correctly keep track of their data.\n",
    "\n",
    "While you experiment with lists, there some useful functions you should get familiar with.\n",
    "\n",
    "- Len returns how many elements are in a list\n",
    "\n",
    "- Max returns the greatest element of a list"
   ]
  },
  {
   "cell_type": "markdown",
   "metadata": {},
   "source": [
    "How the greatest elements are determined depends on what type of objects are in your list.\n",
    "\n",
    "- The maximum element in a list of numbers is the largest number.\n",
    "\n",
    "- The maximum element in a list of strings is the element that will occur last if it was sorted alphabetically\n",
    "\n",
    "Here👇🏽 is an example"
   ]
  },
  {
   "cell_type": "code",
   "execution_count": 25,
   "metadata": {
    "ExecuteTime": {
     "end_time": "2020-11-24T16:50:07.946695Z",
     "start_time": "2020-11-24T16:50:07.939924Z"
    }
   },
   "outputs": [
    {
     "name": "stdout",
     "output_type": "stream",
     "text": [
      "Recticulated Python\n"
     ]
    }
   ],
   "source": [
    "python_varieties = ['Burmese Python', 'African Rock Python',\n",
    "                    'Ball Python', 'Recticulated Python', 'Angola Python']\n",
    "print(max(python_varieties))\n",
    "\n",
    "# R is the largest word alphabetically. Greater than 'B', and 'A'"
   ]
  },
  {
   "cell_type": "markdown",
   "metadata": {},
   "source": [
    "This👆🏼 works because the Max function is defined in terms of the greater than comparison operator.\n",
    "\n",
    "The greater than comparison operator is defined for many non-numeric types. If you're working with objects that can be compared with this, then you can use max on the list of the objects.\n",
    "\n",
    "For strings, the standard comparison is alphabetical. So the maximum of this list is the element that appears last alphabetically.\n",
    "\n",
    "Although you can create lists that hold a mix of elements of many types, as you can see here👇🏽, integers and texts, the max function is undefined for lists that contain element from different incomparable types."
   ]
  },
  {
   "cell_type": "code",
   "execution_count": 26,
   "metadata": {
    "ExecuteTime": {
     "end_time": "2020-11-24T16:57:56.098897Z",
     "start_time": "2020-11-24T16:57:56.084302Z"
    }
   },
   "outputs": [
    {
     "ename": "TypeError",
     "evalue": "'>' not supported between instances of 'str' and 'int'",
     "output_type": "error",
     "traceback": [
      "\u001b[0;31m---------------------------------------------------------------------------\u001b[0m",
      "\u001b[0;31mTypeError\u001b[0m                                 Traceback (most recent call last)",
      "\u001b[0;32m<ipython-input-26-0d7b808cbb83>\u001b[0m in \u001b[0;36m<module>\u001b[0;34m\u001b[0m\n\u001b[0;32m----> 1\u001b[0;31m \u001b[0mmax\u001b[0m\u001b[0;34m(\u001b[0m\u001b[0;36m42\u001b[0m\u001b[0;34m,\u001b[0m \u001b[0;34m'African Swallow'\u001b[0m\u001b[0;34m)\u001b[0m\u001b[0;34m\u001b[0m\u001b[0;34m\u001b[0m\u001b[0m\n\u001b[0m",
      "\u001b[0;31mTypeError\u001b[0m: '>' not supported between instances of 'str' and 'int'"
     ]
    }
   ],
   "source": [
    "max(42, 'African Swallow')"
   ]
  },
  {
   "cell_type": "markdown",
   "metadata": {},
   "source": [
    "Here👆🏼 you can see it breaks with this mix of data types.\n",
    "\n",
    "Min is the opposite of Max and returns the smallest element in the list.\n",
    "\n",
    "Sorted returns a copy of a list in order from smallest to largest leaving the original list unchanged"
   ]
  },
  {
   "cell_type": "code",
   "execution_count": 27,
   "metadata": {
    "ExecuteTime": {
     "end_time": "2020-11-24T17:08:30.925250Z",
     "start_time": "2020-11-24T17:08:30.919539Z"
    }
   },
   "outputs": [
    {
     "name": "stdout",
     "output_type": "stream",
     "text": [
      "[6, 15, 34, 35, 65, 89]\n"
     ]
    }
   ],
   "source": [
    "# Order in ascending\n",
    "sizes = [15,6,89,34,65,35]\n",
    "print(sorted(sizes))"
   ]
  },
  {
   "cell_type": "code",
   "execution_count": 30,
   "metadata": {
    "ExecuteTime": {
     "end_time": "2020-11-24T17:09:39.752211Z",
     "start_time": "2020-11-24T17:09:39.746493Z"
    }
   },
   "outputs": [
    {
     "name": "stdout",
     "output_type": "stream",
     "text": [
      "[89, 65, 35, 34, 15, 6]\n"
     ]
    }
   ],
   "source": [
    "# In descending Order Using reverse=True\n",
    "sizes = [15,6,89,34,65,35]\n",
    "print(sorted(sizes, reverse=True))"
   ]
  },
  {
   "cell_type": "markdown",
   "metadata": {},
   "source": [
    "**List Method II**\n",
    "\n",
    "A new string method that works with lists; Join()\n",
    "\n",
    "Join takes a list as an argument and restores a string consisting of the list elements joined by separator string"
   ]
  },
  {
   "cell_type": "code",
   "execution_count": 31,
   "metadata": {
    "ExecuteTime": {
     "end_time": "2020-11-24T22:38:08.604716Z",
     "start_time": "2020-11-24T22:38:08.598541Z"
    }
   },
   "outputs": [
    {
     "name": "stdout",
     "output_type": "stream",
     "text": [
      "fore\n",
      "aft\n",
      "starboard\n",
      "port\n"
     ]
    }
   ],
   "source": [
    "nautical_directions = \"\\n\".join([\"fore\", \"aft\", \"starboard\", \"port\"])\n",
    "print(nautical_directions)"
   ]
  },
  {
   "cell_type": "markdown",
   "metadata": {},
   "source": [
    "Here👆🏼we use a string backslash n as a separator, so that there's a newline between each element"
   ]
  },
  {
   "cell_type": "markdown",
   "metadata": {},
   "source": [
    "We can also use other strings as separators with join.\n",
    "Here👇🏽 we use a hyphen."
   ]
  },
  {
   "cell_type": "code",
   "execution_count": 32,
   "metadata": {
    "ExecuteTime": {
     "end_time": "2020-11-24T22:43:55.584055Z",
     "start_time": "2020-11-24T22:43:55.577307Z"
    }
   },
   "outputs": [
    {
     "name": "stdout",
     "output_type": "stream",
     "text": [
      "Garcia-O'Kelly-Davis\n"
     ]
    }
   ],
   "source": [
    "names = [\"Garcia\", \"O'Kelly\", \"Davis\"]\n",
    "print(\"-\".join(names))"
   ]
  },
  {
   "cell_type": "markdown",
   "metadata": {},
   "source": [
    "It is important to remember to separate each of the items in the list you're joining with a comma.\n",
    "\n",
    "Forgetting to do so will not trigger an error, but will also give you unexpected results"
   ]
  },
  {
   "cell_type": "code",
   "execution_count": 1,
   "metadata": {
    "ExecuteTime": {
     "end_time": "2020-11-25T07:04:09.005373Z",
     "start_time": "2020-11-25T07:04:08.997309Z"
    }
   },
   "outputs": [
    {
     "name": "stdout",
     "output_type": "stream",
     "text": [
      "GarciaO'KellyDavis\n"
     ]
    }
   ],
   "source": [
    "names = [\"Garcia\" \"O'Kelly\" \"Davis\"]\n",
    "print(\"-\".join(names))"
   ]
  },
  {
   "cell_type": "markdown",
   "metadata": {},
   "source": [
    "This👆🏼 happens because of pythons string literal appending.\n",
    "\n",
    "If joins returns unexpected results, check for missing commas.\n",
    "\n",
    "Join will trigger an error👇🏽 if we try to join anything other than strings"
   ]
  },
  {
   "cell_type": "code",
   "execution_count": 2,
   "metadata": {
    "ExecuteTime": {
     "end_time": "2020-11-25T07:22:29.960100Z",
     "start_time": "2020-11-25T07:22:29.797927Z"
    }
   },
   "outputs": [
    {
     "ename": "TypeError",
     "evalue": "sequence item 1: expected str instance, int found",
     "output_type": "error",
     "traceback": [
      "\u001b[0;31m---------------------------------------------------------------------------\u001b[0m",
      "\u001b[0;31mTypeError\u001b[0m                                 Traceback (most recent call last)",
      "\u001b[0;32m<ipython-input-2-5cc1880708fc>\u001b[0m in \u001b[0;36m<module>\u001b[0;34m\u001b[0m\n\u001b[1;32m      1\u001b[0m \u001b[0mstuff\u001b[0m \u001b[0;34m=\u001b[0m \u001b[0;34m[\u001b[0m\u001b[0;34m\"thing\"\u001b[0m\u001b[0;34m,\u001b[0m \u001b[0;36m42\u001b[0m\u001b[0;34m,\u001b[0m \u001b[0;34m\"nope\"\u001b[0m\u001b[0;34m]\u001b[0m\u001b[0;34m\u001b[0m\u001b[0;34m\u001b[0m\u001b[0m\n\u001b[0;32m----> 2\u001b[0;31m \u001b[0mprint\u001b[0m\u001b[0;34m(\u001b[0m\u001b[0;34m\"and\"\u001b[0m\u001b[0;34m.\u001b[0m\u001b[0mjoin\u001b[0m\u001b[0;34m(\u001b[0m\u001b[0mstuff\u001b[0m\u001b[0;34m)\u001b[0m\u001b[0;34m)\u001b[0m\u001b[0;34m\u001b[0m\u001b[0;34m\u001b[0m\u001b[0m\n\u001b[0m",
      "\u001b[0;31mTypeError\u001b[0m: sequence item 1: expected str instance, int found"
     ]
    }
   ],
   "source": [
    "stuff = [\"thing\", 42, \"nope\"]\n",
    "print(\"and\".join(stuff))"
   ]
  },
  {
   "cell_type": "markdown",
   "metadata": {},
   "source": [
    "Lastly, a helpful method called append adds an element to the end of the list"
   ]
  },
  {
   "cell_type": "code",
   "execution_count": 3,
   "metadata": {
    "ExecuteTime": {
     "end_time": "2020-11-25T07:26:20.199018Z",
     "start_time": "2020-11-25T07:26:20.194589Z"
    }
   },
   "outputs": [],
   "source": [
    "python_varieties = ['Burmese Python', 'African Rock Python',\n",
    "                    'Ball Python', 'Recticulated Python', 'Angola Python']"
   ]
  },
  {
   "cell_type": "code",
   "execution_count": 4,
   "metadata": {
    "ExecuteTime": {
     "end_time": "2020-11-25T07:26:32.769694Z",
     "start_time": "2020-11-25T07:26:32.762746Z"
    }
   },
   "outputs": [
    {
     "name": "stdout",
     "output_type": "stream",
     "text": [
      "['Burmese Python', 'African Rock Python', 'Ball Python', 'Recticulated Python', 'Angola Python']\n"
     ]
    }
   ],
   "source": [
    "print(python_varieties)"
   ]
  },
  {
   "cell_type": "code",
   "execution_count": 5,
   "metadata": {
    "ExecuteTime": {
     "end_time": "2020-11-25T07:27:05.864224Z",
     "start_time": "2020-11-25T07:27:05.860353Z"
    }
   },
   "outputs": [],
   "source": [
    "python_varieties.append('Blood Python')"
   ]
  },
  {
   "cell_type": "code",
   "execution_count": 6,
   "metadata": {
    "ExecuteTime": {
     "end_time": "2020-11-25T07:27:14.377525Z",
     "start_time": "2020-11-25T07:27:14.372062Z"
    }
   },
   "outputs": [
    {
     "name": "stdout",
     "output_type": "stream",
     "text": [
      "['Burmese Python', 'African Rock Python', 'Ball Python', 'Recticulated Python', 'Angola Python', 'Blood Python']\n"
     ]
    }
   ],
   "source": [
    "print(python_varieties)"
   ]
  },
  {
   "cell_type": "markdown",
   "metadata": {},
   "source": [
    "**Quiz: len, max, min, and Lists**\n",
    "\n",
    "What would the output of the following code be? (Treat the comma in the multiple choice answers as newlines.)"
   ]
  },
  {
   "cell_type": "code",
   "execution_count": null,
   "metadata": {},
   "outputs": [],
   "source": [
    "a = [1, 5, 8]\n",
    "b = [2, 6, 9, 10]\n",
    "c = [100, 200]\n",
    "\n",
    "print(max([len(a), len(b), len(c)]))\n",
    "print(min([len(a), len(b), len(c)]))"
   ]
  },
  {
   "cell_type": "markdown",
   "metadata": {},
   "source": [
    "**Quiz: sorted, join, and Lists**\n",
    "    \n",
    "What would the output of the following code be? (Treat the comma in the multiple choice answers as newlines.)"
   ]
  },
  {
   "cell_type": "code",
   "execution_count": null,
   "metadata": {},
   "outputs": [],
   "source": [
    "names = [\"Carol\", \"Albert\", \"Ben\", \"Donna\"]\n",
    "print(\" & \".join(sorted(names)))"
   ]
  },
  {
   "cell_type": "markdown",
   "metadata": {},
   "source": [
    "**Quiz: append and Lists**\n",
    "\n",
    "What would the output of the following code be? (Treat the commas in the multiple choice answers as newlines.)"
   ]
  },
  {
   "cell_type": "code",
   "execution_count": null,
   "metadata": {},
   "outputs": [],
   "source": [
    "names = [\"Carol\", \"Albert\", \"Ben\", \"Donna\"]\n",
    "names.append(\"Eugenia\")\n",
    "print(sorted(names))"
   ]
  },
  {
   "cell_type": "markdown",
   "metadata": {},
   "source": [
    "**Expert tips on data structures and data types**\n",
    "\n",
    "A data type is just a type that classifies data. This can include primitive (basic) data types like integers, booleans, and strings, as well as data structures, such as lists.\n",
    "\n",
    "Data structures are containers that organize and group data types together in different ways. For example, some of the elements that a list can contain are integers, strings, and even other lists!"
   ]
  },
  {
   "cell_type": "markdown",
   "metadata": {},
   "source": [
    "**Tuples**\n",
    "\n",
    "Python provides another useful container TUPLES\n",
    "\n",
    "Tuples are used to store related pieces of information.\n",
    "\n",
    "A tuple is a data structure in Python that is an immutable ordered sequence of elements\n",
    "\n",
    "An example👇🏽"
   ]
  },
  {
   "cell_type": "code",
   "execution_count": 7,
   "metadata": {
    "ExecuteTime": {
     "end_time": "2020-11-25T08:15:48.498152Z",
     "start_time": "2020-11-25T08:15:48.492725Z"
    }
   },
   "outputs": [
    {
     "name": "stdout",
     "output_type": "stream",
     "text": [
      "<class 'tuple'>\n"
     ]
    }
   ],
   "source": [
    "AngKorWat = (13.4125, 103.866667)\n",
    "print(type(AngKorWat))"
   ]
  },
  {
   "cell_type": "code",
   "execution_count": 8,
   "metadata": {
    "ExecuteTime": {
     "end_time": "2020-11-25T08:22:27.918140Z",
     "start_time": "2020-11-25T08:22:27.901790Z"
    }
   },
   "outputs": [
    {
     "name": "stdout",
     "output_type": "stream",
     "text": [
      "AngKor Wat is at latitude: 13.4125\n",
      "AngKor Wat is at longitude: 103.866667\n"
     ]
    }
   ],
   "source": [
    "print(\"AngKor Wat is at latitude: {}\".format(AngKorWat[0]))\n",
    "print(\"AngKor Wat is at longitude: {}\".format(AngKorWat[1]))"
   ]
  },
  {
   "cell_type": "markdown",
   "metadata": {},
   "source": [
    "Tuples are similar to lists in that they store an ordered collection of objects which can be accessed by their indices.\n",
    "\n",
    "An example is in the print statement in the above👆🏼cell"
   ]
  },
  {
   "cell_type": "markdown",
   "metadata": {},
   "source": [
    "**Unlike lists, Tuples are immutable.**\n",
    "\n",
    "You cannot add or remove items from tuples or sort them in place.\n",
    "\n",
    "**Why do we have Tuples if they are lists with fewer features?**\n",
    "\n",
    "Tuples are useful when you have two or more values that are so closely related that they will always be together like longitude and latitude.\n",
    "\n",
    "Tuples can also be used to assign multiple variables in a compact way\n",
    "\n",
    "An example👇🏽"
   ]
  },
  {
   "cell_type": "code",
   "execution_count": 9,
   "metadata": {
    "ExecuteTime": {
     "end_time": "2020-11-25T08:46:55.181099Z",
     "start_time": "2020-11-25T08:46:55.174509Z"
    }
   },
   "outputs": [
    {
     "name": "stdout",
     "output_type": "stream",
     "text": [
      "The dimensions are 52*40*100\n"
     ]
    }
   ],
   "source": [
    "dimensions = 52, 40, 100\n",
    "length, width, height = dimensions\n",
    "print(\"The dimensions are {}*{}*{}\".format(length, width, height))"
   ]
  },
  {
   "cell_type": "markdown",
   "metadata": {},
   "source": [
    "**Notice** that the values assigned to the tuple 'dimensions' aren't surrounded by parentheses as previous examples.\n",
    "\n",
    "The parentheses are optional when making tuples and programmers frequently omit them if parenthese don't clarify the code.\n",
    "\n",
    "**In the second line of the example code**👆🏼 three variables are assigned from the contents of the tuple 'dimensions'.\n",
    "\n",
    "**This is called tuple unpacking**\n",
    "\n",
    "You can use tuple unpacking to assign the information from a tuple into multiple variables without having to access them one by one, and make multiple assignment statements."
   ]
  },
  {
   "cell_type": "code",
   "execution_count": 10,
   "metadata": {
    "ExecuteTime": {
     "end_time": "2020-11-25T08:59:01.597258Z",
     "start_time": "2020-11-25T08:59:01.591433Z"
    }
   },
   "outputs": [
    {
     "name": "stdout",
     "output_type": "stream",
     "text": [
      "The dimensions are 52*40*100\n"
     ]
    }
   ],
   "source": [
    "dimensions = 52, 40, 100\n",
    "print(\"The dimensions are {}*{}*{}\".format(length, width, height))"
   ]
  },
  {
   "cell_type": "markdown",
   "metadata": {},
   "source": [
    "**In this example**👆🏼 if we won't need to use 'dimensions' directly, we could shorten those two lines of code into a single line that assigns 3 variables in one go."
   ]
  },
  {
   "cell_type": "markdown",
   "metadata": {},
   "source": [
    "**Quiz: Tuples**\n",
    "    \n",
    "What would the output of the following code be? (Treat the comma in the multiple choice answers as newlines.)"
   ]
  },
  {
   "cell_type": "code",
   "execution_count": null,
   "metadata": {},
   "outputs": [],
   "source": [
    "tuple_a = 1, 2\n",
    "tuple_b = (1, 2)\n",
    "\n",
    "print(tuple_a == tuple_b)\n",
    "print(tuple_a[1])"
   ]
  },
  {
   "cell_type": "markdown",
   "metadata": {},
   "source": [
    "**Sets**\n",
    "\n",
    "Imagine that you run a popuar search engine and you've surveyed your users to see where they are browsing from.\n",
    "\n",
    "You've collected the 785 responses and have assembled them into a list of countries.\n",
    "\n",
    "They aren't 785 countries in the world, which means that there are duplicate entries in the country's list.\n",
    "\n",
    "Sicing the list to see the first few elements confirms this.\n",
    "\n",
    "It will be useful to remove the duplicates to produce a list of all the countries that users browse from.\n",
    "\n",
    "**A set in Python does exactly that**\n"
   ]
  },
  {
   "cell_type": "markdown",
   "metadata": {},
   "source": [
    "**Sets are containers of unique elements without particular ordering.**\n",
    "\n",
    "We can create a set from a list like this👇🏽"
   ]
  },
  {
   "cell_type": "code",
   "execution_count": 14,
   "metadata": {
    "ExecuteTime": {
     "end_time": "2020-11-25T14:51:21.942264Z",
     "start_time": "2020-11-25T14:51:21.935699Z"
    }
   },
   "outputs": [
    {
     "name": "stdout",
     "output_type": "stream",
     "text": [
      "14\n"
     ]
    }
   ],
   "source": [
    "countries = [\n",
    "    'Angola', 'Maldives', 'India', 'United States', 'India', 'Denmark',\n",
    "    'Sweden', 'Ghana', 'Angola', 'Nigeria', 'Sweden', 'India', 'Congo', 'Ghana'\n",
    "]\n",
    "print(len(countries))"
   ]
  },
  {
   "cell_type": "code",
   "execution_count": 15,
   "metadata": {
    "ExecuteTime": {
     "end_time": "2020-11-25T14:51:26.425306Z",
     "start_time": "2020-11-25T14:51:26.419579Z"
    }
   },
   "outputs": [
    {
     "name": "stdout",
     "output_type": "stream",
     "text": [
      "9\n"
     ]
    }
   ],
   "source": [
    "# Set removes the duplicates\n",
    "country_set = set(countries)\n",
    "print(len(country_set))"
   ]
  },
  {
   "cell_type": "code",
   "execution_count": 16,
   "metadata": {
    "ExecuteTime": {
     "end_time": "2020-11-25T14:57:42.934344Z",
     "start_time": "2020-11-25T14:57:42.928726Z"
    }
   },
   "outputs": [
    {
     "name": "stdout",
     "output_type": "stream",
     "text": [
      "True\n",
      "True\n"
     ]
    }
   ],
   "source": [
    "# Set supports the in-operator, the way lists do\n",
    "print(\"India\" in countries)\n",
    "print(\"India\" in country_set)"
   ]
  },
  {
   "cell_type": "code",
   "execution_count": 18,
   "metadata": {
    "ExecuteTime": {
     "end_time": "2020-11-25T15:02:54.113451Z",
     "start_time": "2020-11-25T15:02:54.108910Z"
    }
   },
   "outputs": [
    {
     "name": "stdout",
     "output_type": "stream",
     "text": [
      "{'Maldives', 'Ghana', 'Sweden', 'Congo', 'India', 'United States', 'Nigeria', 'Italy', 'Angola', 'Denmark'}\n"
     ]
    }
   ],
   "source": [
    "# You can add elements to sets where you don't use the append method like you do with lists\n",
    "# Instead, sets have the add method.\n",
    "# Here👇🏽, Italy is added\n",
    "country_set.add(\"Italy\")\n",
    "print(country_set)"
   ]
  },
  {
   "cell_type": "code",
   "execution_count": 19,
   "metadata": {
    "ExecuteTime": {
     "end_time": "2020-11-25T15:12:20.758195Z",
     "start_time": "2020-11-25T15:12:20.752316Z"
    }
   },
   "outputs": [
    {
     "name": "stdout",
     "output_type": "stream",
     "text": [
      "{'Maldives', 'Ghana', 'Sweden', 'Congo', 'India', 'United States', 'Nigeria', 'Italy', 'Angola', 'Denmark'}\n"
     ]
    }
   ],
   "source": [
    "# Sets have a pop method just like lists. When you pop an element from a set\n",
    "#a random element is removed\n",
    "print(country_set)"
   ]
  },
  {
   "cell_type": "code",
   "execution_count": 20,
   "metadata": {
    "ExecuteTime": {
     "end_time": "2020-11-25T15:12:51.462447Z",
     "start_time": "2020-11-25T15:12:51.457045Z"
    }
   },
   "outputs": [
    {
     "name": "stdout",
     "output_type": "stream",
     "text": [
      "Maldives\n",
      "{'Ghana', 'Sweden', 'Congo', 'India', 'United States', 'Nigeria', 'Italy', 'Angola', 'Denmark'}\n"
     ]
    }
   ],
   "source": [
    "print(country_set.pop())\n",
    "print(country_set)\n",
    "# Maldives was randomly removed"
   ]
  },
  {
   "cell_type": "markdown",
   "metadata": {},
   "source": [
    "**Quiz: list to set**\n",
    "\n",
    "What would the output of the following code be?"
   ]
  },
  {
   "cell_type": "code",
   "execution_count": null,
   "metadata": {},
   "outputs": [],
   "source": [
    "a = [1, 2, 2, 3, 3, 3, 4, 4, 4, 4]\n",
    "b = set(a)\n",
    "print(len(a) - len(b))"
   ]
  },
  {
   "cell_type": "markdown",
   "metadata": {},
   "source": [
    "**Quiz: add and pop**\n",
    "\n",
    "Consider the following code:\n",
    "\n",
    "After executing this code, will the number 5 be a part of the set b?"
   ]
  },
  {
   "cell_type": "code",
   "execution_count": null,
   "metadata": {},
   "outputs": [],
   "source": [
    "a = [1, 2, 2, 3, 3, 3, 4, 4, 4, 4]\n",
    "b = set(a)\n",
    "b.add(5)\n",
    "b.pop()"
   ]
  },
  {
   "cell_type": "markdown",
   "metadata": {},
   "source": [
    "**Dictionaries and Identity Operators**\n",
    "\n",
    "Sets are simple data structures and they have one main use, collecting unique elements.\n",
    "\n",
    "However, dictionaries are more flexible. Rather than storing single objects like lists and sets do,\n",
    "dictionaries store pairs of elements in keys an values."
   ]
  },
  {
   "cell_type": "code",
   "execution_count": 1,
   "metadata": {
    "ExecuteTime": {
     "end_time": "2020-11-27T06:29:14.754833Z",
     "start_time": "2020-11-27T06:29:14.747857Z"
    }
   },
   "outputs": [
    {
     "name": "stdout",
     "output_type": "stream",
     "text": [
      "6\n"
     ]
    }
   ],
   "source": [
    "# In this👇🏽 example, we define a dictionary where the \n",
    "#keys and element names nad their values are corresponding\n",
    "#atomic numbers\n",
    "elements ={'hydrogen': 1, 'helium': 2, 'carbon': 6}\n",
    "print(elements['carbon'])"
   ]
  },
  {
   "cell_type": "code",
   "execution_count": 2,
   "metadata": {
    "ExecuteTime": {
     "end_time": "2020-11-27T06:29:16.151764Z",
     "start_time": "2020-11-27T06:29:16.148234Z"
    }
   },
   "outputs": [],
   "source": [
    "# We can lookup👆🏼 square values in the dictionary by using\n",
    "#square brackets enclosing a key"
   ]
  },
  {
   "cell_type": "code",
   "execution_count": 3,
   "metadata": {
    "ExecuteTime": {
     "end_time": "2020-11-27T06:29:17.048312Z",
     "start_time": "2020-11-27T06:29:17.040923Z"
    }
   },
   "outputs": [
    {
     "name": "stdout",
     "output_type": "stream",
     "text": [
      "{'hydrogen': 1, 'helium': 2, 'carbon': 6, 'lithium': 3}\n"
     ]
    }
   ],
   "source": [
    "# We can insert new values in the dictionary with square brackets\n",
    "# Here👇🏽 we adding 'lithium' and giving it a value of 3\n",
    "elements['lithium'] = 3\n",
    "print(elements)"
   ]
  },
  {
   "cell_type": "markdown",
   "metadata": {},
   "source": [
    "Dictionary keys are similar to list indices, we can select elements from the data structures by putting\n",
    "the key in square brackets\n",
    "\n",
    "Unlike lists, dictionaries can have keys of any immutable type, not just integers.\n",
    "\n",
    "The element dictionary uses strings for its keys.\n",
    "\n",
    "However, it is not necessary for every key to have the same type."
   ]
  },
  {
   "cell_type": "code",
   "execution_count": 4,
   "metadata": {
    "ExecuteTime": {
     "end_time": "2020-11-27T06:30:05.199391Z",
     "start_time": "2020-11-27T06:30:05.194382Z"
    }
   },
   "outputs": [
    {
     "name": "stdout",
     "output_type": "stream",
     "text": [
      "False\n"
     ]
    }
   ],
   "source": [
    "# We can check whether a value is in a dictionary the same way\n",
    "#we check whether a value is in a list or set with the keyword\n",
    "print('mithril' in elements)"
   ]
  },
  {
   "cell_type": "code",
   "execution_count": 5,
   "metadata": {
    "ExecuteTime": {
     "end_time": "2020-11-27T06:35:23.973496Z",
     "start_time": "2020-11-27T06:35:23.970055Z"
    }
   },
   "outputs": [],
   "source": [
    "# Dictionaries have useful method called 'GET'\n",
    "# get looks up values in a dictionary, but unlike\n",
    "#square brackets, get returns a none or default value\n",
    "#of choice, if the key is not found.👇🏽"
   ]
  },
  {
   "cell_type": "code",
   "execution_count": 6,
   "metadata": {
    "ExecuteTime": {
     "end_time": "2020-11-27T06:36:08.112375Z",
     "start_time": "2020-11-27T06:36:08.106768Z"
    }
   },
   "outputs": [
    {
     "name": "stdout",
     "output_type": "stream",
     "text": [
      "None\n"
     ]
    }
   ],
   "source": [
    "print(elements.get('dilithium'))"
   ]
  },
  {
   "cell_type": "markdown",
   "metadata": {},
   "source": [
    "If you expect look-ups to sometimes fail, get might be a better tool than normal square bracket than look-ups because can crash your program which isn't good."
   ]
  },
  {
   "cell_type": "markdown",
   "metadata": {},
   "source": [
    "**Identity Operators**\n",
    "\n",
    "- is = Evaluates if both sides are True\n",
    "\n",
    "- is not = Evaluates if both sides have different identities"
   ]
  },
  {
   "cell_type": "code",
   "execution_count": 8,
   "metadata": {
    "ExecuteTime": {
     "end_time": "2020-11-27T06:45:00.712142Z",
     "start_time": "2020-11-27T06:45:00.706107Z"
    }
   },
   "outputs": [
    {
     "name": "stdout",
     "output_type": "stream",
     "text": [
      "True\n"
     ]
    }
   ],
   "source": [
    "# You can check if a key return none wit the 'is' operator\n",
    "x = elements.get('dilithium')\n",
    "is_null = x is None\n",
    "print(is_null)"
   ]
  },
  {
   "cell_type": "code",
   "execution_count": 9,
   "metadata": {
    "ExecuteTime": {
     "end_time": "2020-11-27T06:45:59.872240Z",
     "start_time": "2020-11-27T06:45:59.866589Z"
    }
   },
   "outputs": [
    {
     "name": "stdout",
     "output_type": "stream",
     "text": [
      "False\n"
     ]
    }
   ],
   "source": [
    "# Or you can check for the opposite using 'is not'\n",
    "x = elements.get('dilithium')\n",
    "is_not = x is not None\n",
    "print(is_not)"
   ]
  },
  {
   "cell_type": "code",
   "execution_count": 10,
   "metadata": {
    "ExecuteTime": {
     "end_time": "2020-11-27T06:47:40.700201Z",
     "start_time": "2020-11-27T06:47:40.694872Z"
    }
   },
   "outputs": [],
   "source": [
    "# These👆🏼are called identity operators"
   ]
  },
  {
   "cell_type": "markdown",
   "metadata": {},
   "source": [
    "You will learn more about identity operators and how they differ from using these equals to or not equals to comparison operators in the quiz that follow"
   ]
  },
  {
   "cell_type": "markdown",
   "metadata": {},
   "source": [
    "**Quiz: Define a Dictionary**\n",
    "\n",
    "Define a dictionary named population that contains this data:\n",
    "\n",
    "1.Key: Shanghai, Value: 17.8\n",
    "\t\n",
    "2.Key: Istanbul, Value: 13.3\n",
    "\n",
    "3.Key: Karachi,\tValue: 13.0\n",
    "\n",
    "4.Keys:Mumbai,\tValue: 12.5"
   ]
  },
  {
   "cell_type": "code",
   "execution_count": 11,
   "metadata": {
    "ExecuteTime": {
     "end_time": "2020-11-27T07:08:59.441875Z",
     "start_time": "2020-11-27T07:08:59.435496Z"
    }
   },
   "outputs": [
    {
     "name": "stdout",
     "output_type": "stream",
     "text": [
      "{'Shanghai': 17.8, 'Istanbul': 13.3, 'Karachi': 13.0, 'Mumbai': 12.5}\n"
     ]
    }
   ],
   "source": [
    "# Create the dictionary\n",
    "population = {'Shanghai': 17.8, 'Istanbul': 13.3, 'Karachi': 13.0, 'Mumbai': 12.5}\n",
    "print(population)"
   ]
  },
  {
   "cell_type": "markdown",
   "metadata": {},
   "source": [
    "**Which of these could be used as the key for a dictionary? (Choose all that apply.) Hint: Dictionary keys must be immutable, that is, they must be of a type that is not modifiable.**\n",
    "\n",
    "1. str\n",
    "\n",
    "2. List\n",
    "\n",
    "3. int\n",
    "\n",
    "4. float"
   ]
  },
  {
   "cell_type": "markdown",
   "metadata": {},
   "source": [
    "**What happens if we look up a value that isn't in the dictionary? Create a test dictionary and use the square brackets to look up a value that you haven't defined. What happens?**"
   ]
  },
  {
   "cell_type": "code",
   "execution_count": 13,
   "metadata": {
    "ExecuteTime": {
     "end_time": "2020-11-27T07:14:34.180134Z",
     "start_time": "2020-11-27T07:14:34.166958Z"
    }
   },
   "outputs": [
    {
     "ename": "TypeError",
     "evalue": "unhashable type: 'list'",
     "output_type": "error",
     "traceback": [
      "\u001b[0;31m---------------------------------------------------------------------------\u001b[0m",
      "\u001b[0;31mTypeError\u001b[0m                                 Traceback (most recent call last)",
      "\u001b[0;32m<ipython-input-13-4289c8569684>\u001b[0m in \u001b[0;36m<module>\u001b[0;34m\u001b[0m\n\u001b[0;32m----> 1\u001b[0;31m \u001b[0mx\u001b[0m \u001b[0;34m=\u001b[0m \u001b[0mpopulation\u001b[0m\u001b[0;34m.\u001b[0m\u001b[0mget\u001b[0m\u001b[0;34m(\u001b[0m\u001b[0;34m[\u001b[0m\u001b[0;36m23.6\u001b[0m\u001b[0;34m]\u001b[0m\u001b[0;34m)\u001b[0m\u001b[0;34m\u001b[0m\u001b[0;34m\u001b[0m\u001b[0m\n\u001b[0m\u001b[1;32m      2\u001b[0m \u001b[0mprint\u001b[0m\u001b[0;34m(\u001b[0m\u001b[0mx\u001b[0m\u001b[0;34m)\u001b[0m\u001b[0;34m\u001b[0m\u001b[0;34m\u001b[0m\u001b[0m\n",
      "\u001b[0;31mTypeError\u001b[0m: unhashable type: 'list'"
     ]
    }
   ],
   "source": [
    "x = population.get[23.6]\n",
    "print(x)"
   ]
  },
  {
   "cell_type": "markdown",
   "metadata": {},
   "source": [
    "**get() with a Default Value**"
   ]
  },
  {
   "cell_type": "code",
   "execution_count": 14,
   "metadata": {
    "ExecuteTime": {
     "end_time": "2020-11-27T07:17:26.862593Z",
     "start_time": "2020-11-27T07:17:26.857600Z"
    }
   },
   "outputs": [
    {
     "name": "stdout",
     "output_type": "stream",
     "text": [
      "There's no such value!\n"
     ]
    }
   ],
   "source": [
    "# I added a parameter string😁\n",
    "x = population.get(23.6, 'There\\'s no such value!')\n",
    "print(x)"
   ]
  },
  {
   "cell_type": "markdown",
   "metadata": {},
   "source": [
    "**Checking for Equality vs. Identity: == vs. is**\n",
    "\n",
    "What will the output of the following code be? (Treat the commas in the multiple choice answers as newlines.)"
   ]
  },
  {
   "cell_type": "code",
   "execution_count": null,
   "metadata": {},
   "outputs": [],
   "source": [
    "a = [1, 2, 3]\n",
    "b = a\n",
    "c = [1, 2, 3]\n",
    "\n",
    "print(a == b)\n",
    "print(a is b)\n",
    "print(a == c)\n",
    "print(a is c)"
   ]
  },
  {
   "cell_type": "code",
   "execution_count": 16,
   "metadata": {
    "ExecuteTime": {
     "end_time": "2020-11-27T07:26:41.192524Z",
     "start_time": "2020-11-27T07:26:41.184202Z"
    }
   },
   "outputs": [
    {
     "name": "stdout",
     "output_type": "stream",
     "text": [
      "{'dogs': [20, 10, 15, 8, 32, 15], 'cats': [3, 4, 2, 8, 2, 4], 'rabbits': [2, 3, 3], 'fish': [0.3, 0.5, 0.8, 0.3, 1]}\n"
     ]
    }
   ],
   "source": [
    "# Create a dictionary\n",
    "animals = {'dogs': [20, 10, 15, 8, 32, 15], 'cats': [\n",
    "    3, 4, 2, 8, 2, 4], 'rabbits': [2, 3, 3], 'fish': [0.3, 0.5, 0.8, 0.3, 1]}\n",
    "print(animals)"
   ]
  },
  {
   "cell_type": "code",
   "execution_count": null,
   "metadata": {},
   "outputs": [],
   "source": [
    "# Questions:\n",
    "# What is the data type of the keys in the dictionary?\n",
    "# What is the data type of the values in the dictionary?\n",
    "# What is the result of animals['dogs']?\n",
    "# What is the result of animals['dogs'][3]?\n",
    "# What is the result of animals[3]?\n",
    "# What is the result of animals['fish']?"
   ]
  },
  {
   "cell_type": "markdown",
   "metadata": {},
   "source": [
    "**When to use dictionaries?**\n",
    "\n",
    "Let's revisit our wall street example from before. Previously, we created a list for the indexfund (VINIX), because we wanted to print the names of the holdings in the index fund\n",
    "\n",
    "Now, let's aay as an investment manager to VINIX, you also want to print a few more details for each holding. For e.g. What is your rate of return on each of the holdings?\n",
    "\n",
    "**A dictionary will work very well here** as there is a key:value association. In order words, there is a linkage between each holding and the information(rate of returns) and it can be organized under one index fund, VINIX "
   ]
  },
  {
   "cell_type": "code",
   "execution_count": 17,
   "metadata": {
    "ExecuteTime": {
     "end_time": "2020-11-27T09:15:20.828778Z",
     "start_time": "2020-11-27T09:15:20.819197Z"
    }
   },
   "outputs": [
    {
     "name": "stdout",
     "output_type": "stream",
     "text": [
      "['C', 'MA', 'BA', 'PG', 'CSCO', 'VZ', 'PFE', 'HD', 'INTC', 'T', 'V', 'UNH', 'WFC', 'CVX', 'BAC', 'JNJ', 'GOOGL', 'GOOG', 'BRK.B', 'XOM', 'JPM', 'FB', 'AMZN', 'MSFT', 'AAPL']\n"
     ]
    }
   ],
   "source": [
    "# Recall this👇🏽\n",
    "VINIX = ['C', 'MA', 'BA', 'PG', 'CSCO', 'VZ', 'PFE', 'HD', 'INTC', 'T', 'V', 'UNH', 'WFC',\n",
    "         'CVX', 'BAC', 'JNJ', 'GOOGL', 'GOOG', 'BRK.B', 'XOM', 'JPM', 'FB', 'AMZN', 'MSFT', 'AAPL']\n",
    "print(VINIX)"
   ]
  },
  {
   "cell_type": "code",
   "execution_count": 18,
   "metadata": {
    "ExecuteTime": {
     "end_time": "2020-11-27T09:16:16.372374Z",
     "start_time": "2020-11-27T09:16:16.363082Z"
    }
   },
   "outputs": [
    {
     "name": "stdout",
     "output_type": "stream",
     "text": [
      "{'C': 0.74, 'MA': 0.78, 'BA': 0.79, 'PG': 0.85, 'CSCO': 0.88, 'VZ': 0.9, 'PFE': 0.92, 'HD': 0.97, 'INTC': 1.0, 'T': 1.01, 'V': 1.02, 'UNH': 1.02, 'WFC': 1.05, 'CVX': 1.05, 'BAC': 1.15, 'JNJ': 1.41, 'GOOGL': 1.46, 'GOOG': 1.47, 'BRK.B': 1.5, 'XOM': 1.52, 'JPM': 1.53, 'FB': 2.02, 'AMZN': 2.96, 'MSFT': 3.28, 'AAPL': 3.94}\n"
     ]
    }
   ],
   "source": [
    "# As a dictionary\n",
    "VINIX = {\n",
    "    'C': 0.74,\n",
    "    'MA': 0.78,\n",
    "    'BA': 0.79,\n",
    "    'PG': 0.85,\n",
    "    'CSCO': 0.88,\n",
    "    'VZ': 0.9,\n",
    "    'PFE': 0.92,\n",
    "    'HD': 0.97,\n",
    "    'INTC': 1.0,\n",
    "    'T': 1.01,\n",
    "    'V': 1.02,\n",
    "    'UNH': 1.02,\n",
    "    'WFC': 1.05,\n",
    "    'CVX': 1.05,\n",
    "    'BAC': 1.15,\n",
    "    'JNJ': 1.41,\n",
    "    'GOOGL': 1.46,\n",
    "    'GOOG': 1.47,\n",
    "    'BRK.B': 1.5,\n",
    "    'XOM': 1.52,\n",
    "    'JPM': 1.53,\n",
    "    'FB': 2.02,\n",
    "    'AMZN': 2.96,\n",
    "    'MSFT': 3.28,\n",
    "    'AAPL': 3.94\n",
    "}\n",
    "print(VINIX)"
   ]
  },
  {
   "cell_type": "code",
   "execution_count": 19,
   "metadata": {
    "ExecuteTime": {
     "end_time": "2020-11-27T09:19:07.297695Z",
     "start_time": "2020-11-27T09:19:07.285661Z"
    }
   },
   "outputs": [
    {
     "name": "stdout",
     "output_type": "stream",
     "text": [
      "{'C': [0.74, -6.51], 'MA': [0.78, 34.77], 'BA': [0.79, 17.01], 'PG': [0.85, -8.81], 'CSCO': [0.88, 18.56], 'VZ': [0.9, 2.16], 'PFE': [0.92, 13.96], 'HD': [0.97, 3.2], 'INTC': [1.0, 2.61], 'T': [1.01, -15.19], 'V': [1.02, 24.0], 'UNH': [1.02, 19.32], 'WFC': [1.05, -3.59], 'CVX': [1.05, -5.77], 'BAC': [1.15, 4.27], 'JNJ': [1.41, -5.58], 'GOOGL': [1.46, 17.84], 'GOOG': [1.47, 17.03], 'BRK.B': [1.5, 4.54], 'XOM': [1.52, -6.87], 'JPM': [1.53, 7.66], 'FB': [2.02, 0.91], 'AMZN': [2.96, 62.75], 'MSFT': [3.28, 26.61], 'AAPL': [3.94, 26.01]}\n"
     ]
    }
   ],
   "source": [
    "# You can add further details such as rate of return YTD\n",
    "# For that, we can add the details in value associated withe key.\n",
    "# i.e The ticker symbools for the holdings\n",
    "VINIX = {\n",
    "    'C': [0.74, -6.51],\n",
    "    'MA': [0.78, 34.77],\n",
    "    'BA': [0.79, 17.01],\n",
    "    'PG': [0.85, -8.81],\n",
    "    'CSCO': [0.88, 18.56],\n",
    "    'VZ': [0.9, 2.16],\n",
    "    'PFE': [0.92, 13.96],\n",
    "    'HD': [0.97, 3.2],\n",
    "    'INTC': [1.0, 2.61],\n",
    "    'T': [1.01, -15.19],\n",
    "    'V': [1.02, 24.0],\n",
    "    'UNH': [1.02, 19.32],\n",
    "    'WFC': [1.05, -3.59],\n",
    "    'CVX': [1.05, -5.77],\n",
    "    'BAC': [1.15, 4.27],\n",
    "    'JNJ': [1.41, -5.58],\n",
    "    'GOOGL': [1.46, 17.84],\n",
    "    'GOOG': [1.47, 17.03],\n",
    "    'BRK.B': [1.5, 4.54],\n",
    "    'XOM': [1.52, -6.87],\n",
    "    'JPM': [1.53, 7.66],\n",
    "    'FB': [2.02, 0.91],\n",
    "    'AMZN': [2.96, 62.75],\n",
    "    'MSFT': [3.28, 26.61],\n",
    "    'AAPL': [3.94, 26.01]\n",
    "}\n",
    "print(VINIX)"
   ]
  },
  {
   "cell_type": "markdown",
   "metadata": {},
   "source": [
    "As you can see👆🏼, data structures are very useful in storing and working with more information than simple strings or integer."
   ]
  },
  {
   "cell_type": "markdown",
   "metadata": {},
   "source": [
    "**Quiz: Identify the Problem**\n",
    "\n",
    "Run the code below - it should break. Take a look at the error message and try to figure out what the issue is"
   ]
  },
  {
   "cell_type": "code",
   "execution_count": 20,
   "metadata": {
    "ExecuteTime": {
     "end_time": "2020-11-27T09:34:17.068501Z",
     "start_time": "2020-11-27T09:34:17.041431Z"
    }
   },
   "outputs": [
    {
     "ename": "TypeError",
     "evalue": "unhashable type: 'list'",
     "output_type": "error",
     "traceback": [
      "\u001b[0;31m---------------------------------------------------------------------------\u001b[0m",
      "\u001b[0;31mTypeError\u001b[0m                                 Traceback (most recent call last)",
      "\u001b[0;32m<ipython-input-20-6eccaac2d264>\u001b[0m in \u001b[0;36m<module>\u001b[0;34m\u001b[0m\n\u001b[1;32m      1\u001b[0m \u001b[0;31m# invalid dictionary - this should break\u001b[0m\u001b[0;34m\u001b[0m\u001b[0;34m\u001b[0m\u001b[0;34m\u001b[0m\u001b[0m\n\u001b[0;32m----> 2\u001b[0;31m room_numbers = {\n\u001b[0m\u001b[1;32m      3\u001b[0m     \u001b[0;34m[\u001b[0m\u001b[0;34m'Freddie'\u001b[0m\u001b[0;34m,\u001b[0m \u001b[0;34m'Jen'\u001b[0m\u001b[0;34m]\u001b[0m\u001b[0;34m:\u001b[0m \u001b[0;36m403\u001b[0m\u001b[0;34m,\u001b[0m\u001b[0;34m\u001b[0m\u001b[0;34m\u001b[0m\u001b[0m\n\u001b[1;32m      4\u001b[0m     \u001b[0;34m[\u001b[0m\u001b[0;34m'Ned'\u001b[0m\u001b[0;34m,\u001b[0m \u001b[0;34m'Keith'\u001b[0m\u001b[0;34m]\u001b[0m\u001b[0;34m:\u001b[0m \u001b[0;36m391\u001b[0m\u001b[0;34m,\u001b[0m\u001b[0;34m\u001b[0m\u001b[0;34m\u001b[0m\u001b[0m\n\u001b[1;32m      5\u001b[0m     \u001b[0;34m[\u001b[0m\u001b[0;34m'Kristin'\u001b[0m\u001b[0;34m,\u001b[0m \u001b[0;34m'Jazzmyne'\u001b[0m\u001b[0;34m]\u001b[0m\u001b[0;34m:\u001b[0m \u001b[0;36m411\u001b[0m\u001b[0;34m,\u001b[0m\u001b[0;34m\u001b[0m\u001b[0;34m\u001b[0m\u001b[0m\n",
      "\u001b[0;31mTypeError\u001b[0m: unhashable type: 'list'"
     ]
    }
   ],
   "source": [
    "# invalid dictionary - this should break\n",
    "room_numbers = {\n",
    "    ['Freddie', 'Jen']: 403,\n",
    "    ['Ned', 'Keith']: 391,\n",
    "    ['Kristin', 'Jazzmyne']: 411,\n",
    "    ['Eugene', 'Zach']: 395\n",
    "}"
   ]
  },
  {
   "cell_type": "markdown",
   "metadata": {},
   "source": [
    "**Compound Data Structures**\n",
    "\n",
    "In the element dictionary we saw ealier, element names which are strings are mapped to their atomic numbers"
   ]
  },
  {
   "cell_type": "code",
   "execution_count": 2,
   "metadata": {
    "ExecuteTime": {
     "end_time": "2020-11-27T10:36:50.656615Z",
     "start_time": "2020-11-27T10:36:50.650179Z"
    }
   },
   "outputs": [
    {
     "name": "stdout",
     "output_type": "stream",
     "text": [
      "{'hydrogen': 1, 'helium': 2, 'carbon': 6}\n"
     ]
    }
   ],
   "source": [
    "elements = {'hydrogen': 1, 'helium': 2, 'carbon': 6}\n",
    "print(elements)"
   ]
  },
  {
   "cell_type": "markdown",
   "metadata": {},
   "source": [
    "But what if we wanted to store more information about elements like their weight and symbols?\n",
    "\n",
    "We can do that by adjusting this👇🏽 dictionary so that it maps the element names to another dictionary that stores collection of data."
   ]
  },
  {
   "cell_type": "code",
   "execution_count": 3,
   "metadata": {
    "ExecuteTime": {
     "end_time": "2020-11-27T10:37:00.090058Z",
     "start_time": "2020-11-27T10:37:00.082296Z"
    }
   },
   "outputs": [
    {
     "name": "stdout",
     "output_type": "stream",
     "text": [
      "{'hydrogen': {'number': 1, 'weight': 1.00794, 'symbol': 'H'}, 'helium': {'number': 2, 'weight': 4.002602, 'symbol': 'He'}}\n"
     ]
    }
   ],
   "source": [
    "elements = {\n",
    "    'hydrogen': {\n",
    "        'number': 1,\n",
    "        'weight': 1.00794,\n",
    "        'symbol': 'H'\n",
    "    },\n",
    "    'helium': {\n",
    "        'number': 2,\n",
    "        'weight': 4.002602,\n",
    "        'symbol': 'He'\n",
    "    }\n",
    "}\n",
    "print(elements)"
   ]
  },
  {
   "cell_type": "code",
   "execution_count": 4,
   "metadata": {
    "ExecuteTime": {
     "end_time": "2020-11-27T10:37:03.903245Z",
     "start_time": "2020-11-27T10:37:03.897403Z"
    }
   },
   "outputs": [
    {
     "name": "stdout",
     "output_type": "stream",
     "text": [
      "{'number': 2, 'weight': 4.002602, 'symbol': 'He'}\n"
     ]
    }
   ],
   "source": [
    "# We can look-up information about an entry in this dictionary\n",
    "# in the same whay we did before with square bracket or the get method\n",
    "print(elements['helium'])"
   ]
  },
  {
   "cell_type": "code",
   "execution_count": 5,
   "metadata": {
    "ExecuteTime": {
     "end_time": "2020-11-27T10:37:05.070709Z",
     "start_time": "2020-11-27T10:37:05.062986Z"
    }
   },
   "outputs": [
    {
     "name": "stdout",
     "output_type": "stream",
     "text": [
      "There's no such element\n"
     ]
    }
   ],
   "source": [
    "# Using the get method\n",
    "print(elements.get('unobtanium', 'There\\'s no such element'))"
   ]
  },
  {
   "cell_type": "code",
   "execution_count": 6,
   "metadata": {
    "ExecuteTime": {
     "end_time": "2020-11-27T10:37:06.412981Z",
     "start_time": "2020-11-27T10:37:06.407174Z"
    }
   },
   "outputs": [
    {
     "name": "stdout",
     "output_type": "stream",
     "text": [
      "4.002602\n"
     ]
    }
   ],
   "source": [
    "# We can look-up specific information from the helium dictionary like this\n",
    "print(elements['helium']['weight'])"
   ]
  },
  {
   "cell_type": "markdown",
   "metadata": {},
   "source": [
    "This👆🏼code is first looking up the key Helium in the dictionary producing the Helium dictionary\n",
    "\n",
    "The second code looks up the weight key in that Helium dictionary to find Helium's atomic weight."
   ]
  },
  {
   "cell_type": "code",
   "execution_count": 7,
   "metadata": {
    "ExecuteTime": {
     "end_time": "2020-11-27T10:37:09.031593Z",
     "start_time": "2020-11-27T10:37:09.023349Z"
    }
   },
   "outputs": [
    {
     "name": "stdout",
     "output_type": "stream",
     "text": [
      "elements =  {'hydrogen': {'number': 1, 'weight': 1.00794, 'symbol': 'H'}, 'helium': {'number': 2, 'weight': 4.002602, 'symbol': 'He'}, 'oxygen': {'number': 8, 'weight': 15.999, 'symbol': 'O'}}\n"
     ]
    }
   ],
   "source": [
    "# You can also add a new key to the element dictionary.\n",
    "oxygen = {\"number\":8,\"weight\":15.999,\"symbol\":\"O\"}  # create a new oxygen dictionary \n",
    "elements[\"oxygen\"] = oxygen  # assign 'oxygen' as a key to the elements dictionary\n",
    "print('elements = ', elements)"
   ]
  },
  {
   "cell_type": "markdown",
   "metadata": {},
   "source": [
    "**Quiz: Adding Values to Nested Dictionaries**\n",
    "\n",
    "Try your hand at working with nested dictionaries. Add another entry, 'is_noble_gas,' to each dictionary in the elements dictionary. After inserting the new entries you should be able to perform these lookups:"
   ]
  },
  {
   "cell_type": "code",
   "execution_count": 8,
   "metadata": {
    "ExecuteTime": {
     "end_time": "2020-11-27T10:37:10.979485Z",
     "start_time": "2020-11-27T10:37:10.966524Z"
    }
   },
   "outputs": [
    {
     "ename": "KeyError",
     "evalue": "'is_noble_gas'",
     "output_type": "error",
     "traceback": [
      "\u001b[0;31m---------------------------------------------------------------------------\u001b[0m",
      "\u001b[0;31mKeyError\u001b[0m                                  Traceback (most recent call last)",
      "\u001b[0;32m<ipython-input-8-6343e6bb24da>\u001b[0m in \u001b[0;36m<module>\u001b[0;34m\u001b[0m\n\u001b[0;32m----> 1\u001b[0;31m \u001b[0mprint\u001b[0m\u001b[0;34m(\u001b[0m\u001b[0melements\u001b[0m\u001b[0;34m[\u001b[0m\u001b[0;34m'hydrogen'\u001b[0m\u001b[0;34m]\u001b[0m\u001b[0;34m[\u001b[0m\u001b[0;34m'is_noble_gas'\u001b[0m\u001b[0;34m]\u001b[0m\u001b[0;34m)\u001b[0m\u001b[0;34m\u001b[0m\u001b[0;34m\u001b[0m\u001b[0m\n\u001b[0m",
      "\u001b[0;31mKeyError\u001b[0m: 'is_noble_gas'"
     ]
    }
   ],
   "source": [
    "print(elements['hydrogen']['is_noble_gas'])"
   ]
  },
  {
   "cell_type": "code",
   "execution_count": 9,
   "metadata": {
    "ExecuteTime": {
     "end_time": "2020-11-27T10:37:26.388647Z",
     "start_time": "2020-11-27T10:37:26.379521Z"
    }
   },
   "outputs": [],
   "source": [
    "elements = {'hydrogen': {'number': 1, 'weight': 1.00794, 'symbol': 'H'},\n",
    "            'helium': {'number': 2, 'weight': 4.002602, 'symbol': 'He'}}\n",
    "\n",
    "# todo: Add an 'is_noble_gas' entry to the hydrogen and helium dictionaries\n",
    "# hint: helium is a noble gas, hydrogen isn't\n",
    "elements['hydrogen']['is_noble_gas'] = False\n",
    "elements['helium']['is_noble_gas'] = True"
   ]
  },
  {
   "cell_type": "code",
   "execution_count": 11,
   "metadata": {
    "ExecuteTime": {
     "end_time": "2020-11-27T10:37:54.834379Z",
     "start_time": "2020-11-27T10:37:54.828857Z"
    }
   },
   "outputs": [
    {
     "name": "stdout",
     "output_type": "stream",
     "text": [
      "False\n",
      "True\n"
     ]
    }
   ],
   "source": [
    "print(elements['hydrogen']['is_noble_gas'])\n",
    "print(elements['helium']['is_noble_gas'])"
   ]
  },
  {
   "cell_type": "markdown",
   "metadata": {},
   "source": [
    "**Quiz: Count Unique Words**\n",
    "\n",
    "Your task for this quiz is to find the number of unique words in the text. In the code editor below, complete these three steps to get your answer.\n",
    "\n",
    "- Split verse into a list of words. Hint: You can use a string method you learned in the previous lesson.\n",
    "\n",
    "- Convert the list into a data structure that would keep only the unique elements from the list.\n",
    "\n",
    "- Print the length of the container."
   ]
  },
  {
   "cell_type": "code",
   "execution_count": null,
   "metadata": {},
   "outputs": [],
   "source": [
    "verse = \"if you can keep your head when all about you are losing theirs and blaming it on you   if you can trust yourself when all men doubt you     but make allowance for their doubting too   if you can wait and not be tired by waiting      or being lied about  don’t deal in lies   or being hated  don’t give way to hating      and yet don’t look too good  nor talk too wise\"\n",
    "print(verse, '\\n')\n",
    "\n",
    "# split verse into list of words\n",
    "verse_list =\n",
    "print(verse_list, '\\n')\n",
    "\n",
    "# convert list to a data structure that stores unique elements\n",
    "verse_set =\n",
    "print(verse_set, '\\n')\n",
    "\n",
    "# print the number of unique words\n",
    "num_unique = \n",
    "print(num_unique, '\\n')"
   ]
  },
  {
   "cell_type": "code",
   "execution_count": 27,
   "metadata": {
    "ExecuteTime": {
     "end_time": "2020-11-27T20:57:03.648375Z",
     "start_time": "2020-11-27T20:57:03.642947Z"
    }
   },
   "outputs": [
    {
     "name": "stdout",
     "output_type": "stream",
     "text": [
      "if you can keep your head when all about you are losing theirs and blaming it on you if you can trust yourself when all men doubt you but make allowance for their doubting too if you can wait and not be tired by waiting or being lied about don’t deal in lies or being hated don’t give way to hating and yet don’t look too good nor talk too wise \n",
      "\n"
     ]
    }
   ],
   "source": [
    "verse = \"if you can keep your head when all about you are losing theirs and blaming it on you if you can trust yourself when all men doubt you but make allowance for their doubting too if you can wait and not be tired by waiting or being lied about don’t deal in lies or being hated don’t give way to hating and yet don’t look too good nor talk too wise\"\n",
    "print(verse, '\\n')"
   ]
  },
  {
   "cell_type": "code",
   "execution_count": 38,
   "metadata": {
    "ExecuteTime": {
     "end_time": "2020-11-27T21:10:00.351967Z",
     "start_time": "2020-11-27T21:10:00.346553Z"
    }
   },
   "outputs": [
    {
     "name": "stdout",
     "output_type": "stream",
     "text": [
      "['if', 'you', 'can', 'keep', 'your', 'head', 'when', 'all', 'about', 'you', 'are', 'losing', 'theirs', 'and', 'blaming', 'it', 'on', 'you', 'if', 'you', 'can', 'trust', 'yourself', 'when', 'all', 'men', 'doubt', 'you', 'but', 'make', 'allowance', 'for', 'their', 'doubting', 'too', 'if', 'you', 'can', 'wait', 'and', 'not', 'be', 'tired', 'by', 'waiting', 'or', 'being', 'lied', 'about', 'don’t', 'deal', 'in', 'lies', 'or', 'being', 'hated', 'don’t', 'give', 'way', 'to', 'hating', 'and', 'yet', 'don’t', 'look', 'too', 'good', 'nor', 'talk', 'too', 'wise'] \n",
      "\n"
     ]
    }
   ],
   "source": [
    "# split verse into list of words\n",
    "verse_list = verse.split()\n",
    "print(verse_list, '\\n')"
   ]
  },
  {
   "cell_type": "code",
   "execution_count": 39,
   "metadata": {
    "ExecuteTime": {
     "end_time": "2020-11-27T21:10:05.295334Z",
     "start_time": "2020-11-27T21:10:05.288260Z"
    }
   },
   "outputs": [
    {
     "name": "stdout",
     "output_type": "stream",
     "text": [
      "{'head', 'allowance', 'make', 'too', 'lied', 'nor', 'doubting', 'waiting', 'by', 'deal', 'or', 'good', 'lies', 'hated', 'way', 'and', 'blaming', 'wait', 'in', 'doubt', 'yet', 'hating', 'not', 'yourself', 'look', 'theirs', 'being', 'men', 'are', 'on', 'about', 'you', 'tired', 'when', 'talk', 'for', 'be', 'give', 'keep', 'it', 'trust', 'don’t', 'losing', 'your', 'wise', 'can', 'if', 'but', 'all', 'to', 'their'} \n",
      "\n"
     ]
    }
   ],
   "source": [
    "# convert list to a data structure that stores unique elements\n",
    "verse_set = set(verse_list)\n",
    "print(verse_set, '\\n')"
   ]
  },
  {
   "cell_type": "code",
   "execution_count": 40,
   "metadata": {
    "ExecuteTime": {
     "end_time": "2020-11-27T21:10:08.231056Z",
     "start_time": "2020-11-27T21:10:08.225967Z"
    }
   },
   "outputs": [
    {
     "name": "stdout",
     "output_type": "stream",
     "text": [
      "51 \n",
      "\n"
     ]
    }
   ],
   "source": [
    "# print the number of unique words\n",
    "num_unique = len(verse_set)\n",
    "print(num_unique, '\\n')"
   ]
  },
  {
   "cell_type": "markdown",
   "metadata": {},
   "source": [
    "**Quiz: Verse Dictionary**\n",
    "\n",
    "In the code editor below, you'll find a dictionary containing the unique words of verse stored as keys and the number of times they appear in verse stored as values. Use this dictionary to answer the following questions. Submit these answers in the quiz below the code editor.\n",
    "\n",
    "Try to answer these using code, rather than inspecting the dictionary manually!\n",
    "\n",
    "- How many unique words are in verse_dict?\n",
    "\n",
    "- Is the key \"breathe\" in verse_dict?\n",
    "\n",
    "- What is the first element in the list created when verse_dict is sorted by keys?\n",
    "Hint: Use the appropriate dictionary method to get a list of its keys, and then sort that list. Use this list of keys to answer the next two questions as well.\n",
    "\n",
    "- Which key (word) has the highest value in verse_dict?"
   ]
  },
  {
   "cell_type": "code",
   "execution_count": null,
   "metadata": {},
   "outputs": [],
   "source": [
    "verse_dict = {'if': 3, 'you': 6, 'can': 3, 'keep': 1, 'your': 1, 'head': 1, 'when': 2, 'all': 2, 'about': 2, 'are': 1, 'losing': 1, 'theirs': 1, 'and': 3, 'blaming': 1, 'it': 1, 'on': 1, 'trust': 1, 'yourself': 1, 'men': 1, 'doubt': 1, 'but': 1, 'make': 1, 'allowance': 1, 'for': 1, 'their': 1,\n",
    "              'doubting': 1, 'too': 3, 'wait': 1, 'not': 1, 'be': 1, 'tired': 1, 'by': 1, 'waiting': 1, 'or': 2, 'being': 2, 'lied': 1, 'don\\'t': 3, 'deal': 1, 'in': 1, 'lies': 1, 'hated': 1, 'give': 1, 'way': 1, 'to': 1, 'hating': 1, 'yet': 1, 'look': 1, 'good': 1, 'nor': 1, 'talk': 1, 'wise': 1}\n",
    "print(verse_dict, '\\n')\n",
    "\n",
    "# find number of unique keys in the dictionary\n",
    "num_keys =\n",
    "print(num_keys)\n",
    "\n",
    "# find whether 'breathe' is a key in the dictionary\n",
    "contains_breathe =\n",
    "print(contains_breathe)\n",
    "\n",
    "# create and sort a list of the dictionary's keys\n",
    "sorted_keys =\n",
    "\n",
    "# get the first element in the sorted list of keys\n",
    "print()\n",
    "\n",
    "# find the element with the highest value in the list of keys\n",
    "print()"
   ]
  },
  {
   "cell_type": "code",
   "execution_count": 41,
   "metadata": {
    "ExecuteTime": {
     "end_time": "2020-11-27T21:14:59.079744Z",
     "start_time": "2020-11-27T21:14:59.068361Z"
    }
   },
   "outputs": [
    {
     "name": "stdout",
     "output_type": "stream",
     "text": [
      "{'if': 3, 'you': 6, 'can': 3, 'keep': 1, 'your': 1, 'head': 1, 'when': 2, 'all': 2, 'about': 2, 'are': 1, 'losing': 1, 'theirs': 1, 'and': 3, 'blaming': 1, 'it': 1, 'on': 1, 'trust': 1, 'yourself': 1, 'men': 1, 'doubt': 1, 'but': 1, 'make': 1, 'allowance': 1, 'for': 1, 'their': 1, 'doubting': 1, 'too': 3, 'wait': 1, 'not': 1, 'be': 1, 'tired': 1, 'by': 1, 'waiting': 1, 'or': 2, 'being': 2, 'lied': 1, \"don't\": 3, 'deal': 1, 'in': 1, 'lies': 1, 'hated': 1, 'give': 1, 'way': 1, 'to': 1, 'hating': 1, 'yet': 1, 'look': 1, 'good': 1, 'nor': 1, 'talk': 1, 'wise': 1} \n",
      "\n"
     ]
    }
   ],
   "source": [
    "verse_dict = {'if': 3, 'you': 6, 'can': 3, 'keep': 1, 'your': 1, 'head': 1, 'when': 2, 'all': 2, 'about': 2, 'are': 1, 'losing': 1, 'theirs': 1, 'and': 3, 'blaming': 1, 'it': 1, 'on': 1, 'trust': 1, 'yourself': 1, 'men': 1, 'doubt': 1, 'but': 1, 'make': 1, 'allowance': 1, 'for': 1, 'their': 1,\n",
    "              'doubting': 1, 'too': 3, 'wait': 1, 'not': 1, 'be': 1, 'tired': 1, 'by': 1, 'waiting': 1, 'or': 2, 'being': 2, 'lied': 1, 'don\\'t': 3, 'deal': 1, 'in': 1, 'lies': 1, 'hated': 1, 'give': 1, 'way': 1, 'to': 1, 'hating': 1, 'yet': 1, 'look': 1, 'good': 1, 'nor': 1, 'talk': 1, 'wise': 1}\n",
    "print(verse_dict, '\\n')"
   ]
  },
  {
   "cell_type": "code",
   "execution_count": 43,
   "metadata": {
    "ExecuteTime": {
     "end_time": "2020-11-27T21:20:27.871526Z",
     "start_time": "2020-11-27T21:20:27.866503Z"
    }
   },
   "outputs": [
    {
     "name": "stdout",
     "output_type": "stream",
     "text": [
      "51\n"
     ]
    }
   ],
   "source": [
    "# find number of unique keys in the dictionary\n",
    "num_keys = len(verse_dict.keys())\n",
    "print(num_keys)"
   ]
  },
  {
   "cell_type": "code",
   "execution_count": 44,
   "metadata": {
    "ExecuteTime": {
     "end_time": "2020-11-27T21:22:13.632411Z",
     "start_time": "2020-11-27T21:22:13.627191Z"
    }
   },
   "outputs": [
    {
     "name": "stdout",
     "output_type": "stream",
     "text": [
      "None\n"
     ]
    }
   ],
   "source": [
    "# find whether 'breathe' is a key in the dictionary\n",
    "contains_breathe = verse_dict.get('breathe')\n",
    "print(contains_breathe)"
   ]
  },
  {
   "cell_type": "code",
   "execution_count": 50,
   "metadata": {
    "ExecuteTime": {
     "end_time": "2020-11-27T21:40:07.588197Z",
     "start_time": "2020-11-27T21:40:07.582465Z"
    }
   },
   "outputs": [
    {
     "name": "stdout",
     "output_type": "stream",
     "text": [
      "['if', 'you', 'can', 'keep', 'your', 'head', 'when', 'all', 'about', 'are', 'losing', 'theirs', 'and', 'blaming', 'it', 'on', 'trust', 'yourself', 'men', 'doubt', 'but', 'make', 'allowance', 'for', 'their', 'doubting', 'too', 'wait', 'not', 'be', 'tired', 'by', 'waiting', 'or', 'being', 'lied', \"don't\", 'deal', 'in', 'lies', 'hated', 'give', 'way', 'to', 'hating', 'yet', 'look', 'good', 'nor', 'talk', 'wise']\n"
     ]
    }
   ],
   "source": [
    "# create and sort a list of the dictionary's keys\n",
    "list_dict = list(verse_dict.keys())\n",
    "print(list_dict) "
   ]
  },
  {
   "cell_type": "code",
   "execution_count": 53,
   "metadata": {
    "ExecuteTime": {
     "end_time": "2020-11-27T21:47:43.837014Z",
     "start_time": "2020-11-27T21:47:43.827348Z"
    }
   },
   "outputs": [
    {
     "name": "stdout",
     "output_type": "stream",
     "text": [
      "['about', 'all', 'allowance', 'and', 'are', 'be', 'being', 'blaming', 'but', 'by', 'can', 'deal', \"don't\", 'doubt', 'doubting', 'for', 'give', 'good', 'hated', 'hating', 'head', 'if', 'in', 'it', 'keep', 'lied', 'lies', 'look', 'losing', 'make', 'men', 'nor', 'not', 'on', 'or', 'talk', 'their', 'theirs', 'tired', 'to', 'too', 'trust', 'wait', 'waiting', 'way', 'when', 'wise', 'yet', 'you', 'your', 'yourself']\n"
     ]
    }
   ],
   "source": [
    "# Sort the list of dictionary's keys\n",
    "sorted_keys = sorted(list_dict)\n",
    "print(sorted_keys)"
   ]
  },
  {
   "cell_type": "code",
   "execution_count": 54,
   "metadata": {
    "ExecuteTime": {
     "end_time": "2020-11-27T21:49:45.961311Z",
     "start_time": "2020-11-27T21:49:45.955880Z"
    }
   },
   "outputs": [
    {
     "name": "stdout",
     "output_type": "stream",
     "text": [
      "about\n"
     ]
    }
   ],
   "source": [
    "# get the first element in the sorted list of keys\n",
    "print(sorted_keys[0])"
   ]
  },
  {
   "cell_type": "code",
   "execution_count": 55,
   "metadata": {
    "ExecuteTime": {
     "end_time": "2020-11-27T21:50:13.498243Z",
     "start_time": "2020-11-27T21:50:13.492769Z"
    }
   },
   "outputs": [
    {
     "name": "stdout",
     "output_type": "stream",
     "text": [
      "yourself\n"
     ]
    }
   ],
   "source": [
    "# find the element with the highest value in the list of keys\n",
    "print(max(sorted_keys))"
   ]
  },
  {
   "cell_type": "code",
   "execution_count": null,
   "metadata": {},
   "outputs": [],
   "source": [
    "# Another Solution \n",
    "verse_dict =  {'if': 3, 'you': 6, 'can': 3, 'keep': 1, 'your': 1, 'head': 1, 'when': 2, 'all': 2, 'about': 2, 'are': 1, 'losing': 1, 'theirs': 1, 'and': 3, 'blaming': 1, 'it': 1, 'on': 1, 'trust': 1, 'yourself': 1, 'men': 1, 'doubt': 1, 'but': 1, 'make': 1, 'allowance': 1, 'for': 1, 'their': 1, 'doubting': 1, 'too': 3, 'wait': 1, 'not': 1, 'be': 1, 'tired': 1, 'by': 1, 'waiting': 1, 'or': 2, 'being': 2, 'lied': 1, 'don\\'t': 3, 'deal': 1, 'in': 1, 'lies': 1, 'hated': 1, 'give': 1, 'way': 1, 'to': 1, 'hating': 1, 'yet': 1, 'look': 1, 'good': 1, 'nor': 1, 'talk': 1, 'wise': 1}\n",
    "print(verse_dict, '\\n')\n",
    "\n",
    "# find number of unique keys in the dictionary\n",
    "num_keys = len(verse_dict)\n",
    "print(num_keys)\n",
    "\n",
    "# find whether 'breathe' is a key in the dictionary\n",
    "contains_breathe = \"breathe\" in verse_dict\n",
    "print(contains_breathe)\n",
    "\n",
    "# create and sort a list of the dictionary's keys\n",
    "sorted_keys = sorted(verse_dict.keys())\n",
    "\n",
    "# get the first element in the sorted list of keys\n",
    "print(sorted_keys[0])\n",
    "\n",
    "# find the element with the highest value in the list of keys\n",
    "print(sorted_keys[-1]) "
   ]
  },
  {
   "cell_type": "markdown",
   "metadata": {},
   "source": [
    "**A good understanding of data structures is integral for programming and data analysis. As a data analyst, you will be working with data and code all the time, so a solid understanding of what data types and data structures are available and when to use each one will help you write more efficient code.**"
   ]
  },
  {
   "cell_type": "markdown",
   "metadata": {},
   "source": [
    "**Control Flow**"
   ]
  },
  {
   "cell_type": "markdown",
   "metadata": {},
   "source": [
    "Control flow allows you to add more functionality to your code by being able to use conditional statements and loops. Control flow teaches you how to implement decision making with for and while loops, exit or skip loops with break and continue, use helpful built-in functions like zip and enumerate and combine some of those concepts in concise list comprehensions. \n",
    "\n",
    "With these tools, you'll be able to bring together the data types and operators you learned from the previous lessons in more complex and creative ways."
   ]
  },
  {
   "cell_type": "markdown",
   "metadata": {},
   "source": [
    "Lets demonstrate conditional statement with a billing system for a pay as you go mobile phone.\n",
    "Say a customer has a credit balance for their phone which they use for calls and messages. The customer can then setup a link to their bank account so that if their phone credit balance goes below a threshold amount, in this case 5 dollars, then 10 more dollars credit are added and thier bank balance is billed."
   ]
  },
  {
   "cell_type": "code",
   "execution_count": 58,
   "metadata": {
    "ExecuteTime": {
     "end_time": "2020-11-28T01:04:59.548927Z",
     "start_time": "2020-11-28T01:04:59.543383Z"
    }
   },
   "outputs": [
    {
     "name": "stdout",
     "output_type": "stream",
     "text": [
      "3 100\n"
     ]
    }
   ],
   "source": [
    "phone_balance = 3\n",
    "bank_balance = 100\n",
    "print(phone_balance, bank_balance)"
   ]
  },
  {
   "cell_type": "code",
   "execution_count": 59,
   "metadata": {
    "ExecuteTime": {
     "end_time": "2020-11-28T01:05:52.060500Z",
     "start_time": "2020-11-28T01:05:52.053802Z"
    }
   },
   "outputs": [
    {
     "name": "stdout",
     "output_type": "stream",
     "text": [
      "13 90\n"
     ]
    }
   ],
   "source": [
    "# Here is a simple way of representing this billing in code:\n",
    "if phone_balance < 5:\n",
    "    phone_balance += 10\n",
    "    bank_balance -= 10\n",
    "# This👆🏼is an example of an if statement\n",
    "print(phone_balance, bank_balance)"
   ]
  },
  {
   "cell_type": "markdown",
   "metadata": {},
   "source": [
    "If phone balance is 3👆🏼, this condition evaluates to true and these indented lines of code are executed"
   ]
  },
  {
   "cell_type": "markdown",
   "metadata": {},
   "source": [
    "In an if statement, the if keyword is followed by the condition to be checked, in this phone balance less than 5, and then a colon.\n",
    "\n",
    "The condition is specified in a boolean expression that evaluates to either true or false.\n",
    "\n",
    "After the line, is an indented block of codes to be executed if the condition is true.\n",
    "\n",
    "These lines(the indented block of codes) will only execute if its true that phone balance is less than 5."
   ]
  },
  {
   "cell_type": "markdown",
   "metadata": {},
   "source": [
    "**Use comparison operator in conditional statement**\n",
    "\n",
    "Now you know how to execute a block of code if a condition is true. But what if you have a different block of code that you want to execute when that condition is false?\n",
    "\n",
    "You can use the else keyword to do so.\n",
    "consider this code which prints a message indicating whether an integer N is even or odd."
   ]
  },
  {
   "cell_type": "code",
   "execution_count": 4,
   "metadata": {
    "ExecuteTime": {
     "end_time": "2020-11-28T09:22:34.018645Z",
     "start_time": "2020-11-28T09:22:34.014075Z"
    }
   },
   "outputs": [],
   "source": [
    "#n = 4\n",
    "n = 15\n",
    "# if we set to be 4 like this👆🏼\n",
    "# the if statement here would evaluate to true and we would print the following👇🏽"
   ]
  },
  {
   "cell_type": "code",
   "execution_count": 5,
   "metadata": {
    "ExecuteTime": {
     "end_time": "2020-11-28T09:22:34.837541Z",
     "start_time": "2020-11-28T09:22:34.829857Z"
    }
   },
   "outputs": [
    {
     "name": "stdout",
     "output_type": "stream",
     "text": [
      "number 15 is odd.\n"
     ]
    }
   ],
   "source": [
    "if n % 2 == 0:\n",
    "    print('number ' + str(n) + ' is even.') # if n is even this👈🏾line is run\n",
    "else:\n",
    "    print('number ' + str(n) + ' is odd.') # if n is odd this👈🏾line is run"
   ]
  },
  {
   "cell_type": "markdown",
   "metadata": {},
   "source": [
    "Code indented under the else is what happens when this condition evaluates to false.\n",
    "The else keyword is always followed by a colon and doesn't need a boolean expression."
   ]
  },
  {
   "cell_type": "markdown",
   "metadata": {},
   "source": [
    "Alternatively, if we set N to be 15, this condition will evaluate to false, so we would skip the if block and execute the block under the else keyword"
   ]
  },
  {
   "cell_type": "markdown",
   "metadata": {},
   "source": [
    "If you have more than two possible cases, you can also use elif short for 'else if' to deal with the situation.\n",
    "\n",
    "This saves the multiple indentation that would be needed if we used 'else' and then another if statement inside the else block.\n",
    "\n",
    "Like 'if', an elif statement always requires a conditional expression."
   ]
  },
  {
   "cell_type": "code",
   "execution_count": 6,
   "metadata": {
    "ExecuteTime": {
     "end_time": "2020-11-28T09:49:14.846447Z",
     "start_time": "2020-11-28T09:49:14.839309Z"
    }
   },
   "outputs": [
    {
     "name": "stdout",
     "output_type": "stream",
     "text": [
      "plant the garden!\n"
     ]
    }
   ],
   "source": [
    "# for example, let's say we wanted to print what to do with the garden based on the current season:\n",
    "season = 'spring'\n",
    "if season == 'spring':\n",
    "    print('plant the garden!')\n",
    "elif season == 'summer':\n",
    "    print('water the garden!')\n",
    "elif season == 'fall':\n",
    "    print('harvest the garden!')\n",
    "elif season == 'winter':\n",
    "    print('stay indoors!!')\n",
    "else:\n",
    "    print('unrecognize season!')"
   ]
  },
  {
   "cell_type": "raw",
   "metadata": {},
   "source": [
    "If we set season equals to spring, like this👆🏼, then that plant the garden is printed as evaluated to true.\n",
    "\n",
    "Alternatively, if we set season to a different season, each of the other conditions will evaluate to false until we the condition that mirrors the string value of season."
   ]
  },
  {
   "cell_type": "code",
   "execution_count": 7,
   "metadata": {
    "ExecuteTime": {
     "end_time": "2020-11-28T10:09:28.325001Z",
     "start_time": "2020-11-28T10:09:28.319979Z"
    }
   },
   "outputs": [],
   "source": [
    "# Note: = is an assignment operator that assigns value on the left to the name on the right\n",
    "#       == is a comparison operator that evaluates whether objects on both sides are equal."
   ]
  },
  {
   "cell_type": "markdown",
   "metadata": {},
   "source": [
    "**Indentation**\n",
    "\n",
    "As you have just seen, indentation is important.\n",
    "\n",
    "It's how we tell python what code is in the body of an if statements, and what code is outside of it.\n",
    "\n",
    "Indentation doesn't just matter in if statement, some languages use braces to show where blocks of code begin and end.\n",
    "\n",
    "In python, we use indentation to enclose blocks of code. Indentation comes in multiples of 4 spaces.\n",
    "It is important to be strict about following this convention because changing the indentation can completely change the meaning of the code."
   ]
  },
  {
   "cell_type": "markdown",
   "metadata": {},
   "source": [
    "**Try It Out!**\n",
    "\n",
    "Use Test Run to execute the following code, which includes several examples of if statements. Experiment with different inputs and see what is printed out. Can you follow the flow of logic to figure out which code lines will get run? If you're not sure, you can insert additional print statements to help you figure out how it works."
   ]
  },
  {
   "cell_type": "code",
   "execution_count": null,
   "metadata": {},
   "outputs": [],
   "source": [
    "#First Example - try changing the value of phone_balance\n",
    "phone_balance = 10\n",
    "bank_balance = 50\n",
    "\n",
    "if phone_balance < 10:\n",
    "    phone_balance += 10\n",
    "    bank_balance -= 10\n",
    "\n",
    "print(phone_balance)\n",
    "print(bank_balance)\n",
    "\n",
    "#Second Example - try changing the value of number\n",
    "\n",
    "number = 145\n",
    "if number % 2 == 0:\n",
    "    print(\"Number \" + str(number) + \" is even.\")\n",
    "else:\n",
    "    print(\"Number \" + str(number) + \" is odd.\")\n",
    "\n",
    "#Third Example - try to change the value of age\n",
    "age = 35\n",
    "\n",
    "# Here are the age limits for bus fares\n",
    "free_up_to_age = 4\n",
    "child_up_to_age = 18\n",
    "senior_from_age = 65\n",
    "\n",
    "# These lines determine the bus fare prices\n",
    "concession_ticket = 1.25\n",
    "adult_ticket = 2.50\n",
    "\n",
    "# Here is the logic for bus fare prices\n",
    "if age <= free_up_to_age:\n",
    "    ticket_price = 0\n",
    "elif age <= child_up_to_age:\n",
    "    ticket_price = concession_ticket\n",
    "elif age >= senior_from_age:\n",
    "    ticket_price = concession_ticket\n",
    "else:\n",
    "    ticket_price = adult_ticket\n",
    "\n",
    "message = \"Somebody who is {} years old will pay ${} to ride the bus.\".format(age, ticket_price)\n",
    "print(message)"
   ]
  },
  {
   "cell_type": "code",
   "execution_count": 9,
   "metadata": {
    "ExecuteTime": {
     "end_time": "2020-11-28T10:40:31.182778Z",
     "start_time": "2020-11-28T10:40:31.176351Z"
    }
   },
   "outputs": [
    {
     "name": "stdout",
     "output_type": "stream",
     "text": [
      "18\n",
      "40\n"
     ]
    }
   ],
   "source": [
    "#First Example - try changing the value of phone_balance\n",
    "phone_balance = 8\n",
    "bank_balance = 50\n",
    "\n",
    "if phone_balance < 10:\n",
    "    phone_balance += 10\n",
    "    bank_balance -= 10\n",
    "\n",
    "print(phone_balance)\n",
    "print(bank_balance)"
   ]
  },
  {
   "cell_type": "code",
   "execution_count": 11,
   "metadata": {
    "ExecuteTime": {
     "end_time": "2020-11-28T10:41:18.074613Z",
     "start_time": "2020-11-28T10:41:18.068608Z"
    }
   },
   "outputs": [
    {
     "name": "stdout",
     "output_type": "stream",
     "text": [
      "Number 144 is even.\n"
     ]
    }
   ],
   "source": [
    "#Second Example - try changing the value of number\n",
    "\n",
    "number = 144\n",
    "if number % 2 == 0:\n",
    "    print(\"Number \" + str(number) + \" is even.\")\n",
    "else:\n",
    "    print(\"Number \" + str(number) + \" is odd.\")"
   ]
  },
  {
   "cell_type": "code",
   "execution_count": 13,
   "metadata": {
    "ExecuteTime": {
     "end_time": "2020-11-28T10:43:35.548733Z",
     "start_time": "2020-11-28T10:43:35.540645Z"
    }
   },
   "outputs": [
    {
     "name": "stdout",
     "output_type": "stream",
     "text": [
      "Somebody who is 66 years old will pay $1.25 to ride the bus.\n"
     ]
    }
   ],
   "source": [
    "#Third Example - try to change the value of age\n",
    "age = 66\n",
    "\n",
    "# Here are the age limits for bus fares\n",
    "free_up_to_age = 4\n",
    "child_up_to_age = 18\n",
    "senior_from_age = 65 # These lines determine the bus fare prices\n",
    "concession_ticket = 1.25\n",
    "adult_ticket = 2.50\n",
    "\n",
    "# Here is the logic for bus fare prices\n",
    "if age <= free_up_to_age:\n",
    "    ticket_price = 0\n",
    "elif age <= child_up_to_age:\n",
    "    ticket_price = concession_ticket\n",
    "elif age >= senior_from_age:\n",
    "    ticket_price = concession_ticket\n",
    "else:\n",
    "    ticket_price = adult_ticket\n",
    "\n",
    "message = \"Somebody who is {} years old will pay ${} to ride the bus.\".format(age, ticket_price)\n",
    "print(message)"
   ]
  },
  {
   "cell_type": "markdown",
   "metadata": {},
   "source": [
    "**Practice: Which Prize**\n",
    "\n",
    "Write an if statement that lets a competitor know which of these prizes they won based on the number of points they scored, which is stored in the integer variable points.\n",
    "\n",
    "Points\tPrize\n",
    "\n",
    "1 - 50\twooden rabbit\n",
    "\n",
    "51 - 150\tno prize\n",
    "\n",
    "151 - 180\twafer-thin mint\n",
    "\n",
    "181 - 200\tpenguin\n",
    "\n",
    "All of the lower and upper bounds here are inclusive, and points can only take on positive integer values up to 200.\n",
    "\n",
    "In your if statement, assign the result variable to a string holding the appropriate message based on the value of points. If they've won a prize, the message should state \"Congratulations! You won a [prize name]!\" with the prize name. If there's no prize, the message should state \"Oh dear, no prize this time.\""
   ]
  },
  {
   "cell_type": "code",
   "execution_count": 17,
   "metadata": {
    "ExecuteTime": {
     "end_time": "2020-11-28T12:56:26.473119Z",
     "start_time": "2020-11-28T12:56:26.466741Z"
    }
   },
   "outputs": [
    {
     "name": "stdout",
     "output_type": "stream",
     "text": [
      "Oh dear, no prize this time.\n"
     ]
    }
   ],
   "source": [
    "points = 144 # use this input to make your submission\n",
    "\n",
    "# write your if statement here\n",
    "if points <= 50:\n",
    "    result = 'Congratulations! You won a wooden rabbit!'\n",
    "elif points <= 150:\n",
    "    result = 'Oh dear, no prize this time.'\n",
    "elif points <= 180:\n",
    "    result = 'Congratulations! You won a wafer-thin mint'\n",
    "else:\n",
    "    result = 'Congratulations! You won a penguin'\n",
    "print(result)"
   ]
  },
  {
   "cell_type": "markdown",
   "metadata": {},
   "source": [
    "**Solution**\n",
    "\n",
    "We use <= instead of the < operator, since it was stated that the upper bound is inclusive. Notice that in each condition, we check if points is in a prize bracket by checking if points is less than or equal to the upper bound; we didn't have to check if it was greater than the lower bound. Let's see why this is the case.\n",
    "\n",
    "When points = 174, it first checks if points <= 50, which evaluates to False. We don't have to check if it is also greater than 0, since it is stated in the problem that points will always be a positive integer up to 200.\n",
    "\n",
    "Since the first condition evaluates to False, it moves on to check the next condition, points <= 150. We don't need to check if it is also greater than 50 here! We already know this is the case because the first condition has to have evaluated to False in order to get to this point. If we know points <= 50 is False, then points > 50 must be True!\n",
    "\n",
    "Finally, we check if points <= 180, which evaluates to True. We now know that points is in the 151 - 180 bracket.\n",
    "\n",
    "The last prize bracket, 181-200, is caught in the else clause, since there is no other possible value of the prize after checking the previous conditions."
   ]
  },
  {
   "cell_type": "markdown",
   "metadata": {},
   "source": [
    "**Quiz: Guess My Number**\n",
    "\n",
    "You decide you want to play a game where you are hiding a number from someone. Store this number in a variable called 'answer'. Another user provides a number called 'guess'. By comparing guess to answer, you inform the user if their guess is too high or too low.\n",
    "\n",
    "Fill in the conditionals below to inform the user about how their guess compares to the answer."
   ]
  },
  {
   "cell_type": "code",
   "execution_count": null,
   "metadata": {},
   "outputs": [],
   "source": [
    "# '''\n",
    "# You decide you want to play a game where you are hiding \n",
    "# a number from someone.  Store this number in a variable \n",
    "# called 'answer'.  Another user provides a number called\n",
    "# 'guess'.  By comparing guess to answer, you inform the user\n",
    "# if their guess is too high or too low.\n",
    "\n",
    "# Fill in the conditionals below to inform the user about how\n",
    "# their guess compares to the answer.\n",
    "# '''\n",
    "answer = #provide answer\n",
    "guess = #provide guess\n",
    "\n",
    "if #provide conditional\n",
    "    result = \"Oops!  Your guess was too low.\"\n",
    "elif #provide conditional\n",
    "    result = \"Oops!  Your guess was too high.\"\n",
    "elif #provide conditional\n",
    "    result = \"Nice!  Your guess matched the answer!\"\n",
    "\n",
    "print(result)"
   ]
  },
  {
   "cell_type": "markdown",
   "metadata": {},
   "source": [
    "**Quiz: Tax Purchase**\n",
    "\n",
    "Depending on where an individual is from we need to tax them appropriately. The states of CA, MN, and NY have taxes of 7.5%, 9.5%, and 8.9% respectively. Use this information to take the amount of a purchase and the corresponding state to assure that they are taxed by the right amount."
   ]
  },
  {
   "cell_type": "code",
   "execution_count": null,
   "metadata": {},
   "outputs": [],
   "source": [
    "# '''\n",
    "# Depending on where an individual is from we need to tax them \n",
    "# appropriately.  The states of CA, MN, and \n",
    "# NY have taxes of 7.5%, 9.5%, and 8.9% respectively.\n",
    "# Use this information to take the amount of a purchase and \n",
    "# the corresponding state to assure that they are taxed by the right\n",
    "# amount.\n",
    "# '''\n",
    "state = #Either CA, MN, or NY\n",
    "purchase_amount = #amount of purchase\n",
    "\n",
    "if #provide conditional for checking state is CA\n",
    "    tax_amount = .075\n",
    "    total_cost = purchase_amount*(1+tax_amount)\n",
    "    result = \"Since you're from {}, your total cost is {}.\".format(state, total_cost)\n",
    "\n",
    "elif #provide conditional for checking state is MN\n",
    "    tax_amount = .095\n",
    "    total_cost = purchase_amount*(1+tax_amount)\n",
    "    result = \"Since you're from {}, your total cost is {}.\".format(state, total_cost)\n",
    "\n",
    "elif #provide conditional for checking state is NY\n",
    "    tax_amount = .089\n",
    "    total_cost = purchase_amount*(1+tax_amount)\n",
    "    result = \"Since you're from {}, your total cost is {}.\".format(state, total_cost)\n",
    "\n",
    "print(result)"
   ]
  },
  {
   "cell_type": "markdown",
   "metadata": {},
   "source": [
    "**Boolean Expressions for Conditions**"
   ]
  },
  {
   "cell_type": "markdown",
   "metadata": {},
   "source": [
    "All the if and elif statements we've seen so far have been followed by a single boolean expression that checks only one condition.\n",
    "\n",
    "However, more complicated boolean expression can be useful as well. If the condition is working with the numerical variable you might want to check whether a value lies in a certain range or even do some calculation in order to make a comparison."
   ]
  },
  {
   "cell_type": "code",
   "execution_count": 18,
   "metadata": {
    "ExecuteTime": {
     "end_time": "2020-11-28T14:08:29.076024Z",
     "start_time": "2020-11-28T14:08:29.071210Z"
    }
   },
   "outputs": [],
   "source": [
    "weight = 55\n",
    "height = 164\n",
    "\n",
    "if 18.5 <= weight / height ** 2 < 25:\n",
    "    print(\"BMI is considered 'normal'\")"
   ]
  },
  {
   "cell_type": "markdown",
   "metadata": {},
   "source": [
    "Notice this👆🏼condition uses logic and algebra and will still run correctly in python"
   ]
  },
  {
   "cell_type": "markdown",
   "metadata": {},
   "source": [
    "**Good and Bad examples**\n",
    "\n",
    "We'll go over some good and bad examples of boolean expressions used in if statements.\n",
    "While true is a valid boolean expression, its not exactly useful as condition as it always evaluates as true,\n",
    "so the indented code will always get run.\n",
    "\n",
    "Similarly, if false is not a condition you should run either, the condition and the if statement will never occur."
   ]
  },
  {
   "cell_type": "code",
   "execution_count": 3,
   "metadata": {
    "ExecuteTime": {
     "end_time": "2020-11-29T18:35:38.105669Z",
     "start_time": "2020-11-29T18:35:38.099109Z"
    }
   },
   "outputs": [
    {
     "name": "stdout",
     "output_type": "stream",
     "text": [
      "The weather is cold or not cold\n"
     ]
    }
   ],
   "source": [
    "# An example of bad if statements\n",
    "is_cold = True\n",
    "if is_cold or not is_cold:\n",
    "    print('The weather is cold or not cold')"
   ]
  },
  {
   "cell_type": "markdown",
   "metadata": {},
   "source": [
    "This👆🏼has no use as a condition because the indented code will always run."
   ]
  },
  {
   "cell_type": "code",
   "execution_count": 5,
   "metadata": {
    "ExecuteTime": {
     "end_time": "2020-11-29T21:32:13.005334Z",
     "start_time": "2020-11-29T21:32:12.999355Z"
    }
   },
   "outputs": [
    {
     "name": "stdout",
     "output_type": "stream",
     "text": [
      "wear boots!\n"
     ]
    }
   ],
   "source": [
    "weather = 'snow'\n",
    "if weather == 'snow' or 'rain': #👈🏾\n",
    "    print('wear boots!')"
   ]
  },
  {
   "cell_type": "markdown",
   "metadata": {},
   "source": [
    "This👆🏼 code is valid in python, but it is not a boolean expression, it is a string"
   ]
  },
  {
   "cell_type": "code",
   "execution_count": 6,
   "metadata": {
    "ExecuteTime": {
     "end_time": "2020-11-29T21:35:05.581758Z",
     "start_time": "2020-11-29T21:35:05.574058Z"
    }
   },
   "outputs": [
    {
     "name": "stdout",
     "output_type": "stream",
     "text": [
      "wear boot!!\n"
     ]
    }
   ],
   "source": [
    "weather = 'rain'\n",
    "if weather == 'snow' or weather == 'rain':\n",
    "    print('wear boot!!')"
   ]
  },
  {
   "cell_type": "markdown",
   "metadata": {},
   "source": [
    "It takes a few more characters, but this👆🏼 is now unambigously a boolean expression.\n",
    "The expression on both sides of the logical operator 'or' are both checking something"
   ]
  },
  {
   "cell_type": "markdown",
   "metadata": {},
   "source": [
    "The code in the upper cell is a valid python condition,but we could express it more briefly and clearly👇🏽"
   ]
  },
  {
   "cell_type": "code",
   "execution_count": 7,
   "metadata": {
    "ExecuteTime": {
     "end_time": "2020-11-29T21:44:46.133548Z",
     "start_time": "2020-11-29T21:44:46.128168Z"
    }
   },
   "outputs": [
    {
     "name": "stdout",
     "output_type": "stream",
     "text": [
      "The weather is cold!!\n"
     ]
    }
   ],
   "source": [
    "is_cold = True \n",
    "if is_cold == True:\n",
    "    print('The weather is cold!!')"
   ]
  },
  {
   "cell_type": "markdown",
   "metadata": {},
   "source": [
    "is_cold is a boolean expression on its own right, so we can make the code more readable by using the variable itself instead.\n",
    "\n",
    "If you want to check whether a boolean is false, you can use the not operator👇🏽."
   ]
  },
  {
   "cell_type": "code",
   "execution_count": null,
   "metadata": {},
   "outputs": [],
   "source": [
    "if not correct_answer:\n",
    "    print(\"That's incorrect - try again!!!\")"
   ]
  },
  {
   "cell_type": "markdown",
   "metadata": {},
   "source": [
    "**Truth Value Testing**"
   ]
  },
  {
   "cell_type": "markdown",
   "metadata": {},
   "source": [
    "So far, the conditions we've used were boolean expression that evaluate to a boolean object, either true or false.\n",
    "If we put some other object that is not a boolean in the if statement, python will check whether or not to run the indented code.\n",
    "\n",
    "Here👇🏽, the condition is an integer variable and evaluates to true"
   ]
  },
  {
   "cell_type": "code",
   "execution_count": 4,
   "metadata": {
    "ExecuteTime": {
     "end_time": "2020-11-30T12:20:57.931464Z",
     "start_time": "2020-11-30T12:20:57.925841Z"
    }
   },
   "outputs": [
    {
     "name": "stdout",
     "output_type": "stream",
     "text": [
      "There are mistakes.\n"
     ]
    }
   ],
   "source": [
    "errors = 3\n",
    "\n",
    "if errors:\n",
    "    print('There are ' + 'mistakes.')\n",
    "else:\n",
    "    print('There are no mistakes here!!')"
   ]
  },
  {
   "cell_type": "markdown",
   "metadata": {},
   "source": [
    "In this code👇🏽, errors has a truth value true because it's a non-zero number, so the error message is printed"
   ]
  },
  {
   "cell_type": "code",
   "execution_count": 8,
   "metadata": {
    "ExecuteTime": {
     "end_time": "2020-11-30T12:42:00.530319Z",
     "start_time": "2020-11-30T12:42:00.524622Z"
    }
   },
   "outputs": [
    {
     "name": "stdout",
     "output_type": "stream",
     "text": [
      "You have 3 errors to fix!\n"
     ]
    }
   ],
   "source": [
    "errors = 3\n",
    "if errors:\n",
    "    print(\"You have {} errors to fix!\".format(errors))\n",
    "else:\n",
    "    print(\"No errors to fix!\")"
   ]
  },
  {
   "cell_type": "markdown",
   "metadata": {},
   "source": [
    "This👆🏼is a nice way of writing succinct if statement"
   ]
  },
  {
   "cell_type": "markdown",
   "metadata": {},
   "source": [
    "**Quiz: Boolean Expressions for Conditions**\n",
    "\n",
    "Imagine an air traffic control program that tracks three variables, altitude, speed, and propulsion which for a particular airplane have the values specified below."
   ]
  },
  {
   "cell_type": "code",
   "execution_count": 9,
   "metadata": {
    "ExecuteTime": {
     "end_time": "2020-11-30T14:20:33.501105Z",
     "start_time": "2020-11-30T14:20:33.491952Z"
    }
   },
   "outputs": [],
   "source": [
    "altitude = 10000\n",
    "speed = 250\n",
    "propulsion = \"Propeller\""
   ]
  },
  {
   "cell_type": "code",
   "execution_count": 10,
   "metadata": {
    "ExecuteTime": {
     "end_time": "2020-11-30T14:21:23.057946Z",
     "start_time": "2020-11-30T14:21:23.036244Z"
    }
   },
   "outputs": [
    {
     "data": {
      "text/plain": [
       "False"
      ]
     },
     "execution_count": 10,
     "metadata": {},
     "output_type": "execute_result"
    }
   ],
   "source": [
    "altitude < 1000 and speed > 100"
   ]
  },
  {
   "cell_type": "code",
   "execution_count": 11,
   "metadata": {
    "ExecuteTime": {
     "end_time": "2020-11-30T14:34:55.768071Z",
     "start_time": "2020-11-30T14:34:55.759200Z"
    }
   },
   "outputs": [
    {
     "data": {
      "text/plain": [
       "False"
      ]
     },
     "execution_count": 11,
     "metadata": {},
     "output_type": "execute_result"
    }
   ],
   "source": [
    "(propulsion == \"Jet\" or propulsion == \"Turboprop\") and speed < 300 and altitude > 20000"
   ]
  },
  {
   "cell_type": "code",
   "execution_count": 14,
   "metadata": {
    "ExecuteTime": {
     "end_time": "2020-11-30T14:37:38.486936Z",
     "start_time": "2020-11-30T14:37:38.480060Z"
    }
   },
   "outputs": [
    {
     "data": {
      "text/plain": [
       "True"
      ]
     },
     "execution_count": 14,
     "metadata": {},
     "output_type": "execute_result"
    }
   ],
   "source": [
    "not (speed > 400 and propulsion == \"Propeller\")"
   ]
  },
  {
   "cell_type": "code",
   "execution_count": 15,
   "metadata": {
    "ExecuteTime": {
     "end_time": "2020-11-30T14:40:19.194333Z",
     "start_time": "2020-11-30T14:40:19.186659Z"
    }
   },
   "outputs": [
    {
     "data": {
      "text/plain": [
       "True"
      ]
     },
     "execution_count": 15,
     "metadata": {},
     "output_type": "execute_result"
    }
   ],
   "source": [
    "(altitude > 500 and speed > 100) or not propulsion == \"Propeller\""
   ]
  },
  {
   "cell_type": "markdown",
   "metadata": {},
   "source": [
    "**Quiz: Using Truth Values of Objects**\n",
    "\n",
    "The code below is the solution to the Which Prize quiz you've seen previously. You're going to rewrite this based on what you've learned about truth values."
   ]
  },
  {
   "cell_type": "code",
   "execution_count": 16,
   "metadata": {
    "ExecuteTime": {
     "end_time": "2020-11-30T19:31:46.117200Z",
     "start_time": "2020-11-30T19:31:46.109239Z"
    }
   },
   "outputs": [
    {
     "name": "stdout",
     "output_type": "stream",
     "text": [
      "Congratulations! You won a wafer-thin mint!\n"
     ]
    }
   ],
   "source": [
    "points = 174\n",
    "\n",
    "if points <= 50:\n",
    "    result = \"Congratulations! You won a wooden rabbit!\"\n",
    "elif points <= 150:\n",
    "    result = \"Oh dear, no prize this time.\"\n",
    "elif points <= 180:\n",
    "    result = \"Congratulations! You won a wafer-thin mint!\"\n",
    "else:\n",
    "    result = \"Congratulations! You won a penguin!\"\n",
    "\n",
    "print(result)"
   ]
  },
  {
   "cell_type": "markdown",
   "metadata": {},
   "source": [
    "*You will use a new variable prize to store a prize name if one was won, and then use the truth value of this variable to compose the result message. This will involve two if statements.*\n",
    "\n",
    "- 1st conditional statement: update prize to the correct prize name based on points.\n",
    "\n",
    "- 2nd conditional statement: set result to the correct phrase based on whether prize is evaluated as True or False.\n",
    "\n",
    "**If prize is None, result should be set to \"Oh dear, no prize this time.\"**\n",
    "\n",
    "**If prize contains a prize name, result should be set to \"Congratulations! You won a {}!\".format(prize).**\n",
    "\n",
    "This will avoid having the multiple result assignments for different prizes.\n",
    "\n",
    "*At the beginning of your code, set prize to None, as the default value.*"
   ]
  },
  {
   "cell_type": "code",
   "execution_count": 20,
   "metadata": {
    "ExecuteTime": {
     "end_time": "2020-11-30T19:37:18.020832Z",
     "start_time": "2020-11-30T19:37:18.013326Z"
    }
   },
   "outputs": [
    {
     "name": "stdout",
     "output_type": "stream",
     "text": [
      "Congratulations! You won a penguin!\n"
     ]
    }
   ],
   "source": [
    "# Quiz Solution: Using Truth Values of Objects\n",
    "\n",
    "points = 200  # use this input when submitting your answer\n",
    "\n",
    "# set prize to default value of None\n",
    "prize = None\n",
    "\n",
    "# use the value of points to assign prize to the correct prize name\n",
    "if points <= 50:\n",
    "    prize = \"wooden rabbit\"\n",
    "elif 151 <= points <= 180:\n",
    "    prize = \"wafer-thin mint\"\n",
    "elif points >= 181:\n",
    "    prize = \"penguin\"\n",
    "\n",
    "# use the truth value of prize to assign result to the correct message\n",
    "if prize:\n",
    "    result = \"Congratulations! You won a {}!\".format(prize)\n",
    "else:\n",
    "    result = \"Oh dear, no prize this time.\"\n",
    "\n",
    "print(result)"
   ]
  },
  {
   "cell_type": "markdown",
   "metadata": {},
   "source": [
    "We first set prize to None and then update it only if falls into a bracket that results in winning a prize. This is accomplished in the first if statement. We then use the truth value of prize to assign result to a message based on whether a prize was won.\n",
    "\n",
    "Remember when prize = \"penguin\", or any other non-empty string, then the if prize condition is True!"
   ]
  },
  {
   "cell_type": "markdown",
   "metadata": {},
   "source": [
    "**Loops**\n",
    "\n",
    "Loops allow us to repeat blocks of code.\n",
    "Python has two kinds of loops; for loops and while loops"
   ]
  },
  {
   "cell_type": "markdown",
   "metadata": {},
   "source": [
    "**for loops**\n",
    "\n",
    "For loops can be used to iterate over an iterable.\n",
    "An iterable is an object that can return one of it's elements at a time. This can include sequence types such as strings,lists and tuples as well as non-sequenced types such as dictionaries and files.\n",
    "\n",
    "You can define objects within iter methods to allow them to be used as an iterable.\n",
    "\n",
    "Consider this👇🏽 for loop iterates through a list of cities, capitalizes each one and prints it."
   ]
  },
  {
   "cell_type": "code",
   "execution_count": 22,
   "metadata": {
    "ExecuteTime": {
     "end_time": "2020-11-30T20:06:19.830862Z",
     "start_time": "2020-11-30T20:06:19.824197Z"
    }
   },
   "outputs": [
    {
     "name": "stdout",
     "output_type": "stream",
     "text": [
      "New York City\n",
      "Mountain View\n",
      "Chicago\n",
      "Los Angeles\n"
     ]
    }
   ],
   "source": [
    "cities = ['new york city', 'mountain view', 'chicago', 'los angeles']\n",
    "\n",
    "for city in cities:\n",
    "    print(city.title())"
   ]
  },
  {
   "cell_type": "markdown",
   "metadata": {},
   "source": [
    "The for keyword signals this is a for loop.\n",
    "Cities is the iterable and city is the loops iteration variable.\n",
    "\n",
    "The iteration variable is the variable that represents the element in the iterable that the loop is currently processing.\n",
    "\n",
    "So in the first iteration, city would be new york city and in the second iteration, city would be mountain view and so on."
   ]
  },
  {
   "cell_type": "markdown",
   "metadata": {},
   "source": [
    "**We can use the city variable** to refer to an element within the indented body of a for loop during an iteration.\n",
    "This indented body is iterated once for each element in cities.\n",
    "You name iteration variable however you like, though this example demonstrates a common pattern. The name of the list cities is the plural form of city, the name of the iterator variable.\n",
    "\n",
    "**Naming lists** and iteration variable in this style makes it easier for other programmers to understand the purpose of each variable."
   ]
  },
  {
   "cell_type": "markdown",
   "metadata": {},
   "source": [
    "**So far,** the loops we've written extract information from lists. We can also use for loops to create lists and to modify lists.\n",
    "\n",
    "To create a new lists, we can start with an empty list👇🏽 and the use the append method to add new items."
   ]
  },
  {
   "cell_type": "code",
   "execution_count": 24,
   "metadata": {},
   "outputs": [
    {
     "name": "stdout",
     "output_type": "stream",
     "text": [
      "['New York City', 'Mountain View', 'Chicago', 'Los Angeles']\n"
     ]
    }
   ],
   "source": [
    "capitalized_cities = []\n",
    "\n",
    "for city in cities:\n",
    "    capitalized_cities.append(city.title())\n",
    "print(capitalized_cities)    "
   ]
  },
  {
   "cell_type": "markdown",
   "metadata": {},
   "source": [
    "This👆🏼 for loop iterates through each city and cities and appends it to capitalized cities"
   ]
  },
  {
   "cell_type": "markdown",
   "metadata": {},
   "source": [
    "**Modifying a list** is a bit more involved and requires a use of a new function range.\n",
    "\n",
    "**Range** is a built-in function used to create immutable sequences of numbers.\n",
    "It has three arguments; start,stop and step.\n",
    "\n",
    "- start is the first number of the sequence\n",
    "\n",
    "- stop is one above the last number of the sequence.\n",
    "\n",
    "- step is the difference between the numbers in the sequence.\n",
    "\n",
    "If unspecified, start defaults to zero and step defaults to one."
   ]
  },
  {
   "cell_type": "code",
   "execution_count": 25,
   "metadata": {},
   "outputs": [
    {
     "name": "stdout",
     "output_type": "stream",
     "text": [
      "[0, 1, 2, 3]\n"
     ]
    }
   ],
   "source": [
    "print(list(range(4)))"
   ]
  },
  {
   "cell_type": "markdown",
   "metadata": {},
   "source": [
    "Calling range with one integer will make that the stop argument and return a sequence of numbers from zero to that integer minus one. \n",
    "\n",
    "So range 4 returns zero through four minus one, which is three."
   ]
  },
  {
   "cell_type": "code",
   "execution_count": 26,
   "metadata": {},
   "outputs": [
    {
     "name": "stdout",
     "output_type": "stream",
     "text": [
      "[2, 3, 4, 5]\n"
     ]
    }
   ],
   "source": [
    "print(list(range(2,6)))"
   ]
  },
  {
   "cell_type": "markdown",
   "metadata": {},
   "source": [
    "Calling range with two integers will make those the start and stop, and return a sequence of numbers from the first number to the second number minus one."
   ]
  },
  {
   "cell_type": "code",
   "execution_count": 27,
   "metadata": {},
   "outputs": [
    {
     "name": "stdout",
     "output_type": "stream",
     "text": [
      "[1, 3, 5, 7, 9]\n"
     ]
    }
   ],
   "source": [
    "print(list(range(1,10,2)))"
   ]
  },
  {
   "cell_type": "markdown",
   "metadata": {},
   "source": [
    "Calling range with three integers will return a sequence of numbers from the first to the second minus one separated by the third."
   ]
  },
  {
   "cell_type": "markdown",
   "metadata": {},
   "source": [
    "You can view the values in a range object by converting it to list or iterating through it in a for loop."
   ]
  },
  {
   "cell_type": "code",
   "execution_count": 28,
   "metadata": {},
   "outputs": [
    {
     "name": "stdout",
     "output_type": "stream",
     "text": [
      "0\n",
      "1\n",
      "2\n",
      "3\n"
     ]
    }
   ],
   "source": [
    "for number in range(4):\n",
    "    print(number)"
   ]
  },
  {
   "cell_type": "markdown",
   "metadata": {},
   "source": [
    "**Let's break down the components of a for loop, using this example with the list cities:**"
   ]
  },
  {
   "cell_type": "code",
   "execution_count": 5,
   "metadata": {},
   "outputs": [
    {
     "name": "stdout",
     "output_type": "stream",
     "text": [
      "['New York City', 'Mountain View', 'Chicago', 'Los Angeles']\n"
     ]
    }
   ],
   "source": [
    "cities = ['new york city', 'mountain view', 'chicago', 'los angeles']\n",
    "for index in range(len(cities)):\n",
    "    cities[index] = cities[index].title()\n",
    "print(cities)"
   ]
  },
  {
   "cell_type": "code",
   "execution_count": 6,
   "metadata": {},
   "outputs": [
    {
     "name": "stdout",
     "output_type": "stream",
     "text": [
      "New York City\n",
      "Mountain View\n",
      "Chicago\n",
      "Los Angeles\n"
     ]
    }
   ],
   "source": [
    "for city in cities:\n",
    "    print(city)"
   ]
  },
  {
   "cell_type": "markdown",
   "metadata": {},
   "source": [
    "Back to our cities example👆🏼, we can use the range function to generate the indicies of each value in the cities list.\n",
    "This let's us access the elements of the list with cities bracket index. So that we can modify the values in the list in place."
   ]
  },
  {
   "cell_type": "markdown",
   "metadata": {},
   "source": [
    "Let's go through one iteration of this👆🏼 to show exactly how all these work together.\n",
    "\n",
    "Len cities provides four, so the list will a range from zero to three. The index will take on each of these values one at the time.\n",
    "\n",
    "So in this first iteration, we'll have an index of zero.\n",
    "This part here will then index the first city, new york city, capitalize it using title, then place it back in place of the original new york city spot.\n",
    "\n",
    "This same process will then occur for each of the additional cities. We can use print to see the change in the cities list at each iteration."
   ]
  },
  {
   "cell_type": "markdown",
   "metadata": {},
   "source": [
    "By getting a list of indices with the range function, we were able to index into each element of a list in a for loop to apply a change."
   ]
  },
  {
   "cell_type": "markdown",
   "metadata": {},
   "source": [
    "**Practice: Quick Brown Fox**\n",
    "\n",
    "Use a for loop to take a list and print each element of the list in its own line."
   ]
  },
  {
   "cell_type": "code",
   "execution_count": 4,
   "metadata": {},
   "outputs": [
    {
     "name": "stdout",
     "output_type": "stream",
     "text": [
      "the\n",
      "quick\n",
      "brown\n",
      "fox\n",
      "jumped\n",
      "over\n",
      "the\n",
      "lazy\n",
      "dog\n"
     ]
    }
   ],
   "source": [
    "sentence = [\"the\", \"quick\", \"brown\", \"fox\", \"jumped\", \"over\", \"the\", \"lazy\", \"dog\"]\n",
    "\n",
    "for words in sentence:\n",
    "    print(words)"
   ]
  },
  {
   "cell_type": "markdown",
   "metadata": {},
   "source": [
    "**Practice: Multiples of 5**\n",
    "\n",
    "Write a for loop below that will print out every whole number that is a multiple of 5 and less than or equal to 30."
   ]
  },
  {
   "cell_type": "code",
   "execution_count": 7,
   "metadata": {},
   "outputs": [
    {
     "name": "stdout",
     "output_type": "stream",
     "text": [
      "5\n",
      "10\n",
      "15\n",
      "20\n",
      "25\n",
      "30\n"
     ]
    }
   ],
   "source": [
    "# Using the range function\n",
    "for num in range(5,35,5):\n",
    "    print(num)"
   ]
  },
  {
   "cell_type": "markdown",
   "metadata": {},
   "source": [
    "**Quiz: Create Usernames**\n",
    "\n",
    "Write a for loop that iterates over the names list to create a usernames list. To create a username for each name, make everything lowercase and replace spaces with underscores. Running your for loop over the list:"
   ]
  },
  {
   "cell_type": "code",
   "execution_count": 19,
   "metadata": {},
   "outputs": [],
   "source": [
    "names = [\"Joey Tribbiani\", \"Monica Geller\", \"Chandler Bing\", \"Phoebe Buffay\"]"
   ]
  },
  {
   "cell_type": "code",
   "execution_count": 21,
   "metadata": {},
   "outputs": [
    {
     "name": "stdout",
     "output_type": "stream",
     "text": [
      "['joey_tribbiani', 'monica_geller', 'chandler_bing', 'phoebe_buffay']\n"
     ]
    }
   ],
   "source": [
    "usernames = [] # Iniatialize an empty list\n",
    "\n",
    "for name in names:\n",
    "    usernames.append(name.lower().replace(' ', '_')) # You can chain different methods\n",
    "print(usernames)   "
   ]
  },
  {
   "cell_type": "markdown",
   "metadata": {},
   "source": [
    "**Quiz: Modify Usernames with Range**\n",
    "\n",
    "Write a for loop that uses range() to iterate over the positions in usernames to modify the list. Like you did in the previous quiz, change each name to be lowercase and replace spaces with underscores. After running your loop, this list"
   ]
  },
  {
   "cell_type": "code",
   "execution_count": 22,
   "metadata": {},
   "outputs": [],
   "source": [
    "usernames = [\"Joey Tribbiani\", \"Monica Geller\", \"Chandler Bing\", \"Phoebe Buffay\"]"
   ]
  },
  {
   "cell_type": "code",
   "execution_count": 25,
   "metadata": {},
   "outputs": [
    {
     "name": "stdout",
     "output_type": "stream",
     "text": [
      "['joey_tribbiani', 'monica_geller', 'chandler_bing', 'phoebe_buffay']\n"
     ]
    }
   ],
   "source": [
    "for name in range(len(usernames)):\n",
    "    usernames[name] = usernames[name].lower().replace(' ','_')\n",
    "print(usernames)"
   ]
  },
  {
   "cell_type": "markdown",
   "metadata": {},
   "source": [
    "**Quiz: Tag Counter**\n",
    "\n",
    "Write a for loop that iterates over a list of strings, tokens, and counts how many of them are XML tags. XML is a data language similar to HTML. You can tell if a string is an XML tag if it begins with a left angle bracket \"<\" and ends with a right angle bracket \">\". Keep track of the number of tags using the variable count.\n",
    "\n",
    "You can assume that the list of strings will not contain empty strings."
   ]
  },
  {
   "cell_type": "code",
   "execution_count": 30,
   "metadata": {},
   "outputs": [
    {
     "name": "stdout",
     "output_type": "stream",
     "text": [
      "2\n"
     ]
    }
   ],
   "source": [
    "# One Solution\n",
    "tokens = ['<greeting>', 'Hello World!', '</greeting>']\n",
    "count = 0\n",
    "\n",
    "# write your for loop here\n",
    "for count in range(len(tokens)):\n",
    "    tokens[count] = tokens[count].count('<') \n",
    "\n",
    "print(count)"
   ]
  },
  {
   "cell_type": "code",
   "execution_count": 31,
   "metadata": {},
   "outputs": [
    {
     "name": "stdout",
     "output_type": "stream",
     "text": [
      "2\n"
     ]
    }
   ],
   "source": [
    "# Quiz Solution: Tag Counter\n",
    "tokens = ['<greeting>', 'Hello World!', '</greeting>']\n",
    "\n",
    "count = 0\n",
    "for token in tokens:\n",
    "    if token[0] == '<' and token[-1] == '>':\n",
    "        count += 1\n",
    "\n",
    "print(count)"
   ]
  },
  {
   "cell_type": "markdown",
   "metadata": {},
   "source": [
    "**Quiz: Create an HTML List**\n",
    "\n",
    "Write some code, including a for loop, that iterates over a list of strings and creates a single string, html_str, which is an HTML list. For example, if the list is items = ['first string', 'second string'], printing html_str should output:👇🏽"
   ]
  },
  {
   "cell_type": "code",
   "execution_count": null,
   "metadata": {},
   "outputs": [],
   "source": [
    "<ul>\n",
    "<li>first string</li>\n",
    "<li>second string</li>\n",
    "</ul>"
   ]
  },
  {
   "cell_type": "code",
   "execution_count": 28,
   "metadata": {},
   "outputs": [],
   "source": [
    "# That is, the string's first line should be the opening tag <ul>. \n",
    "# Following that is one line per element in the source list, surrounded by <li> \n",
    "# and </li> tags. The final line of the string should be the closing tag </ul>."
   ]
  },
  {
   "cell_type": "code",
   "execution_count": 32,
   "metadata": {},
   "outputs": [
    {
     "name": "stdout",
     "output_type": "stream",
     "text": [
      "<ul>\n",
      "<li>first string</li>\n",
      "<li>second string</li>\n",
      "</ul>\n"
     ]
    }
   ],
   "source": [
    "# Quiz Solution: Create an HTML List\n",
    "items = ['first string', 'second string']\n",
    "html_str = \"<ul>\\n\"          # The \"\\n\" here is the end-of-line char, causing\n",
    "                             # chars after this in html_str to be on next line\n",
    "\n",
    "for item in items:\n",
    "    html_str += \"<li>{}</li>\\n\".format(item)\n",
    "html_str += \"</ul>\"\n",
    "\n",
    "print(html_str)"
   ]
  },
  {
   "cell_type": "markdown",
   "metadata": {},
   "source": [
    "If you want to create a new list called lower_colors, where each color in colors is lower cased, which code line should be inserted into the code block below?"
   ]
  },
  {
   "cell_type": "code",
   "execution_count": 36,
   "metadata": {},
   "outputs": [
    {
     "name": "stdout",
     "output_type": "stream",
     "text": [
      "['red', 'blue', 'green', 'purple']\n"
     ]
    }
   ],
   "source": [
    "colors = ['Red', 'Blue', 'Green', 'Purple']\n",
    "lower_colors = [ ]\n",
    "\n",
    "for color in colors:\n",
    "    lower_colors.append(color.lower())\n",
    "print(lower_colors)"
   ]
  },
  {
   "cell_type": "markdown",
   "metadata": {},
   "source": [
    "**Building Dictionaries**\n",
    "\n",
    "By now you are familiar with two important concepts: 1) counting with for loops and 2) the dictionary get method. These two can actually be combined to create a useful counter dictionary, something you will likely come across again. For example, we can create a dictionary, word_counter, that keeps track of the total count of each word in a string.\n",
    "\n",
    "The following are a couple of ways to do it:"
   ]
  },
  {
   "cell_type": "code",
   "execution_count": 49,
   "metadata": {},
   "outputs": [],
   "source": [
    "# Method 1: Using a for loop to create a set of counters\n",
    "# Let's start with a list containing the words in a series of book titles:\n",
    "book_title =  ['great', 'expectations','the', 'adventures', 'of', 'sherlock','holmes','the','great',\n",
    "               'gasby','hamlet','adventures','of','huckleberry','fin']"
   ]
  },
  {
   "cell_type": "code",
   "execution_count": 50,
   "metadata": {},
   "outputs": [],
   "source": [
    "# Step 1: Create an empty dictionary.\n",
    "word_counter = {}"
   ]
  },
  {
   "cell_type": "code",
   "execution_count": 51,
   "metadata": {},
   "outputs": [],
   "source": [
    "# Step 2. Iterate through each element in the list. \n",
    "# If an element is already included in the dictionary, add 1 to its value. \n",
    "# If not, add the element to the dictionary and set its value to 1.\n",
    "for word in book_title:\n",
    "    if word not in word_counter:\n",
    "        word_counter[word] = 1\n",
    "    else:\n",
    "        word_counter[word] += 1"
   ]
  },
  {
   "cell_type": "markdown",
   "metadata": {},
   "source": [
    "**What's happening here?**👆🏼\n",
    "\n",
    "- The for loop iterates through each element in the list. For the first iteration, word takes the value 'great'.\n",
    "\n",
    "- Next, the if statement checks if word is in the word_counter dictionary.\n",
    "\n",
    "- Since it doesn't yet, the statement word_counter[word] = 1 adds great as a key to the dictionary with a value of 1.\n",
    "\n",
    "- Then, it leaves the if else statement and moves on to the next iteration of the for loop. word now takes the value expectations and repeats the process.\n",
    "\n",
    "- When the if condition is not met, it is because that word already exists in the word_counter dictionary, and the statement word_counter[word] = word_counter[word] + 1 increases the count of that word by 1.\n",
    "\n",
    "- Once the for loop finishes iterating through the list, the for loop is complete."
   ]
  },
  {
   "cell_type": "code",
   "execution_count": 52,
   "metadata": {},
   "outputs": [
    {
     "name": "stdout",
     "output_type": "stream",
     "text": [
      "{'great': 2, 'expectations': 1, 'the': 2, 'adventures': 2, 'of': 2, 'sherlock': 1, 'holmes': 1, 'gasby': 1, 'hamlet': 1, 'huckleberry': 1, 'fin': 1}\n"
     ]
    }
   ],
   "source": [
    "# We can see the output by printing out the dictionary. \n",
    "# Printing word_counter results in the following output.\n",
    "print(word_counter)"
   ]
  },
  {
   "cell_type": "code",
   "execution_count": 53,
   "metadata": {},
   "outputs": [],
   "source": [
    "# Method 2: Using the get method\n",
    "# We will use the same list for this example:\n",
    "book_title =  ['great', 'expectations','the', 'adventures', 'of', 'sherlock','holmes','the',\n",
    "               'great','gasby','hamlet','adventures','of','huckleberry','fin']"
   ]
  },
  {
   "cell_type": "code",
   "execution_count": 54,
   "metadata": {},
   "outputs": [],
   "source": [
    "# Step 1: Create an empty dictionary.\n",
    "word_counter = {}"
   ]
  },
  {
   "cell_type": "markdown",
   "metadata": {},
   "source": [
    "**Step 2. Iterate through each element, get() its value in the dictionary, and add 1.**\n",
    "\n",
    "Recall that the dictionary get method is another way to retrieve the value of a key in a dictionary. Except unlike indexing, this will return a default value if the key is not found. If unspecified, this default value is set to None. We can use get with a default value of 0 to simplify the code from the first method above."
   ]
  },
  {
   "cell_type": "code",
   "execution_count": 55,
   "metadata": {},
   "outputs": [],
   "source": [
    "for word in book_title:\n",
    "    word_counter[word] = word_counter.get(word, 0) + 1"
   ]
  },
  {
   "cell_type": "markdown",
   "metadata": {},
   "source": [
    "**What's happening here?**👆🏼\n",
    "\n",
    "- The for loop iterates through the list as we saw earlier. The for loop feeds 'great' to the next statement in the body of the for loop.\n",
    "\n",
    "- In this line: word_counter[word] = word_counter.get(word,0) + 1, since the key 'great' doesn't yet exist in the dictionary, get() will return the value 0 and word_counter[word] will be set to 1.\n",
    "\n",
    "- Once it encounters a word that already exists in word_counter (e.g. the second appearance of 'the'), the value for that key is incremented by 1. On the second appearance of 'the', the key's value would add 1 again, resulting in 2.\n",
    "\n",
    "- Once the for loop finishes iterating through the list, the for loop is complete.\n",
    "\n",
    "- Printing word_counter shows us we get the same result as we did in method 1."
   ]
  },
  {
   "cell_type": "code",
   "execution_count": 56,
   "metadata": {},
   "outputs": [
    {
     "name": "stdout",
     "output_type": "stream",
     "text": [
      "{'great': 2, 'expectations': 1, 'the': 2, 'adventures': 2, 'of': 2, 'sherlock': 1, 'holmes': 1, 'gasby': 1, 'hamlet': 1, 'huckleberry': 1, 'fin': 1}\n"
     ]
    }
   ],
   "source": [
    "# Printing word_counter shows us we get the same result as we did in method 1.\n",
    "print(word_counter)"
   ]
  },
  {
   "cell_type": "markdown",
   "metadata": {},
   "source": [
    "**Iterating Through Dictionaries with For Loops**\n",
    "\n",
    "When you iterate through a dictionary using a for loop, doing it the normal way (for n in some_dict) will only give you access to the keys in the dictionary - which is what you'd want in some situations. In other cases, you'd want to iterate through both the keys and values in the dictionary. Let's see how this is done in an example. Consider this dictionary that uses names of actors as keys and their characters as values."
   ]
  },
  {
   "cell_type": "code",
   "execution_count": 57,
   "metadata": {},
   "outputs": [],
   "source": [
    "cast = {\n",
    "           \"Jerry Seinfeld\": \"Jerry Seinfeld\",\n",
    "           \"Julia Louis-Dreyfus\": \"Elaine Benes\",\n",
    "           \"Jason Alexander\": \"George Costanza\",\n",
    "           \"Michael Richards\": \"Cosmo Kramer\"\n",
    "       }"
   ]
  },
  {
   "cell_type": "code",
   "execution_count": 58,
   "metadata": {},
   "outputs": [
    {
     "name": "stdout",
     "output_type": "stream",
     "text": [
      "Jerry Seinfeld\n",
      "Julia Louis-Dreyfus\n",
      "Jason Alexander\n",
      "Michael Richards\n"
     ]
    }
   ],
   "source": [
    "# Iterating through it in the usual way with a for loop would give you just the keys, as shown below:\n",
    "for key in cast:\n",
    "    print(key)"
   ]
  },
  {
   "cell_type": "code",
   "execution_count": 59,
   "metadata": {},
   "outputs": [
    {
     "name": "stdout",
     "output_type": "stream",
     "text": [
      "Actor: Jerry Seinfeld    Role: Jerry Seinfeld\n",
      "Actor: Julia Louis-Dreyfus    Role: Elaine Benes\n",
      "Actor: Jason Alexander    Role: George Costanza\n",
      "Actor: Michael Richards    Role: Cosmo Kramer\n"
     ]
    }
   ],
   "source": [
    "# If you wish to iterate through both keys and values, \n",
    "# you can use the built-in method items like this:\n",
    "for key, value in cast.items():\n",
    "    print(\"Actor: {}    Role: {}\".format(key, value))"
   ]
  },
  {
   "cell_type": "code",
   "execution_count": 60,
   "metadata": {},
   "outputs": [],
   "source": [
    "# items is an awesome method that returns tuples of key, value pairs, \n",
    "# which you can use to iterate over dictionaries in for loops."
   ]
  },
  {
   "cell_type": "markdown",
   "metadata": {},
   "source": [
    "**Quiz: Fruit Basket - Task 1**\n",
    "\n",
    "You would like to count the number of fruits in your basket. In order to do this, you have the following dictionary and list of fruits. Use the dictionary and list to count the total number of fruits, but you do not want to count the other items in your basket."
   ]
  },
  {
   "cell_type": "code",
   "execution_count": 63,
   "metadata": {},
   "outputs": [
    {
     "name": "stdout",
     "output_type": "stream",
     "text": [
      "apples\n",
      "oranges\n",
      "kites\n",
      "sandwiches\n",
      "Number of fruits in the basket: 23\n"
     ]
    }
   ],
   "source": [
    "# You would like to count the number of fruits in your basket. \n",
    "# In order to do this, you have the following dictionary and list of\n",
    "# fruits.  Use the dictionary and list to count the total number\n",
    "# of fruits, but you do not want to count the other items in your basket.\n",
    "\n",
    "result = 0\n",
    "basket_items = {'apples': 4, 'oranges': 19, 'kites': 3, 'sandwiches': 8}\n",
    "fruits = ['apples', 'oranges', 'pears', 'peaches', 'grapes', 'bananas']\n",
    "\n",
    "#Iterate through the dictionary\n",
    "for object in basket_items:\n",
    "    print(object)\n",
    "\n",
    "#if the key is in the list of fruits, add the value (number of fruits) to result\n",
    "for object, count in basket_items.items():\n",
    "    if object in fruits:\n",
    "        result += count\n",
    "\n",
    "print(\"Number of fruits in the basket:\", result)"
   ]
  },
  {
   "cell_type": "markdown",
   "metadata": {},
   "source": [
    "**Quiz: Fruit Basket - Task 2**\n",
    "\n",
    "If your solution is robust, you should be able to use it with any dictionary of items to count the number of fruits in the basket. Try the loop for each of the dictionaries below to make sure it always works."
   ]
  },
  {
   "cell_type": "code",
   "execution_count": 64,
   "metadata": {},
   "outputs": [
    {
     "name": "stdout",
     "output_type": "stream",
     "text": [
      "Number of fruits in the basket: 28\n",
      "Number of fruits in the basket: 9\n",
      "Number of fruits in the basket: 4\n"
     ]
    }
   ],
   "source": [
    "#Example 1\n",
    "\n",
    "result = 0\n",
    "basket_items = {'pears': 5, 'grapes': 19, 'kites': 3, 'sandwiches': 8, 'bananas': 4}\n",
    "fruits = ['apples', 'oranges', 'pears', 'peaches', 'grapes', 'bananas']\n",
    "\n",
    "# Your previous solution here\n",
    "for object, count in basket_items.items():\n",
    "    if object in fruits:\n",
    "        result += count\n",
    "print(\"Number of fruits in the basket:\",result)\n",
    "\n",
    "#Example 2\n",
    "\n",
    "result = 0\n",
    "basket_items = {'peaches': 5, 'lettuce': 2, 'kites': 3, 'sandwiches': 8, 'pears': 4}\n",
    "fruits = ['apples', 'oranges', 'pears', 'peaches', 'grapes', 'bananas']\n",
    "\n",
    "# Your previous solution here\n",
    "for object, count in basket_items.items():\n",
    "    if object in fruits:\n",
    "        result += count\n",
    "\n",
    "print(\"Number of fruits in the basket:\",result)\n",
    "\n",
    "\n",
    "#Example 3\n",
    "\n",
    "result = 0\n",
    "basket_items = {'lettuce': 2, 'kites': 3, 'sandwiches': 8, 'pears': 4, 'bears': 10}\n",
    "fruits = ['apples', 'oranges', 'pears', 'peaches', 'grapes', 'bananas']\n",
    "\n",
    "# Your previous solution here\n",
    "for object, count in basket_items.items():\n",
    "    if object in fruits:\n",
    "        result += count\n",
    "print(\"Number of fruits in the basket:\",result)\n"
   ]
  },
  {
   "cell_type": "markdown",
   "metadata": {},
   "source": [
    "**Quiz: Fruit Basket - Task 3**\n",
    "\n",
    "So, a couple of things about the above examples:\n",
    "\n",
    "- It is a bit annoying having to copy and paste all the code to each spot - wouldn't it be nice to have a way to repeat the process without copying all the code? Don't worry! You will learn how to do this in the next lesson!\n",
    "\n",
    "\n",
    "- It would be nice to keep track of both the number of fruits and other items in the basket."
   ]
  },
  {
   "cell_type": "code",
   "execution_count": 72,
   "metadata": {},
   "outputs": [
    {
     "name": "stdout",
     "output_type": "stream",
     "text": [
      "object: apples    count: 4\n",
      "object: oranges    count: 19\n",
      "object: kites    count: 3\n",
      "object: sandwiches    count: 8\n",
      "Total Number of fruits: 23 , Total Number of non_fruits: 11\n"
     ]
    }
   ],
   "source": [
    "# You would like to count the number of fruits in your basket. \n",
    "# In order to do this, you have the following dictionary and list of\n",
    "# fruits.  Use the dictionary and list to count the total number\n",
    "# of fruits and not_fruits.\n",
    "\n",
    "fruit_count, not_fruit_count = 0, 0\n",
    "basket_items = {'apples': 4, 'oranges': 19, 'kites': 3, 'sandwiches': 8}\n",
    "fruits = ['apples', 'oranges', 'pears', 'peaches', 'grapes', 'bananas']\n",
    "\n",
    "#Iterate through the dictionary\n",
    "for key, value in basket_items.items():\n",
    "    print(\"object: {}    count: {}\".format(key, value))\n",
    "\n",
    "#if the key is in the list of fruits, add to fruit_count.\n",
    "for object, count in basket_items.items():\n",
    "    if object in fruits:\n",
    "        fruit_count += count\n",
    "\n",
    "#if the key is not in the list, then add to the not_fruit_count\n",
    "for object, count in basket_items.items():\n",
    "    if object not in fruits:\n",
    "        not_fruit_count += count\n",
    "\n",
    "print(\"Total Number of fruits:\", fruit_count,\",\", \"Total Number of non_fruits:\", not_fruit_count)"
   ]
  },
  {
   "cell_type": "code",
   "execution_count": 73,
   "metadata": {},
   "outputs": [
    {
     "name": "stdout",
     "output_type": "stream",
     "text": [
      "The number of fruits is 23.  There are 11 objects that are not fruits.\n"
     ]
    }
   ],
   "source": [
    "# Another Solution\n",
    "fruit_count, not_fruit_count = 0, 0\n",
    "basket_items = {'apples': 4, 'oranges': 19, 'kites': 3, 'sandwiches': 8}\n",
    "fruits = ['apples', 'oranges', 'pears', 'peaches', 'grapes', 'bananas']\n",
    "\n",
    "#Iterate through the dictionary\n",
    "for object, count in basket_items.items():\n",
    "    if object in fruits:\n",
    "       fruit_count += count\n",
    "    else:\n",
    "        not_fruit_count += count\n",
    "\n",
    "print(\"The number of fruits is {}.  There are {} objects that are not fruits.\".format(fruit_count, not_fruit_count))"
   ]
  },
  {
   "cell_type": "markdown",
   "metadata": {},
   "source": [
    "**While Loops**\n",
    "\n",
    "For loops are an example of definite iteration, meaning that the loops body is run a predefined number of times.\n",
    "\n",
    "A for loop over a list executes the body once for each element in the list.\n",
    "\n",
    "A for loop using the range function will execute the number of times specified by the range function.\n",
    "\n",
    "This differs from indefinite iteration which is when a loop repeats an unknown number of times and ends when some condition is met."
   ]
  },
  {
   "cell_type": "code",
   "execution_count": 75,
   "metadata": {},
   "outputs": [
    {
     "name": "stdout",
     "output_type": "stream",
     "text": [
      "[10, 8]\n"
     ]
    }
   ],
   "source": [
    "card_deck = [4, 11, 8, 5, 13, 2, 8, 10]\n",
    "hand = []\n",
    "while sum(hand) <= 17:\n",
    "    hand.append(card_deck.pop())\n",
    "print(hand)"
   ]
  },
  {
   "cell_type": "markdown",
   "metadata": {},
   "source": [
    "Consider this👆🏼while loop that simulates a black jack dealer by drawing cards from a deck list into a hand list, stopping when the value of the cards in the hand is 17 or more.\n",
    "\n",
    "This example features a new function 'sum' and a new list method 'pop'.\n",
    "\n",
    "Sum is pretty intuitive, it returns the sum of the elements in a list.\n",
    "\n",
    "Pop is the inverse of the appenf method, it removes the last element from a list and returns it.\n",
    "\n",
    "In the code above, we are computing the sum of the first hand and checking if that is less than or equal to 17.\n",
    "\n",
    "In the same code, we're popping the last element from the card deck and appending that to the hand list."
   ]
  },
  {
   "cell_type": "markdown",
   "metadata": {},
   "source": [
    "**How does the while loop work?**\n",
    "\n",
    "The while keyword indicates that this is a while loop.\n",
    "\n",
    "Next is the condition. In the example above, sum hand is less than or equal to 17. If this condition is true, the loop's body will be executed. Each time the loop's body runs, the condition is evaluated again.\n",
    "\n",
    "This process of checking the condition and then running the loop repeats until the expression becomes false.\n",
    "\n",
    "The indented body of the loop should modify at least one variable in the test expression.\n",
    "\n",
    "If the value of the test expression never changes, the result infinite loop."
   ]
  },
  {
   "cell_type": "code",
   "execution_count": 77,
   "metadata": {},
   "outputs": [
    {
     "name": "stdout",
     "output_type": "stream",
     "text": [
      "10\n",
      "18\n",
      "[10, 8]\n"
     ]
    }
   ],
   "source": [
    "card_deck = [4, 11, 8, 5, 13, 2, 8, 10]\n",
    "hand = []\n",
    "while sum(hand) <= 17:\n",
    "    hand.append(card_deck.pop())\n",
    "    print(sum(hand))\n",
    "print(hand)"
   ]
  },
  {
   "cell_type": "markdown",
   "metadata": {},
   "source": [
    "In this👆🏼example, the loop's body append's numbers to the hand's lists, which increases the value of the sum hand.\n",
    "\n",
    "Eventually, the value of the sum hand become large enough that the condition becomes false."
   ]
  },
  {
   "cell_type": "markdown",
   "metadata": {},
   "source": [
    "**Practice: While Loops**\n",
    "\n",
    "*Practice: Factorials with While Loops*\n",
    "\n",
    "Find the factorial of a number using a while loop.\n",
    "\n",
    "A factorial of a whole number is that number multiplied by every whole number between itself and 1. For example, 6 factorial (written \"6!\") equals 6 x 5 x 4 x 3 x 2 x 1 = 720. So 6! = 720.\n",
    "\n",
    "We can write a while loop to take any given number and figure out what its factorial is.\n",
    "\n",
    "Example: If number is 6, your code should compute and print the product, 720."
   ]
  },
  {
   "cell_type": "code",
   "execution_count": 1,
   "metadata": {},
   "outputs": [
    {
     "name": "stdout",
     "output_type": "stream",
     "text": [
      "720\n"
     ]
    }
   ],
   "source": [
    "# number to find the factorial of\n",
    "number = 6   \n",
    "\n",
    "# start with our product equal to one\n",
    "product = 1\n",
    "\n",
    "# track the current number being multiplied\n",
    "current = 1\n",
    "\n",
    "# write your while loop here\n",
    "while current <= number: \n",
    "\n",
    "    # multiply the product so far by the current number\n",
    "    product *= current\n",
    "    # increment current with each iteration until it reaches number\n",
    "    current += 1\n",
    "\n",
    "\n",
    "# print the factorial of number\n",
    "print(product)"
   ]
  },
  {
   "cell_type": "markdown",
   "metadata": {},
   "source": [
    "**Practice: Factorials with For Loops**\n",
    "\n",
    "Now use a for loop to find the factorial!\n",
    "\n",
    "It will now be great practice for you to try to revise the code you wrote above to find the factorial of a number, but this time, using a for loop"
   ]
  },
  {
   "cell_type": "code",
   "execution_count": 4,
   "metadata": {},
   "outputs": [
    {
     "name": "stdout",
     "output_type": "stream",
     "text": [
      "720\n"
     ]
    }
   ],
   "source": [
    "# number to find the factorial of\n",
    "number = 6   \n",
    "\n",
    "# start with our product equal to one\n",
    "product = 1\n",
    "\n",
    "# write your for loop here\n",
    "for num in range(2, number + 1):\n",
    "    product *= num\n",
    "\n",
    "\n",
    "\n",
    "# print the factorial of number\n",
    "print(product)"
   ]
  },
  {
   "cell_type": "markdown",
   "metadata": {},
   "source": [
    "**Quiz: Count By**\n",
    "\n",
    "Suppose you want to count from some number start_num by another number count_by until you hit a final number end_num. Use break_num as the variable that you'll change each time through the loop. For simplicity, assume that end_num is always larger than start_num and count_by is always positive.\n",
    "\n",
    "Before the loop, what do you want to set break_num equal to? How do you want to change break_num each time through the loop? What condition will you use to see when it's time to stop looping?\n",
    "\n",
    "After the loop is done, print out break_num, showing the value that indicated it was time to stop looping. It is the case that break_num should be a number that is the first number larger than end_num."
   ]
  },
  {
   "cell_type": "code",
   "execution_count": 6,
   "metadata": {},
   "outputs": [
    {
     "name": "stdout",
     "output_type": "stream",
     "text": [
      "100\n"
     ]
    }
   ],
   "source": [
    "start_num = 2 #provide some start number\n",
    "end_num = 100 #provide some end number that you stop when you hit\n",
    "count_by = 2 #provide some number to count by \n",
    "break_num = start_num\n",
    "# write a while loop that uses break_num as the ongoing number to \n",
    "#   check against end_num\n",
    "while break_num < end_num:\n",
    "    break_num += count_by\n",
    "\n",
    "\n",
    "print(break_num)"
   ]
  },
  {
   "cell_type": "markdown",
   "metadata": {},
   "source": [
    "**Quiz: Count By Check**\n",
    "\n",
    "Suppose you want to count from some number start_num by another number count_by until you hit a final number end_num, and calculate break_num the way you did in the last quiz.\n",
    "\n",
    "Now in addition, address what would happen if someone gives a start_num that is greater than end_num. If this is the case, set result to: \n",
    "\n",
    "\"Oops! Looks like your start value is greater than the end value. Please try again.\" \n",
    "\n",
    "Otherwise, set result to the value of break_num."
   ]
  },
  {
   "cell_type": "code",
   "execution_count": 2,
   "metadata": {},
   "outputs": [
    {
     "name": "stdout",
     "output_type": "stream",
     "text": [
      "100\n"
     ]
    }
   ],
   "source": [
    "start_num = 2 #provide some start number\n",
    "end_num = 100 #provide some end number that you stop when you hit\n",
    "count_by = 2 #provide some number to count by \n",
    "\n",
    "# write a condition to check that end_num is larger than start_num before looping\n",
    "if start_num > end_num:\n",
    "    result = 'Oops! Looks like your start value is greater than the end value. Please try again.'\n",
    "else:\n",
    "    break_num = start_num\n",
    "    while break_num < end_num:\n",
    "        break_num += count_by\n",
    "    result = break_num\n",
    "\n",
    "print(result)"
   ]
  },
  {
   "cell_type": "markdown",
   "metadata": {},
   "source": [
    "**Quiz: Nearest Square**\n",
    "\n",
    "Write a while loop that finds the largest square number less than an integerlimit and stores it in a variable nearest_square. A square number is the product of an integer multiplied by itself, for example 36 is a square number because it equals 6*6.\n",
    "\n",
    "For example, if limit is 40, your code should set the nearest_square to 36."
   ]
  },
  {
   "cell_type": "code",
   "execution_count": 3,
   "metadata": {},
   "outputs": [
    {
     "name": "stdout",
     "output_type": "stream",
     "text": [
      "36\n"
     ]
    }
   ],
   "source": [
    "limit = 40\n",
    "num = 0\n",
    "# write your while loop here\n",
    "while (num+1)**2 < limit:\n",
    "    num += 1\n",
    "nearest_square = num**2\n",
    "\n",
    "print(nearest_square)"
   ]
  },
  {
   "cell_type": "markdown",
   "metadata": {},
   "source": [
    "**Question: What type of loop should we use?**\n",
    "\n",
    "You need to write a loop that takes the numbers in a given list named num_list:\n",
    "num_list = [422, 136, 524, 85, 96, 719, 85, 92, 10, 17, 312, 542, 87, 23, 86, 191, 116, 35, 173, 45, 149, 59, 84, 69, 113, 166]\n",
    "\n",
    "Your code should add up the odd numbers in the list, but only up to the first 5 odd numbers together. If there are more than 5 odd numbers, you should stop at the fifth. If there are fewer than 5 odd numbers, add all of the odd numbers.\n",
    "\n",
    "Would you use a while or a for loop to write this code?"
   ]
  },
  {
   "cell_type": "code",
   "execution_count": 4,
   "metadata": {},
   "outputs": [],
   "source": [
    "num_list = [422, 136, 524, 85, 96, 719, 85, 92, 10, 17, 312, 542, 87, \n",
    "            23, 86, 191, 116, 35, 173, 45, 149, 59, 84, 69, 113, 166]"
   ]
  },
  {
   "cell_type": "markdown",
   "metadata": {},
   "source": [
    "**Solution:**\n",
    "\n",
    "*We would write a while loop to write this code for the following reasons:*\n",
    "\n",
    "- We don't need a break statement that a for loop will require. Without a break statement, a for loop will iterate through the whole list, which is not efficient.\n",
    "\n",
    "- We don't want to iterate over the entire list, but only over the required number of elements in the list that meets our condition.\n",
    "\n",
    "- It is easier to understand because you explicitly control the exit conditions for the loop."
   ]
  },
  {
   "cell_type": "code",
   "execution_count": 5,
   "metadata": {},
   "outputs": [
    {
     "name": "stdout",
     "output_type": "stream",
     "text": [
      "The numbers of odd numbers added are: 5\n",
      "The sum of the odd numbers added is: 993\n"
     ]
    }
   ],
   "source": [
    "num_list = [422, 136, 524, 85, 96, 719, 85, 92, 10, 17, 312, 542,\n",
    "            87, 23, 86, 191, 116, 35, 173, 45, 149, 59, 84, 69, 113, 166]\n",
    "\n",
    "count_odd = 0 # create a variable to take the count value\n",
    "list_sum = 0 # create a variable to take the list sum\n",
    "i = 0 # create a value for the iterator\n",
    "len_num_list = len(num_list)\n",
    "\n",
    "while (count_odd < 5) and (i < len_num_list): \n",
    "    if num_list[i] % 2 != 0:\n",
    "        list_sum += num_list[i]\n",
    "        count_odd += 1\n",
    "    i += 1\n",
    "\n",
    "print (\"The numbers of odd numbers added are: {}\".format(count_odd))\n",
    "print (\"The sum of the odd numbers added is: {}\".format(list_sum))"
   ]
  },
  {
   "cell_type": "markdown",
   "metadata": {},
   "source": [
    "**Break, Continue**\n",
    "\n",
    "For loops iterate over every element in a sequence, and while loops iterate until their stopping condition is met.\n",
    "\n",
    "This is sufficient for most purposes but we sometimes need precise control over when a loop should end.\n",
    "\n",
    "In these cases, we use the breal keyword.\n",
    "A loop will terminate immediately if it encounters a break statement. We can use this to end a loop if we dtect that some conditions has been met.\n",
    "\n",
    "The break keyword can be used in both for and while loops."
   ]
  },
  {
   "cell_type": "code",
   "execution_count": 6,
   "metadata": {},
   "outputs": [],
   "source": [
    "manifest = [('bananas',15), ('mattrasses',34), ('dog kernels',42), ('machine',120), ('cheeses',5)]"
   ]
  },
  {
   "cell_type": "markdown",
   "metadata": {},
   "source": [
    "This👆🏼list contains tuples of items and their weights. \n",
    "\n",
    "Ideally, you would want to load all items on the ship but the ship has a maximum weight capacity. Therefore, when the ship's capacity is reached, you want stop loading. \n",
    "\n",
    "To accomplish this, let's use a for loop for loading each item and keeping track of the weight of all the items we have loaded so far."
   ]
  },
  {
   "cell_type": "code",
   "execution_count": 9,
   "metadata": {},
   "outputs": [
    {
     "name": "stdout",
     "output_type": "stream",
     "text": [
      "211\n",
      "['bananas', 'mattrasses', 'dog kernels', 'machine']\n"
     ]
    }
   ],
   "source": [
    "weight = 0\n",
    "items = []\n",
    "for cargo in manifest:\n",
    "    if weight >= 100:\n",
    "        break\n",
    "    else:\n",
    "        items.append(cargo[0])\n",
    "        weight += cargo[1]\n",
    "print(weight)\n",
    "print(items)"
   ]
  },
  {
   "cell_type": "markdown",
   "metadata": {},
   "source": [
    "Here👆🏼 we check if the ship's total cargo weight reaches it's maximum capacity of 100 with each addition of cargo. If it does we use a break statement to stop loading. If not, we load the next item and add on it's weight.\n",
    "\n",
    "Here's👆🏼what we end up loading. That's not good. The boat is severely over it's weight load of 100."
   ]
  },
  {
   "cell_type": "markdown",
   "metadata": {},
   "source": [
    "It's difficult to see what's gone wrong. One strategy is add print statement to the code.\n",
    "\n",
    "A really handy technique for getting insights of what happens in a code as it's runs step by step is the print statement strategy.\n",
    "\n",
    "Having print statements frequently that gives context can really assist us in understanding what went wrong."
   ]
  },
  {
   "cell_type": "code",
   "execution_count": 10,
   "metadata": {},
   "outputs": [
    {
     "name": "stdout",
     "output_type": "stream",
     "text": [
      "current weight: 0\n",
      " adding bananas (15)\n",
      "current weight: 15\n",
      " adding mattrasses (34)\n",
      "current weight: 49\n",
      " adding dog kernels (42)\n",
      "current weight: 91\n",
      " adding machine (120)\n",
      "current weight: 211\n",
      "breaking loop now!!\n",
      "211\n",
      "['bananas', 'mattrasses', 'dog kernels', 'machine']\n"
     ]
    }
   ],
   "source": [
    "weight = 0\n",
    "items = []\n",
    "for cargo in manifest:\n",
    "    print('current weight: {}'.format(weight))\n",
    "    if weight >= 100:\n",
    "        print('breaking loop now!!')\n",
    "        break\n",
    "    else:\n",
    "        print(' adding {} ({})'.format(cargo[0], cargo[1]))\n",
    "        items.append(cargo[0])\n",
    "        weight += cargo[1]\n",
    "print(weight)\n",
    "print(items)"
   ]
  },
  {
   "cell_type": "markdown",
   "metadata": {},
   "source": [
    "Here's👆🏼 the loop with debugging statement added.\n",
    "\n",
    "Debugging is the process of identifying and removing errors in your code.\n",
    "\n",
    "Here we can see that we didn't break until the weight exceeded 100. When really we should break before the item is added.\n",
    "\n",
    "Additionally, we can see that the cheese still could have fit if the machine wasn't added.\n",
    "\n",
    "And this brings us to another statement👇🏽"
   ]
  },
  {
   "cell_type": "markdown",
   "metadata": {},
   "source": [
    "**Continue**\n",
    "\n",
    "Sometimes, rather than breaking out of the loop completely, there will be times we want to skip one iteration of the loop.\n",
    "\n",
    "In this case, we would use the continue keyword.\n",
    "Continue terminates one iteration of a for or while loop."
   ]
  },
  {
   "cell_type": "code",
   "execution_count": 12,
   "metadata": {},
   "outputs": [
    {
     "name": "stdout",
     "output_type": "stream",
     "text": [
      "Found a Fruit\n",
      "Found a Fruit\n",
      "Not a Fruit\n",
      "Not a Fruit\n",
      "Total Fruit: 2\n"
     ]
    }
   ],
   "source": [
    "fruit = ['orange', 'strawberry', 'apple']\n",
    "foods = ['apple', 'apple', 'hummus', 'toast']\n",
    "fruit_count = 0\n",
    "for food in foods:\n",
    "    if food not in fruit:\n",
    "        print('Not a Fruit')\n",
    "        continue\n",
    "    fruit_count += 1\n",
    "    print('Found a Fruit')\n",
    "print('Total Fruit:', fruit_count)"
   ]
  },
  {
   "cell_type": "markdown",
   "metadata": {},
   "source": [
    "Below, you'll find two methods to solve the cargo loading program from the video. \n",
    "\n",
    "- The first one is simply the one found in the video, which breaks from the loop when the weight reaches the limit. However, we found several problems with this. \n",
    "\n",
    "- The second method addresses these issues by modifying the conditional statement and adding continue."
   ]
  },
  {
   "cell_type": "code",
   "execution_count": 13,
   "metadata": {},
   "outputs": [
    {
     "name": "stdout",
     "output_type": "stream",
     "text": [
      "METHOD 1\n",
      "current weight: 0\n",
      "  adding bananas (15)\n",
      "current weight: 15\n",
      "  adding mattresses (24)\n",
      "current weight: 39\n",
      "  adding dog kennels (42)\n",
      "current weight: 81\n",
      "  adding machine (120)\n",
      "current weight: 201\n",
      "  breaking loop now!\n",
      "\n",
      "Final Weight: 201\n",
      "Final Items: ['bananas', 'mattresses', 'dog kennels', 'machine']\n"
     ]
    }
   ],
   "source": [
    "manifest = [(\"bananas\", 15), (\"mattresses\", 24), (\"dog kennels\", 42), (\"machine\", 120), (\"cheeses\", 5)]\n",
    "\n",
    "# the code breaks the loop when weight exceeds or reaches the limit\n",
    "print(\"METHOD 1\")\n",
    "weight = 0\n",
    "items = []\n",
    "for cargo_name, cargo_weight in manifest:\n",
    "    print(\"current weight: {}\".format(weight))\n",
    "    if weight >= 100:\n",
    "        print(\"  breaking loop now!\")\n",
    "        break\n",
    "    else:\n",
    "        print(\"  adding {} ({})\".format(cargo_name, cargo_weight))\n",
    "        items.append(cargo_name)\n",
    "        weight += cargo_weight\n",
    "\n",
    "print(\"\\nFinal Weight: {}\".format(weight))\n",
    "print(\"Final Items: {}\".format(items))"
   ]
  },
  {
   "cell_type": "code",
   "execution_count": 14,
   "metadata": {},
   "outputs": [
    {
     "name": "stdout",
     "output_type": "stream",
     "text": [
      "\n",
      "METHOD 2\n",
      "current weight: 0\n",
      "  adding bananas (15)\n",
      "current weight: 15\n",
      "  adding mattresses (24)\n",
      "current weight: 39\n",
      "  adding dog kennels (42)\n",
      "current weight: 81\n",
      "  skipping machine (120)\n",
      "current weight: 81\n",
      "  adding cheeses (5)\n",
      "\n",
      "Final Weight: 86\n",
      "Final Items: ['bananas', 'mattresses', 'dog kennels', 'cheeses']\n"
     ]
    }
   ],
   "source": [
    "# skips an iteration when adding an item would exceed the limit\n",
    "# breaks the loop if weight is exactly the value of the limit\n",
    "print(\"\\nMETHOD 2\")\n",
    "weight = 0\n",
    "items = []\n",
    "for cargo_name, cargo_weight in manifest:\n",
    "    print(\"current weight: {}\".format(weight))\n",
    "    if weight >= 100:\n",
    "        print(\"  breaking from the loop now!\")\n",
    "        break\n",
    "    elif weight + cargo_weight > 100:\n",
    "        print(\"  skipping {} ({})\".format(cargo_name, cargo_weight))\n",
    "        continue\n",
    "    else:\n",
    "        print(\"  adding {} ({})\".format(cargo_name, cargo_weight))\n",
    "        items.append(cargo_name)\n",
    "        weight += cargo_weight\n",
    "\n",
    "print(\"\\nFinal Weight: {}\".format(weight))\n",
    "print(\"Final Items: {}\".format(items))"
   ]
  },
  {
   "cell_type": "markdown",
   "metadata": {},
   "source": [
    "**Quiz: Break the String**\n",
    "\n",
    "Write a loop with a break statement to create a string, news_ticker, that is exactly 140 characters long. \n",
    "\n",
    "You should create the news ticker by adding headlines from the headlines list, inserting a space in between each headline. If necessary, truncate the last headline in the middle so that news_ticker is exactly 140 characters long.\n",
    "\n",
    "Remember that break works in both for and while loops. Use whichever loop seems most appropriate. Consider adding print statements to your code to help you resolve bugs."
   ]
  },
  {
   "cell_type": "code",
   "execution_count": 1,
   "metadata": {},
   "outputs": [
    {
     "name": "stdout",
     "output_type": "stream",
     "text": [
      "current headlines: Local Bear Eaten by Man\n",
      "newly created ticker: Local Bear Eaten by Man \n",
      "current headlines: Legislature Announces New Laws\n",
      "newly created ticker: Local Bear Eaten by Man Legislature Announces New Laws \n",
      "current headlines: Peasant Discovers Violence Inherent in System\n",
      "newly created ticker: Local Bear Eaten by Man Legislature Announces New Laws Peasant Discovers Violence Inherent in System \n",
      "current headlines: Cat Rescues Fireman Stuck in Tree\n",
      "newly created ticker: Local Bear Eaten by Man Legislature Announces New Laws Peasant Discovers Violence Inherent in System Cat Rescues Fireman Stuck in Tree \n",
      "current headlines: Brave Knight Runs Away\n",
      "newly created ticker: Local Bear Eaten by Man Legislature Announces New Laws Peasant Discovers Violence Inherent in System Cat Rescues Fireman Stuck in Tree Brave Knight Runs Away \n",
      "140 char ticker: Local Bear Eaten by Man Legislature Announces New Laws Peasant Discovers Violence Inherent in System Cat Rescues Fireman Stuck in Tree Brave\n",
      "Local Bear Eaten by Man Legislature Announces New Laws Peasant Discovers Violence Inherent in System Cat Rescues Fireman Stuck in Tree Brave\n"
     ]
    }
   ],
   "source": [
    "# HINT: modify the headlines list to verify your loop works with different inputs\n",
    "headlines = [\"Local Bear Eaten by Man\",\n",
    "             \"Legislature Announces New Laws\",\n",
    "             \"Peasant Discovers Violence Inherent in System\",\n",
    "             \"Cat Rescues Fireman Stuck in Tree\",\n",
    "             \"Brave Knight Runs Away\",\n",
    "             \"Papperbok Review: Totally Triffic\"]\n",
    "\n",
    "news_ticker = \"\"\n",
    "# write your loop here\n",
    "for headline in headlines: # iterate through list\n",
    "    print('current headlines: {}'.format(headline))\n",
    "    news_ticker += headline + \" \" # create the newsline ticker\n",
    "    print('newly created ticker: {}'.format(news_ticker))\n",
    "    if len(news_ticker) >= 140:\n",
    "        news_ticker = news_ticker[:140]\n",
    "        print('140 char ticker: {}'.format(news_ticker))\n",
    "        break\n",
    "\n",
    "print(news_ticker)"
   ]
  },
  {
   "cell_type": "markdown",
   "metadata": {},
   "source": [
    "**Coding Quiz: Check for Prime Numbers**\n",
    "\n",
    "Prime numbers are whole numbers that have only two factors: 1 and the number itself. The first few prime numbers are 2, 3, 5, 7.\n",
    "\n",
    "For instance, 6 has four factors: 1, 2, 3, 6.\n",
    "1 X 6 = 6\n",
    "2 X 3 = 6\n",
    "So we know 6 is not a prime number.\n",
    "\n",
    "In the following coding environment, write code to check if the numbers provided in the list check_prime are prime numbers.\n",
    "\n",
    "- If the numbers are prime, the code should print \"[number] is a prime number.\"\n",
    "\n",
    "- If the number is NOT a prime number, it should print \"[number] is not a prime number\", and a factor of that number, other than 1 and the number itself: \"[factor] is a factor of [number]\"."
   ]
  },
  {
   "cell_type": "code",
   "execution_count": 2,
   "metadata": {},
   "outputs": [
    {
     "name": "stdout",
     "output_type": "stream",
     "text": [
      "current number in list: 26\n",
      "26 is NOT a prime number, because 2 is a factor of 26\n",
      "current number in list: 39\n",
      "39 is NOT a prime number, because 3 is a factor of 39\n",
      "current number in list: 51\n",
      "51 is NOT a prime number, because 3 is a factor of 51\n",
      "current number in list: 53\n",
      "53 IS a prime number\n",
      "current number in list: 57\n",
      "57 is NOT a prime number, because 3 is a factor of 57\n",
      "current number in list: 79\n",
      "79 IS a prime number\n",
      "current number in list: 85\n",
      "85 is NOT a prime number, because 5 is a factor of 85\n"
     ]
    }
   ],
   "source": [
    "## Your code should check if each number in the list is a prime number\n",
    "check_prime = [26, 39, 51, 53, 57, 79, 85]\n",
    "\n",
    "# iterate through the check_prime list\n",
    "for n in check_prime:\n",
    "    print('current number in list: {}'.format(n))\n",
    "   \n",
    "    # search for factors, iterating through numbers ranging from 2 to the number itself\n",
    "    for i in range(2, n):\n",
    "        \n",
    "        # number is not prime if modulo is 0\n",
    "        if (n % i) == 0:\n",
    "            print(\"{} is NOT a prime number, because {} is a factor of {}\".format(n, i, n))\n",
    "            break\n",
    "   \n",
    "        # otherwise keep checking until we've searched all possible factors, and then declare it prime\n",
    "        if i == n -1:    \n",
    "            print(\"{} IS a prime number\".format(n))"
   ]
  },
  {
   "cell_type": "markdown",
   "metadata": {},
   "source": [
    "**Zip and Enumerate**\n",
    "\n",
    "Looking back at our list of cargo👇🏽, notice each element is a tuple of size two. Iterating through a list with multiple values can be pretty helpful.\n",
    "\n",
    "It's actually really easy to combine and lists like this."
   ]
  },
  {
   "cell_type": "code",
   "execution_count": 9,
   "metadata": {},
   "outputs": [
    {
     "name": "stdout",
     "output_type": "stream",
     "text": [
      "[('bananas', 15), ('mattresses', 24), ('dog kennels', 42), ('machine', 120), ('cheeses', 5)]\n"
     ]
    }
   ],
   "source": [
    "manifest = [(\"bananas\", 15), (\"mattresses\", 24), (\"dog kennels\", 42), (\"machine\", 120), (\"cheeses\", 5)]\n",
    "print(manifest)"
   ]
  },
  {
   "cell_type": "markdown",
   "metadata": {},
   "source": [
    "If we originally started with these two separate lists and weights👇🏽, and wanted to combine them to create a list like manifest, we can use the built in function called zip."
   ]
  },
  {
   "cell_type": "code",
   "execution_count": 10,
   "metadata": {},
   "outputs": [
    {
     "name": "stdout",
     "output_type": "stream",
     "text": [
      "[('bananas', 15), ('mattresses', 24), ('dog kennels', 42), ('machine', 120), ('cheeses', 5)]\n"
     ]
    }
   ],
   "source": [
    "items = [\"bananas\", \"mattresses\", \"dog kennels\", \"machine\", \"cheeses\"]\n",
    "weights = [15, 24, 42, 120, 5]\n",
    "print(list(zip(items,weights)))"
   ]
  },
  {
   "cell_type": "markdown",
   "metadata": {},
   "source": [
    "Zip, returns an iterator. So we need to convert it to a list to see the elements or iterate through it with a for loop if we want to print the values similar to range.\n",
    "\n",
    "\n",
    "**Definition of zip**\n",
    "\n",
    "Zip returns an iterator that combines multiple iterables into one sequence of tuple. Each tuple contains the elements in that position from all the iterable."
   ]
  },
  {
   "cell_type": "code",
   "execution_count": 7,
   "metadata": {},
   "outputs": [
    {
     "name": "stdout",
     "output_type": "stream",
     "text": [
      "bananas 15\n",
      "mattresses 24\n",
      "dog kennels 42\n",
      "machine 120\n",
      "cheeses 5\n"
     ]
    }
   ],
   "source": [
    "items = ['bananas', \"mattresses\", \"dog kennels\", \"machine\", \"cheeses\"]\n",
    "weights = [15, 24, 42, 120, 5]\n",
    "\n",
    "for cargo in zip(items, weights):\n",
    "    print(cargo[0],cargo[1])"
   ]
  },
  {
   "cell_type": "markdown",
   "metadata": {},
   "source": [
    "You can also unpack each tuple in a for loop like this👇🏽"
   ]
  },
  {
   "cell_type": "code",
   "execution_count": 8,
   "metadata": {},
   "outputs": [
    {
     "name": "stdout",
     "output_type": "stream",
     "text": [
      "bananas 15\n",
      "mattresses 24\n",
      "dog kennels 42\n",
      "machine 120\n",
      "cheeses 5\n"
     ]
    }
   ],
   "source": [
    "items = [\"bananas\", \"mattresses\", \"dog kennels\", \"machine\", \"cheeses\"]\n",
    "weights = [15, 24, 42, 120, 5]\n",
    "\n",
    "for item, weight in zip(items, weights):\n",
    "    print(item, weight)"
   ]
  },
  {
   "cell_type": "markdown",
   "metadata": {},
   "source": [
    "In addition to zipping two list together, you can also unzip a list using an asterisk."
   ]
  },
  {
   "cell_type": "code",
   "execution_count": 23,
   "metadata": {},
   "outputs": [
    {
     "name": "stdout",
     "output_type": "stream",
     "text": [
      "('bananas', 'mattresses', 'dog kennels', 'machine', 'cheeses')\n",
      "(15, 24, 42, 120, 5)\n"
     ]
    }
   ],
   "source": [
    "manifest = [(\"bananas\", 15), (\"mattresses\", 24), (\"dog kennels\", 42), (\"machine\", 120), (\"cheeses\", 5)]\n",
    "#print(manifest)\n",
    "items,weights = zip(*manifest)\n",
    "print(items)\n",
    "print(weights)"
   ]
  },
  {
   "cell_type": "markdown",
   "metadata": {},
   "source": [
    "For example, using the manifest list like this👆🏼, you can separate it into an items and weights tuple like this👆🏼"
   ]
  },
  {
   "cell_type": "markdown",
   "metadata": {},
   "source": [
    "The next function we'll look at is **enumerate**\n",
    "\n",
    "Many times, you'll find it useful to iterate through the value of a list along with the index. \n",
    "\n",
    "This👇🏽is one way you can do it"
   ]
  },
  {
   "cell_type": "code",
   "execution_count": 12,
   "metadata": {},
   "outputs": [
    {
     "name": "stdout",
     "output_type": "stream",
     "text": [
      "0 bananas\n",
      "1 mattresses\n",
      "2 dog kennels\n",
      "3 machine\n",
      "4 cheeses\n"
     ]
    }
   ],
   "source": [
    "items = [\"bananas\", \"mattresses\", \"dog kennels\", \"machine\", \"cheeses\"]\n",
    "for i, item in zip(range(len(items)), items):\n",
    "    print(i, item)"
   ]
  },
  {
   "cell_type": "markdown",
   "metadata": {},
   "source": [
    "This👆🏼uses a for loop to iterate through a list of tuples containing the index, and value of each item in the list.\n",
    "\n",
    "The indices are created by getting a range object from zero, to the length of items minus one and zipping that with the values in item"
   ]
  },
  {
   "cell_type": "markdown",
   "metadata": {},
   "source": [
    "Enumerate is a special built-in function that makes this a lot simpler."
   ]
  },
  {
   "cell_type": "code",
   "execution_count": 14,
   "metadata": {},
   "outputs": [
    {
     "name": "stdout",
     "output_type": "stream",
     "text": [
      "0 bananas\n",
      "1 mattresses\n",
      "2 dog kennels\n",
      "3 machine\n",
      "4 cheeses\n"
     ]
    }
   ],
   "source": [
    "items = [\"bananas\", \"mattresses\", \"dog kennels\", \"machine\", \"cheeses\"]\n",
    "for i, item in enumerate(items):\n",
    "    print(i, item)"
   ]
  },
  {
   "cell_type": "markdown",
   "metadata": {},
   "source": [
    "Enumerate returns these, containing the indices and values of a list in an iterable for you"
   ]
  },
  {
   "cell_type": "markdown",
   "metadata": {},
   "source": [
    "**Quiz: Zip and Enumerate**\n",
    "\n",
    "Use zip to write a for loop that creates a string specifying the label and coordinates of each point and appends it to the list points. Each string should be formatted as label: x, y, z. For example, the string for the first coordinate should be F: 23, 677, 4."
   ]
  },
  {
   "cell_type": "code",
   "execution_count": 22,
   "metadata": {},
   "outputs": [
    {
     "name": "stdout",
     "output_type": "stream",
     "text": [
      "F: 23, 677, 4\n",
      "J: 53, 233, 16\n",
      "A: 2, 405, -6\n",
      "Q: -12, 433, -42\n",
      "Y: 95, 905, 3\n",
      "B: 103, 376, -6\n",
      "W: 14, 432, 23\n",
      "X: -5, 445, -1\n"
     ]
    }
   ],
   "source": [
    "x_coord = [23, 53, 2, -12, 95, 103, 14, -5]\n",
    "y_coord = [677, 233, 405, 433, 905, 376, 432, 445]\n",
    "z_coord = [4, 16, -6, -42, 3, -6, 23, -1]\n",
    "labels = [\"F\", \"J\", \"A\", \"Q\", \"Y\", \"B\", \"W\", \"X\"]\n",
    "\n",
    "points = []\n",
    "for point in zip(labels, x_coord, y_coord, z_coord):\n",
    "    points.append(\"{}: {}, {}, {}\".format(*point))\n",
    "\n",
    "for point in points:\n",
    "    print(point)"
   ]
  },
  {
   "cell_type": "markdown",
   "metadata": {},
   "source": [
    "**Quiz: Zip Lists to a Dictionary**\n",
    "\n",
    "Use zip to create a dictionary cast that uses names as keys and heights as values."
   ]
  },
  {
   "cell_type": "code",
   "execution_count": 24,
   "metadata": {},
   "outputs": [
    {
     "name": "stdout",
     "output_type": "stream",
     "text": [
      "{'Barney': 72, 'Robin': 68, 'Ted': 72, 'Lily': 66, 'Marshall': 76}\n"
     ]
    }
   ],
   "source": [
    "cast_names = [\"Barney\", \"Robin\", \"Ted\", \"Lily\", \"Marshall\"]\n",
    "cast_heights = [72, 68, 72, 66, 76]\n",
    "\n",
    "cast = dict(zip(cast_names,cast_heights)) # replace with your code\n",
    "print(cast)"
   ]
  },
  {
   "cell_type": "markdown",
   "metadata": {},
   "source": [
    "**Quiz: Unzip Tuples**\n",
    "\n",
    "Unzip the cast tuple into two names and heights tuples."
   ]
  },
  {
   "cell_type": "code",
   "execution_count": 28,
   "metadata": {},
   "outputs": [
    {
     "name": "stdout",
     "output_type": "stream",
     "text": [
      "('Barney', 'Robin', 'Ted', 'Lily', 'Marshall')\n",
      "(72, 68, 72, 66, 76)\n"
     ]
    }
   ],
   "source": [
    "cast = ((\"Barney\", 72), (\"Robin\", 68), (\"Ted\", 72), (\"Lily\", 66), (\"Marshall\", 76))\n",
    "\n",
    "# define names and heights here\n",
    "\n",
    "names, heights = zip(*cast)\n",
    "\n",
    "print(names)\n",
    "print(heights)"
   ]
  },
  {
   "cell_type": "markdown",
   "metadata": {},
   "source": [
    "**Quiz: Transpose with Zip**\n",
    "\n",
    "Use zip to transpose data from a 4-by-3 matrix to a 3-by-4 matrix. There's actually a cool trick for this! Feel free to look at the solutions if you can't figure it out."
   ]
  },
  {
   "cell_type": "code",
   "execution_count": 29,
   "metadata": {},
   "outputs": [
    {
     "name": "stdout",
     "output_type": "stream",
     "text": [
      "((0, 3, 6, 9), (1, 4, 7, 10), (2, 5, 8, 11))\n"
     ]
    }
   ],
   "source": [
    "data = ((0, 1, 2), (3, 4, 5), (6, 7, 8), (9, 10, 11))\n",
    "\n",
    "data_transpose = tuple(zip(*data))\n",
    "print(data_transpose)"
   ]
  },
  {
   "cell_type": "markdown",
   "metadata": {},
   "source": [
    "**Quiz: Enumerate**\n",
    "\n",
    "Use enumerate to modify the cast list so that each element contains the name followed by the character's corresponding height. For example, the first element of cast should change from \"Barney Stinson\" to \"Barney Stinson 72\"."
   ]
  },
  {
   "cell_type": "code",
   "execution_count": 30,
   "metadata": {},
   "outputs": [
    {
     "name": "stdout",
     "output_type": "stream",
     "text": [
      "['Barney Stinson 72', 'Robin Scherbatsky 68', 'Ted Mosby 72', 'Lily Aldrin 66', 'Marshall Eriksen 76']\n"
     ]
    }
   ],
   "source": [
    "cast = [\"Barney Stinson\", \"Robin Scherbatsky\", \"Ted Mosby\", \"Lily Aldrin\", \"Marshall Eriksen\"]\n",
    "heights = [72, 68, 72, 66, 76]\n",
    "\n",
    "# write your for loop here\n",
    "for i, character in enumerate(cast):\n",
    "    cast[i] = character + \" \" + str(heights[i])\n",
    "\n",
    "print(cast)"
   ]
  },
  {
   "cell_type": "markdown",
   "metadata": {},
   "source": [
    "**List Comprehensions**\n",
    "\n",
    "In python, you can create lists really quickly and concisely with a cool tool called List Comprehensions.\n",
    "\n",
    "In the cities example from earlier, we creared a list of capitalized cities from cities list in a for loop.\n",
    "\n",
    "With a list comprehension, we can get the same result like this👇🏽"
   ]
  },
  {
   "cell_type": "code",
   "execution_count": 2,
   "metadata": {},
   "outputs": [
    {
     "name": "stdout",
     "output_type": "stream",
     "text": [
      "['New York City', 'Mountain View', 'Chicago', 'Los Angeles']\n"
     ]
    }
   ],
   "source": [
    "cities = ['new york city', 'mountain view', 'chicago', 'los angeles']\n",
    "capitalized_cities = [city.title() for city in cities]\n",
    "print(capitalized_cities)"
   ]
  },
  {
   "cell_type": "markdown",
   "metadata": {},
   "source": [
    "List comprehension allow us to create a list using a for loop in one step.\n",
    "\n",
    "You create a list comprehension with brackets including an expression to evaluate for each element in an iterable.\n",
    "\n",
    "Notice the part in the square bracket that looks like the first line of a for loop without a colon, and the action you want to take on each element is taking on the element here and appended to the new list.\n",
    "\n",
    "In list comprehensions, we don't a new list before hand and append to it like we would in a for loop.\n",
    "\n",
    "List comprehensions are not found in other languages but very common in python."
   ]
  },
  {
   "cell_type": "markdown",
   "metadata": {},
   "source": [
    "Here's👇🏽another example that creates a list of squares from 0 to 64."
   ]
  },
  {
   "cell_type": "code",
   "execution_count": 3,
   "metadata": {},
   "outputs": [
    {
     "name": "stdout",
     "output_type": "stream",
     "text": [
      "[0, 1, 4, 9, 16, 25, 36, 49, 64]\n"
     ]
    }
   ],
   "source": [
    "squares = []\n",
    "for x in range(9):\n",
    "    squares.append(x**2)\n",
    "print(squares)"
   ]
  },
  {
   "cell_type": "markdown",
   "metadata": {},
   "source": [
    "This👆🏼line called x to the power of 2 for every element in range 9 to create each element in the new list squares"
   ]
  },
  {
   "cell_type": "markdown",
   "metadata": {},
   "source": [
    "We can write this as a list comprehension like this👇🏽"
   ]
  },
  {
   "cell_type": "code",
   "execution_count": 5,
   "metadata": {},
   "outputs": [
    {
     "name": "stdout",
     "output_type": "stream",
     "text": [
      "[0, 1, 4, 9, 16, 25, 36, 49, 64]\n"
     ]
    }
   ],
   "source": [
    "squares = [x**2 for x in range(9)]\n",
    "print(squares)"
   ]
  },
  {
   "cell_type": "markdown",
   "metadata": {},
   "source": [
    "You can also add conditionals to list comprehensions.\n",
    "\n",
    "After the iterable, you can use the if keyword to check a condition in each iteration."
   ]
  },
  {
   "cell_type": "code",
   "execution_count": 6,
   "metadata": {},
   "outputs": [
    {
     "name": "stdout",
     "output_type": "stream",
     "text": [
      "[0, 4, 16, 36, 64]\n"
     ]
    }
   ],
   "source": [
    "squares = [x**2 for x in range(9) if x % 2 == 0]\n",
    "print(squares)"
   ]
  },
  {
   "cell_type": "markdown",
   "metadata": {},
   "source": [
    "If you'd like to add else, you have to move the conditionals to the beginning of the list comprehension right after the expression like this👇🏽"
   ]
  },
  {
   "cell_type": "code",
   "execution_count": 8,
   "metadata": {},
   "outputs": [
    {
     "name": "stdout",
     "output_type": "stream",
     "text": [
      "[0, 4, 4, 6, 16, 8, 36, 10, 64]\n"
     ]
    }
   ],
   "source": [
    "squares = [x**2 if x % 2 == 0 else x + 3 for x in range(9)]\n",
    "print(squares)"
   ]
  },
  {
   "cell_type": "markdown",
   "metadata": {},
   "source": [
    "**Quiz: Extract First Names**\n",
    "\n",
    "Use a list comprehension to create a new list first_names containing just the first names in names in lowercase."
   ]
  },
  {
   "cell_type": "code",
   "execution_count": 1,
   "metadata": {},
   "outputs": [
    {
     "name": "stdout",
     "output_type": "stream",
     "text": [
      "['rick', 'morty', 'summer', 'jerry', 'beth']\n"
     ]
    }
   ],
   "source": [
    "names = [\"Rick Sanchez\", \"Morty Smith\", \"Summer Smith\", \"Jerry Smith\", \"Beth Smith\"]\n",
    "\n",
    "first_names = [name.split()[0].lower() for name in names]# write your list comprehension here\n",
    "print(first_names)"
   ]
  },
  {
   "cell_type": "markdown",
   "metadata": {},
   "source": [
    "**Quiz: Multiples of Three**\n",
    "\n",
    "Use a list comprehension to create a list multiples_3 containing the first 20 multiples of 3."
   ]
  },
  {
   "cell_type": "code",
   "execution_count": 6,
   "metadata": {},
   "outputs": [
    {
     "name": "stdout",
     "output_type": "stream",
     "text": [
      "[3, 6, 9, 12, 15, 18, 21, 24, 27, 30, 33, 36, 39, 42, 45, 48, 51, 54, 57, 60]\n"
     ]
    }
   ],
   "source": [
    "multiples_3 = [x * 3 for x in range(1,21)] # write your list comprehension here\n",
    "print(multiples_3)"
   ]
  },
  {
   "cell_type": "markdown",
   "metadata": {},
   "source": [
    "**Quiz: Filter Names by Scores**\n",
    "\n",
    "Use a list comprehension to create a list of names passed that only include those that scored at least 65."
   ]
  },
  {
   "cell_type": "code",
   "execution_count": 10,
   "metadata": {},
   "outputs": [
    {
     "name": "stdout",
     "output_type": "stream",
     "text": [
      "['Rick Sanchez', 'Summer Smith', 'Beth Smith']\n"
     ]
    }
   ],
   "source": [
    "scores = {\n",
    "             \"Rick Sanchez\": 70,\n",
    "             \"Morty Smith\": 35,\n",
    "             \"Summer Smith\": 82,\n",
    "             \"Jerry Smith\": 23,\n",
    "             \"Beth Smith\": 98\n",
    "          }\n",
    "\n",
    "passed = [name for name, score in scores.items() if score >= 65] # write your list comprehension here\n",
    "print(passed)"
   ]
  },
  {
   "cell_type": "markdown",
   "metadata": {},
   "source": [
    "**Practice Questions**\n",
    "\n",
    "**Introduction**\n",
    "\n",
    "Time for some practice questions again! The questions on this page will help you review the concepts covered in the Control Flow lesson. These questions may use concepts from everything covered so far.\n",
    "\n",
    "You may find these questions on the challenging end, We encourage you to give them a good try, but if you get stuck or need a hint, do not hesitate to look at the solutions.\n",
    "\n",
    "The following questions are based on data on Oscar Award Nominations for Best Director between the years 1931 to 2010. To start you off, we've provided a dictionary called \"nominated\" with the year (as key) and list of directors who were nominated in that year (as value). We've provided you with a different dictionary called \"winners\" with the year (as key) and list of directors who won the award in that year (as value).\n",
    "\n",
    "**Helpful hint:**\n",
    "\n",
    "You may find it helpful to use a paper and pen to think through the logic of the for loop instead of directly trying to type out your code. for loops are tricky, but if you take the time to slowly work out the question's logic, and write out what is happening with each iteration in the for loop, it's easier to think through the code.\n",
    "\n"
   ]
  },
  {
   "cell_type": "markdown",
   "metadata": {},
   "source": [
    "**Question 1.**\n",
    "\n",
    "A. Create a dictionary that includes the count of Oscar nominations for each director in the nominations list.\n",
    "\n",
    "B. Provide a dictionary with the count of Oscar wins for each director in the winners list."
   ]
  },
  {
   "cell_type": "code",
   "execution_count": 11,
   "metadata": {},
   "outputs": [],
   "source": [
    "nominated = {1931: ['Norman Taurog', 'Wesley Ruggles', 'Clarence Brown', 'Lewis Milestone', 'Josef Von Sternberg'], \n",
    "             1932: ['Frank Borzage', 'King Vidor', 'Josef Von Sternberg'], \n",
    "             1933: ['Frank Lloyd', 'Frank Capra', 'George Cukor'], \n",
    "             1934: ['Frank Capra', 'Victor Schertzinger', 'W. S. Van Dyke'], \n",
    "             1935: ['John Ford', 'Michael Curtiz', 'Henry Hathaway', 'Frank Lloyd'], \n",
    "             1936: ['Frank Capra', 'William Wyler', 'Robert Z. Leonard', 'Gregory La Cava', 'W. S. Van Dyke'], \n",
    "             1937: ['Leo McCarey', 'Sidney Franklin', 'William Dieterle', 'Gregory La Cava', 'William Wellman'], \n",
    "             1938: ['Frank Capra', 'Michael Curtiz', 'Norman Taurog', 'King Vidor', 'Michael Curtiz'], \n",
    "             1939: ['Sam Wood', 'Frank Capra', 'John Ford', 'William Wyler', 'Victor Fleming'], \n",
    "             1940: ['John Ford', 'Sam Wood', 'William Wyler', 'George Cukor', 'Alfred Hitchcock'], \n",
    "             1941: ['John Ford', 'Orson Welles', 'Alexander Hall', 'William Wyler', 'Howard Hawks'], \n",
    "             1942: ['Sam Wood', 'Mervyn LeRoy', 'John Farrow', 'Michael Curtiz', 'William Wyler'], \n",
    "             1943: ['Michael Curtiz', 'Ernst Lubitsch', 'Clarence Brown', 'George Stevens', 'Henry King'], \n",
    "             1944: ['Leo McCarey', 'Billy Wilder', 'Otto Preminger', 'Alfred Hitchcock', 'Henry King'], \n",
    "             1945: ['Billy Wilder', 'Leo McCarey', 'Clarence Brown', 'Jean Renoir', 'Alfred Hitchcock'], \n",
    "             1946: ['David Lean', 'Frank Capra', 'Robert Siodmak', 'Clarence Brown', 'William Wyler'], \n",
    "             1947: ['Elia Kazan', 'Henry Koster', 'Edward Dmytryk', 'George Cukor', 'David Lean'], \n",
    "             1948: ['John Huston', 'Laurence Olivier', 'Jean Negulesco', 'Fred Zinnemann', 'Anatole Litvak'], \n",
    "             1949: ['Joseph L. Mankiewicz', 'Robert Rossen', 'William A. Wellman', 'Carol Reed', 'William Wyler'], \n",
    "             1950: ['Joseph L. Mankiewicz', 'John Huston', 'George Cukor', 'Billy Wilder', 'Carol Reed'], \n",
    "             1951: ['George Stevens', 'John Huston', 'Vincente Minnelli', 'William Wyler', 'Elia Kazan'], \n",
    "             1952: ['John Ford', 'Joseph L. Mankiewicz', 'Cecil B. DeMille', 'Fred Zinnemann', 'John Huston'], \n",
    "             1953: ['Fred Zinnemann', 'Charles Walters', 'William Wyler', 'George Stevens', 'Billy Wilder'], \n",
    "             1954: ['Elia Kazan', 'George Seaton', 'William Wellman', 'Alfred Hitchcock', 'Billy Wilder'], \n",
    "             1955: ['Delbert Mann', 'John Sturges', 'Elia Kazan', 'Joshua Logan', 'David Lean'], \n",
    "             1956: ['George Stevens', 'Michael Anderson', 'William Wyler', 'Walter Lang', 'King Vidor'], \n",
    "             1957: ['David Lean', 'Mark Robson', 'Joshua Logan', 'Sidney Lumet', 'Billy Wilder'], \n",
    "             1958: ['Richard Brooks', 'Stanley Kramer', 'Robert Wise', 'Mark Robson', 'Vincente Minnelli'], \n",
    "             1959: ['George Stevens', 'Fred Zinnemann', 'Jack Clayton', 'Billy Wilder', 'William Wyler'], \n",
    "             1960: ['Billy Wilder', 'Jules Dassin', 'Alfred Hitchcock', 'Jack Cardiff', 'Fred Zinnemann'], \n",
    "             1961: ['J. Lee Thompson', 'Robert Rossen', 'Stanley Kramer', 'Federico Fellini', 'Robert Wise', 'Jerome Robbins'], \n",
    "             1962: ['David Lean', 'Frank Perry', 'Pietro Germi', 'Arthur Penn', 'Robert Mulligan'], \n",
    "             1963: ['Elia Kazan', 'Otto Preminger', 'Federico Fellini', 'Martin Ritt', 'Tony Richardson'], \n",
    "             1964: ['George Cukor', 'Peter Glenville', 'Stanley Kubrick', 'Robert Stevenson', 'Michael Cacoyannis'], \n",
    "             1965: ['William Wyler', 'John Schlesinger', 'David Lean', 'Hiroshi Teshigahara', 'Robert Wise'], \n",
    "             1966: ['Fred Zinnemann', 'Michelangelo Antonioni', 'Claude Lelouch', 'Richard Brooks', 'Mike Nichols'], \n",
    "             1967: ['Arthur Penn', 'Stanley Kramer', 'Richard Brooks', 'Norman Jewison', 'Mike Nichols'], \n",
    "             1968: ['Carol Reed', 'Gillo Pontecorvo', 'Anthony Harvey', 'Franco Zeffirelli', 'Stanley Kubrick'], \n",
    "             1969: ['John Schlesinger', 'Arthur Penn', 'George Roy Hill', 'Sydney Pollack', 'Costa-Gavras'], \n",
    "             1970: ['Franklin J. Schaffner', 'Federico Fellini', 'Arthur Hiller', 'Robert Altman', 'Ken Russell'], \n",
    "             1971: ['Stanley Kubrick', 'Norman Jewison', 'Peter Bogdanovich', 'John Schlesinger', 'William Friedkin'], \n",
    "             1972: ['Bob Fosse', 'John Boorman', 'Jan Troell', 'Francis Ford Coppola', 'Joseph L. Mankiewicz'], \n",
    "             1973: ['George Roy Hill', 'George Lucas', 'Ingmar Bergman', 'William Friedkin', 'Bernardo Bertolucci'], \n",
    "             1974: ['Francis Ford Coppola', 'Roman Polanski', 'Francois Truffaut', 'Bob Fosse', 'John Cassavetes'], \n",
    "             1975: ['Federico Fellini', 'Stanley Kubrick', 'Sidney Lumet', 'Robert Altman', 'Milos Forman'], \n",
    "             1976: ['Alan J. Pakula', 'Ingmar Bergman', 'Sidney Lumet', 'Lina Wertmuller', 'John G. Avildsen'], \n",
    "             1977: ['Steven Spielberg', 'Fred Zinnemann', 'George Lucas', 'Herbert Ross', 'Woody Allen'], \n",
    "             1978: ['Hal Ashby', 'Warren Beatty', 'Buck Henry', 'Woody Allen', 'Alan Parker', 'Michael Cimino'], \n",
    "             1979: ['Bob Fosse', 'Francis Coppola', 'Peter Yates', 'Edouard Molinaro', 'Robert Benton'], \n",
    "             1980: ['David Lynch', 'Martin Scorsese', 'Richard Rush', 'Roman Polanski', 'Robert Redford'], \n",
    "             1981: ['Louis Malle', 'Hugh Hudson', 'Mark Rydell', 'Steven Spielberg', 'Warren Beatty'], \n",
    "             1982: ['Wolfgang Petersen', 'Steven Spielberg', 'Sydney Pollack', 'Sidney Lumet', 'Richard Attenborough'], \n",
    "             1983: ['Peter Yates', 'Ingmar Bergman', 'Mike Nichols', 'Bruce Beresford', 'James L. Brooks'], \n",
    "             1984: ['Woody Allen', 'Roland Joffe', 'David Lean', 'Robert Benton', 'Milos Forman'], \n",
    "             1985: ['Hector Babenco', 'John Huston', 'Akira Kurosawa', 'Peter Weir', 'Sydney Pollack'], \n",
    "             1986: ['David Lynch', 'Woody Allen', 'Roland Joffe', 'James Ivory', 'Oliver Stone'], \n",
    "             1987: ['Bernardo Bertolucci', 'Adrian Lyne', 'John Boorman', 'Norman Jewison', 'Lasse Hallstrom'], \n",
    "             1988: ['Barry Levinson', 'Charles Crichton', 'Martin Scorsese', 'Alan Parker', 'Mike Nichols'], \n",
    "             1989: ['Woody Allen', 'Peter Weir', 'Kenneth Branagh', 'Jim Sheridan', 'Oliver Stone'], \n",
    "             1990: ['Francis Ford Coppola', 'Martin Scorsese', 'Stephen Frears', 'Barbet Schroeder', 'Kevin Costner'], \n",
    "             1991: ['John Singleton', 'Barry Levinson', 'Oliver Stone', 'Ridley Scott', 'Jonathan Demme'], \n",
    "             1992: ['Clint Eastwood', 'Neil Jordan', 'James Ivory', 'Robert Altman', 'Martin Brest'], \n",
    "             1993: ['Jim Sheridan', 'Jane Campion', 'James Ivory', 'Robert Altman', 'Steven Spielberg'], \n",
    "             1994: ['Woody Allen', 'Quentin Tarantino', 'Robert Redford', 'Krzysztof Kieslowski', 'Robert Zemeckis'], \n",
    "             1995: ['Chris Noonan', 'Tim Robbins', 'Mike Figgis', 'Michael Radford', 'Mel Gibson'], \n",
    "             1996: ['Anthony Minghella', 'Joel Coen', 'Milos Forman', 'Mike Leigh', 'Scott Hicks'], \n",
    "             1997: ['Peter Cattaneo', 'Gus Van Sant', 'Curtis Hanson', 'Atom Egoyan', 'James Cameron'], \n",
    "             1998: ['Roberto Benigni', 'John Madden', 'Terrence Malick', 'Peter Weir', 'Steven Spielberg'], \n",
    "             1999: ['Spike Jonze', 'Lasse Hallstrom', 'Michael Mann', 'M. Night Shyamalan', 'Sam Mendes'], \n",
    "             2000: ['Stephen Daldry', 'Ang Lee', 'Steven Soderbergh', 'Ridley Scott', 'Steven Soderbergh'], \n",
    "             2001: ['Ridley Scott', 'Robert Altman', 'Peter Jackson', 'David Lynch', 'Ron Howard'], \n",
    "             2002: ['Rob Marshall', 'Martin Scorsese', 'Stephen Daldry', 'Pedro Almodovar', 'Roman Polanski'], \n",
    "             2003: ['Fernando Meirelles', 'Sofia Coppola', 'Peter Weir', 'Clint Eastwood', 'Peter Jackson'], \n",
    "             2004: ['Martin Scorsese', 'Taylor Hackford', 'Alexander Payne', 'Mike Leigh', 'Clint Eastwood'], \n",
    "             2005: ['Ang Lee', 'Bennett Miller', 'Paul Haggis', 'George Clooney', 'Steven Spielberg'], \n",
    "             2006: ['Alejandro Gonzaalez Inarritu', 'Clint Eastwood', 'Stephen Frears', 'Paul Greengrass', 'Martin Scorsese'], \n",
    "             2007: ['Julian Schnabel', 'Jason Reitman', 'Tony Gilroy', 'Paul Thomas Anderson', 'Joel Coen', 'Ethan Coen'], \n",
    "             2008: ['David Fincher', 'Ron Howard', 'Gus Van Sant', 'Stephen Daldry', 'Danny Boyle'], \n",
    "             2009: ['James Cameron', 'Quentin Tarantino', 'Lee Daniels', 'Jason Reitman', 'Kathryn Bigelow'], \n",
    "             2010: ['Darren Aronofsky', 'David O. Russell', 'David Fincher', 'Ethan Coen', 'Joel Coen', 'Tom Hooper']}"
   ]
  },
  {
   "cell_type": "code",
   "execution_count": 56,
   "metadata": {},
   "outputs": [],
   "source": [
    "winners = {1931: ['Norman Taurog'], 1932: ['Frank Borzage'], 1933: ['Frank Lloyd'], 1934: ['Frank Capra'], \n",
    "           1935: ['John Ford'], 1936: ['Frank Capra'], 1937: ['Leo McCarey'], 1938: ['Frank Capra'], \n",
    "           1939: ['Victor Fleming'], 1940: ['John Ford'], 1941: ['John Ford'], 1942: ['William Wyler'], \n",
    "           1943: ['Michael Curtiz'], 1944: ['Leo McCarey'], 1945: ['Billy Wilder'], 1946: ['William Wyler'], \n",
    "           1947: ['Elia Kazan'], 1948: ['John Huston'], 1949: ['Joseph L. Mankiewicz'], 1950: ['Joseph L. Mankiewicz'], \n",
    "           1951: ['George Stevens'], 1952: ['John Ford'], 1953: ['Fred Zinnemann'], 1954: ['Elia Kazan'], \n",
    "           1955: ['Delbert Mann'], 1956: ['George Stevens'], 1957: ['David Lean'], 1958: ['Vincente Minnelli'], \n",
    "           1959: ['William Wyler'], 1960: ['Billy Wilder'], 1961: ['Jerome Robbins', 'Robert Wise'], 1962: ['David Lean'], \n",
    "           1963: ['Tony Richardson'], 1964: ['George Cukor'], 1965: ['Robert Wise'], 1966: ['Fred Zinnemann'], \n",
    "           1967: ['Mike Nichols'], 1968: ['Carol Reed'], 1969: ['John Schlesinger'], 1970: ['Franklin J. Schaffner'], \n",
    "           1971: ['William Friedkin'], 1972: ['Bob Fosse'], 1973: ['George Roy Hill'], 1974: ['Francis Ford Coppola'], \n",
    "           1975: ['Milos Forman'], 1976: ['John G. Avildsen'], 1977: ['Woody Allen'], 1978: ['Michael Cimino'], \n",
    "           1979: ['Robert Benton'], 1980: ['Robert Redford'], 1981: ['Warren Beatty'], 1982: ['Richard Attenborough'], \n",
    "           1983: ['James L. Brooks'], 1984: ['Milos Forman'], 1985: ['Sydney Pollack'], 1986: ['Oliver Stone'], \n",
    "           1987: ['Bernardo Bertolucci'], 1988: ['Barry Levinson'], 1989: ['Oliver Stone'], 1990: ['Kevin Costner'], \n",
    "           1991: ['Jonathan Demme'], 1992: ['Clint Eastwood'], 1993: ['Steven Spielberg'], 1994: ['Robert Zemeckis'], \n",
    "           1995: ['Mel Gibson'], 1996: ['Anthony Minghella'], 1997: ['James Cameron'], 1998: ['Steven Spielberg'], \n",
    "           1999: ['Sam Mendes'], 2000: ['Steven Soderbergh'], 2001: ['Ron Howard'], 2002: ['Roman Polanski'], \n",
    "           2003: ['Peter Jackson'], 2004: ['Clint Eastwood'], 2005: ['Ang Lee'], 2006: ['Martin Scorsese'], \n",
    "           2007: ['Ethan Coen', 'Joel Coen'], 2008: ['Danny Boyle'], 2009: ['Kathryn Bigelow'], 2010: ['Tom Hooper']}"
   ]
  },
  {
   "cell_type": "code",
   "execution_count": 55,
   "metadata": {},
   "outputs": [
    {
     "name": "stdout",
     "output_type": "stream",
     "text": [
      "nom_count_dict = {'Norman Taurog': 2, 'Wesley Ruggles': 1, 'Clarence Brown': 4, 'Lewis Milestone': 1, 'Josef Von Sternberg': 2, 'Frank Borzage': 1, 'King Vidor': 3, 'Frank Lloyd': 2, 'Frank Capra': 6, 'George Cukor': 5, 'Victor Schertzinger': 1, 'W. S. Van Dyke': 2, 'John Ford': 5, 'Michael Curtiz': 5, 'Henry Hathaway': 1, 'William Wyler': 12, 'Robert Z. Leonard': 1, 'Gregory La Cava': 2, 'Leo McCarey': 3, 'Sidney Franklin': 1, 'William Dieterle': 1, 'William Wellman': 2, 'Sam Wood': 3, 'Victor Fleming': 1, 'Alfred Hitchcock': 5, 'Orson Welles': 1, 'Alexander Hall': 1, 'Howard Hawks': 1, 'Mervyn LeRoy': 1, 'John Farrow': 1, 'Ernst Lubitsch': 1, 'George Stevens': 5, 'Henry King': 2, 'Billy Wilder': 8, 'Otto Preminger': 2, 'Jean Renoir': 1, 'David Lean': 7, 'Robert Siodmak': 1, 'Elia Kazan': 5, 'Henry Koster': 1, 'Edward Dmytryk': 1, 'John Huston': 5, 'Laurence Olivier': 1, 'Jean Negulesco': 1, 'Fred Zinnemann': 7, 'Anatole Litvak': 1, 'Joseph L. Mankiewicz': 4, 'Robert Rossen': 2, 'William A. Wellman': 1, 'Carol Reed': 3, 'Vincente Minnelli': 2, 'Cecil B. DeMille': 1, 'Charles Walters': 1, 'George Seaton': 1, 'Delbert Mann': 1, 'John Sturges': 1, 'Joshua Logan': 2, 'Michael Anderson': 1, 'Walter Lang': 1, 'Mark Robson': 2, 'Sidney Lumet': 4, 'Richard Brooks': 3, 'Stanley Kramer': 3, 'Robert Wise': 3, 'Jack Clayton': 1, 'Jules Dassin': 1, 'Jack Cardiff': 1, 'J. Lee Thompson': 1, 'Federico Fellini': 4, 'Jerome Robbins': 1, 'Frank Perry': 1, 'Pietro Germi': 1, 'Arthur Penn': 3, 'Robert Mulligan': 1, 'Martin Ritt': 1, 'Tony Richardson': 1, 'Peter Glenville': 1, 'Stanley Kubrick': 4, 'Robert Stevenson': 1, 'Michael Cacoyannis': 1, 'John Schlesinger': 3, 'Hiroshi Teshigahara': 1, 'Michelangelo Antonioni': 1, 'Claude Lelouch': 1, 'Mike Nichols': 4, 'Norman Jewison': 3, 'Gillo Pontecorvo': 1, 'Anthony Harvey': 1, 'Franco Zeffirelli': 1, 'George Roy Hill': 2, 'Sydney Pollack': 3, 'Costa-Gavras': 1, 'Franklin J. Schaffner': 1, 'Arthur Hiller': 1, 'Robert Altman': 5, 'Ken Russell': 1, 'Peter Bogdanovich': 1, 'William Friedkin': 2, 'Bob Fosse': 3, 'John Boorman': 2, 'Jan Troell': 1, 'Francis Ford Coppola': 3, 'George Lucas': 2, 'Ingmar Bergman': 3, 'Bernardo Bertolucci': 2, 'Roman Polanski': 3, 'Francois Truffaut': 1, 'John Cassavetes': 1, 'Milos Forman': 3, 'Alan J. Pakula': 1, 'Lina Wertmuller': 1, 'John G. Avildsen': 1, 'Steven Spielberg': 6, 'Herbert Ross': 1, 'Woody Allen': 6, 'Hal Ashby': 1, 'Warren Beatty': 2, 'Buck Henry': 1, 'Alan Parker': 2, 'Michael Cimino': 1, 'Francis Coppola': 1, 'Peter Yates': 2, 'Edouard Molinaro': 1, 'Robert Benton': 2, 'David Lynch': 3, 'Martin Scorsese': 6, 'Richard Rush': 1, 'Robert Redford': 2, 'Louis Malle': 1, 'Hugh Hudson': 1, 'Mark Rydell': 1, 'Wolfgang Petersen': 1, 'Richard Attenborough': 1, 'Bruce Beresford': 1, 'James L. Brooks': 1, 'Roland Joffe': 2, 'Hector Babenco': 1, 'Akira Kurosawa': 1, 'Peter Weir': 4, 'James Ivory': 3, 'Oliver Stone': 3, 'Adrian Lyne': 1, 'Lasse Hallstrom': 2, 'Barry Levinson': 2, 'Charles Crichton': 1, 'Kenneth Branagh': 1, 'Jim Sheridan': 2, 'Stephen Frears': 2, 'Barbet Schroeder': 1, 'Kevin Costner': 1, 'John Singleton': 1, 'Ridley Scott': 3, 'Jonathan Demme': 1, 'Clint Eastwood': 4, 'Neil Jordan': 1, 'Martin Brest': 1, 'Jane Campion': 1, 'Quentin Tarantino': 2, 'Krzysztof Kieslowski': 1, 'Robert Zemeckis': 1, 'Chris Noonan': 1, 'Tim Robbins': 1, 'Mike Figgis': 1, 'Michael Radford': 1, 'Mel Gibson': 1, 'Anthony Minghella': 1, 'Joel Coen': 3, 'Mike Leigh': 2, 'Scott Hicks': 1, 'Peter Cattaneo': 1, 'Gus Van Sant': 2, 'Curtis Hanson': 1, 'Atom Egoyan': 1, 'James Cameron': 2, 'Roberto Benigni': 1, 'John Madden': 1, 'Terrence Malick': 1, 'Spike Jonze': 1, 'Michael Mann': 1, 'M. Night Shyamalan': 1, 'Sam Mendes': 1, 'Stephen Daldry': 3, 'Ang Lee': 2, 'Steven Soderbergh': 2, 'Peter Jackson': 2, 'Ron Howard': 2, 'Rob Marshall': 1, 'Pedro Almodovar': 1, 'Fernando Meirelles': 1, 'Sofia Coppola': 1, 'Taylor Hackford': 1, 'Alexander Payne': 1, 'Bennett Miller': 1, 'Paul Haggis': 1, 'George Clooney': 1, 'Alejandro Gonzaalez Inarritu': 1, 'Paul Greengrass': 1, 'Julian Schnabel': 1, 'Jason Reitman': 2, 'Tony Gilroy': 1, 'Paul Thomas Anderson': 1, 'Ethan Coen': 2, 'David Fincher': 2, 'Danny Boyle': 1, 'Lee Daniels': 1, 'Kathryn Bigelow': 1, 'Darren Aronofsky': 1, 'David O. Russell': 1, 'Tom Hooper': 1}\n",
      "\n"
     ]
    }
   ],
   "source": [
    "### 1A: Create dictionary with the count of Oscar nominations for each director \n",
    "nom_count_dict = {}\n",
    "# Add your code here\n",
    "for year, list_dir in nominated.items():\n",
    "    for director in list_dir:\n",
    "        if director not in nom_count_dict:\n",
    "            nom_count_dict[director] = 1\n",
    "        else:\n",
    "            nom_count_dict[director] += 1\n",
    "    \n",
    "print(\"nom_count_dict = {}\\n\".format(nom_count_dict))"
   ]
  },
  {
   "cell_type": "markdown",
   "metadata": {},
   "source": [
    "**Here's the logic for my solution:**\n",
    "\n",
    "- To solve this question, I use the .items method for dictionaries. Remember, the key in our nominated dictionary is a list of nominated directors. Think Compound Data Structures!\n",
    "\n",
    "- I know I need to create a dictionary where the key is a director and the value is the number of nominations.\n",
    "\n",
    "- But to get each director as a key, I will have to use two for loops.\n",
    "\n",
    "- First, to iterate through the nominated dictionary's value (which here is a list of nominations) .\n",
    "\n",
    "- But I have do to this again to iterate through each element (what I'm trying to get to - a nominated director) in the nominated list.\n",
    "\n",
    "- After that, if the director isn't yet in our dictionary, we give that director a count of one. If the director is in the dictionary, we increment that director's count by one."
   ]
  },
  {
   "cell_type": "code",
   "execution_count": 58,
   "metadata": {},
   "outputs": [
    {
     "name": "stdout",
     "output_type": "stream",
     "text": [
      "win_count_dict = {'Norman Taurog': 1, 'Frank Borzage': 1, 'Frank Lloyd': 1, 'Frank Capra': 3, 'John Ford': 4, 'Leo McCarey': 2, 'Victor Fleming': 1, 'William Wyler': 3, 'Michael Curtiz': 1, 'Billy Wilder': 2, 'Elia Kazan': 2, 'John Huston': 1, 'Joseph L. Mankiewicz': 2, 'George Stevens': 2, 'Fred Zinnemann': 2, 'Delbert Mann': 1, 'David Lean': 2, 'Vincente Minnelli': 1, 'Jerome Robbins': 1, 'Robert Wise': 2, 'Tony Richardson': 1, 'George Cukor': 1, 'Mike Nichols': 1, 'Carol Reed': 1, 'John Schlesinger': 1, 'Franklin J. Schaffner': 1, 'William Friedkin': 1, 'Bob Fosse': 1, 'George Roy Hill': 1, 'Francis Ford Coppola': 1, 'Milos Forman': 2, 'John G. Avildsen': 1, 'Woody Allen': 1, 'Michael Cimino': 1, 'Robert Benton': 1, 'Robert Redford': 1, 'Warren Beatty': 1, 'Richard Attenborough': 1, 'James L. Brooks': 1, 'Sydney Pollack': 1, 'Oliver Stone': 2, 'Bernardo Bertolucci': 1, 'Barry Levinson': 1, 'Kevin Costner': 1, 'Jonathan Demme': 1, 'Clint Eastwood': 2, 'Steven Spielberg': 2, 'Robert Zemeckis': 1, 'Mel Gibson': 1, 'Anthony Minghella': 1, 'James Cameron': 1, 'Sam Mendes': 1, 'Steven Soderbergh': 1, 'Ron Howard': 1, 'Roman Polanski': 1, 'Peter Jackson': 1, 'Ang Lee': 1, 'Martin Scorsese': 1, 'Ethan Coen': 1, 'Joel Coen': 1, 'Danny Boyle': 1, 'Kathryn Bigelow': 1, 'Tom Hooper': 1}\n"
     ]
    }
   ],
   "source": [
    "### 1B: Create dictionary with the count of Oscar wins for each director\n",
    "win_count_dict = {}\n",
    "# Add your code here\n",
    "for year, win_dir in winners.items():\n",
    "    for director in win_dir:\n",
    "        win_count_dict[director] = win_count_dict.get(director, 0) + 1\n",
    "        \n",
    "\n",
    "\n",
    "print(\"win_count_dict = {}\".format(win_count_dict))"
   ]
  },
  {
   "cell_type": "markdown",
   "metadata": {},
   "source": [
    "**Essentially, it is the same logic as above, with the other dictionary.**\n",
    "\n",
    "We could use the same approach as in question 1a and it would work fine, but I've provided a shorter alternative here. Instead of the last 4 lines as above, I've just written 1 line, by using the .get method. In this line, we find the director in the win_count_dict dictionary and return the value for that director (the number of times they've won). If they aren't in the dictionary, get returns 0 for that director. Then we increment that director's count by one."
   ]
  },
  {
   "cell_type": "markdown",
   "metadata": {},
   "source": [
    "**Question 2:**\n",
    "\n",
    "Provide a list with the name(s) of the director(s) with the most Oscar wins. We are asking for a list because there could be more than 1 director tied for the most Oscar wins"
   ]
  },
  {
   "cell_type": "code",
   "execution_count": 61,
   "metadata": {},
   "outputs": [
    {
     "name": "stdout",
     "output_type": "stream",
     "text": [
      "most_win_director = ['John Ford']\n"
     ]
    }
   ],
   "source": [
    "### For Question 2: Please provide a list with the name(s) of the director(s) with \n",
    "### the most Oscar wins. The list can hold the names of multiple directors,\n",
    "### since there can be more than 1 director tied with the most Oscar wins.\n",
    "\n",
    "most_win_director = []\n",
    "# Add your code here\n",
    "for year, winnerlist in winners.items():\n",
    "    for winner in winnerlist:\n",
    "        win_count_dict[winner] = win_count_dict.get(winner, 0) + 1\n",
    "\n",
    "#SECOND PART OF SOLUTION\n",
    "highest_count = 0\n",
    "most_win_director = []\n",
    "\n",
    "for key, value in win_count_dict.items():\n",
    "    if value > highest_count:\n",
    "        highest_count = value\n",
    "        most_win_director.clear()\n",
    "        most_win_director.append(key)\n",
    "    elif value == highest_count:\n",
    "        most_win_director.append(key)\n",
    "    else:\n",
    "        continue\n",
    "print(\"most_win_director = {}\".format(most_win_director))"
   ]
  },
  {
   "cell_type": "markdown",
   "metadata": {},
   "source": [
    "**Here's the logic for my solution:**\n",
    "\n",
    "- To address this question, I will need to first create a dictionary with the number of wins by each winning director. For that I can use the code we wrote for Question 1b above.\n",
    "\n",
    "- This win_count_dict dictionary provides a dictionary with the win count for the directors. We will need this to then identify which key (here, director name) has the highest value (here, win count).\n",
    "\n",
    "- To perform this task, we use a variable highest_count to keep track of the highest count of wins.\n",
    "\n",
    "- We iterate through the dictionary to see if the value for a key (i.e., wins for a director) is more than the highest count.\n",
    "\n",
    "- If it is, we replace that value as the highest_count.\n",
    "\n",
    "- Plus we add that key (here, director name) to our list tracking the most_win_director.\n",
    "\n",
    "- Every time we come upon a value higher than the current highest_count, we replace highest_count with the new higher value, empty the most_win_director and replace it with the new key (i.e., director's name)."
   ]
  },
  {
   "cell_type": "markdown",
   "metadata": {},
   "source": [
    "**Here is an alternative compact solution to replace the 12 lines above for the second part of the solution, using the built-in function max(), and a list comprehension with a condition:**"
   ]
  },
  {
   "cell_type": "code",
   "execution_count": 63,
   "metadata": {},
   "outputs": [
    {
     "name": "stdout",
     "output_type": "stream",
     "text": [
      "['John Ford']\n"
     ]
    }
   ],
   "source": [
    "#ALTERNATIVE SECOND PART OF SOLUTION\n",
    "highest_count = max(win_count_dict.values())\n",
    "\n",
    "most_win_director = [key for key, value in win_count_dict.items() if value == highest_count]\n",
    "print(most_win_director)"
   ]
  },
  {
   "cell_type": "markdown",
   "metadata": {},
   "source": [
    "**Introduction to Functions**\n",
    "\n",
    "Previously, we used several of python's built-in functions. \n",
    "\n",
    "Here, we will write functions of our own.\n",
    "\n",
    "Functions are useful chunks of code that allows you encapsulate a task. Encapsulation to carryout a whole series of steps with one simpler  command.\n",
    "\n",
    "For example, imagine you want to bake a cake, you'll need to buy the ingredients, mix them together in a certain way for a specific amount of time, put it all in the oven and then let it cool.\n",
    "\n",
    "In computer programming, functions encapsulates all the steps of a process into one command. In this case, we just have a bake function and throw all of these directions into this one function.\n",
    "\n",
    "Now, anytime you want to bake a cake, we just use this function without worrying about all the specifics.\n",
    "\n",
    "Functions are also used to help organize code"
   ]
  },
  {
   "cell_type": "markdown",
   "metadata": {},
   "source": [
    "**Defining Functions**\n",
    "\n",
    "As our first function, we'll write a function that calculates the volume of a cylinder.\n",
    "\n",
    "The formula for this, is the cylinder's height, multiplied by the square of its radius, multiplied by pi.\n",
    "\n",
    "Here👇🏽that formula look's like when we defined a function called cylinder volume."
   ]
  },
  {
   "cell_type": "code",
   "execution_count": 64,
   "metadata": {},
   "outputs": [],
   "source": [
    "def cylinder_volume(height, radius):\n",
    "    pi = 3.14159\n",
    "    return height * pi * radius ** 2"
   ]
  },
  {
   "cell_type": "code",
   "execution_count": 66,
   "metadata": {},
   "outputs": [
    {
     "data": {
      "text/plain": [
       "282.7431"
      ]
     },
     "execution_count": 66,
     "metadata": {},
     "output_type": "execute_result"
    }
   ],
   "source": [
    "cylinder_volume(10,3)"
   ]
  },
  {
   "cell_type": "markdown",
   "metadata": {},
   "source": [
    "After defining the cylinder volume function, we can use it like this👆🏼\n",
    "\n",
    "This value is the volume of a cylinder 10 inches tall, with a radius of 3 inches.\n",
    "\n",
    "**How does this work behind the scene?.**\n",
    "\n",
    "A function definition includes several important parts. First, let's look at the function header.\n",
    "\n",
    "Defining a function always starts with a 'def' keyword, to indicate that the code that follows is a function definition, and ends with a colon.\n",
    "\n",
    "**Following def** is the name of the function. In this case, cylinder_volume. This needs to be one word with no gaps. That's why this has an underscore.\n",
    "\n",
    "The rules for function names are the same as those for variable names. \n",
    "\n",
    "After the function name are parentheses that includes the arguments that the function expects, separated by commas.\n",
    "\n",
    "**Arguments are values passed as inputs to a function**\n",
    "\n",
    "These arguments are values that are passed in as inputs when the function is called and are used in the functions body.\n",
    "\n",
    "If you write functions that don't take arguments, then just leave the parentheses empty.\n",
    "\n",
    "Here👇🏽is an example of a function that takes no arguments."
   ]
  },
  {
   "cell_type": "code",
   "execution_count": 10,
   "metadata": {},
   "outputs": [],
   "source": [
    "def print_greeting():\n",
    "    print('Hello World!')\n",
    "# No argument is necessary"
   ]
  },
  {
   "cell_type": "code",
   "execution_count": 11,
   "metadata": {},
   "outputs": [
    {
     "name": "stdout",
     "output_type": "stream",
     "text": [
      "Hello World!\n"
     ]
    }
   ],
   "source": [
    "print_greeting()"
   ]
  },
  {
   "cell_type": "markdown",
   "metadata": {},
   "source": [
    "**Let's discuss the body of a function**\n",
    "\n",
    "The body of a function is indented after the header and is where the function does it's work.\n",
    "\n",
    "Within the body, we can refer to the argument variable anf define new variables.\n",
    "\n",
    "The pi variable defined in the variable above, is a local variable; meaning it can only be used within the body of the above function(cylinder_volume).\n",
    "\n",
    "Attempting to access this variable outside the function isn't possible. This is due to what is called variable scope, which determines which variables you have access to in Python.\n",
    "\n",
    "Often, the body of a function will include a return keyword which is used to give back an output value when the function is called.\n",
    "\n",
    "The output of the value that follows return is the output of the function."
   ]
  },
  {
   "cell_type": "code",
   "execution_count": 14,
   "metadata": {},
   "outputs": [],
   "source": [
    "def cylinder_volume(height, radius):\n",
    "    pi = 3.14159\n",
    "    volume = height * pi * radius ** 2\n",
    "    return volume"
   ]
  },
  {
   "cell_type": "code",
   "execution_count": 16,
   "metadata": {},
   "outputs": [
    {
     "data": {
      "text/plain": [
       "502.6544"
      ]
     },
     "execution_count": 16,
     "metadata": {},
     "output_type": "execute_result"
    }
   ],
   "source": [
    "cylinder_volume(10,4)"
   ]
  },
  {
   "cell_type": "markdown",
   "metadata": {},
   "source": [
    "In this👆🏼example, we return the value evaluated from the formula; the volume of the cylinder.\n",
    "\n",
    "Rather than return the value as it is calculated, an alternative technique would be to calculate the volume earlier in the function body and then store it in a variable named volume."
   ]
  },
  {
   "cell_type": "markdown",
   "metadata": {},
   "source": [
    "Functions like these can be imagined as little machines that take inputs or arguments and process them into output or return values.\n",
    "\n",
    "**Note:** Some functions like print don't return anything at all:👇🏽"
   ]
  },
  {
   "cell_type": "code",
   "execution_count": 17,
   "metadata": {},
   "outputs": [
    {
     "name": "stdout",
     "output_type": "stream",
     "text": [
      "I wish to register a complaint\n",
      "Output:  None\n"
     ]
    }
   ],
   "source": [
    "return_value = print('I wish to register a complaint')\n",
    "print(\"Output: \", return_value)"
   ]
  },
  {
   "cell_type": "markdown",
   "metadata": {},
   "source": [
    "Print displays text on the output window, but as we see here👆🏼, the value it returns is none.\n",
    "\n",
    "None is what a function will return by default if it doesn't explicitly return anything else.\n",
    "\n",
    "The difference between print and return is often confused. Print provides output to the console while return provides a value that you can store and work with and code later. \n",
    "\n",
    "It is not necessary that every function has a return statement."
   ]
  },
  {
   "cell_type": "markdown",
   "metadata": {},
   "source": [
    "**Print vs. Return in Functions**\n",
    "\n",
    "Here are two valid functions. One returns a value and one simply prints a value, without returning anything"
   ]
  },
  {
   "cell_type": "code",
   "execution_count": 19,
   "metadata": {},
   "outputs": [],
   "source": [
    "# this prints something, but does not return anything\n",
    "def show_plus_ten(num):\n",
    "    print(num + 10)"
   ]
  },
  {
   "cell_type": "code",
   "execution_count": 20,
   "metadata": {},
   "outputs": [],
   "source": [
    "# this returns something\n",
    "def add_ten(num):\n",
    "    return(num + 10)"
   ]
  },
  {
   "cell_type": "code",
   "execution_count": 21,
   "metadata": {},
   "outputs": [
    {
     "name": "stdout",
     "output_type": "stream",
     "text": [
      "Calling show_plus_ten...\n",
      "15\n",
      "Done calling\n",
      "This function returned: None\n",
      "\n",
      "Calling add_ten...\n",
      "Done calling\n",
      "This function returned: 15\n"
     ]
    }
   ],
   "source": [
    "print('Calling show_plus_ten...')\n",
    "return_value_1 = show_plus_ten(5)\n",
    "print('Done calling')\n",
    "print('This function returned: {}'.format(return_value_1))\n",
    "\n",
    "print('\\nCalling add_ten...')\n",
    "return_value_2 = add_ten(5)\n",
    "print('Done calling')\n",
    "print('This function returned: {}'.format(return_value_2))"
   ]
  },
  {
   "cell_type": "markdown",
   "metadata": {},
   "source": [
    "**Default Argument**\n",
    "\n",
    "Let's revisit the cylinder volume function, but with one modification. This function includes a default argument. If the redius value is not specified, the radius variable will default to 5 when used in the function body."
   ]
  },
  {
   "cell_type": "code",
   "execution_count": 22,
   "metadata": {},
   "outputs": [],
   "source": [
    "def cylinder_volume(height, radius=5):\n",
    "    pi = 3.14159\n",
    "    return height * pi * radius ** 2"
   ]
  },
  {
   "cell_type": "code",
   "execution_count": 28,
   "metadata": {},
   "outputs": [
    {
     "name": "stdout",
     "output_type": "stream",
     "text": [
      "785.3975\n",
      "785.3975\n"
     ]
    }
   ],
   "source": [
    "print(cylinder_volume(10,5))\n",
    "print(cylinder_volume(10))"
   ]
  },
  {
   "cell_type": "markdown",
   "metadata": {},
   "source": [
    "Calling the function like this 👉🏼 cylinder_volume(10,5), is the same thing as calling it like this 👉🏼 cylinder_volume(10). This is so because the radius is set to 5 if not specified."
   ]
  },
  {
   "cell_type": "markdown",
   "metadata": {},
   "source": [
    "Default arguments allows functions to use default values when those arguments are omitted. This is helpful because it make your code more concise in scenarios where there is a common value you can use for a variable, although you still want it to be customizable."
   ]
  },
  {
   "cell_type": "code",
   "execution_count": 25,
   "metadata": {},
   "outputs": [],
   "source": [
    "def cylinder_volume(height, radius=5):\n",
    "    pi = 3.14159\n",
    "    return height * pi * radius ** 2"
   ]
  },
  {
   "cell_type": "code",
   "execution_count": 26,
   "metadata": {},
   "outputs": [
    {
     "name": "stdout",
     "output_type": "stream",
     "text": [
      "1539.3791\n"
     ]
    }
   ],
   "source": [
    "print(cylinder_volume(10,7))"
   ]
  },
  {
   "cell_type": "markdown",
   "metadata": {},
   "source": [
    "In this👆🏼example, the default radius is 5 but we can still change this"
   ]
  },
  {
   "cell_type": "markdown",
   "metadata": {},
   "source": [
    "Also notice here👆🏼, we're passing values to our arguments by position. It is possible to pass values into ways by position and by name. Each of these functions will be evaluated in the same way. "
   ]
  },
  {
   "cell_type": "code",
   "execution_count": 29,
   "metadata": {},
   "outputs": [],
   "source": [
    "def cylinder_volume(height, radius=5):\n",
    "    pi = 3.14159\n",
    "    return height * pi * radius ** 2"
   ]
  },
  {
   "cell_type": "code",
   "execution_count": 30,
   "metadata": {},
   "outputs": [
    {
     "name": "stdout",
     "output_type": "stream",
     "text": [
      "1539.3791\n",
      "1539.3791\n"
     ]
    }
   ],
   "source": [
    "print(cylinder_volume(10,7))\n",
    "print(cylinder_volume(height = 10, radius = 7))"
   ]
  },
  {
   "cell_type": "markdown",
   "metadata": {},
   "source": [
    "Here👆🏼, one is simply taking arguments by the position while this function is accepting arguments by name.\n",
    "\n",
    "There are some nuances for when you can perform the passing of values in each of these ways"
   ]
  },
  {
   "cell_type": "markdown",
   "metadata": {},
   "source": [
    "**Quiz: Population Density Function**\n",
    "\n",
    "Write a function named population_density that takes two arguments, population and land_area, and returns a population density calculated from those values. I've included two test cases that you can use to verify that your function works correctly. Once you've written your function, use the Test Run button to test your code"
   ]
  },
  {
   "cell_type": "code",
   "execution_count": 32,
   "metadata": {},
   "outputs": [
    {
     "name": "stdout",
     "output_type": "stream",
     "text": [
      "expected result: 10, actual result: 10.0\n",
      "expected result: 7123.6902801, actual result: 7123.690280065897\n"
     ]
    }
   ],
   "source": [
    "# write your function here\n",
    "def population_density(population, land_area):\n",
    "    return population / land_area\n",
    "    \n",
    "\n",
    "# test cases for your function\n",
    "test1 = population_density(10, 1)\n",
    "expected_result1 = 10\n",
    "print(\"expected result: {}, actual result: {}\".format(expected_result1, test1))\n",
    "\n",
    "test2 = population_density(864816, 121.4)\n",
    "expected_result2 = 7123.6902801\n",
    "print(\"expected result: {}, actual result: {}\".format(expected_result2, test2))"
   ]
  },
  {
   "cell_type": "markdown",
   "metadata": {},
   "source": [
    "**Quiz: readable_timedelta**\n",
    "\n",
    "Write a function named readable_timedelta. The function should take one argument, an integer days, and return a string that says how many weeks and days that is"
   ]
  },
  {
   "cell_type": "code",
   "execution_count": 36,
   "metadata": {},
   "outputs": [
    {
     "name": "stdout",
     "output_type": "stream",
     "text": [
      "1 week(s) and 3 day(s).\n"
     ]
    }
   ],
   "source": [
    "# write your function here\n",
    "def readable_timedelta(days):\n",
    "   # use integer division to get the number of weeks\n",
    "    weeks = days // 7\n",
    "    # use % to get the number of days that remain\n",
    "    remainder = days % 7\n",
    "    return \"{} week(s) and {} day(s).\".format(weeks, remainder)\n",
    "    \n",
    "# test your function\n",
    "print(readable_timedelta(10))"
   ]
  },
  {
   "cell_type": "markdown",
   "metadata": {},
   "source": [
    "**Variable Scope**\n",
    "\n",
    "Scope refers to which parts of a program a variable can be referenced or used from.\n",
    "\n",
    "Consider these👇🏽 two functions; word_count, nearest_square."
   ]
  },
  {
   "cell_type": "code",
   "execution_count": 37,
   "metadata": {},
   "outputs": [],
   "source": [
    "def word_count(document, search_term):\n",
    "    words = document.split()\n",
    "    answer = 0\n",
    "    for word in words:\n",
    "        if word == search_term:\n",
    "            answer += 1\n",
    "    return answer"
   ]
  },
  {
   "cell_type": "code",
   "execution_count": 39,
   "metadata": {},
   "outputs": [
    {
     "ename": "NameError",
     "evalue": "name 'answer' is not defined",
     "output_type": "error",
     "traceback": [
      "\u001b[0;31m---------------------------------------------------------------------------\u001b[0m",
      "\u001b[0;31mNameError\u001b[0m                                 Traceback (most recent call last)",
      "\u001b[0;32m<ipython-input-39-712467a30f4f>\u001b[0m in \u001b[0;36m<module>\u001b[0;34m\u001b[0m\n\u001b[1;32m      4\u001b[0m         \u001b[0manswer\u001b[0m \u001b[0;34m+=\u001b[0m \u001b[0;36m1\u001b[0m\u001b[0;34m\u001b[0m\u001b[0;34m\u001b[0m\u001b[0m\n\u001b[1;32m      5\u001b[0m     \u001b[0;32mreturn\u001b[0m \u001b[0manswer\u001b[0m\u001b[0;34m**\u001b[0m\u001b[0;36m2\u001b[0m\u001b[0;34m\u001b[0m\u001b[0;34m\u001b[0m\u001b[0m\n\u001b[0;32m----> 6\u001b[0;31m \u001b[0mprint\u001b[0m\u001b[0;34m(\u001b[0m\u001b[0manswer\u001b[0m\u001b[0;34m)\u001b[0m\u001b[0;34m\u001b[0m\u001b[0;34m\u001b[0m\u001b[0m\n\u001b[0m",
      "\u001b[0;31mNameError\u001b[0m: name 'answer' is not defined"
     ]
    }
   ],
   "source": [
    "def nearest_square(limit):\n",
    "    answer = 0\n",
    "    while (answer + 1) ** 2 < limit:\n",
    "        answer += 1\n",
    "    return answer**2\n",
    "print(answer)"
   ]
  },
  {
   "cell_type": "markdown",
   "metadata": {},
   "source": [
    "The first function uses answer to count words in a document.\n",
    "The second function uses answer to check values while searching for the nearest square. Both functions include the answer variable, but they are distinct variables that can referenced within their respective functions.\n",
    "\n",
    "Alternatively, we might have a variable defined outside of function like this👇🏽"
   ]
  },
  {
   "cell_type": "code",
   "execution_count": 5,
   "metadata": {},
   "outputs": [
    {
     "name": "stdout",
     "output_type": "stream",
     "text": [
      "104\n",
      "104\n"
     ]
    }
   ],
   "source": [
    "ans = 104\n",
    "def show_ans():\n",
    "    print(ans)\n",
    "show_ans()\n",
    "print(ans)"
   ]
  },
  {
   "cell_type": "markdown",
   "metadata": {},
   "source": [
    "And we can access it anywhere outside or within these functions.\n",
    "\n",
    "Scope is essential to understanding how information is passed throughout programs in python and really any programming language."
   ]
  },
  {
   "cell_type": "markdown",
   "metadata": {},
   "source": [
    "It's important to consider scope when using variables in functions. If a variable is created inside a function, it can only be used within that function. Accessing it outside that function is not possible. \n",
    "\n",
    "An example is this👇🏽"
   ]
  },
  {
   "cell_type": "code",
   "execution_count": 1,
   "metadata": {},
   "outputs": [
    {
     "ename": "NameError",
     "evalue": "name 'word' is not defined",
     "output_type": "error",
     "traceback": [
      "\u001b[0;31m---------------------------------------------------------------------------\u001b[0m",
      "\u001b[0;31mNameError\u001b[0m                                 Traceback (most recent call last)",
      "\u001b[0;32m<ipython-input-1-e6789a40f0f1>\u001b[0m in \u001b[0;36m<module>\u001b[0;34m\u001b[0m\n\u001b[1;32m      3\u001b[0m \u001b[0;32mdef\u001b[0m \u001b[0msome_function\u001b[0m\u001b[0;34m(\u001b[0m\u001b[0;34m)\u001b[0m\u001b[0;34m:\u001b[0m\u001b[0;34m\u001b[0m\u001b[0;34m\u001b[0m\u001b[0m\n\u001b[1;32m      4\u001b[0m     \u001b[0mword\u001b[0m \u001b[0;34m=\u001b[0m \u001b[0;34m\"hello\"\u001b[0m\u001b[0;34m\u001b[0m\u001b[0;34m\u001b[0m\u001b[0m\n\u001b[0;32m----> 5\u001b[0;31m \u001b[0mprint\u001b[0m\u001b[0;34m(\u001b[0m\u001b[0mword\u001b[0m\u001b[0;34m)\u001b[0m\u001b[0;34m\u001b[0m\u001b[0;34m\u001b[0m\u001b[0m\n\u001b[0m",
      "\u001b[0;31mNameError\u001b[0m: name 'word' is not defined"
     ]
    }
   ],
   "source": [
    "# This will result in an error\n",
    "#word = 'Colab'\n",
    "def some_function():\n",
    "    word = \"hello\"\n",
    "print(word)"
   ]
  },
  {
   "cell_type": "markdown",
   "metadata": {},
   "source": [
    "In the example above👆🏼 and the example below👇🏽, word is said to have scope that is only local to each function. This means you can use the same name for different variables that are used in different functions."
   ]
  },
  {
   "cell_type": "code",
   "execution_count": 3,
   "metadata": {},
   "outputs": [],
   "source": [
    "# This works fine\n",
    "def some_function():\n",
    "    word = \"hello\"\n",
    "\n",
    "def another_function():\n",
    "    word = \"goodbye\""
   ]
  },
  {
   "cell_type": "markdown",
   "metadata": {},
   "source": [
    "Variables defined outside functions, as in the example below👇🏽, can still be accessed within a function. Here, word is said to have a global scope."
   ]
  },
  {
   "cell_type": "code",
   "execution_count": 4,
   "metadata": {},
   "outputs": [
    {
     "name": "stdout",
     "output_type": "stream",
     "text": [
      "hello\n"
     ]
    }
   ],
   "source": [
    "# This works fine\n",
    "word = \"hello\"\n",
    "\n",
    "def some_function():\n",
    "    print(word)\n",
    "\n",
    "some_function()"
   ]
  },
  {
   "cell_type": "markdown",
   "metadata": {},
   "source": [
    "Notice that we can still access the value of the global variable word within this function. However, the value of a global variable can not be modified inside the function. If you want to modify that variable's value inside this function, it should be passed in as an argument"
   ]
  },
  {
   "cell_type": "markdown",
   "metadata": {},
   "source": [
    "**More on Variable Scope**\n",
    "\n",
    "When you program, you'll often find that similar ideas come up again and again. You'll use variables for things like counting, iterating and accumulating values to return. In order to write readable code, you'll find yourself wanting to use similar names for similar ideas. As soon as you put multiple piece of code together (for instance, multiple functions or function calls in a single script) you might find that you want to use the same name for two separate concepts.\n",
    "\n",
    "Fortunately, you don't need to come up with new names endlessly. Reusing names for objects is OK as long as you keep them in separate scope."
   ]
  },
  {
   "cell_type": "markdown",
   "metadata": {},
   "source": [
    "**Good practice:**\n",
    "\n",
    "It is best to define variables in the smallest scope they will be needed in. While functions can refer to variables defined in a larger scope, this is very rarely a good idea since you may not know what variables you have defined if your program has a lot of variables."
   ]
  },
  {
   "cell_type": "code",
   "execution_count": 2,
   "metadata": {},
   "outputs": [
    {
     "ename": "UnboundLocalError",
     "evalue": "local variable 'egg_count' referenced before assignment",
     "output_type": "error",
     "traceback": [
      "\u001b[0;31m---------------------------------------------------------------------------\u001b[0m",
      "\u001b[0;31mUnboundLocalError\u001b[0m                         Traceback (most recent call last)",
      "\u001b[0;32m<ipython-input-2-32dca0f4d031>\u001b[0m in \u001b[0;36m<module>\u001b[0;34m\u001b[0m\n\u001b[1;32m      4\u001b[0m     \u001b[0megg_count\u001b[0m \u001b[0;34m+=\u001b[0m \u001b[0;36m12\u001b[0m \u001b[0;31m# purchase a dozen eggs\u001b[0m\u001b[0;34m\u001b[0m\u001b[0;34m\u001b[0m\u001b[0m\n\u001b[1;32m      5\u001b[0m \u001b[0;34m\u001b[0m\u001b[0m\n\u001b[0;32m----> 6\u001b[0;31m \u001b[0mbuy_eggs\u001b[0m\u001b[0;34m(\u001b[0m\u001b[0;34m)\u001b[0m\u001b[0;34m\u001b[0m\u001b[0;34m\u001b[0m\u001b[0m\n\u001b[0m",
      "\u001b[0;32m<ipython-input-2-32dca0f4d031>\u001b[0m in \u001b[0;36mbuy_eggs\u001b[0;34m()\u001b[0m\n\u001b[1;32m      2\u001b[0m \u001b[0;34m\u001b[0m\u001b[0m\n\u001b[1;32m      3\u001b[0m \u001b[0;32mdef\u001b[0m \u001b[0mbuy_eggs\u001b[0m\u001b[0;34m(\u001b[0m\u001b[0;34m)\u001b[0m\u001b[0;34m:\u001b[0m\u001b[0;34m\u001b[0m\u001b[0;34m\u001b[0m\u001b[0m\n\u001b[0;32m----> 4\u001b[0;31m     \u001b[0megg_count\u001b[0m \u001b[0;34m+=\u001b[0m \u001b[0;36m12\u001b[0m \u001b[0;31m# purchase a dozen eggs\u001b[0m\u001b[0;34m\u001b[0m\u001b[0;34m\u001b[0m\u001b[0m\n\u001b[0m\u001b[1;32m      5\u001b[0m \u001b[0;34m\u001b[0m\u001b[0m\n\u001b[1;32m      6\u001b[0m \u001b[0mbuy_eggs\u001b[0m\u001b[0;34m(\u001b[0m\u001b[0;34m)\u001b[0m\u001b[0;34m\u001b[0m\u001b[0;34m\u001b[0m\u001b[0m\n",
      "\u001b[0;31mUnboundLocalError\u001b[0m: local variable 'egg_count' referenced before assignment"
     ]
    }
   ],
   "source": [
    "egg_count = 0\n",
    "\n",
    "def buy_eggs():\n",
    "    egg_count += 12 # purchase a dozen eggs\n",
    "\n",
    "buy_eggs()"
   ]
  },
  {
   "cell_type": "markdown",
   "metadata": {},
   "source": [
    "This👆🏼 causes an UnboundLocalError, since Python doesn't allow functions to modify variables that are outside the function's scope. A better way would be to pass the variable as an argument and reassign it outside the function."
   ]
  },
  {
   "cell_type": "code",
   "execution_count": 1,
   "metadata": {},
   "outputs": [],
   "source": [
    "# A better way to write this would be:\n",
    "egg_count = 0\n",
    "\n",
    "def buy_eggs(count):\n",
    "    return count + 12  # purchase a dozen eggs\n",
    "\n",
    "egg_count = buy_eggs(egg_count)"
   ]
  },
  {
   "cell_type": "code",
   "execution_count": 2,
   "metadata": {},
   "outputs": [
    {
     "name": "stdout",
     "output_type": "stream",
     "text": [
      "12\n"
     ]
    }
   ],
   "source": [
    "print(egg_count)"
   ]
  },
  {
   "cell_type": "raw",
   "metadata": {},
   "source": [
    "In the above explanation, you saw that within a function, we can print a global variable's value successfully without an error. This worked because we were simply accessing the value of the variable. If we try to change or reassign this global variable, however, as we do in this code, we get an error. Python doesn't allow functions to modify variables that aren't in the function's scope."
   ]
  },
  {
   "cell_type": "markdown",
   "metadata": {},
   "source": [
    "**Documentation**\n",
    "\n",
    "One of the key advantages of functions is that they can break a program down to smaller chunks.\n",
    "This makes codes easier to write and also to read because the pieces of your code, functions are readable.\n",
    "\n",
    "If a program needs to calculate volumes of multiple cylinders, it can call the cylinder volume function multiple times, which is much cleaner than writing out the formula over and over again."
   ]
  },
  {
   "cell_type": "code",
   "execution_count": 3,
   "metadata": {},
   "outputs": [],
   "source": [
    "def cylinder_volume(height, radius):\n",
    "    pi = 3.14159\n",
    "    return height * pi * radius ** 2"
   ]
  },
  {
   "cell_type": "code",
   "execution_count": 4,
   "metadata": {},
   "outputs": [
    {
     "name": "stdout",
     "output_type": "stream",
     "text": [
      "282.7431\n",
      "552.91984\n",
      "942.4769999999999\n"
     ]
    }
   ],
   "source": [
    "# Using a function 3 times\n",
    "print(cylinder_volume(10,3))\n",
    "print(cylinder_volume(11,4))\n",
    "print(cylinder_volume(12,5))"
   ]
  },
  {
   "cell_type": "code",
   "execution_count": 6,
   "metadata": {},
   "outputs": [
    {
     "name": "stdout",
     "output_type": "stream",
     "text": [
      "282.7431\n",
      "552.91984\n",
      "942.4769999999999\n"
     ]
    }
   ],
   "source": [
    "# Writing the cylinder volume formula 3 times\n",
    "pi = 3.14159\n",
    "print(10 * pi * 3 ** 2)\n",
    "print(11 * pi * 4 ** 2)\n",
    "print(12 * pi * 5 ** 2)"
   ]
  },
  {
   "cell_type": "markdown",
   "metadata": {},
   "source": [
    "Functions make code easier to read because they give human readable names to processes. While the cylinder volume formula isn't that complicated, it is still harder to recognize than a precisely named functions."
   ]
  },
  {
   "cell_type": "markdown",
   "metadata": {},
   "source": [
    "**Docstrings**\n",
    "\n",
    "There is an additional technique that makes functions more readable, documentation strings or docstrings.\n",
    "\n",
    "Docstrings are a type of comment used to explain the purpose of a function and hoe it should be used.\n",
    "\n",
    "Here👇🏽is a function for population density with a docstring"
   ]
  },
  {
   "cell_type": "code",
   "execution_count": 7,
   "metadata": {},
   "outputs": [],
   "source": [
    "def population_density(population, land_area):\n",
    "    \"\"\"Calculate the population density of an area.\n",
    "\n",
    "    INPUT:\n",
    "    population: int. The population of that area\n",
    "    land_area: int or float. This function is unit-agnostic, if you pass in values in terms\n",
    "    of square km or square miles the function will return a density in those units.\n",
    "\n",
    "    OUTPUT: \n",
    "    population_density: population / land_area. The population density of a particular area.\n",
    "    \"\"\"\n",
    "    return population / land_area"
   ]
  },
  {
   "cell_type": "markdown",
   "metadata": {},
   "source": [
    "Docstrings are surrounded by triple quotes. The first line of the docstring is a brief explanation of the function's purpose. \n",
    "\n",
    "If you feel that this is sufficient documentation you can end the docstring at this point; single line docstrings are perfectly acceptable, as in the example below.👇🏽"
   ]
  },
  {
   "cell_type": "code",
   "execution_count": 8,
   "metadata": {},
   "outputs": [],
   "source": [
    "def population_density(population, land_area):\n",
    "    \"\"\"Calculate the population density of an area. \"\"\"\n",
    "    return population / land_area"
   ]
  },
  {
   "cell_type": "markdown",
   "metadata": {},
   "source": [
    "If you think that a longer description would be appropriate for the function, you can add more information after the one-line summary. In the example above, you can see that we wrote an explanation of the function's arguments, stating the purpose and types of each one. It's also common to provide some description of the function's output.\n",
    "\n",
    "Every piece of the docstring is optional, however, docstrings are a part of good coding practice. You can read more about docstring conventions https://www.python.org/dev/peps/pep-0257"
   ]
  },
  {
   "cell_type": "markdown",
   "metadata": {},
   "source": [
    "**Quiz: Write a Docstring**\n",
    "\n",
    "Write a docstring for the readable_timedelta function you defined earlier! Remember the way you write your docstrings is pretty flexible! Look through Python's docstring conventions here https://www.python.org/dev/peps/pep-0257/ and check out this Stack Overflow page for some inspiration! https://stackoverflow.com/questions/3898572/what-is-the-standard-python-docstring-format"
   ]
  },
  {
   "cell_type": "code",
   "execution_count": 9,
   "metadata": {},
   "outputs": [],
   "source": [
    "def readable_timedelta(days):\n",
    "    # insert your docstring here\n",
    "    \"\"\"This function calculates and outputs days and weeks in a readable format.\n",
    "    \n",
    "    INPUT:\n",
    "    days: int. The number of days in week\n",
    "    \n",
    "    OUTPUT: A division of days by 7 (weeks)\n",
    "    and the remainder after the division (remainder)\n",
    "    \"\"\"\n",
    "\n",
    "    weeks = days // 7\n",
    "    remainder = days % 7\n",
    "    return \"{} week(s) and {} day(s)\".format(weeks, remainder)"
   ]
  },
  {
   "cell_type": "markdown",
   "metadata": {},
   "source": [
    "**Lambda Expressions**\n",
    "\n",
    "In Python, you can use lambda expression to create anonymous functions. That is functions that don't have a name. They are very helpful for creating quick functions that aren't really needed later in your code.\n",
    "\n",
    "Later, we'll learn about higher-order functions; functions that take in other functions as arguments. That's where lambda expression become especially useful."
   ]
  },
  {
   "cell_type": "markdown",
   "metadata": {},
   "source": [
    "Let's compare the structure of a function and a lambda expression.\n",
    "\n",
    "Here👇🏽is a simple function that doubles as a number. It takes in a number x and returns x multiplied by 2. Calling double 3 would return 6."
   ]
  },
  {
   "cell_type": "code",
   "execution_count": 10,
   "metadata": {},
   "outputs": [],
   "source": [
    "def double(x):\n",
    "    return x * 2"
   ]
  },
  {
   "cell_type": "code",
   "execution_count": 12,
   "metadata": {},
   "outputs": [
    {
     "data": {
      "text/plain": [
       "6"
      ]
     },
     "execution_count": 12,
     "metadata": {},
     "output_type": "execute_result"
    }
   ],
   "source": [
    "double(3)"
   ]
  },
  {
   "cell_type": "markdown",
   "metadata": {},
   "source": [
    "Here👇🏽is the equivalent in a lambda function:"
   ]
  },
  {
   "cell_type": "code",
   "execution_count": 17,
   "metadata": {},
   "outputs": [],
   "source": [
    "double = lambda x: x * 2"
   ]
  },
  {
   "cell_type": "code",
   "execution_count": 18,
   "metadata": {},
   "outputs": [
    {
     "data": {
      "text/plain": [
       "6"
      ]
     },
     "execution_count": 18,
     "metadata": {},
     "output_type": "execute_result"
    }
   ],
   "source": [
    "double(3)"
   ]
  },
  {
   "cell_type": "markdown",
   "metadata": {},
   "source": [
    "The lambda keyword is used to indicate that this is a lambda expression. Following lambda are one or more arguments for the anonymous function and then a colon.\n",
    "\n",
    "These are equivalent, similar to the way arguments names in a function are arbitrary. Last is an expression that is evaluated and returned in this function.\n",
    "\n",
    "This is a lot like the expression you might see as a return statement in a function. With this structure, lambda expressions aren't ideal for complex functions, but can be very useful for short simple functions."
   ]
  },
  {
   "cell_type": "markdown",
   "metadata": {},
   "source": [
    "If you want to specify multiple arguments in a lambda function, you can include them before the colon, separated by commas. Here👇🏽is a lambda function that multiplies 2 numbers together."
   ]
  },
  {
   "cell_type": "code",
   "execution_count": 19,
   "metadata": {},
   "outputs": [],
   "source": [
    "multiply = lambda x,y: x * y"
   ]
  },
  {
   "cell_type": "code",
   "execution_count": 20,
   "metadata": {},
   "outputs": [
    {
     "data": {
      "text/plain": [
       "72"
      ]
     },
     "execution_count": 20,
     "metadata": {},
     "output_type": "execute_result"
    }
   ],
   "source": [
    "multiply(9,8)"
   ]
  },
  {
   "cell_type": "markdown",
   "metadata": {},
   "source": [
    "**Quiz: Lambda with Map**\n",
    "\n",
    "map() is a higher-order built-in function that takes a function and iterable as inputs, and returns an iterator that applies the function to each element of the iterable. The code below uses map() to find the mean of each list in numbers to create the list averages. Give it a test run to see what happens.\n"
   ]
  },
  {
   "cell_type": "code",
   "execution_count": 21,
   "metadata": {},
   "outputs": [
    {
     "name": "stdout",
     "output_type": "stream",
     "text": [
      "[57.0, 58.2, 50.6, 27.2]\n"
     ]
    }
   ],
   "source": [
    "numbers = [\n",
    "              [34, 63, 88, 71, 29],\n",
    "              [90, 78, 51, 27, 45],\n",
    "              [63, 37, 85, 46, 22],\n",
    "              [51, 22, 34, 11, 18]\n",
    "           ]\n",
    "\n",
    "def mean(num_list):\n",
    "    return sum(num_list) / len(num_list)\n",
    "\n",
    "averages = list(map(mean, numbers))\n",
    "print(averages)\n"
   ]
  },
  {
   "cell_type": "markdown",
   "metadata": {},
   "source": [
    "Rewrite this👆🏼 code to be more concise by replacing the mean function with a lambda expression defined within the call to map()."
   ]
  },
  {
   "cell_type": "code",
   "execution_count": 22,
   "metadata": {},
   "outputs": [
    {
     "name": "stdout",
     "output_type": "stream",
     "text": [
      "[57.0, 58.2, 50.6, 27.2]\n"
     ]
    }
   ],
   "source": [
    "averages = list(map(lambda x: sum(x) / len(x), numbers))\n",
    "print(averages)"
   ]
  },
  {
   "cell_type": "markdown",
   "metadata": {},
   "source": [
    "**Quiz: Lambda with Filter**\n",
    "\n",
    "filter() is a higher-order built-in function that takes a function and iterable as inputs and returns an iterator with the elements from the iterable for which the function returns True. The code below uses filter() to get the names in cities that are fewer than 10 characters long to create the list short_cities. Give it a test run to see what happens."
   ]
  },
  {
   "cell_type": "code",
   "execution_count": 23,
   "metadata": {},
   "outputs": [
    {
     "name": "stdout",
     "output_type": "stream",
     "text": [
      "['Chicago', 'Denver', 'Boston']\n"
     ]
    }
   ],
   "source": [
    "cities = [\"New York City\", \"Los Angeles\", \"Chicago\", \"Mountain View\", \"Denver\", \"Boston\"]\n",
    "\n",
    "def is_short(name):\n",
    "    return len(name) < 10\n",
    "\n",
    "short_cities = list(filter(is_short, cities))\n",
    "print(short_cities)"
   ]
  },
  {
   "cell_type": "markdown",
   "metadata": {},
   "source": [
    "Rewrite this👆🏼 code to be more concise by replacing the is_short function with a lambda expression defined within the call to filter()."
   ]
  },
  {
   "cell_type": "code",
   "execution_count": 27,
   "metadata": {},
   "outputs": [
    {
     "name": "stdout",
     "output_type": "stream",
     "text": [
      "['Chicago', 'Denver', 'Boston']\n"
     ]
    }
   ],
   "source": [
    "short_cities = list(filter(lambda x: len(x) < 10, cities))\n",
    "print(short_cities)"
   ]
  },
  {
   "cell_type": "markdown",
   "metadata": {},
   "source": [
    "If you want to learn more about writing functions, check out https://youtu.be/rrBJVMyD-Gs\n",
    "\n",
    "Here's a great blog post about yield and generators from Jeff Knupp. https://jeffknupp.com/blog/2013/04/07/improve-your-python-yield-and-generators-explained/"
   ]
  },
  {
   "cell_type": "markdown",
   "metadata": {},
   "source": [
    "**Python Scripting**\n",
    "\n",
    "As Mac OS user, I will be using the Mac terminal and the sublime text editor to run some of the commands😀😀"
   ]
  },
  {
   "cell_type": "markdown",
   "metadata": {},
   "source": [
    "**Programming Environment Setup**\n",
    "\n",
    "There are many ways to setup a programming environment and there isn't a right or wrong way to go about it. However, you might like to see this setup to get some ideas. \n",
    "\n",
    "I am using an editor called **Sublime Text**.https://www.sublimetext.com/3\n",
    "\n",
    "There are many other text editors e.g. atom https://atom.io/ , vscode https://code.visualstudio.com/ , emacs https://www.gnu.org/software/emacs/download.html , vim https://www.vim.org/download.php etcetera.\n",
    "\n",
    "A text editor is really different from a word processor.\n",
    "\n",
    "Codes needs to be written line by line with intentional line breaks and indentations that formally change how the code is read and run.\n",
    "\n",
    "Good text editors have simple but vital features such as numbers and syntax highlighting.\n",
    "\n",
    "You will see the different ways editors highlight texts based on the type of words and objects it recognizes from the Python language.\n",
    "\n",
    "Syntax highlighting really makes code more readable and organized. It can also prevent us from making some syntax errors.\n",
    "\n",
    "Editors are really customizable to suit your style. You can check the editor's preference settings for personalized changes.\n",
    "\n",
    "When writing scripts, it's advisable to have your terminal open side by side with your editor.\n",
    "\n",
    "You use the open terminal to test the code you're writing by running the script for errors. Note: It is expected that the terminal mirrors the path where the code is saved."
   ]
  },
  {
   "cell_type": "markdown",
   "metadata": {},
   "source": [
    "**Editing a Python Script**\n",
    "\n",
    "Open up a brand new empty file in your text editor, name it and save it in the place where you're keeping the files for your Python learning. Put the following code into it."
   ]
  },
  {
   "cell_type": "code",
   "execution_count": 2,
   "metadata": {},
   "outputs": [],
   "source": [
    "how_many_snakes = 1\n",
    "snake_string = \"\"\"\n",
    "Welcome to Python3!\n",
    "\n",
    "             ____\n",
    "            / . .\\\\\n",
    "            \\  ---<\n",
    "             \\  /\n",
    "   __________/ /\n",
    "-=:___________/\n",
    "\n",
    "<3, Juno\n",
    "\"\"\"\n",
    "\n",
    "\n",
    "print(snake_string * how_many_snakes)"
   ]
  },
  {
   "cell_type": "markdown",
   "metadata": {},
   "source": [
    "Run the file with Python 3, and put the output in the the cell below👇🏽"
   ]
  },
  {
   "cell_type": "markdown",
   "metadata": {},
   "source": [
    "**Scripting with Raw Input**\n",
    "\n",
    "Now that you have a local envronment all setup, it's time to try out different inputs. Programs can get a lot more interesting when they interact with the external information.\n",
    "\n",
    "First, let's try getting raw input from the user;"
   ]
  },
  {
   "cell_type": "code",
   "execution_count": null,
   "metadata": {},
   "outputs": [],
   "source": [
    "# On the editor, give the file a name; 'input_demo.py'\n",
    "name = input('Enter a name: ')\n",
    "print('Hello', name.title())"
   ]
  },
  {
   "cell_type": "markdown",
   "metadata": {},
   "source": [
    "When run; 'python input_demo.py', this program prompts a user to enter a name and picks in that input as a string to use it's code.\n",
    "\n",
    "This👆🏼input function is what takes in the user's input as a string.\n",
    "\n",
    "It has an optional argument that you can use to specify a prompt shown to a user.\n",
    "\n",
    "Since the input function interprets input as a string, you'll need to wrap the result with int or float if you want to use it as a number."
   ]
  },
  {
   "cell_type": "code",
   "execution_count": null,
   "metadata": {},
   "outputs": [],
   "source": [
    "# On the editor\n",
    "num = input('Enter a number: ')\n",
    "num += 20\n",
    "print(num)"
   ]
  },
  {
   "cell_type": "markdown",
   "metadata": {},
   "source": [
    "If you don't wrap it with int👆🏼 and try to use the input as a number, you'll get an error."
   ]
  },
  {
   "cell_type": "code",
   "execution_count": null,
   "metadata": {},
   "outputs": [],
   "source": [
    "# On the editor\n",
    "num = int(input('Enter a number: '))\n",
    "num += 20\n",
    "print(num)"
   ]
  },
  {
   "cell_type": "markdown",
   "metadata": {},
   "source": [
    "Here👆🏼, I wrapped the int and added 20 to it."
   ]
  },
  {
   "cell_type": "code",
   "execution_count": null,
   "metadata": {},
   "outputs": [],
   "source": [
    "# On the editor\n",
    "num = float(input('Enter a number: '))\n",
    "num += 20\n",
    "print(num)"
   ]
  },
  {
   "cell_type": "markdown",
   "metadata": {},
   "source": [
    "But what if the user inputs a non integer number? You can just wrap it as a float👆🏼 to catch non integer numbers as well."
   ]
  },
  {
   "cell_type": "code",
   "execution_count": null,
   "metadata": {},
   "outputs": [],
   "source": [
    "# On the editor\n",
    "num = float(input('Enter a number: '))\n",
    "print('Hello' * num)"
   ]
  },
  {
   "cell_type": "markdown",
   "metadata": {},
   "source": [
    "But what if you need an integer like, if you're multiplying a string by it to repeat it a certain number of times?\n",
    "This👆🏼 wouldn't work with the float even if it's an integer number."
   ]
  },
  {
   "cell_type": "code",
   "execution_count": null,
   "metadata": {},
   "outputs": [],
   "source": [
    "# On the editor\n",
    "num = int(float(input('Enter a number: ')))\n",
    "print('Hello' * num)"
   ]
  },
  {
   "cell_type": "markdown",
   "metadata": {},
   "source": [
    "We can actually wrap this👆🏼 int with float and then convert it into an int like this👆🏼\n",
    "\n",
    "Clearly, trying to imagine and handle every possible case with user input can quickly get complicated.\n",
    "\n",
    "There are many scenarios that bring up errors, but this will be learned as you experiment with practice"
   ]
  },
  {
   "cell_type": "code",
   "execution_count": null,
   "metadata": {},
   "outputs": [],
   "source": [
    "# On the editor\n",
    "x = eval(input('Enter an expression: '))\n",
    "print(x)"
   ]
  },
  {
   "cell_type": "markdown",
   "metadata": {},
   "source": [
    "Here's👆🏼 another way we can interpret user input; eval is built-in function that evaluates a string as a line of python."
   ]
  },
  {
   "cell_type": "code",
   "execution_count": null,
   "metadata": {},
   "outputs": [],
   "source": [
    "# On the editor\n",
    "num = 30\n",
    "x = eval('num + 42')\n",
    "print(x)"
   ]
  },
  {
   "cell_type": "markdown",
   "metadata": {},
   "source": [
    "You can even include variables in the string like this👆🏼"
   ]
  },
  {
   "cell_type": "markdown",
   "metadata": {},
   "source": [
    "**Quiz: Generate Messages**\n",
    "\n",
    "Imagine you're a teacher who needs to send a message to each of your students reminding them of their missing assignments and grade in the class. You have each of their names, number of missing assignments, and grades on a spreadsheet and just have to insert them into placeholders in this message you came up with:\n",
    "\n",
    "*Hi [insert student name],*\n",
    "\n",
    "*This is a reminder that you have [insert number of missing assignments] assignments left to submit before you can graduate. Your current grade is [insert current grade] and can increase to [insert potential grade] if you submit all assignments before the due date.*\n",
    "\n",
    "You can just copy and paste this message to each student and manually insert the appropriate values each time, but instead you're going to write a program that does this for you.\n",
    "\n",
    "**Write a script that does the following:**\n",
    "\n",
    "- Ask for user input 3 times. Once for a list of names, once for a list of missing assignment counts, and once for a list of grades. Use this input to create lists for names, assignments, and grades.\n",
    "\n",
    "- Use a loop to print the message for each student with the correct values. The potential grade is simply the current grade added to two times the number of missing assignments."
   ]
  },
  {
   "cell_type": "code",
   "execution_count": 6,
   "metadata": {
    "scrolled": true
   },
   "outputs": [
    {
     "name": "stdout",
     "output_type": "stream",
     "text": [
      "Enter names separated by commas:pablo\n",
      "Enter assignment counts separated by commas:2\n",
      "Enter grades separated by commas:23\n",
      "Pablo\n",
      "Hi Pablo,\n",
      "\n",
      "This is a reminder that you have 2 assignments left to submit before you can graduate. You're current grade is 23 and can increase to 27 if you submit all assignments before the due date.\n",
      "\n",
      "\n"
     ]
    }
   ],
   "source": [
    "names = input(\"Enter names separated by commas:\").title().split(\",\") # get and process input for a list of names\n",
    "assignments = input(\"Enter assignment counts separated by commas:\").split(\",\") # get and process input for a list of the number of assignments\n",
    "grades = input(\"Enter grades separated by commas:\").split(\",\") # get and process input for a list of grades\n",
    "\n",
    "# message string to be used for each student\n",
    "# HINT: use .format() with this string in your for loop\n",
    "message = \"Hi {},\\n\\nThis is a reminder that you have {} assignments left to \\\n",
    "submit before you can graduate. You're current grade is {} and can increase \\\n",
    "to {} if you submit all assignments before the due date.\\n\\n\"\n",
    "\n",
    "# write a for loop that iterates through each set of names, assignments, and grades to print each student's message\n",
    "for name, assignment, grade in zip(names, assignments, grades):\n",
    "    print(message.format(name, assignment, grade, int(grade) + int(assignment)*2))"
   ]
  },
  {
   "cell_type": "markdown",
   "metadata": {},
   "source": [
    "**Errors and Exceptions**\n",
    "\n",
    "As you saw in the last session, trying to handle every kind of scenario when dealing with unexpected input can be a bit much. \n",
    "\n",
    "There's actually a much simpler way of dealing with this in Python. Here👇🏽, you'll learn to handle errors with try and except blocks.\n",
    "\n",
    "What are errors in Python? In this notebook, we've have encountered several types of errors, and these errors can be separated into two types: **Syntax errors and Exceptions**\n",
    "\n",
    "Syntax errors occur when Python can't interpret our code."
   ]
  },
  {
   "cell_type": "code",
   "execution_count": 1,
   "metadata": {},
   "outputs": [
    {
     "ename": "SyntaxError",
     "evalue": "EOL while scanning string literal (<ipython-input-1-6d21f71828ed>, line 1)",
     "output_type": "error",
     "traceback": [
      "\u001b[0;36m  File \u001b[0;32m\"<ipython-input-1-6d21f71828ed>\"\u001b[0;36m, line \u001b[0;32m1\u001b[0m\n\u001b[0;31m    msg = 'Welcome to this program\u001b[0m\n\u001b[0m                                  ^\u001b[0m\n\u001b[0;31mSyntaxError\u001b[0m\u001b[0;31m:\u001b[0m EOL while scanning string literal\n"
     ]
    }
   ],
   "source": [
    "msg = 'Welcome to this program\n",
    "print(msg)"
   ]
  },
  {
   "cell_type": "markdown",
   "metadata": {},
   "source": [
    "This👆🏼kind of error occur because we did not follow the correct syntax for Python. These types of errors occur when we make typos, we're new to the Python programming language.\n",
    "\n",
    "Here👆🏼, we get a syntax error we missed the ending quotation mark at the end of the string. You can see this by reading the error message: **SyntaxError: EOL while scanning string literal**\n",
    "\n",
    "The other kind of error, **Exceptions** occur when unexpected things happen during the execution of the code."
   ]
  },
  {
   "cell_type": "code",
   "execution_count": 2,
   "metadata": {},
   "outputs": [
    {
     "name": "stdout",
     "output_type": "stream",
     "text": [
      "Enter a number: ten\n"
     ]
    },
    {
     "ename": "ValueError",
     "evalue": "invalid literal for int() with base 10: 'ten'",
     "output_type": "error",
     "traceback": [
      "\u001b[0;31m---------------------------------------------------------------------------\u001b[0m",
      "\u001b[0;31mValueError\u001b[0m                                Traceback (most recent call last)",
      "\u001b[0;32m<ipython-input-2-ab5649fbc7c2>\u001b[0m in \u001b[0;36m<module>\u001b[0;34m\u001b[0m\n\u001b[0;32m----> 1\u001b[0;31m \u001b[0mx\u001b[0m \u001b[0;34m=\u001b[0m \u001b[0mint\u001b[0m\u001b[0;34m(\u001b[0m\u001b[0minput\u001b[0m\u001b[0;34m(\u001b[0m\u001b[0;34m'Enter a number: '\u001b[0m\u001b[0;34m)\u001b[0m\u001b[0;34m)\u001b[0m\u001b[0;34m\u001b[0m\u001b[0;34m\u001b[0m\u001b[0m\n\u001b[0m\u001b[1;32m      2\u001b[0m \u001b[0mx\u001b[0m \u001b[0;34m+=\u001b[0m \u001b[0;36m20\u001b[0m\u001b[0;34m\u001b[0m\u001b[0;34m\u001b[0m\u001b[0m\n\u001b[1;32m      3\u001b[0m \u001b[0mprint\u001b[0m\u001b[0;34m(\u001b[0m\u001b[0mx\u001b[0m\u001b[0;34m)\u001b[0m\u001b[0;34m\u001b[0m\u001b[0;34m\u001b[0m\u001b[0m\n",
      "\u001b[0;31mValueError\u001b[0m: invalid literal for int() with base 10: 'ten'"
     ]
    }
   ],
   "source": [
    "x = int(input('Enter a number: '))\n",
    "x += 20\n",
    "print(x)"
   ]
  },
  {
   "cell_type": "markdown",
   "metadata": {},
   "source": [
    "Here👆🏼, although our code is syntactically correct, we run into an exception because a string spelling out 10 isn't a valid argument for the int function.\n",
    "\n",
    "There are different types of built-in exceptions in Python, and you can see which exception is being thrown here👆🏼 in the error message.\n",
    "\n",
    "**Value Error** is one type of exception. It occurs when a built-in peration or function is given an argument with a correct type and an inappropriate value."
   ]
  },
  {
   "cell_type": "code",
   "execution_count": 3,
   "metadata": {},
   "outputs": [
    {
     "ename": "NameError",
     "evalue": "name 'nonexistent_variable' is not defined",
     "output_type": "error",
     "traceback": [
      "\u001b[0;31m---------------------------------------------------------------------------\u001b[0m",
      "\u001b[0;31mNameError\u001b[0m                                 Traceback (most recent call last)",
      "\u001b[0;32m<ipython-input-3-0a3e84617669>\u001b[0m in \u001b[0;36m<module>\u001b[0;34m\u001b[0m\n\u001b[0;32m----> 1\u001b[0;31m \u001b[0mprint\u001b[0m\u001b[0;34m(\u001b[0m\u001b[0mnonexistent_variable\u001b[0m\u001b[0;34m)\u001b[0m\u001b[0;34m\u001b[0m\u001b[0;34m\u001b[0m\u001b[0m\n\u001b[0m",
      "\u001b[0;31mNameError\u001b[0m: name 'nonexistent_variable' is not defined"
     ]
    }
   ],
   "source": [
    "print(nonexistent_variable)"
   ]
  },
  {
   "cell_type": "markdown",
   "metadata": {},
   "source": [
    "Here👆🏼 is another example that throws an exception. Here we try to reference a variable name that we didn't define yet. So we get a name error exception.\n",
    "\n",
    "Again, this code is syntactically correct but when Python get's to this line of code, it can't find the value for this variable when it tries to run it. So it raises an exception and stops the code."
   ]
  },
  {
   "cell_type": "code",
   "execution_count": null,
   "metadata": {},
   "outputs": [],
   "source": []
  }
 ],
 "metadata": {
  "kernelspec": {
   "display_name": "Python 3",
   "language": "python",
   "name": "python3"
  },
  "language_info": {
   "codemirror_mode": {
    "name": "ipython",
    "version": 3
   },
   "file_extension": ".py",
   "mimetype": "text/x-python",
   "name": "python",
   "nbconvert_exporter": "python",
   "pygments_lexer": "ipython3",
   "version": "3.8.6"
  }
 },
 "nbformat": 4,
 "nbformat_minor": 4
}
